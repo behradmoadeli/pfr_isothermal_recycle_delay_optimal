{
 "cells": [
  {
   "cell_type": "markdown",
   "metadata": {
    "id": "ByIufqrO7oiy"
   },
   "source": [
    "Initializing the notebook:"
   ]
  },
  {
   "cell_type": "code",
   "execution_count": null,
   "metadata": {
    "executionInfo": {
     "elapsed": 7,
     "status": "ok",
     "timestamp": 1674594709346,
     "user": {
      "displayName": "Guilherme Ozorio Cassol",
      "userId": "16524009092046304621"
     },
     "user_tz": 420
    },
    "id": "uEGAWDi23_da"
   },
   "outputs": [],
   "source": [
    "import os\n",
    "import numpy as np\n",
    "from functions import *\n",
    "\n",
    "# Get the directory where the current script is located\n",
    "script_directory = os.getcwd()\n",
    "\n",
    "# Change the current working directory to the script's directory\n",
    "os.chdir(script_directory)\n",
    "\n",
    "# Now the CWD is the same as the script's directory\n",
    "print(\"New Current Working Directory:\", os.getcwd())"
   ]
  },
  {
   "cell_type": "markdown",
   "metadata": {
    "id": "C1l2-KpYqZSK"
   },
   "source": [
    "# System Model\n",
    "\n",
    "Initially, only the equation for one state (temperature or concentration) will be considered. For simplicity, the domain will be $[0,1]$, with Danckwerts boundary conditions:\n",
    "\n",
    "$$\\left\\{\\begin{array}{l} \\dot{x} = D\\partial_{\\zeta\\zeta} x -v\\partial_{\\zeta} x +kx\\\\\n",
    "D\\partial_\\zeta x(0,t)-vx(0,t)=-v[Rx(1,t-\\tau)+(1-R)u(t-\\tau_I)] \\\\\n",
    "\\partial_\\zeta x(1,t)=0 \\\\\n",
    "y(t)=x(1,t-\\tau_O)\n",
    "  \\end{array}\\right. $$\n",
    "\n",
    "This model considers that the input is applied in the reactor's entrance, which is mixed with the recycle from the outlet. Input, output, and state delays are considered and represented by $\\tau_I,\\tau_O$, and $\\tau$, respectively. "
   ]
  },
  {
   "cell_type": "markdown",
   "metadata": {},
   "source": [
    "## Eigenvalue Analysis\n",
    "\n",
    "The eigenvalue problem, defined as $A\\Phi(\\zeta,\\lambda)=\\lambda\\Phi(\\zeta,\\lambda)$, will result in the following system of equation for this system:\n",
    "\n",
    "$$\\left\\{\\begin{array}{l} \\lambda\\phi = D\\partial_{\\zeta\\zeta} \\phi -v\\partial_{\\zeta} \\phi +k\\phi\\\\\n",
    "\\lambda\\psi=\\dfrac{1}{\\tau}\\partial_{\\zeta}\\psi\\\\\n",
    "D\\partial_\\zeta \\phi(0)-v\\phi(0)=-Rv\\psi(0) \\\\\n",
    "\\partial_\\zeta \\phi(1)=0 \\\\\n",
    "\\psi(1)=\\phi(1)\\\\\n",
    "  \\end{array}\\right. $$"
   ]
  },
  {
   "attachments": {},
   "cell_type": "markdown",
   "metadata": {},
   "source": [
    "where $\\Phi=[\\phi,\\,\\psi]^T$, with $\\phi$ as the state eigenfunction and $\\psi$ as the eigenfunction related to the delay. By defining $X=[\\phi,\\, \\partial_{\\zeta}\\phi,\\,\\psi]^T$, the following system of ODEs is obtained:\n",
    "\n",
    "$$\n",
    "\\left\\{\\begin{array}{l}\\partial_{\\zeta}X=\\begin{bmatrix} 0 & 1 & 0\\\\ \\dfrac{\\lambda-k}{D} & \\dfrac{v}{D} & 0\\\\0 & 0 & \\tau\\lambda\\end{bmatrix}X=ΛX \\\\\n",
    "DX_2(0)-vX_1(0)=-RvX_3(0) \\\\\n",
    "X_2(1)=0 \\\\\n",
    "X_3(1)=X_1(1)\\\\ \\end{array}\\right.\n",
    "$$"
   ]
  },
  {
   "cell_type": "markdown",
   "metadata": {},
   "source": [
    "## Characteristic Equation"
   ]
  },
  {
   "cell_type": "markdown",
   "metadata": {},
   "source": [
    "This is a system of first order ODE's, and the solution to such systems is given by:\n",
    "\n",
    "$$ X(\\zeta, \\lambda) = e^{\\Lambda \\zeta} X (\\zeta=0, \\lambda) \\\\ \\overset{\\zeta = 1}{\\Rightarrow} X(1, \\lambda) = e^{\\Lambda} X (\\zeta=0) $$"
   ]
  },
  {
   "cell_type": "markdown",
   "metadata": {},
   "source": [
    "Now, let's assume:\n",
    "\n",
    "$$ e^{\\Lambda} = Q(\\lambda) = \\begin{bmatrix} \n",
    "        q_{1} & q_{2} & q_{3} \\\\ q_{4} & q_{5} & q_{6} \\\\ q_{7} & q_{8} & q_{9}\n",
    "    \\end{bmatrix} $$\n"
   ]
  },
  {
   "cell_type": "markdown",
   "metadata": {},
   "source": [
    "Thus, we may write:\n",
    "\n",
    "$$\\left\\{\\begin{array}{l}\n",
    "X_1(1) = q_1 X_1(0) + q_2 X_2(0) + q_3 X_3(0) \\\\\n",
    "X_2(1) = q_4 X_1(0) + q_5 X_2(0) + q_6 X_3(0) \\\\\n",
    "X_3(1) = q_7 X_1(0) + q_8 X_2(0) + q_9 X_3(0)\n",
    "\\end{array}\\right.$$"
   ]
  },
  {
   "cell_type": "markdown",
   "metadata": {},
   "source": [
    "Now, we may go ahead and put the above expressions into boundary conditions to get the following:\n",
    "\n",
    "$$\\left\\{\\begin{array}{l}\n",
    "Dx_2-vx_1=-Rvx_3 \\\\\n",
    "q_4 x_1 + q_5 x_2 + q_6 x_3 = 0 \\\\\n",
    "q_7 x_1 + q_8 x_2 + q_9 x_3 = q_1 x_1 + q_2 x_2 + q_3 x_3\n",
    "\\end{array}\\right. \\Rightarrow \\left\\{\\begin{array}{l}\n",
    "-vx_1 + Dx_2 + Rvx_3 = 0 \\\\\n",
    "q_4 x_1 + q_5 x_2 + q_6 x_3 = 0 \\\\\n",
    "(q_1 - q_7) x_1 + (q_2 - q_8) x_2 + (q_3 - q_9) x_3 = 0\n",
    "\\end{array}\\right.$$\n",
    "\n",
    "\n",
    "where $x_i$ is the same as $X_i(0)$."
   ]
  },
  {
   "attachments": {},
   "cell_type": "markdown",
   "metadata": {},
   "source": [
    "For this particular case, we know that:\n",
    "\n",
    "$$ q_{3} = q_{6} = q_{7} = q_{8} = 0 $$"
   ]
  },
  {
   "attachments": {},
   "cell_type": "markdown",
   "metadata": {},
   "source": [
    "This will further simplify the above system of equions into the following system:\n",
    "\n",
    "$$\\left\\{\\begin{array}{l}\n",
    "-vx_1 + Dx_2 + Rvx_3 = 0 \\\\\n",
    "q_4 x_1 + q_5 x_2 = 0 \\\\\n",
    "q_1 x_1 + q_2 x_2 - q_9 x_3 = 0\n",
    "\\end{array}\\right.$$"
   ]
  },
  {
   "attachments": {},
   "cell_type": "markdown",
   "metadata": {},
   "source": [
    "This is a $3 \\times 3$ system of algebraic equations in the form of $\\bar{A} \\bar{x} = 0 $, with:\n",
    "\n",
    "$$ \\bar{A} = \\begin{bmatrix}\n",
    "-v & D & Rv \\\\\n",
    "q_4 & q_5 & 0 \\\\\n",
    "q_1 & q_2 & -q_9\n",
    "\\end{bmatrix}; \\quad \\bar{x} = \\begin{bmatrix}\n",
    "x_1 \\\\ x_2 \\\\ x_3\n",
    "\\end{bmatrix} $$"
   ]
  },
  {
   "cell_type": "markdown",
   "metadata": {},
   "source": [
    " For such a system to have non-trivial solution (i.e. $\\bar{x} \\neq 0$), the dimension of the nullspace of the coefficients matrix $\\bar{A}$ needs to be non-zero. This will happen if and only if the coefficients matrix $\\bar{A}$ is rank-deficient. One way to make sure matrix $ \\bar{A} $ is not full-rank, is to set its determinant equal to zero. Doing so and further simplifying the result will give the characteristic equation as following:\n",
    "$$\n",
    "f(\\lambda) = e^{(\\lambda \\tau+\\frac{v}{2D})}\n",
    "\\left[\n",
    "    \\frac{(v^2+2D^2)}{\\sqrt{v^2-4D\\left(k-\\lambda\\right)}}\\sinh{(\\frac{\\sqrt{v^2-4D\\left(k-\\lambda\\right)}}{2D})} + v \\cosh{(\\frac{\\sqrt{v^2-4D\\left(k-\\lambda\\right)}}{2D})}\n",
    "\\right]\n",
    "- vRe^{(\\frac{v}{D})}\n",
    "= 0\n",
    "$$\n",
    "\n",
    "To ease numerical calculation, we use the limit of the above equation where the denominator of the first term approaches zero. The limit is obtained as follows:\n",
    "\n",
    "$$\n",
    "\\lim_{p(\\lambda) \\to 0} f(\\lambda) = ... \n",
    "= e^{(\\lambda \\tau+\\frac{v}{2D})}\n",
    "\\left[\n",
    "    \\frac{v^2}{2D} + v + D\n",
    "\\right]\n",
    "- vRe^{(\\frac{v}{D})}\n",
    "\n",
    "$$\n",
    "\n",
    "where $ p(\\lambda) \\equiv v^2-4D\\left(k-\\lambda\\right) $."
   ]
  },
  {
   "cell_type": "markdown",
   "metadata": {},
   "source": [
    "## Adjoint Operator"
   ]
  },
  {
   "cell_type": "markdown",
   "metadata": {},
   "source": [
    "Prior to solving the obtained equation for eigenvalues, we first need to see whether or not the operator $\\hat{A}$ is self-adjoint. This will be done by calculating ${\\hat{A}}^{*}$ and then checking if $\\hat{A} = {\\hat{A}}^{*}$:\n",
    "\n",
    "$$\n",
    "\\begin{align*}\n",
    "    &\\begin{cases}\n",
    "        &\\hat{A} (.) =\n",
    "        &\\begin{bmatrix}\n",
    "            D\\partial_{\\zeta\\zeta} (.) -v\\partial_{\\zeta} (.) +k(.) & 0 \\\\\n",
    "            0 & \\dfrac{1}{\\tau}\\partial_{\\zeta} (.)\n",
    "        \\end{bmatrix} \\\\\n",
    "        \\, \\\\\n",
    "        &B.C. \\quad : \\quad &\\begin{cases}\n",
    "            D\\partial_\\zeta \\phi(0)-v\\phi(0)=-Rv\\psi(0) \\\\\n",
    "            \\partial_\\zeta \\phi(1)=0 \\\\\n",
    "            \\psi(1)=\\phi(1)\n",
    "        \\end{cases}\n",
    "    \\end{cases}\\\\\n",
    "    \\, \\\\\n",
    "    <\\hat{A} \\Phi, \\Psi> = <\\Phi, {\\hat{A}}^{*} \\Psi> \\Rightarrow\n",
    "    &\\begin{cases}\n",
    "        &{\\hat{A}}^{*} (.) =\n",
    "        &\\begin{bmatrix}\n",
    "            D\\partial_{\\zeta\\zeta} (.) +v\\partial_{\\zeta} (.) +k(.) & 0\\\\\n",
    "            0 & \\dfrac{1}{\\tau}\\partial_{\\zeta} (.)\n",
    "        \\end{bmatrix} \\\\\n",
    "        \\, \\\\\n",
    "        &B.C. \\quad : \\quad &\\begin{cases}\n",
    "            D\\partial_\\zeta \\phi^{*}(1)+v\\phi^{*}(1)=-Rv\\psi^{*}(1) \\\\\n",
    "            \\partial_\\zeta \\phi^{*}(0)=0 \\\\\n",
    "            \\psi^{*}(0)=\\phi^{*}(0)\n",
    "        \\end{cases}\n",
    "    \\end{cases}\n",
    "    \\Rightarrow \\hat{A} \\neq {\\hat{A}}^{*}\n",
    "\\end{align*}\n",
    "$$\n",
    "\n",
    "Therefore, operator $\\hat{A}$ is not self adjoint. In this case, the normalization coeficient may be obtained using the following theorem:"
   ]
  },
  {
   "cell_type": "markdown",
   "metadata": {},
   "source": [
    "### (To Do: Put bi-orthonormal theorem)"
   ]
  },
  {
   "cell_type": "markdown",
   "metadata": {},
   "source": [
    "### Adjoint Eigenvalue Analysis\n",
    "\n",
    "The eigenvalue problem, defined as $\\hat{A}^*\\Phi(\\zeta,\\lambda)=\\lambda\\Phi(\\zeta,\\lambda)$, will result in the following system of equation for this system:\n",
    "\n",
    "$$\\left\\{\\begin{array}{l} \\lambda\\phi = D\\partial_{\\zeta\\zeta} \\phi +v\\partial_{\\zeta} \\phi +k\\phi\\\\\n",
    "\\lambda\\psi=\\dfrac{1}{\\tau}\\partial_{\\zeta}\\psi\\\\\n",
    "D\\partial_\\zeta \\phi(1)+v\\phi(1)=-Rv\\psi(1) \\\\\n",
    "\\partial_\\zeta \\phi(0)=0 \\\\\n",
    "\\psi(0)=\\phi(0)\\\\\n",
    "  \\end{array}\\right. $$"
   ]
  },
  {
   "cell_type": "markdown",
   "metadata": {},
   "source": [
    "where $\\Phi=[\\phi,\\,\\psi]^T$, with $\\phi$ as the state eigenfunction and $\\psi$ as the eigenfunction related to the delay. By defining $X=[\\phi,\\, \\partial_{\\zeta}\\phi,\\,\\psi]^T$, the following system of ODEs is obtained:\n",
    "\n",
    "$$\n",
    "\\left\\{\\begin{array}{l}\\partial_{\\zeta}X=\\begin{bmatrix} 0 & 1 & 0\\\\ \\dfrac{\\lambda-k}{D} & \\dfrac{-v}{D} & 0\\\\0 & 0 & \\tau\\lambda\\end{bmatrix}X=ΛX \\\\\n",
    "DX_2(1)+vX_1(1)=-RvX_3(1) \\\\\n",
    "X_2(0)=0 \\\\\n",
    "X_3(0)=X_1(0)\\\\ \\end{array}\\right.\n",
    "$$"
   ]
  },
  {
   "cell_type": "markdown",
   "metadata": {},
   "source": [
    "### Adjoint Characteristic Equation"
   ]
  },
  {
   "cell_type": "markdown",
   "metadata": {},
   "source": [
    "This is a system of first order ODE's, and the solution to such systems is given by:\n",
    "\n",
    "$$ X(\\zeta, \\lambda) = e^{\\Lambda (\\zeta-\\zeta=1)} X (\\zeta=1, \\lambda) \\\\ \\overset{\\zeta = 0}{\\Rightarrow} X(0, \\lambda) = e^{-\\Lambda} X (\\zeta=1) $$"
   ]
  },
  {
   "cell_type": "markdown",
   "metadata": {},
   "source": [
    "Now, let's assume:\n",
    "\n",
    "$$ e^{-\\Lambda} = Q(\\lambda) = \\begin{bmatrix} \n",
    "        q_{1} & q_{2} & q_{3} \\\\ q_{4} & q_{5} & q_{6} \\\\ q_{7} & q_{8} & q_{9}\n",
    "    \\end{bmatrix} $$\n"
   ]
  },
  {
   "cell_type": "markdown",
   "metadata": {},
   "source": [
    "Thus, we may write:\n",
    "\n",
    "$$\\left\\{\\begin{array}{l}\n",
    "X_1(0) = q_1 X_1(1) + q_2 X_2(1) + q_3 X_3(1) \\\\\n",
    "X_2(0) = q_4 X_1(1) + q_5 X_2(1) + q_6 X_3(1) \\\\\n",
    "X_3(0) = q_7 X_1(1) + q_8 X_2(1) + q_9 X_3(1)\n",
    "\\end{array}\\right.$$"
   ]
  },
  {
   "cell_type": "markdown",
   "metadata": {},
   "source": [
    "Now, we may go ahead and put the above expressions into boundary conditions to get the following:\n",
    "\n",
    "$$\\left\\{\\begin{array}{l}\n",
    "Dx_2+vx_1=-Rvx_3 \\\\\n",
    "q_4 x_1 + q_5 x_2 + q_6 x_3 = 0 \\\\\n",
    "q_7 x_1 + q_8 x_2 + q_9 x_3 = q_1 x_1 + q_2 x_2 + q_3 x_3\n",
    "\\end{array}\\right. \\Rightarrow \\left\\{\\begin{array}{l}\n",
    "vx_1 + Dx_2 + Rvx_3 = 0 \\\\\n",
    "q_4 x_1 + q_5 x_2 + q_6 x_3 = 0 \\\\\n",
    "(q_1 - q_7) x_1 + (q_2 - q_8) x_2 + (q_3 - q_9) x_3 = 0\n",
    "\\end{array}\\right.$$\n",
    "\n",
    "\n",
    "where $x_i$ is the same as $X_i(1)$."
   ]
  },
  {
   "cell_type": "markdown",
   "metadata": {},
   "source": [
    "For this particular case, we know that:\n",
    "\n",
    "$$ q_{3} = q_{6} = q_{7} = q_{8} = 0 $$"
   ]
  },
  {
   "cell_type": "markdown",
   "metadata": {},
   "source": [
    "This will further simplify the above system of equions into the following system:\n",
    "\n",
    "$$\\left\\{\\begin{array}{l}\n",
    "vx_1 + Dx_2 + Rvx_3 = 0 \\\\\n",
    "q_4 x_1 + q_5 x_2 = 0 \\\\\n",
    "q_1 x_1 + q_2 x_2 - q_9 x_3 = 0\n",
    "\\end{array}\\right.$$"
   ]
  },
  {
   "cell_type": "markdown",
   "metadata": {},
   "source": [
    "This is a $3 \\times 3$ system of algebraic equations in the form of $\\bar{A} \\bar{x} = 0 $, with:\n",
    "\n",
    "$$ \\bar{A} = \\begin{bmatrix}\n",
    "-v & D & Rv \\\\\n",
    "q_4 & q_5 & 0 \\\\\n",
    "q_1 & q_2 & -q_9\n",
    "\\end{bmatrix}; \\quad \\bar{x} = \\begin{bmatrix}\n",
    "x_1 \\\\ x_2 \\\\ x_3\n",
    "\\end{bmatrix} $$"
   ]
  },
  {
   "cell_type": "markdown",
   "metadata": {},
   "source": [
    " For such a system to have non-trivial solution (i.e. $\\bar{x} \\neq 0$), the dimension of the nullspace of the coefficients matrix $\\bar{A}$ needs to be non-zero. This will happen if and only if the coefficients matrix $\\bar{A}$ is rank-deficient. One way to make sure matrix $ \\bar{A} $ is not full-rank, is to set its determinant equal to zero. Doing so and further simplifying the result will give the characteristic equation as following:\n",
    "$$\n",
    "f(\\lambda) = e^{(-\\lambda \\tau+\\frac{v}{2D})}\n",
    "\\left[\n",
    "    \\frac{(v^2+2D^2)}{\\sqrt{v^2-4D\\left(k-\\lambda\\right)}}\\sinh{(\\frac{\\sqrt{v^2-4D\\left(k-\\lambda\\right)}}{2D})} + v \\cosh{(\\frac{\\sqrt{v^2-4D\\left(k-\\lambda\\right)}}{2D})}\n",
    "\\right]\n",
    "+ vRe^{(\\frac{v}{D})}\n",
    "= 0\n",
    "$$\n",
    "\n",
    "To ease numerical calculation, we use the limit of the above equation where the denominator of the first term approaches zero. The limit is obtained as follows:\n",
    "\n",
    "$$\n",
    "\\lim_{p(\\lambda) \\to 0} f(\\lambda) = ... \n",
    "= e^{(-\\lambda \\tau+\\frac{v}{2D})}\n",
    "\\left[\n",
    "    \\frac{v^2}{2D} + v + D\n",
    "\\right]\n",
    "+ vRe^{(\\frac{v}{D})}\n",
    "\n",
    "$$\n",
    "\n",
    "where $ p(\\lambda) \\equiv v^2-4D\\left(k-\\lambda\\right) $."
   ]
  },
  {
   "cell_type": "markdown",
   "metadata": {},
   "source": [
    "## Numerical Solution"
   ]
  },
  {
   "attachments": {},
   "cell_type": "markdown",
   "metadata": {},
   "source": [
    "Initializing system parameters:"
   ]
  },
  {
   "cell_type": "code",
   "execution_count": null,
   "metadata": {},
   "outputs": [],
   "source": [
    "default_pars = obtain_default_pars('pars_list.csv')\n",
    "display(default_pars)"
   ]
  },
  {
   "cell_type": "markdown",
   "metadata": {},
   "source": [
    "### Solving Characteristic Equation for $\\hat{A}$"
   ]
  },
  {
   "cell_type": "markdown",
   "metadata": {},
   "source": [
    "Searching `guess` range to obtain eigenvalues distribution:"
   ]
  },
  {
   "cell_type": "code",
   "execution_count": null,
   "metadata": {},
   "outputs": [],
   "source": [
    "if not os.path.exists('CSV/default.csv'):\n",
    "    guess = {\n",
    "        'guess_range_real':[-25,5,120],\n",
    "        'guess_range_imag':[0,100,100]\n",
    "    }\n",
    "    save_dataframe_to_csv(*find_eig(default_pars, **guess, round_sig_digits=3), 'CSV')\n",
    "else:\n",
    "    print(\"Solution has already been saved in the appropriate location.\")"
   ]
  },
  {
   "cell_type": "markdown",
   "metadata": {},
   "source": [
    "Plotting the obtained eigenvalue distribution:"
   ]
  },
  {
   "cell_type": "code",
   "execution_count": null,
   "metadata": {},
   "outputs": [],
   "source": [
    "df, label, metadata = plot_single_df(\n",
    "        'CSV/default.csv', filter=True,\n",
    "        real_lower_bound=-25, real_upper_bound=10, imag_lower_bound=-100, imag_upper_bound=100\n",
    ")\n",
    "display(df)"
   ]
  },
  {
   "cell_type": "markdown",
   "metadata": {},
   "source": [
    "# (To Do: Adjoint Char Eq)"
   ]
  },
  {
   "cell_type": "markdown",
   "metadata": {},
   "source": [
    "### Solving Characteristic Equation for $\\hat{A}^*$"
   ]
  },
  {
   "cell_type": "markdown",
   "metadata": {},
   "source": [
    "Checking adjoint eigenvalues distribution by applying previously obtained lambda's as initial guess to the adjoint characteristic equation:"
   ]
  },
  {
   "cell_type": "code",
   "execution_count": null,
   "metadata": {},
   "outputs": [],
   "source": [
    "for m in (df['Sol_r'] + 1j * df['Sol_i']):\n",
    "        m = np.array([m.real, m.imag])\n",
    "        print(char_eq_adjoint(m, default_pars))"
   ]
  },
  {
   "cell_type": "code",
   "execution_count": null,
   "metadata": {},
   "outputs": [],
   "source": [
    "save_dataframe_to_csv(*find_eig_adjoint(df, default_pars), 'CSV')"
   ]
  },
  {
   "cell_type": "markdown",
   "metadata": {},
   "source": [
    "Plotting the obtained eigenvalue distribution:"
   ]
  },
  {
   "cell_type": "code",
   "execution_count": null,
   "metadata": {},
   "outputs": [],
   "source": [
    "df, label, metadata = plot_single_df(\n",
    "        'CSV/default_adj.csv', filter=True,\n",
    "        real_lower_bound=-10, real_upper_bound=25, imag_lower_bound=-100, imag_upper_bound=100\n",
    ")\n",
    "display(df)"
   ]
  },
  {
   "cell_type": "markdown",
   "metadata": {},
   "source": [
    "# (To-Do: Re-evaluate A*, char_eq, etc.)"
   ]
  },
  {
   "cell_type": "markdown",
   "metadata": {},
   "source": [
    "## Obtaining Eigenfunctions\n",
    "\n",
    "Having obtained the eigenvalues of the open-loop system, we may go ahead and find the eigenfunction corresponding to each eigenvalue. To do so, we plug in the eigenvalue into the eigenvalue problem and form a system of ODE's. Solving the resulting system will give the eigenvalue's corresponding eigenfunction. We start by 3 eigenvalues with largest real parts. These values are stored in `lambdas` as follows:"
   ]
  },
  {
   "cell_type": "code",
   "execution_count": null,
   "metadata": {},
   "outputs": [],
   "source": [
    "lambdas = []\n",
    "for index, row in df.head(3).iterrows():\n",
    "    lambdas.append(complex(row['Sol_r'], row['Sol_i']))\n",
    "    \n",
    "display(lambdas)"
   ]
  },
  {
   "cell_type": "markdown",
   "metadata": {},
   "source": [
    "which is:\n",
    "\n",
    "$$\\left\\{\\begin{array}{l}\n",
    "\\lambda_1 &=& &3.609 &+& 0j &\\\\\n",
    "\\lambda_2 &=& -&1.606 &+& 17.65j &\\\\\n",
    "\\lambda_3 &=& -&1.606 &-& 17.65j &\\\\\n",
    "\\end{array}\\right. $$"
   ]
  },
  {
   "cell_type": "markdown",
   "metadata": {},
   "source": [
    "The problem of finding the eigenfunctions is now reduced to solving a system of linear ODEs  for each $\\lambda_{i}$, containing a first order and a second order ODE.\n",
    "\n",
    "$$\\left\\{\\begin{array}{l}\n",
    "D\\partial_{\\zeta\\zeta} \\phi &-v\\partial_{\\zeta} \\phi &+(k-\\lambda) \\phi &= 0 &\\\\\n",
    "\\, \\\\\n",
    "&\\dfrac{1}{\\tau}\\partial_{\\zeta}\\psi &- \\lambda\\psi &= 0 &\\\\\n",
    "\\end{array}\\right. $$"
   ]
  },
  {
   "cell_type": "markdown",
   "metadata": {},
   "source": [
    "It can be proven that the resulting characteristic equation for the second order ODE will always have 2 distinct roots as long as $\\lambda \\neq -2.5$. Therefore, the general form of the required eigenfunction looks like the following:\n",
    "\n",
    "$$\\left\\{\\begin{array}{l}\n",
    "\\phi_{i}(\\zeta) =& a e^{r_{1}\\zeta} + b e^{r_{2}\\zeta} &\\\\\n",
    "\\psi_{i}(\\zeta) =& c e^{\\tau \\lambda \\zeta} &\\\\\n",
    "\\end{array}\\right. $$\n",
    "\n",
    "where $a, b,$ and $c$ are unknown coefficients that can be determined by applying boundary conditions. Also, $r_{1,2}$, the roots of the second order ODE, shall obtained as follows:\n",
    "\n",
    "$$\n",
    "{r_{1,2}}_i = \\frac{v \\pm \\sqrt{v^2+4D\\left(\\lambda_i-k\\right)}}{2D} \\quad \\text{for } i=1,2,3\n",
    "$$"
   ]
  },
  {
   "cell_type": "markdown",
   "metadata": {},
   "source": [
    "Applying the following boundary conditions:\n",
    "\n",
    "$$\\left\\{\\begin{array}{l}\n",
    "D \\partial_{\\zeta} \\phi (0) - v \\phi (0) &=& -R v \\psi (0) \\\\\n",
    "\\, \\\\\n",
    "\\partial_{\\zeta} \\phi (1) &=& 0 \\\\\n",
    "\\, \\\\\n",
    "\\phi(1) &=& \\psi(1) \\\\\n",
    "\\end{array}\\right. $$\n",
    "\n",
    "will result in the following system of linear algebraic equations that can ive us the coefficients $a, b,$ and $c$:\n",
    "\n",
    "$$\\left\\{\\begin{array}{l}\n",
    "D ( a r_1 + b r_2) - v (a + b) &=& -Rvc \\\\\n",
    "\\, \\\\\n",
    "a r_1 e^{r_1} + b r_2 e^{r_2} &=& 0 \\\\\n",
    "\\, \\\\\n",
    "a e^{r_1} + b e^{r_2} &=& c e^{\\tau \\lambda} \\\\\n",
    "\\end{array}\\right.$$"
   ]
  },
  {
   "cell_type": "markdown",
   "metadata": {},
   "source": [
    "The above system of algebraic equation is rank deficient, resulting in one of the coefficient to be equal to $\\frac{0}{0}$. Here, we decided to keep `b` and obtain `a`, `c` as functions of `b`:\n",
    "\n",
    "$$\\begin{align*}\n",
    "\\begin{cases}\n",
    "a = -\\frac{r_2 e^{r_2}}{r_1 e^{r_1}}b \\\\\n",
    "\\, \\\\\n",
    "c = e^{r_2 - \\tau \\lambda}(1-\\frac{r_2}{r_1}) b\\\\\n",
    "\\end{cases}\n",
    "\\end{align*}\n",
    "$$"
   ]
  },
  {
   "cell_type": "markdown",
   "metadata": {},
   "source": [
    "The third equation will be redundant, as shown below:\n",
    "\n",
    "$$\\begin{align*}\n",
    "b \\times \\Bigl(g(\\lambda_i)\\Bigr) = 0\n",
    "\\end{align*}\n",
    "$$\n",
    "\n",
    "where $g(\\lambda_i)$ is the charecteristic equation of the operator $\\hat{A}$, and is always equal to zero. Therefore, the third equation will give:\n",
    "\n",
    "$$\\begin{align*}\n",
    "b \\times 0 = 0 \\Rightarrow b = \\frac{0}{0}\n",
    "\\end{align*}\n",
    "$$\n",
    "\n",
    "which is expected according to the explanation above."
   ]
  },
  {
   "cell_type": "markdown",
   "metadata": {},
   "source": [
    "Thus, each set of eigenfunctions $[\\phi_i, \\psi_i]^T$ will be obtained after solving the above system of equations for their correspoding eigenvalue $\\lambda_i$, with a normalization coefficient remaining to be calculated, i.e. `b` in this case:\n",
    "$$\n",
    "\\begin{align*}\n",
    "\\Rightarrow \\begin{cases}\n",
    "\\phi_{i}(\\zeta) =& [e^{r_{2}(\\zeta-1)} - (\\frac{r_2}{r_1}) e^{r_{1}(\\zeta-1)}]b e^{r_{2}}&\\\\\n",
    "\\, \\\\\n",
    "\\psi_{i}(\\zeta) =& (1-\\frac{r_2}{r_1}) b e^{r_2 + \\tau \\lambda (\\zeta - 1)} &\\\\\n",
    "\\end{cases}\n",
    "\\end{align*}\n",
    "$$"
   ]
  },
  {
   "cell_type": "markdown",
   "metadata": {},
   "source": [
    "Before doing so, we need to make sure if $\\hat{A}$ and $\\hat{A}^*$ share the same set of eigenvalues. This is done by obtaining and solving the characteristics equation for $\\hat{A}^*$ as follows:"
   ]
  },
  {
   "cell_type": "markdown",
   "metadata": {},
   "source": [
    "# (To Do: Check symbolic adj char eq in MATLAB)"
   ]
  },
  {
   "cell_type": "markdown",
   "metadata": {},
   "source": []
  }
 ],
 "metadata": {
  "colab": {
   "collapsed_sections": [
    "rOp8yHdiv26a",
    "C1l2-KpYqZSK"
   ],
   "provenance": []
  },
  "kernelspec": {
   "display_name": "base",
   "language": "python",
   "name": "python3"
  },
  "language_info": {
   "codemirror_mode": {
    "name": "ipython",
    "version": 3
   },
   "file_extension": ".py",
   "mimetype": "text/x-python",
   "name": "python",
   "nbconvert_exporter": "python",
   "pygments_lexer": "ipython3",
   "version": "3.11.5"
  },
  "vscode": {
   "interpreter": {
    "hash": "40d3a090f54c6569ab1632332b64b2c03c39dcf918b08424e98f38b5ae0af88f"
   }
  }
 },
 "nbformat": 4,
 "nbformat_minor": 1
}
