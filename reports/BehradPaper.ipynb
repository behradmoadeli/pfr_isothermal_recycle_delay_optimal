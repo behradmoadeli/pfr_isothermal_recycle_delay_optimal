{
 "cells": [
  {
   "cell_type": "markdown",
   "metadata": {
    "id": "ByIufqrO7oiy"
   },
   "source": [
    "Initializing the notebook:"
   ]
  },
  {
   "cell_type": "code",
   "execution_count": 1,
   "metadata": {
    "executionInfo": {
     "elapsed": 7,
     "status": "ok",
     "timestamp": 1674594709346,
     "user": {
      "displayName": "Guilherme Ozorio Cassol",
      "userId": "16524009092046304621"
     },
     "user_tz": 420
    },
    "id": "uEGAWDi23_da"
   },
   "outputs": [
    {
     "name": "stdout",
     "output_type": "stream",
     "text": [
      "New Current Working Directory: /Users/behradmoadeli/Documents/PhD/behrads_papers/reports\n"
     ]
    }
   ],
   "source": [
    "import os\n",
    "import numpy as np\n",
    "from functions import *\n",
    "import matplotlib.pyplot as plt\n",
    "import pandas as pd\n",
    "from scipy.optimize import fsolve\n",
    "\n",
    "# Get the directory where the current script is located\n",
    "script_directory = os.getcwd()\n",
    "\n",
    "# Change the current working directory to the script's directory\n",
    "os.chdir(script_directory)\n",
    "\n",
    "# Now the CWD is the same as the script's directory\n",
    "print(\"New Current Working Directory:\", os.getcwd())"
   ]
  },
  {
   "cell_type": "markdown",
   "metadata": {
    "id": "C1l2-KpYqZSK"
   },
   "source": [
    "# System Model\n",
    "\n",
    "Initially, only the equation for one state (temperature or concentration) will be considered. For simplicity, the domain will be $[0,1]$, with Danckwerts boundary conditions:\n",
    "\n",
    "$$\\left\\{\\begin{array}{l} \\dot{x} = D\\partial_{\\zeta\\zeta} x -v\\partial_{\\zeta} x +kx\\\\\n",
    "D\\partial_\\zeta x(0,t)-vx(0,t)=-v[Rx(1,t-\\tau)+(1-R)u(t-\\tau_I)] \\\\\n",
    "\\partial_\\zeta x(1,t)=0 \\\\\n",
    "y(t)=x(1,t-\\tau_O)\n",
    "  \\end{array}\\right. $$\n",
    "\n",
    "This model considers that the input is applied in the reactor's entrance, which is mixed with the recycle from the outlet. Input, output, and state delays are considered and represented by $\\tau_I,\\tau_O$, and $\\tau$, respectively. "
   ]
  },
  {
   "cell_type": "markdown",
   "metadata": {},
   "source": [
    "## Eigenvalue Analysis\n",
    "\n",
    "The eigenvalue problem, defined as $A\\Phi(\\zeta,\\lambda)=\\lambda\\Phi(\\zeta,\\lambda)$, will result in the following system of equation for this system:\n",
    "\n",
    "$$\\left\\{\\begin{array}{l} \\lambda\\phi = D\\partial_{\\zeta\\zeta} \\phi -v\\partial_{\\zeta} \\phi +k\\phi\\\\\n",
    "\\lambda\\psi=\\dfrac{1}{\\tau}\\partial_{\\zeta}\\psi\\\\\n",
    "D\\partial_\\zeta \\phi(0)-v\\phi(0)=-Rv\\psi(0) \\\\\n",
    "\\partial_\\zeta \\phi(1)=0 \\\\\n",
    "\\psi(1)=\\phi(1)\\\\\n",
    "  \\end{array}\\right. $$"
   ]
  },
  {
   "attachments": {},
   "cell_type": "markdown",
   "metadata": {},
   "source": [
    "where $\\Phi=[\\phi,\\,\\psi]^T$, with $\\phi$ as the state eigenfunction and $\\psi$ as the eigenfunction related to the delay. By defining $X=[\\phi,\\, \\partial_{\\zeta}\\phi,\\,\\psi]^T$, the following system of ODEs is obtained:\n",
    "\n",
    "$$\n",
    "\\left\\{\\begin{array}{l}\\partial_{\\zeta}X=\\begin{bmatrix} 0 & 1 & 0\\\\ \\dfrac{\\lambda-k}{D} & \\dfrac{v}{D} & 0\\\\0 & 0 & \\tau\\lambda\\end{bmatrix}X=ΛX \\\\\n",
    "DX_2(0)-vX_1(0)=-RvX_3(0) \\\\\n",
    "X_2(1)=0 \\\\\n",
    "X_3(1)=X_1(1)\\\\ \\end{array}\\right.\n",
    "$$"
   ]
  },
  {
   "cell_type": "markdown",
   "metadata": {},
   "source": [
    "## Characteristic Equation"
   ]
  },
  {
   "cell_type": "markdown",
   "metadata": {},
   "source": [
    "This is a system of first order ODE's, and the solution to such systems is given by:\n",
    "\n",
    "$$ X(\\zeta, \\lambda) = e^{\\Lambda \\zeta} X (\\zeta=0, \\lambda) \\\\ \\overset{\\zeta = 1}{\\Rightarrow} X(1, \\lambda) = e^{\\Lambda} X (\\zeta=0) $$"
   ]
  },
  {
   "cell_type": "markdown",
   "metadata": {},
   "source": [
    "Now, let's assume:\n",
    "\n",
    "$$ e^{\\Lambda} = Q(\\lambda) = \\begin{bmatrix} \n",
    "        q_{1} & q_{2} & q_{3} \\\\ q_{4} & q_{5} & q_{6} \\\\ q_{7} & q_{8} & q_{9}\n",
    "    \\end{bmatrix} $$\n"
   ]
  },
  {
   "cell_type": "markdown",
   "metadata": {},
   "source": [
    "Thus, we may write:\n",
    "\n",
    "$$\\left\\{\\begin{array}{l}\n",
    "X_1(1) = q_1 X_1(0) + q_2 X_2(0) + q_3 X_3(0) \\\\\n",
    "X_2(1) = q_4 X_1(0) + q_5 X_2(0) + q_6 X_3(0) \\\\\n",
    "X_3(1) = q_7 X_1(0) + q_8 X_2(0) + q_9 X_3(0)\n",
    "\\end{array}\\right.$$"
   ]
  },
  {
   "cell_type": "markdown",
   "metadata": {},
   "source": [
    "Now, we may go ahead and put the above expressions into boundary conditions to get the following:\n",
    "\n",
    "$$\\left\\{\\begin{array}{l}\n",
    "Dx_2-vx_1=-Rvx_3 \\\\\n",
    "q_4 x_1 + q_5 x_2 + q_6 x_3 = 0 \\\\\n",
    "q_7 x_1 + q_8 x_2 + q_9 x_3 = q_1 x_1 + q_2 x_2 + q_3 x_3\n",
    "\\end{array}\\right. \\Rightarrow \\left\\{\\begin{array}{l}\n",
    "-vx_1 + Dx_2 + Rvx_3 = 0 \\\\\n",
    "q_4 x_1 + q_5 x_2 + q_6 x_3 = 0 \\\\\n",
    "(q_1 - q_7) x_1 + (q_2 - q_8) x_2 + (q_3 - q_9) x_3 = 0\n",
    "\\end{array}\\right.$$\n",
    "\n",
    "\n",
    "where $x_i$ is the same as $X_i(0)$."
   ]
  },
  {
   "attachments": {},
   "cell_type": "markdown",
   "metadata": {},
   "source": [
    "For this particular case, we know that:\n",
    "\n",
    "$$ q_{3} = q_{6} = q_{7} = q_{8} = 0 $$"
   ]
  },
  {
   "attachments": {},
   "cell_type": "markdown",
   "metadata": {},
   "source": [
    "This will further simplify the above system of equions into the following system:\n",
    "\n",
    "$$\\left\\{\\begin{array}{l}\n",
    "-vx_1 + Dx_2 + Rvx_3 = 0 \\\\\n",
    "q_4 x_1 + q_5 x_2 = 0 \\\\\n",
    "q_1 x_1 + q_2 x_2 - q_9 x_3 = 0\n",
    "\\end{array}\\right.$$"
   ]
  },
  {
   "attachments": {},
   "cell_type": "markdown",
   "metadata": {},
   "source": [
    "This is a $3 \\times 3$ system of algebraic equations in the form of $\\bar{A} \\bar{x} = 0 $, with:\n",
    "\n",
    "$$ det(\\bar{A}) = det \\left( \\begin{bmatrix}\n",
    "-v & D & Rv \\\\\n",
    "q_4 & q_5 & 0 \\\\\n",
    "q_1 & q_2 & -q_9\n",
    "\\end{bmatrix} \\right) = 0; \\quad \\bar{x} = \\begin{bmatrix}\n",
    "x_1 \\\\ x_2 \\\\ x_3\n",
    "\\end{bmatrix} $$"
   ]
  },
  {
   "cell_type": "markdown",
   "metadata": {},
   "source": [
    " For such a system to have non-trivial solution (i.e. $\\bar{x} \\neq 0$), the dimension of the nullspace of the coefficients matrix $\\bar{A}$ needs to be non-zero. This will happen if and only if the coefficients matrix $\\bar{A}$ is rank-deficient. One way to make sure matrix $ \\bar{A} $ is not full-rank, is to set its determinant equal to zero. Doing so and further simplifying the result will give the characteristic equation as following:\n",
    "$$\n",
    "f(\\lambda) = e^{(\\lambda \\tau+\\frac{v}{2D})}\n",
    "\\left[\n",
    "    \\frac{(v^2+2D^2)}{\\sqrt{v^2-4D\\left(k-\\lambda\\right)}}\\sinh{(\\frac{\\sqrt{v^2-4D\\left(k-\\lambda\\right)}}{2D})} + v \\cosh{(\\frac{\\sqrt{v^2-4D\\left(k-\\lambda\\right)}}{2D})}\n",
    "\\right]\n",
    "- vRe^{(\\frac{v}{D})}\n",
    "= 0\n",
    "$$\n",
    "\n",
    "To ease numerical calculation, we use the limit of the above equation where the denominator of the first term approaches zero. The limit is obtained as follows:\n",
    "\n",
    "$$\n",
    "\\lim_{p(\\lambda) \\to 0} f(\\lambda) = ... \n",
    "= e^{(\\lambda \\tau+\\frac{v}{2D})}\n",
    "\\left[\n",
    "    \\frac{v^2}{2D} + v + D\n",
    "\\right]\n",
    "- vRe^{(\\frac{v}{D})}\n",
    "\n",
    "$$\n",
    "\n",
    "where $ p(\\lambda) \\equiv v^2-4D\\left(k-\\lambda\\right) $."
   ]
  },
  {
   "cell_type": "markdown",
   "metadata": {},
   "source": [
    "## Adjoint Operator"
   ]
  },
  {
   "cell_type": "markdown",
   "metadata": {},
   "source": [
    "# TO DO: Fix adjoint.\n",
    "\n",
    "It is correct in the code but not in the following latex:\n",
    "\n",
    "Prior to solving the obtained equation for eigenvalues, we first need to see whether or not the operator $\\hat{A}$ is self-adjoint. This will be done by calculating ${\\hat{A}}^{*}$ and then checking if $\\hat{A} = {\\hat{A}}^{*}$:\n",
    "\n",
    "$$\n",
    "\\begin{align*}\n",
    "    &\\begin{cases}\n",
    "        &\\hat{A} (.) =\n",
    "        &\\begin{bmatrix}\n",
    "            D\\partial_{\\zeta\\zeta} (.) -v\\partial_{\\zeta} (.) +k(.) & 0 \\\\\n",
    "            0 & \\dfrac{1}{\\tau}\\partial_{\\zeta} (.)\n",
    "        \\end{bmatrix} \\\\\n",
    "        \\, \\\\\n",
    "        &B.C. \\quad : \\quad &\\begin{cases}\n",
    "            D\\partial_\\zeta \\phi(0)-v\\phi(0)=-Rv\\psi(0) \\\\\n",
    "            \\partial_\\zeta \\phi(1)=0 \\\\\n",
    "            \\psi(1)=\\phi(1)\n",
    "        \\end{cases}\n",
    "    \\end{cases}\\\\\n",
    "    \\, \\\\\n",
    "    <\\hat{A} \\Phi, \\Psi> = <\\Phi, {\\hat{A}}^{*} \\Psi> \\Rightarrow\n",
    "    &\\begin{cases}\n",
    "        &{\\hat{A}}^{*} (.) =\n",
    "        &\\begin{bmatrix}\n",
    "            D\\partial_{\\zeta\\zeta} (.) +v\\partial_{\\zeta} (.) +k(.) & 0\\\\\n",
    "            0 & -\\dfrac{1}{\\tau}\\partial_{\\zeta} (.)\n",
    "        \\end{bmatrix} \\\\\n",
    "        \\, \\\\\n",
    "        &B.C. \\quad : \\quad &\\begin{cases}\n",
    "            D\\partial_\\zeta \\phi^{*}(1)+v\\phi^{*}(1)=Rv\\psi^{*}(1) \\\\\n",
    "            \\partial_\\zeta \\phi^{*}(0)=0 \\\\\n",
    "            \\psi^{*}(0)=\\phi^{*}(0)\n",
    "        \\end{cases}\n",
    "    \\end{cases}\n",
    "    \\Rightarrow \\hat{A} \\neq {\\hat{A}}^{*}\n",
    "\\end{align*}\n",
    "$$\n",
    "\n",
    "Therefore, operator $\\hat{A}$ is not self adjoint. However, we need to make sure that $\\hat{A}$ and $\\hat{A}^*$ share the same spectrum (i.e. eigenvalue distribution). Hence, we need to obtain the characteristic equation for $\\hat{A}^*$, just as we did for $\\hat{A}$."
   ]
  },
  {
   "cell_type": "markdown",
   "metadata": {},
   "source": [
    "### Adjoint Eigenvalue Analysis\n",
    "\n",
    "The eigenvalue problem, defined as $\\hat{A}^*\\Phi(\\zeta,\\lambda)=\\lambda\\Phi(\\zeta,\\lambda)$, will result in the following system of equation for this system:\n",
    "\n",
    "$$\\left\\{\\begin{array}{l} \\lambda\\phi = D\\partial_{\\zeta\\zeta} \\phi +v\\partial_{\\zeta} \\phi +k\\phi\\\\\n",
    "\\lambda\\psi=-\\dfrac{1}{\\tau}\\partial_{\\zeta}\\psi\\\\\n",
    "D\\partial_\\zeta \\phi(1)+v\\phi(1)=Rv\\psi(1) \\\\\n",
    "\\partial_\\zeta \\phi(0)=0 \\\\\n",
    "\\psi(0)=\\phi(0)\\\\\n",
    "  \\end{array}\\right. $$"
   ]
  },
  {
   "cell_type": "markdown",
   "metadata": {},
   "source": [
    "where $\\Phi=[\\phi,\\,\\psi]^T$, with $\\phi$ as the state eigenfunction and $\\psi$ as the eigenfunction related to the delay. By defining $X=[\\phi,\\, \\partial_{\\zeta}\\phi,\\,\\psi]^T$, the following system of ODEs is obtained:\n",
    "\n",
    "$$\n",
    "\\left\\{\\begin{array}{l}\\partial_{\\zeta}X=\\begin{bmatrix} 0 & 1 & 0\\\\ \\dfrac{\\lambda-k}{D} & \\dfrac{-v}{D} & 0\\\\0 & 0 & -\\tau\\lambda\\end{bmatrix}X=ΛX \\\\\n",
    "DX_2(1)+vX_1(1)=RvX_3(1) \\\\\n",
    "X_2(0)=0 \\\\\n",
    "X_3(0)=X_1(0)\\\\ \\end{array}\\right.\n",
    "$$"
   ]
  },
  {
   "cell_type": "markdown",
   "metadata": {},
   "source": [
    "### Adjoint Characteristic Equation"
   ]
  },
  {
   "cell_type": "markdown",
   "metadata": {},
   "source": [
    "This is a system of first order ODE's, and the solution to such systems is given by:\n",
    "\n",
    "$$ X(\\zeta, \\lambda) = e^{\\Lambda (\\zeta-\\zeta=1)} X (\\zeta=1, \\lambda) \\\\ \\overset{\\zeta = 0}{\\Rightarrow} X(0, \\lambda) = e^{-\\Lambda} X (\\zeta=1) $$"
   ]
  },
  {
   "cell_type": "markdown",
   "metadata": {},
   "source": [
    "Now, let's assume:\n",
    "\n",
    "$$ e^{-\\Lambda} = Q(\\lambda) = \\begin{bmatrix} \n",
    "        q_{1} & q_{2} & q_{3} \\\\ q_{4} & q_{5} & q_{6} \\\\ q_{7} & q_{8} & q_{9}\n",
    "    \\end{bmatrix} $$\n"
   ]
  },
  {
   "cell_type": "markdown",
   "metadata": {},
   "source": [
    "Thus, we may write:\n",
    "\n",
    "$$\\left\\{\\begin{array}{l}\n",
    "X_1(0) = q_1 X_1(1) + q_2 X_2(1) + q_3 X_3(1) \\\\\n",
    "X_2(0) = q_4 X_1(1) + q_5 X_2(1) + q_6 X_3(1) \\\\\n",
    "X_3(0) = q_7 X_1(1) + q_8 X_2(1) + q_9 X_3(1)\n",
    "\\end{array}\\right.$$"
   ]
  },
  {
   "cell_type": "markdown",
   "metadata": {},
   "source": [
    "Now, we may go ahead and put the above expressions into boundary conditions to get the following:\n",
    "\n",
    "$$\\left\\{\\begin{array}{l}\n",
    "Dx_2+vx_1=Rvx_3 \\\\\n",
    "q_4 x_1 + q_5 x_2 + q_6 x_3 = 0 \\\\\n",
    "q_7 x_1 + q_8 x_2 + q_9 x_3 = q_1 x_1 + q_2 x_2 + q_3 x_3\n",
    "\\end{array}\\right. \\Rightarrow \\left\\{\\begin{array}{l}\n",
    "vx_1 + Dx_2 - Rvx_3 = 0 \\\\\n",
    "q_4 x_1 + q_5 x_2 + q_6 x_3 = 0 \\\\\n",
    "(q_1 - q_7) x_1 + (q_2 - q_8) x_2 + (q_3 - q_9) x_3 = 0\n",
    "\\end{array}\\right.$$\n",
    "\n",
    "\n",
    "where $x_i$ is the same as $X_i(1)$."
   ]
  },
  {
   "cell_type": "markdown",
   "metadata": {},
   "source": [
    "For this particular case, we know that:\n",
    "\n",
    "$$ q_{3} = q_{6} = q_{7} = q_{8} = 0 $$"
   ]
  },
  {
   "cell_type": "markdown",
   "metadata": {},
   "source": [
    "This will further simplify the above system of equions into the following system:\n",
    "\n",
    "$$\\left\\{\\begin{array}{l}\n",
    "vx_1 + Dx_2 + Rvx_3 = 0 \\\\\n",
    "q_4 x_1 + q_5 x_2 = 0 \\\\\n",
    "q_1 x_1 + q_2 x_2 - q_9 x_3 = 0\n",
    "\\end{array}\\right.$$"
   ]
  },
  {
   "cell_type": "markdown",
   "metadata": {},
   "source": [
    "This is a $3 \\times 3$ system of algebraic equations in the form of $\\bar{A} \\bar{x} = 0 $, with:\n",
    "\n",
    "$$ \\bar{A} = \\begin{bmatrix}\n",
    "-v & D & Rv \\\\\n",
    "q_4 & q_5 & 0 \\\\\n",
    "q_1 & q_2 & -q_9\n",
    "\\end{bmatrix}; \\quad \\bar{x} = \\begin{bmatrix}\n",
    "x_1 \\\\ x_2 \\\\ x_3\n",
    "\\end{bmatrix} $$"
   ]
  },
  {
   "cell_type": "markdown",
   "metadata": {},
   "source": [
    " For such a system to have non-trivial solution (i.e. $\\bar{x} \\neq 0$), the dimension of the nullspace of the coefficients matrix $\\bar{A}$ needs to be non-zero. This will happen if and only if the coefficients matrix $\\bar{A}$ is rank-deficient. One way to make sure matrix $ \\bar{A} $ is not full-rank, is to set its determinant equal to zero. Doing so and further simplifying the result will give the characteristic equation as following:\n",
    "$$\n",
    "f(\\lambda) = e^{(\\lambda \\tau+\\frac{v}{2D})}\n",
    "\\left[\n",
    "    \\frac{(v^2+2D^2)}{\\sqrt{v^2-4D\\left(k-\\lambda\\right)}}\\sinh{(\\frac{\\sqrt{v^2-4D\\left(k-\\lambda\\right)}}{2D})} + v \\cosh{(\\frac{\\sqrt{v^2-4D\\left(k-\\lambda\\right)}}{2D})}\n",
    "\\right]\n",
    "- vRe^{(\\frac{v}{D})}\n",
    "= 0\n",
    "$$\n",
    "\n",
    "Which is exactly the same as the previous characteristic equation. We may now move forward and calculate the eigenvalues of the system for a given set of parameters."
   ]
  },
  {
   "cell_type": "markdown",
   "metadata": {},
   "source": [
    "## Numerical Solution"
   ]
  },
  {
   "attachments": {},
   "cell_type": "markdown",
   "metadata": {},
   "source": [
    "Initializing system parameters:"
   ]
  },
  {
   "cell_type": "code",
   "execution_count": 2,
   "metadata": {},
   "outputs": [
    {
     "data": {
      "text/plain": [
       "{'k': 1.5, 'D': 0.2, 'v': 1, 'tau': 0.8, 'R': 0.6, 'label': 'default'}"
      ]
     },
     "metadata": {},
     "output_type": "display_data"
    }
   ],
   "source": [
    "default_pars = obtain_default_pars('pars_list.csv')\n",
    "display(default_pars)"
   ]
  },
  {
   "cell_type": "markdown",
   "metadata": {},
   "source": [
    "### Solving Characteristic Equation for $\\hat{A}$"
   ]
  },
  {
   "cell_type": "markdown",
   "metadata": {},
   "source": [
    "Searching `guess` range to obtain eigenvalues distribution:"
   ]
  },
  {
   "cell_type": "code",
   "execution_count": 3,
   "metadata": {},
   "outputs": [
    {
     "name": "stdout",
     "output_type": "stream",
     "text": [
      "Solution has already been saved in the appropriate location.\n"
     ]
    }
   ],
   "source": [
    "path = \"CSV/default.csv\"\n",
    "\n",
    "if not os.path.exists(path):\n",
    "    guess = {\n",
    "        'guess_range_real':[-150,50,20],\n",
    "        'guess_range_imag':[0,100,8]\n",
    "    }\n",
    "    save_dataframe_to_csv(*find_eig(default_pars, **guess, round_sig_digits=5, tol_is_sol=1e-7, max_iter=200), 'CSV')\n",
    "else:\n",
    "    print(\"Solution has already been saved in the appropriate location.\")"
   ]
  },
  {
   "cell_type": "markdown",
   "metadata": {},
   "source": [
    "Plotting the obtained eigenvalue distribution:"
   ]
  },
  {
   "cell_type": "code",
   "execution_count": 4,
   "metadata": {},
   "outputs": [
    {
     "data": {
      "image/png": "[encoded data removed]",
      "text/plain": [
       "<Figure size 1200x800 with 1 Axes>"
      ]
     },
     "metadata": {},
     "output_type": "display_data"
    },
    {
     "name": "stdout",
     "output_type": "stream",
     "text": [
      "{'par': {'k': 1.5; 'D': 0.2; 'v': 1; 'tau': 0.8; 'R': 0.6; 'label': 'default'}; 'guess_range': ([-150; 50; 20]; [0; 100; 8]); 'tols': (1e-09; 1e-07; 5)}\n"
     ]
    },
    {
     "data": {
      "text/html": [
       "<div>\n",
       "<style scoped>\n",
       "    .dataframe tbody tr th:only-of-type {\n",
       "        vertical-align: middle;\n",
       "    }\n",
       "\n",
       "    .dataframe tbody tr th {\n",
       "        vertical-align: top;\n",
       "    }\n",
       "\n",
       "    .dataframe thead th {\n",
       "        text-align: right;\n",
       "    }\n",
       "</style>\n",
       "<table border=\"1\" class=\"dataframe\">\n",
       "  <thead>\n",
       "    <tr style=\"text-align: right;\">\n",
       "      <th></th>\n",
       "      <th>Sol_r</th>\n",
       "      <th>Sol_i</th>\n",
       "      <th>Guess</th>\n",
       "      <th>g(x)</th>\n",
       "      <th>g*(x)</th>\n",
       "      <th>ier</th>\n",
       "      <th>msg</th>\n",
       "      <th>infodict</th>\n",
       "      <th>cumul_err</th>\n",
       "      <th>cmplx_cnj</th>\n",
       "      <th>cluster_label</th>\n",
       "      <th>instances</th>\n",
       "    </tr>\n",
       "  </thead>\n",
       "  <tbody>\n",
       "    <tr>\n",
       "      <th>0</th>\n",
       "      <td>0.640908</td>\n",
       "      <td>0.000000</td>\n",
       "      <td>[-10. 100.]</td>\n",
       "      <td>3.332272e-16</td>\n",
       "      <td>4.442553e-16</td>\n",
       "      <td>1</td>\n",
       "      <td>The solution converged.</td>\n",
       "      <td>{'nfev': 54, 'fjac': array([[-9.99999999e-01, ...</td>\n",
       "      <td>3.084032e-31</td>\n",
       "      <td>Real</td>\n",
       "      <td>1</td>\n",
       "      <td>20</td>\n",
       "    </tr>\n",
       "    <tr>\n",
       "      <th>1</th>\n",
       "      <td>-0.588331</td>\n",
       "      <td>3.421871</td>\n",
       "      <td>[-0.5883309   3.42187078]</td>\n",
       "      <td>4.577567e-16</td>\n",
       "      <td>1.047382e-15</td>\n",
       "      <td>1</td>\n",
       "      <td>The solution converged.</td>\n",
       "      <td>{'nfev': 4, 'fjac': array([[-0.98594757, -0.16...</td>\n",
       "      <td>1.306551e-30</td>\n",
       "      <td>No</td>\n",
       "      <td>4</td>\n",
       "      <td>28</td>\n",
       "    </tr>\n",
       "    <tr>\n",
       "      <th>2</th>\n",
       "      <td>-0.588331</td>\n",
       "      <td>-3.421871</td>\n",
       "      <td>[-0.5883309   3.42187078]</td>\n",
       "      <td>4.577567e-16</td>\n",
       "      <td>1.047382e-15</td>\n",
       "      <td>1</td>\n",
       "      <td>The solution converged.</td>\n",
       "      <td>{'nfev': 4, 'fjac': array([[-0.98594757, -0.16...</td>\n",
       "      <td>1.306551e-30</td>\n",
       "      <td>Yes</td>\n",
       "      <td>4</td>\n",
       "      <td>28</td>\n",
       "    </tr>\n",
       "    <tr>\n",
       "      <th>3</th>\n",
       "      <td>-2.470670</td>\n",
       "      <td>8.418532</td>\n",
       "      <td>[-2.47067044  8.41853196]</td>\n",
       "      <td>3.155847e-15</td>\n",
       "      <td>1.084160e-14</td>\n",
       "      <td>1</td>\n",
       "      <td>The solution converged.</td>\n",
       "      <td>{'nfev': 4, 'fjac': array([[-0.92870127, -0.37...</td>\n",
       "      <td>1.274996e-28</td>\n",
       "      <td>No</td>\n",
       "      <td>3</td>\n",
       "      <td>22</td>\n",
       "    </tr>\n",
       "    <tr>\n",
       "      <th>4</th>\n",
       "      <td>-2.470670</td>\n",
       "      <td>-8.418532</td>\n",
       "      <td>[-2.47067044  8.41853196]</td>\n",
       "      <td>3.155847e-15</td>\n",
       "      <td>1.084160e-14</td>\n",
       "      <td>1</td>\n",
       "      <td>The solution converged.</td>\n",
       "      <td>{'nfev': 4, 'fjac': array([[-0.92870127, -0.37...</td>\n",
       "      <td>1.274996e-28</td>\n",
       "      <td>Yes</td>\n",
       "      <td>3</td>\n",
       "      <td>22</td>\n",
       "    </tr>\n",
       "    <tr>\n",
       "      <th>5</th>\n",
       "      <td>-4.165235</td>\n",
       "      <td>14.203125</td>\n",
       "      <td>[ -4.16523482 -14.20312504]</td>\n",
       "      <td>1.404333e-15</td>\n",
       "      <td>2.161031e-14</td>\n",
       "      <td>1</td>\n",
       "      <td>The solution converged.</td>\n",
       "      <td>{'nfev': 4, 'fjac': array([[-0.8862073 ,  0.46...</td>\n",
       "      <td>4.689778e-28</td>\n",
       "      <td>No</td>\n",
       "      <td>2</td>\n",
       "      <td>16</td>\n",
       "    </tr>\n",
       "    <tr>\n",
       "      <th>6</th>\n",
       "      <td>-4.165235</td>\n",
       "      <td>-14.203125</td>\n",
       "      <td>[ -4.16523482 -14.20312504]</td>\n",
       "      <td>1.404333e-15</td>\n",
       "      <td>2.161031e-14</td>\n",
       "      <td>1</td>\n",
       "      <td>The solution converged.</td>\n",
       "      <td>{'nfev': 4, 'fjac': array([[-0.8862073 ,  0.46...</td>\n",
       "      <td>4.689778e-28</td>\n",
       "      <td>Yes</td>\n",
       "      <td>2</td>\n",
       "      <td>16</td>\n",
       "    </tr>\n",
       "    <tr>\n",
       "      <th>7</th>\n",
       "      <td>-5.659971</td>\n",
       "      <td>-20.382358</td>\n",
       "      <td>[ -5.65997077 -20.38235835]</td>\n",
       "      <td>8.636936e-15</td>\n",
       "      <td>2.049519e-13</td>\n",
       "      <td>1</td>\n",
       "      <td>The solution converged.</td>\n",
       "      <td>{'nfev': 4, 'fjac': array([[-0.85823656,  0.51...</td>\n",
       "      <td>4.207986e-26</td>\n",
       "      <td>Yes</td>\n",
       "      <td>0</td>\n",
       "      <td>18</td>\n",
       "    </tr>\n",
       "    <tr>\n",
       "      <th>8</th>\n",
       "      <td>-5.659971</td>\n",
       "      <td>20.382358</td>\n",
       "      <td>[ -5.65997077 -20.38235835]</td>\n",
       "      <td>8.636936e-15</td>\n",
       "      <td>2.049519e-13</td>\n",
       "      <td>1</td>\n",
       "      <td>The solution converged.</td>\n",
       "      <td>{'nfev': 4, 'fjac': array([[-0.85823656,  0.51...</td>\n",
       "      <td>4.207986e-26</td>\n",
       "      <td>No</td>\n",
       "      <td>0</td>\n",
       "      <td>18</td>\n",
       "    </tr>\n",
       "  </tbody>\n",
       "</table>\n",
       "</div>"
      ],
      "text/plain": [
       "      Sol_r      Sol_i                        Guess          g(x)  \\\n",
       "0  0.640908   0.000000                  [-10. 100.]  3.332272e-16   \n",
       "1 -0.588331   3.421871    [-0.5883309   3.42187078]  4.577567e-16   \n",
       "2 -0.588331  -3.421871    [-0.5883309   3.42187078]  4.577567e-16   \n",
       "3 -2.470670   8.418532    [-2.47067044  8.41853196]  3.155847e-15   \n",
       "4 -2.470670  -8.418532    [-2.47067044  8.41853196]  3.155847e-15   \n",
       "5 -4.165235  14.203125  [ -4.16523482 -14.20312504]  1.404333e-15   \n",
       "6 -4.165235 -14.203125  [ -4.16523482 -14.20312504]  1.404333e-15   \n",
       "7 -5.659971 -20.382358  [ -5.65997077 -20.38235835]  8.636936e-15   \n",
       "8 -5.659971  20.382358  [ -5.65997077 -20.38235835]  8.636936e-15   \n",
       "\n",
       "          g*(x)  ier                      msg  \\\n",
       "0  4.442553e-16    1  The solution converged.   \n",
       "1  1.047382e-15    1  The solution converged.   \n",
       "2  1.047382e-15    1  The solution converged.   \n",
       "3  1.084160e-14    1  The solution converged.   \n",
       "4  1.084160e-14    1  The solution converged.   \n",
       "5  2.161031e-14    1  The solution converged.   \n",
       "6  2.161031e-14    1  The solution converged.   \n",
       "7  2.049519e-13    1  The solution converged.   \n",
       "8  2.049519e-13    1  The solution converged.   \n",
       "\n",
       "                                            infodict     cumul_err cmplx_cnj  \\\n",
       "0  {'nfev': 54, 'fjac': array([[-9.99999999e-01, ...  3.084032e-31      Real   \n",
       "1  {'nfev': 4, 'fjac': array([[-0.98594757, -0.16...  1.306551e-30        No   \n",
       "2  {'nfev': 4, 'fjac': array([[-0.98594757, -0.16...  1.306551e-30       Yes   \n",
       "3  {'nfev': 4, 'fjac': array([[-0.92870127, -0.37...  1.274996e-28        No   \n",
       "4  {'nfev': 4, 'fjac': array([[-0.92870127, -0.37...  1.274996e-28       Yes   \n",
       "5  {'nfev': 4, 'fjac': array([[-0.8862073 ,  0.46...  4.689778e-28        No   \n",
       "6  {'nfev': 4, 'fjac': array([[-0.8862073 ,  0.46...  4.689778e-28       Yes   \n",
       "7  {'nfev': 4, 'fjac': array([[-0.85823656,  0.51...  4.207986e-26       Yes   \n",
       "8  {'nfev': 4, 'fjac': array([[-0.85823656,  0.51...  4.207986e-26        No   \n",
       "\n",
       "   cluster_label  instances  \n",
       "0              1         20  \n",
       "1              4         28  \n",
       "2              4         28  \n",
       "3              3         22  \n",
       "4              3         22  \n",
       "5              2         16  \n",
       "6              2         16  \n",
       "7              0         18  \n",
       "8              0         18  "
      ]
     },
     "metadata": {},
     "output_type": "display_data"
    }
   ],
   "source": [
    "df, label, metadata = plot_single_df(\n",
    "        path, filter=True,\n",
    "        real_lower_bound=-25, real_upper_bound=10, imag_lower_bound=-100, imag_upper_bound=100\n",
    ")\n",
    "n_lambdas = 9\n",
    "display(df.head(n_lambdas))"
   ]
  },
  {
   "cell_type": "markdown",
   "metadata": {},
   "source": [
    "## Obtaining Eigenfunctions\n",
    "\n",
    "Having obtained the eigenvalues of the open-loop system, we may go ahead and find the eigenfunction corresponding to each eigenvalue. To do so, we plug in the eigenvalue into the eigenvalue problem and form a system of ODE's. Solving the resulting system will give the eigenvalue's corresponding eigenfunction. We start by 3 eigenvalues with largest real parts. These values are stored in `lambdas` as follows:"
   ]
  },
  {
   "cell_type": "code",
   "execution_count": 5,
   "metadata": {},
   "outputs": [
    {
     "name": "stdout",
     "output_type": "stream",
     "text": [
      "lambda_1 = (0.6409081359945565+0j)\n",
      "lambda_2 = (-0.58833089799576+3.4218707752750097j)\n",
      "lambda_3 = (-0.58833089799576-3.4218707752750097j)\n",
      "lambda_4 = (-2.470670435901706+8.418531957532583j)\n",
      "lambda_5 = (-2.470670435901706-8.418531957532583j)\n",
      "lambda_6 = (-4.165234816102921+14.203125040829049j)\n",
      "lambda_7 = (-4.165234816102921-14.203125040829049j)\n",
      "lambda_8 = (-5.659970767220179-20.382358349701267j)\n",
      "lambda_9 = (-5.659970767220179+20.382358349701267j)\n"
     ]
    }
   ],
   "source": [
    "lambdas = []\n",
    "for index, row in df.head(n_lambdas).iterrows():\n",
    "    l = complex(row['Sol_r'], row['Sol_i'])\n",
    "    print(f'lambda_{index+1} = {l}')\n",
    "    lambdas.append(l)"
   ]
  },
  {
   "cell_type": "markdown",
   "metadata": {},
   "source": [
    "The problem of finding the eigenfunctions is now reduced to solving a system of linear ODEs  for each $\\lambda_{i}$, containing a first order and a second order ODE.\n",
    "\n",
    "$$\\left\\{\\begin{array}{l}\n",
    "D\\partial_{\\zeta\\zeta} \\phi &-v\\partial_{\\zeta} \\phi &+(k-\\lambda) \\phi &= 0 &\\\\\n",
    "\\, \\\\\n",
    "&\\dfrac{1}{\\tau}\\partial_{\\zeta}\\psi &- \\lambda\\psi &= 0 &\\\\\n",
    "\\end{array}\\right. $$"
   ]
  },
  {
   "cell_type": "markdown",
   "metadata": {},
   "source": [
    "It can be proven that the resulting characteristic equation for the second order ODE will always have 2 distinct roots as long as $\\lambda \\neq -k$. Therefore, the general form of the required eigenfunction looks like the following:\n",
    "\n",
    "$$\\left\\{\\begin{array}{l}\n",
    "\\phi_{i}(\\zeta) =& a e^{r_{1}\\zeta} + b e^{r_{2}\\zeta} &\\\\\n",
    "\\psi_{i}(\\zeta) =& c e^{\\tau \\lambda \\zeta} &\\\\\n",
    "\\end{array}\\right. $$\n",
    "\n",
    "where $a, b,$ and $c$ are unknown coefficients that can be determined by applying boundary conditions. Also, $r_{1,2}$, the roots of the second order ODE, shall obtained as follows:\n",
    "\n",
    "$$\n",
    "{r_{1,2}}_i = \\frac{v \\pm \\sqrt{v^2+4D\\left(\\lambda_i-k\\right)}}{2D} \\quad \\text{for } i=1,2,3,\\dots\n",
    "$$"
   ]
  },
  {
   "cell_type": "markdown",
   "metadata": {},
   "source": [
    "Applying the following boundary conditions:\n",
    "\n",
    "$$\\left\\{\\begin{array}{l}\n",
    "D \\partial_{\\zeta} \\phi (0) - v \\phi (0) &=& -R v \\psi (0) \\\\\n",
    "\\, \\\\\n",
    "\\partial_{\\zeta} \\phi (1) &=& 0 \\\\\n",
    "\\, \\\\\n",
    "\\phi(1) &=& \\psi(1) \\\\\n",
    "\\end{array}\\right. $$\n",
    "\n",
    "will result in the following system of linear algebraic equations that can give us the coefficients $a, b,$ and $c$:\n",
    "\n",
    "$$\\left\\{\\begin{array}{l}\n",
    "D ( a r_1 + b r_2) - v (a + b) &=& -Rvc \\\\\n",
    "\\, \\\\\n",
    "a r_1 e^{r_1} + b r_2 e^{r_2} &=& 0 \\\\\n",
    "\\, \\\\\n",
    "a e^{r_1} + b e^{r_2} &=& c e^{\\tau \\lambda} \\\\\n",
    "\\end{array}\\right.$$"
   ]
  },
  {
   "cell_type": "markdown",
   "metadata": {},
   "source": [
    "The above system of algebraic equation is rank deficient, resulting in one of the coefficient to be equal to $\\frac{0}{0}$. Here, we decided to keep `b` and obtain `a`, `c` as functions of `b`:\n",
    "\n",
    "$$\\begin{align*}\n",
    "\\begin{cases}\n",
    "a = -\\frac{r_2 e^{r_2}}{r_1 e^{r_1}}b \\\\\n",
    "\\, \\\\\n",
    "c = b (1-\\frac{r_2}{r_1}) e^{r_2 - \\tau \\lambda}\\\\\n",
    "\\end{cases}\n",
    "\\end{align*}\n",
    "$$"
   ]
  },
  {
   "cell_type": "markdown",
   "metadata": {},
   "source": [
    "The third equation will be redundant, as shown below:\n",
    "\n",
    "$$\\begin{align*}\n",
    "b \\times \\Bigl(g(\\lambda_i)\\Bigr) = 0\n",
    "\\end{align*}\n",
    "$$\n",
    "\n",
    "where $g(\\lambda_i)$ is the charecteristic equation of the operator $\\hat{A}$, and is always equal to zero. Therefore, the third equation will give:\n",
    "\n",
    "$$\\begin{align*}\n",
    "b \\times 0 = 0 \\Rightarrow b = \\frac{0}{0}\n",
    "\\end{align*}\n",
    "$$\n",
    "\n",
    "which is expected according to the explanation above."
   ]
  },
  {
   "cell_type": "markdown",
   "metadata": {},
   "source": [
    "Thus, each set of eigenfunctions $[\\phi_i, \\psi_i]^T$ will be obtained after solving the above system of equations for their correspoding eigenvalue $\\lambda_i$, with a normalization coefficient remaining to be calculated, i.e. `b` in this case:\n",
    "$$\n",
    "\\begin{align*}\n",
    "\\Rightarrow \\begin{cases}\n",
    "\\phi_{i}(\\zeta) =& b_i \\Bigl[ \\left( -\\frac{r_{i,2} e^{r_{i,2}}}{r_{i,1} e^{r_{i,1}}}\\right) e^{r_{i,1} \\zeta} + e^{r_{i,2} \\zeta}\\Bigr]&\\\\\n",
    "\\, \\\\\n",
    "\\psi_{i}(\\zeta) =& b_i (1-\\frac{r_{i,2}}{r_{i,1}}) e^{r_{i,2} - \\tau \\lambda} e^{ \\tau \\lambda \\zeta } &\\\\\n",
    "\\end{cases}\n",
    "\\end{align*}\n",
    "$$"
   ]
  },
  {
   "cell_type": "markdown",
   "metadata": {},
   "source": [
    "Same approach may be followed to obtain the adjoint eigenfunctions $[\\phi^*_i, \\psi^*_i]^T$ for their correspoding eigenvalue $\\lambda_i$, again with a normalization coefficient remaining to be calculated, i.e. `b*` in this case:\n",
    "$$\n",
    "\\begin{align*}\n",
    "\\Rightarrow \\begin{cases}\n",
    "\\phi^*_{i}(\\zeta) =& b^*_i\\left[ - \\frac{r_{i,2}^*}{r_{i,1}^*}e^{r_{i,1}^* \\zeta} + e^{r_{i,2}^* \\zeta} \\right]&\\\\\n",
    "\\, \\\\\n",
    "\\psi^*_{i}(\\zeta) =& b^*_i \\left( 1- \\frac{r_{i,2}^*}{r_{i,1}^*} \\right) e^{- \\tau \\lambda \\zeta} &\\\\\n",
    "\\end{cases}\n",
    "\\end{align*}\n",
    "$$"
   ]
  },
  {
   "cell_type": "markdown",
   "metadata": {},
   "source": [
    "The following property, known as **biorthogonal theorem** may further assist us to both normalize the eigenfunctions of a *non-self-adjoint Riesz spectral operator*; and determine main modes of its spectrum:\n",
    "\n",
    "**Bi-orthogonal theorem:** For every closed, linear operator $\\hat{A}$ on the Hilbert space $Z$ that has simple set of eigenvalues $ \\{ \\lambda_n, n \\geq 1 \\}$ with its corresponding eigenvectors $ \\{ \\Phi_n, n \\geq 1 \\}$ forming a Riesz basis in Z, we can show that:\n",
    "\n",
    "1. If $ \\{ \\Phi^*_n, n \\geq 1 \\}$ are the eigenvectors of the adjoint of A corresponding to the eigenvalues $ \\{ \\lambda_n, n \\geq 1 \\}$, then the eigenvectors can be suitably scaled such that $ < \\Phi_n, \\Phi^*_m > = \\delta_{mn} $\n",
    "\n",
    "2. Every function $ z \\in Z $ can be represented by the following infinite sum:\n",
    "\n",
    "$$ z = \\sum_{n=1}^{\\infty} < z, \\Phi^*_n > \\Phi_n $$\n",
    "\n"
   ]
  },
  {
   "cell_type": "markdown",
   "metadata": {},
   "source": [
    "### Scaling Eigenvectors"
   ]
  },
  {
   "cell_type": "markdown",
   "metadata": {},
   "source": [
    "According to the above theorem, adjoint eigenvectors may be scaled given a set of eigenvectors for the original operator. Therefore, we may arbitrarily set $b_i = 1$ for $ i = 1, 2, ...$ and try to obtain $b^*_i$ for each $i$ using the biorthogonal relation. This will be done by computing the following integral for each set of eigenvectors:"
   ]
  },
  {
   "cell_type": "markdown",
   "metadata": {},
   "source": [
    "$$\n",
    "\\begin{align*}\n",
    "    <\\Phi_i, \\Phi^*_i> = &\\int_{0}^{1} \\Bigl[\\phi_{i} (\\zeta) \\phi^*_{i} (\\zeta) + \\psi_{i} (\\zeta) \\psi^*_{i} (\\zeta) \\Bigr] d\\zeta = 1 & \\\\\n",
    "    =&\\int_{0}^{1} \\Biggl[b_i \\Bigl[ \\bigl( -\\frac{r_{i,2} e^{r_{i,2}}}{r_{i,1} e^{r_{i,1}}}\\bigr) e^{r_{i,1} \\zeta} + e^{r_{i,2} \\zeta}\\Bigr] \\times b^*_i\\Bigl[ - \\frac{r_{i,2}^*}{r_{i,1}^*}e^{r_{i,1}^* \\zeta} + e^{r_{i,2}^* \\zeta} \\Bigr] & \\\\\n",
    "    &\\quad +b_i (1-\\frac{r_{i,2}}{r_{i,1}}) e^{r_{i,2} - \\tau \\lambda} e^{ \\tau \\lambda \\zeta } \\times b^*_i \\Bigl( 1- \\frac{r_{i,2}^*}{r_{i,1}^*} \\Bigr) e^{- \\tau \\lambda \\zeta} \\Biggr] d\\zeta = 1& \\\\\n",
    "\\end{align*}\n",
    "$$\n",
    "\n",
    "Therefore we can write $b_i b^*_i = \\frac{1}{I_i}$ where $I_i$ is given by:\n",
    "\n",
    "$$\n",
    "\\begin{align*}\n",
    "    I_i = \\int_{0}^{1} \\Biggl[\\Bigl[ \\bigl( -\\frac{r_{i,2} e^{r_{i,2}}}{r_{i,1} e^{r_{i,1}}}\\bigr) e^{r_{i,1} \\zeta} + e^{r_{i,2} \\zeta}\\Bigr] \\times \\Bigl[ - \\frac{r_{i,2}^*}{r_{i,1}^*}e^{r_{i,1}^* \\zeta} + e^{r_{i,2}^* \\zeta} \\Bigr]\n",
    "    + (1-\\frac{r_{i,2}}{r_{i,1}}) e^{r_{i,2} - \\tau \\lambda} e^{ \\tau \\lambda \\zeta } \\times \\Bigl( 1- \\frac{r_{i,2}^*}{r_{i,1}^*} \\Bigr) e^{- \\tau \\lambda \\zeta} \\Biggr] d\\zeta\n",
    "\\end{align*}\n",
    "$$\n",
    "\n",
    "which is calculated numerically for $i = 1,2,3$ as follows:"
   ]
  },
  {
   "cell_type": "code",
   "execution_count": 6,
   "metadata": {},
   "outputs": [
    {
     "name": "stdout",
     "output_type": "stream",
     "text": [
      "I_1 = (-4.4579+0j)\n",
      "I_2 = (3.6528-1.8553j)\n",
      "I_3 = (3.6528+1.8553j)\n",
      "I_4 = (4.3526+0.0341j)\n",
      "I_5 = (4.3526-0.0341j)\n",
      "I_6 = (4.7322+0.9935j)\n",
      "I_7 = (4.7322-0.9935j)\n",
      "I_8 = (5.0457-1.6475j)\n",
      "I_9 = (5.0457+1.6475j)\n"
     ]
    }
   ],
   "source": [
    "from scipy.integrate import quad\n",
    "\n",
    "I = []\n",
    "\n",
    "for n,l in enumerate(lambdas):\n",
    "    # I.append(quad(eig_fun_mul_1,0,1,args=(default_pars, l),complex_func=True)[0])\n",
    "    y = quad(eig_fun_mul_1,0,1,args=(default_pars, l),complex_func=True)[0]\n",
    "    I.append(y)\n",
    "    print(f'I_{n+1} = {complex(round(y.real,4),round(y.imag,4))}')"
   ]
  },
  {
   "cell_type": "markdown",
   "metadata": {},
   "source": [
    "Having the result of integrals in hands, we may go ahead and scale adjoint eigenfunctions (i.e. calculate `b*`), given `b` is assumed to be equal to 1:"
   ]
  },
  {
   "cell_type": "code",
   "execution_count": 7,
   "metadata": {},
   "outputs": [
    {
     "name": "stdout",
     "output_type": "stream",
     "text": [
      "normal_coef_1 = -0.4736j\n",
      "normal_coef_2 = (0.4805+0.115j)\n",
      "normal_coef_3 = (0.4805-0.115j)\n",
      "normal_coef_4 = (0.4793-0.0019j)\n",
      "normal_coef_5 = (0.4793+0.0019j)\n",
      "normal_coef_6 = (0.4523-0.047j)\n",
      "normal_coef_7 = (0.4523+0.047j)\n",
      "normal_coef_8 = (0.4287+0.0682j)\n",
      "normal_coef_9 = (0.4287-0.0682j)\n"
     ]
    }
   ],
   "source": [
    "normal_coefs = []\n",
    "for n, i in enumerate(I):\n",
    "    y = 1/i\n",
    "    normal_coefs.append(np.sqrt(y))\n",
    "    print(f'normal_coef_{n+1} = {complex(round(normal_coefs[n].real,4),round(normal_coefs[n].imag,4))}')\n",
    "    "
   ]
  },
  {
   "cell_type": "markdown",
   "metadata": {},
   "source": [
    "Having scaled the adjoint eigenfunctions, we may check for the biorthogonality of the resulting sets by calculating the following integral for each pairs of eigenvalue/eigenvectors where $ n \\neq m $:\n",
    "\n",
    "$$\n",
    "\n",
    "<\\Phi_n, \\Phi^*_m> = \\int_{0}^{1} \\Bigl[\\phi_{n} (\\zeta) \\phi^*_{m} (\\zeta) + \\psi_{n} (\\zeta) \\psi^*_{m} (\\zeta) \\Bigr] d\\zeta = 0 \\\\\n",
    "    \n",
    "$$\n",
    "\n",
    "This is done as follows:"
   ]
  },
  {
   "cell_type": "code",
   "execution_count": 8,
   "metadata": {},
   "outputs": [
    {
     "name": "stdout",
     "output_type": "stream",
     "text": [
      "<Phi_1,Phi*_1> = (1+0j)\n",
      "<Phi_2,Phi*_1> = (-0+0j)\n",
      "<Phi_2,Phi*_2> = (1+0j)\n",
      "<Phi_3,Phi*_1> = (-0-0j)\n",
      "<Phi_3,Phi*_2> = -0j\n",
      "<Phi_3,Phi*_3> = (1-0j)\n",
      "<Phi_4,Phi*_1> = 0j\n",
      "<Phi_4,Phi*_2> = 0j\n",
      "<Phi_4,Phi*_3> = 0j\n",
      "<Phi_4,Phi*_4> = (1-0j)\n",
      "<Phi_5,Phi*_1> = -0j\n",
      "<Phi_5,Phi*_2> = -0j\n",
      "<Phi_5,Phi*_3> = -0j\n",
      "<Phi_5,Phi*_4> = (-0-0j)\n",
      "<Phi_5,Phi*_5> = (1+0j)\n",
      "<Phi_6,Phi*_1> = (-0-0j)\n",
      "<Phi_6,Phi*_2> = (-0-0j)\n",
      "<Phi_6,Phi*_3> = -0j\n",
      "<Phi_6,Phi*_4> = (-0-0j)\n",
      "<Phi_6,Phi*_5> = -0j\n",
      "<Phi_6,Phi*_6> = (1+0j)\n",
      "<Phi_7,Phi*_1> = (-0+0j)\n",
      "<Phi_7,Phi*_2> = 0j\n",
      "<Phi_7,Phi*_3> = (-0+0j)\n",
      "<Phi_7,Phi*_4> = 0j\n",
      "<Phi_7,Phi*_5> = (-0+0j)\n",
      "<Phi_7,Phi*_6> = (-0+0j)\n",
      "<Phi_7,Phi*_7> = (1-0j)\n",
      "<Phi_8,Phi*_1> = (-0+0j)\n",
      "<Phi_8,Phi*_2> = (-0+0j)\n",
      "<Phi_8,Phi*_3> = (-0+0j)\n",
      "<Phi_8,Phi*_4> = (-0+0j)\n",
      "<Phi_8,Phi*_5> = (-0+0j)\n",
      "<Phi_8,Phi*_6> = (-0+0j)\n",
      "<Phi_8,Phi*_7> = (-0+0j)\n",
      "<Phi_8,Phi*_8> = (1+0j)\n",
      "<Phi_9,Phi*_1> = (-0-0j)\n",
      "<Phi_9,Phi*_2> = (-0-0j)\n",
      "<Phi_9,Phi*_3> = (-0-0j)\n",
      "<Phi_9,Phi*_4> = (-0-0j)\n",
      "<Phi_9,Phi*_5> = (-0-0j)\n",
      "<Phi_9,Phi*_6> = (-0-0j)\n",
      "<Phi_9,Phi*_7> = (-0-0j)\n",
      "<Phi_9,Phi*_8> = (-0-0j)\n",
      "<Phi_9,Phi*_9> = (1-0j)\n"
     ]
    }
   ],
   "source": [
    "for n in range(len(lambdas)):\n",
    "    for m in range(n+1):\n",
    "        l = [lambdas[n], lambdas[m]]\n",
    "        y = quad(eig_fun_mul_1,0,1,args=(default_pars, l, normal_coefs[m]),complex_func=True)[0]\n",
    "        print(f'<Phi_{n+1},Phi*_{m+1}> = {complex(round(y.real,4),round(y.imag,4))}')"
   ]
  },
  {
   "cell_type": "markdown",
   "metadata": {},
   "source": [
    "### Selecting dominant modes\n",
    "\n",
    "Now that we have found and scaled all eigenfunctions, we can try to use the second part of *bi-orthogonal theorem* to find the dominant modes of the system by trying to reconstruct any function that belongs to our function space, using a finite sum, with sufficient accuracy. An arbitrary function $z(\\zeta)$ that belongs to the corresponding function space may be defined as follows:\n",
    "\n",
    "$$\n",
    "z(\\zeta) = \\begin{bmatrix} \n",
    "    6 \\\\\n",
    "    10 - 4 \\zeta\n",
    "\\end{bmatrix}\n",
    "$$\n",
    "\n",
    "Therefore, we may write:\n",
    "\n",
    "$$\n",
    "\\begin{align*}\n",
    "    &\\begin{bmatrix} \n",
    "        6 \\\\\n",
    "        10 - 4 \\zeta\n",
    "    \\end{bmatrix} = z(\\zeta) = \\sum_{n=1}^{\\infty} < z(\\zeta), \\Phi^*_n > \\Phi_n\n",
    "    \\\\\n",
    "    = &\\sum_{n=1}^{\\infty} <\\begin{bmatrix}\n",
    "    6 \\\\ 10 - 4 \\zeta\n",
    "    \\end{bmatrix} , \\begin{bmatrix}\n",
    "    \\phi^*_n(\\zeta) \\\\ \\psi^*_n(\\zeta)\n",
    "    \\end{bmatrix} > \\begin{bmatrix}\n",
    "    \\phi_n(\\zeta) \\\\ \\psi_n(\\zeta)\n",
    "    \\end{bmatrix}\n",
    "    \\\\\n",
    "    = &\\sum_{n=1}^{\\infty} \n",
    "    \\Biggl(\\int_0^1 \n",
    "    \\Bigl(6 \\phi^*_n(\\zeta) + (10 - 4 \\zeta) \\psi^*_n(\\zeta)\\Bigr) d\\zeta \\begin{bmatrix}\n",
    "    \\phi_n(\\zeta) \\\\ \\psi_n(\\zeta)\n",
    "    \\end{bmatrix}\n",
    "    \\Biggr)\n",
    "    \\\\\n",
    "    \\Rightarrow & \\begin{cases}\n",
    "        6 &= \\sum_1^{\\infty} \\int_0^1 \\Bigl(6 \\phi^*_n(\\zeta) + (10 - 4 \\zeta) \\psi^*_n(\\zeta)\\Bigr) d\\zeta \\phi_n(\\zeta) \\\\\n",
    "        10 - 4\\zeta &= \\sum_1^{\\infty} \\int_0^1 \\Bigl(6 \\phi^*_n(\\zeta) + (10 - 4 \\zeta) \\psi^*_n(\\zeta)\\Bigr) d\\zeta \\psi_n(\\zeta) \\\\\n",
    "    \\end{cases}\n",
    "\\end{align*}\n",
    "$$"
   ]
  },
  {
   "cell_type": "markdown",
   "metadata": {},
   "source": [
    "The goal in this section is to find a reasonably small $N$, such that the following approximation results in an accurate enough value for the function:\n",
    "$$z(\\zeta) \\approx \\sum_{n=1}^{N} < z(\\zeta), \\Phi^*_n > \\Phi_n$$\n",
    "\n",
    "This is done as follows:"
   ]
  },
  {
   "cell_type": "code",
   "execution_count": 9,
   "metadata": {},
   "outputs": [
    {
     "name": "stdout",
     "output_type": "stream",
     "text": [
      "e_0 = 0.5004999999999995\n",
      "e_1 = 0.829203827634611\n",
      "e_2 = 0.4784330159569639\n",
      "e_3 = 0.6388864176067102\n",
      "e_4 = 0.8032051218042732\n",
      "e_5 = 1.0136458299573115\n",
      "e_6 = 1.1027813921879295\n",
      "e_7 = 1.2190510568768678\n",
      "e_8 = 1.195555619038933\n"
     ]
    },
    {
     "data": {
      "image/png": "[encoded data removed]",
      "text/plain": [
       "<Figure size 640x480 with 1 Axes>"
      ]
     },
     "metadata": {},
     "output_type": "display_data"
    }
   ],
   "source": [
    "x = np.linspace(0,1,1000)\n",
    "s = [np.zeros_like(x)]\n",
    "e=[]\n",
    "for n,l in enumerate(lambdas):\n",
    "    y = quad(eig_fun_mul_2,0,1,args=(default_pars, l, normal_coefs[n]),complex_func=True)[0]\n",
    "    s.append(s[n] + y * eig_fun_1(x,default_pars, l, normal_coefs[n]))\n",
    "    err = sum((abs(s[n]) - arbit_fun_1(x, default_pars))**2)/1000\n",
    "    print(f'e_{n} = {err}')\n",
    "    e.append(err)\n",
    "    # if np.mod(n,2) == 0 and n > 0:\n",
    "    # if n > 0 and n < 10:\n",
    "    plt.plot(x, np.real(s[n]), label=n)\n",
    "\n",
    "# plt.plot(e)   \n",
    "plt.plot(x,np.real(arbit_fun_1(x, default_pars)), label='z')\n",
    "plt.xlabel('zeta')\n",
    "plt.ylabel('z, z_R')\n",
    "plt.legend()\n",
    "plt.show()\n"
   ]
  },
  {
   "cell_type": "code",
   "execution_count": 10,
   "metadata": {},
   "outputs": [
    {
     "name": "stderr",
     "output_type": "stream",
     "text": [
      "No artists with labels found to put in legend.  Note that artists whose label start with an underscore are ignored when legend() is called with no argument.\n"
     ]
    },
    {
     "name": "stdout",
     "output_type": "stream",
     "text": [
      "e_0 = 2.6212943923302765\n",
      "e_1 = 1.0842833621802799\n",
      "e_2 = 0.09973523845163562\n",
      "e_3 = 0.24633058851180928\n",
      "e_4 = 0.2604144253421277\n",
      "e_5 = 0.589411558504734\n",
      "e_6 = 0.24582862165208533\n",
      "e_7 = 0.30887068684729446\n",
      "e_8 = 0.061081956134382095\n"
     ]
    },
    {
     "data": {
      "image/png": "[encoded data removed]",
      "text/plain": [
       "<Figure size 640x480 with 1 Axes>"
      ]
     },
     "metadata": {},
     "output_type": "display_data"
    }
   ],
   "source": [
    "x = np.linspace(0,1,1000)\n",
    "s = [np.zeros_like(x)]\n",
    "e=[]\n",
    "for n,l in enumerate(lambdas):\n",
    "    y = quad(eig_fun_mul_2,0,1,args=(default_pars, l, normal_coefs[n]),complex_func=True)[0]\n",
    "    s.append(s[n] + y * eig_fun_2(x,default_pars, l, normal_coefs[n]))\n",
    "    err = sum((abs(s[n]) - arbit_fun_2(x, default_pars))**2)/1000\n",
    "    print(f'e_{n} = {err}')\n",
    "    e.append(err)\n",
    "    # if np.mod(n,2) == 0 and n > 0:\n",
    "    # if n > 0 and n < 10:\n",
    "    #     plt.plot(x, s[n], label=n)\n",
    "\n",
    "plt.plot(range(1,10),e)   \n",
    "# plt.plot(x,arbit_fun_2(x, default_pars), label='z')\n",
    "plt.legend()\n",
    "plt.show()\n"
   ]
  },
  {
   "cell_type": "markdown",
   "metadata": {},
   "source": [
    "## Ricatti Equation"
   ]
  },
  {
   "cell_type": "code",
   "execution_count": 120,
   "metadata": {},
   "outputs": [
    {
     "name": "stdout",
     "output_type": "stream",
     "text": [
      "counter =  1\n",
      "error =  5.3315946548185483e-17\n",
      "k has imaginary values?  False\n",
      "counter =  2\n",
      "error =  5.647277855756288e-17\n",
      "k has imaginary values?  False\n",
      "counter =  3\n",
      "error =  8.98505165803006e-18\n",
      "k has imaginary values?  False\n",
      "k = \n"
     ]
    },
    {
     "data": {
      "text/html": [
       "<div>\n",
       "<style scoped>\n",
       "    .dataframe tbody tr th:only-of-type {\n",
       "        vertical-align: middle;\n",
       "    }\n",
       "\n",
       "    .dataframe tbody tr th {\n",
       "        vertical-align: top;\n",
       "    }\n",
       "\n",
       "    .dataframe thead th {\n",
       "        text-align: right;\n",
       "    }\n",
       "</style>\n",
       "<table border=\"1\" class=\"dataframe\">\n",
       "  <thead>\n",
       "    <tr style=\"text-align: right;\">\n",
       "      <th></th>\n",
       "      <th>0</th>\n",
       "      <th>1</th>\n",
       "      <th>2</th>\n",
       "      <th>3</th>\n",
       "      <th>4</th>\n",
       "      <th>5</th>\n",
       "      <th>6</th>\n",
       "      <th>7</th>\n",
       "      <th>8</th>\n",
       "      <th>9</th>\n",
       "      <th>...</th>\n",
       "      <th>9990</th>\n",
       "      <th>9991</th>\n",
       "      <th>9992</th>\n",
       "      <th>9993</th>\n",
       "      <th>9994</th>\n",
       "      <th>9995</th>\n",
       "      <th>9996</th>\n",
       "      <th>9997</th>\n",
       "      <th>9998</th>\n",
       "      <th>9999</th>\n",
       "    </tr>\n",
       "  </thead>\n",
       "  <tbody>\n",
       "    <tr>\n",
       "      <th>0</th>\n",
       "      <td>0.000000</td>\n",
       "      <td>0.000100</td>\n",
       "      <td>0.000200</td>\n",
       "      <td>0.000300</td>\n",
       "      <td>0.000400</td>\n",
       "      <td>0.000500</td>\n",
       "      <td>0.000600</td>\n",
       "      <td>0.000700</td>\n",
       "      <td>0.000800</td>\n",
       "      <td>0.000900</td>\n",
       "      <td>...</td>\n",
       "      <td>0.999100</td>\n",
       "      <td>0.999200</td>\n",
       "      <td>0.999300</td>\n",
       "      <td>0.999400</td>\n",
       "      <td>0.999500</td>\n",
       "      <td>0.999600</td>\n",
       "      <td>0.999700</td>\n",
       "      <td>0.999800</td>\n",
       "      <td>0.999900</td>\n",
       "      <td>1.000000</td>\n",
       "    </tr>\n",
       "    <tr>\n",
       "      <th>1</th>\n",
       "      <td>0.171019</td>\n",
       "      <td>0.171019</td>\n",
       "      <td>0.171019</td>\n",
       "      <td>0.171018</td>\n",
       "      <td>0.171018</td>\n",
       "      <td>0.171017</td>\n",
       "      <td>0.171017</td>\n",
       "      <td>0.171016</td>\n",
       "      <td>0.171015</td>\n",
       "      <td>0.171014</td>\n",
       "      <td>...</td>\n",
       "      <td>-0.632252</td>\n",
       "      <td>-0.632694</td>\n",
       "      <td>-0.633136</td>\n",
       "      <td>-0.633578</td>\n",
       "      <td>-0.634021</td>\n",
       "      <td>-0.634463</td>\n",
       "      <td>-0.634906</td>\n",
       "      <td>-0.635349</td>\n",
       "      <td>-0.635793</td>\n",
       "      <td>-0.636237</td>\n",
       "    </tr>\n",
       "    <tr>\n",
       "      <th>2</th>\n",
       "      <td>0.082089</td>\n",
       "      <td>0.082170</td>\n",
       "      <td>0.082251</td>\n",
       "      <td>0.082332</td>\n",
       "      <td>0.082413</td>\n",
       "      <td>0.082494</td>\n",
       "      <td>0.082575</td>\n",
       "      <td>0.082656</td>\n",
       "      <td>0.082737</td>\n",
       "      <td>0.082818</td>\n",
       "      <td>...</td>\n",
       "      <td>-1.225692</td>\n",
       "      <td>-1.224949</td>\n",
       "      <td>-1.224204</td>\n",
       "      <td>-1.223457</td>\n",
       "      <td>-1.222709</td>\n",
       "      <td>-1.221960</td>\n",
       "      <td>-1.221209</td>\n",
       "      <td>-1.220456</td>\n",
       "      <td>-1.219702</td>\n",
       "      <td>-1.218947</td>\n",
       "    </tr>\n",
       "  </tbody>\n",
       "</table>\n",
       "<p>3 rows × 10000 columns</p>\n",
       "</div>"
      ],
      "text/plain": [
       "       0         1         2         3         4         5         6     \\\n",
       "0  0.000000  0.000100  0.000200  0.000300  0.000400  0.000500  0.000600   \n",
       "1  0.171019  0.171019  0.171019  0.171018  0.171018  0.171017  0.171017   \n",
       "2  0.082089  0.082170  0.082251  0.082332  0.082413  0.082494  0.082575   \n",
       "\n",
       "       7         8         9     ...      9990      9991      9992      9993  \\\n",
       "0  0.000700  0.000800  0.000900  ...  0.999100  0.999200  0.999300  0.999400   \n",
       "1  0.171016  0.171015  0.171014  ... -0.632252 -0.632694 -0.633136 -0.633578   \n",
       "2  0.082656  0.082737  0.082818  ... -1.225692 -1.224949 -1.224204 -1.223457   \n",
       "\n",
       "       9994      9995      9996      9997      9998      9999  \n",
       "0  0.999500  0.999600  0.999700  0.999800  0.999900  1.000000  \n",
       "1 -0.634021 -0.634463 -0.634906 -0.635349 -0.635793 -0.636237  \n",
       "2 -1.222709 -1.221960 -1.221209 -1.220456 -1.219702 -1.218947  \n",
       "\n",
       "[3 rows x 10000 columns]"
      ]
     },
     "metadata": {},
     "output_type": "display_data"
    }
   ],
   "source": [
    "n_modes = 7\n",
    "\n",
    "error = 1\n",
    "counter = 0\n",
    "\n",
    "while error > 1e-17:\n",
    "    p_0_shape = np.array([*triu_to_flat(np.zeros((n_modes,n_modes)))] * 2).shape # Proper shape for initial guess\n",
    "    p_0 = np.random.rand(*p_0_shape) * 20 * (np.random.rand() - 0.5) # Initial guess\n",
    "    p_sol_flat = fsolve(ricatti, p_0, (default_pars, lambdas[:n_modes], normal_coefs[:n_modes]), xtol = 1e-14)\n",
    "    k = k_ricatti(np.linspace(0,1,10000), p_sol_flat, default_pars, lambdas[:n_modes], normal_coefs[:n_modes])\n",
    "    has_imag_values = np.any(np.abs(k.imag) > 1e-5)\n",
    "    if not has_imag_values:\n",
    "        error_array = np.array(ricatti(p_sol_flat, default_pars, lambdas[:n_modes], normal_coefs[:n_modes]))\n",
    "        error = np.sqrt(sum(error_array ** 2)) / (0.5 * len(p_0))\n",
    "    else:\n",
    "        error = 1\n",
    "    counter += 1\n",
    "    if counter == 50:\n",
    "        p_sol_flat = np.zeros_like(p_sol_flat)\n",
    "        error = 1\n",
    "        print('Does not converge')\n",
    "        break\n",
    "    print('counter = ', counter)\n",
    "    print('error = ', error)\n",
    "    print('k has imaginary values? ', has_imag_values)\n",
    "\n",
    "if error < 1:\n",
    "    k = k.real.astype(float)\n",
    "    print(\"k = \")\n",
    "    display(pd.DataFrame(k))"
   ]
  },
  {
   "cell_type": "code",
   "execution_count": 121,
   "metadata": {},
   "outputs": [
    {
     "data": {
      "image/png": "[encoded data removed]",
      "text/plain": [
       "<Figure size 600x500 with 1 Axes>"
      ]
     },
     "metadata": {},
     "output_type": "display_data"
    }
   ],
   "source": [
    "df = pd.DataFrame(k.T, columns=['zeta', 'k_1', 'k_2'])\n",
    "df.set_index('zeta', inplace=True)\n",
    "\n",
    "# Plot both columns against the index\n",
    "plt.figure(figsize=(6,5))  # Adjust the figure size as needed\n",
    "plt.plot(df.index, df['k_1'], label='k_1(zeta)')\n",
    "plt.plot(df.index, df['k_2'], label='k_2(zeta)')\n",
    "\n",
    "# Add labels, title, and legend\n",
    "plt.xlabel('zeta')\n",
    "plt.ylabel('Feedback Gain')\n",
    "# plt.title('Plot of Column1 and Column2')\n",
    "plt.legend()\n",
    "\n",
    "# Show the plot\n",
    "plt.show()\n"
   ]
  },
  {
   "cell_type": "code",
   "execution_count": 99,
   "metadata": {},
   "outputs": [
    {
     "data": {
      "image/png": "[encoded data removed]",
      "text/plain": [
       "<Figure size 600x500 with 1 Axes>"
      ]
     },
     "metadata": {},
     "output_type": "display_data"
    }
   ],
   "source": [
    "# importing k\n",
    "k_guilherme = pd.read_csv(\"CSV/FeedbackGain.csv\", index_col=0)\n",
    "\n",
    "# Plot both columns against the index\n",
    "plt.figure(figsize=(6,5))  # Adjust the figure size as needed\n",
    "plt.plot(k_guilherme.index, k_guilherme['k_1'], label='k_1(zeta)')\n",
    "plt.plot(k_guilherme.index, k_guilherme['k_2'], label='k_2(zeta)')\n",
    "\n",
    "# Add labels, title, and legend\n",
    "plt.xlabel('zeta')\n",
    "plt.ylabel('Feedback Gain')\n",
    "# plt.title('Plot of Column1 and Column2')\n",
    "plt.legend()\n",
    "\n",
    "# Show the plot\n",
    "plt.show()\n",
    "\n",
    "\n"
   ]
  },
  {
   "cell_type": "code",
   "execution_count": null,
   "metadata": {},
   "outputs": [],
   "source": [
    "t_vec = np.linspace(0,10,10000)\n",
    "z_vec = np.linspace(0,1,1000)\n",
    "dt = t_vec[1]\n",
    "dz = z_vec[1]\n",
    "\n",
    "M = len(t_vec)\n",
    "N = len(z_vec)\n",
    "\n",
    "phi = np.zeros((M,N))\n",
    "psi = np.zeros((M,N))\n",
    "u = np.zeros_like(t_vec)\n",
    "\n",
    "phi[0] = np.ones_like(z_vec) * 6\n",
    "psi[0] = 10 - 4 * z_vec\n",
    "\n",
    "# for j, t in enumerate(t_vec[1:], start=1):\n",
    "#     u[j] = sum([k.iloc[i,0] * phi[j-1,i] + k.iloc[i,1] * psi[j-1,i] for i in range(len(z_vec))])\n",
    "#     phi[j, 1:-1] = [finite_dif_fun_1(phi[j-1, i:i+3], dz, dt, default_pars) for i in range(len(z_vec)-2)]\n",
    "#     psi[j, :-1]  = [finite_dif_fun_2(psi[j-1, i:i+2], dz, dt, default_pars) for i in range(len(z_vec)-1)]\n",
    "#     phi[j, -1] = phi[j, -2]\n",
    "#     psi[j, -1] = phi[j, -2]\n",
    "#     phi[j, 0] = finite_dif_fun_3(phi[j, 1], psi[j,0], u[j], dz, default_pars)\n",
    "\n",
    "        "
   ]
  },
  {
   "cell_type": "code",
   "execution_count": null,
   "metadata": {},
   "outputs": [],
   "source": [
    "fdm = pd.read_csv('CSV/SimulationResults.csv', index_col=0, header=0)\n",
    "fdm\n"
   ]
  },
  {
   "cell_type": "code",
   "execution_count": null,
   "metadata": {},
   "outputs": [],
   "source": [
    "c = fdm.columns.copy()\n",
    "c[-5:]\n",
    "    "
   ]
  },
  {
   "cell_type": "code",
   "execution_count": null,
   "metadata": {},
   "outputs": [],
   "source": [
    "N = [50, 350, 650, 950]\n",
    "fig, axs = plt.subplots(1,4, figsize=(12,4), sharey=True)\n",
    "for i, n in enumerate(N):\n",
    "    fdm[c[n]].plot(ax=axs[i], label='phi(zeta,t)')\n",
    "    fdm[c[1000+n]].plot(ax=axs[i], label='psi(zeta,t)')\n",
    "    axs[i].set_title(f'zeta = {n/1000}')\n",
    "    axs[i].grid()\n",
    "    axs[i].legend()\n",
    "\n",
    "axs[0].set_ylabel('states')\n",
    "plt.tight_layout()\n",
    "plt.show()\n"
   ]
  },
  {
   "cell_type": "code",
   "execution_count": null,
   "metadata": {},
   "outputs": [],
   "source": [
    "fig, axs = plt.subplots(1,2, figsize=(12,4))\n",
    "\n",
    "fdm['norm'].plot()\n",
    "\n",
    "fdm['u'].plot(ax=axs[0])\n",
    "axs[0].grid()\n",
    "axs[0].set_ylabel('u(t)')\n",
    "axs[0].set_title('Input, u(t)')\n",
    "\n",
    "fdm['norm'].plot(ax=axs[1], color='orange')\n",
    "axs[1].grid()\n",
    "axs[1].set_ylabel('Norm(x)')\n",
    "axs[1].set_title('Norm(x), x=[phi(z,t), psi(z,t)]')\n",
    "\n",
    "\n"
   ]
  },
  {
   "cell_type": "code",
   "execution_count": null,
   "metadata": {},
   "outputs": [],
   "source": [
    "N = [49,99,149,198,247,297]\n",
    "c = fdm.columns\n",
    "r = fdm.index\n",
    "x = np.linspace(0,1,1000)\n",
    "fig, axs = plt.subplots(2,3, figsize=(18,6), sharey=True)\n",
    "for i,n in enumerate(N):\n",
    "    if i < 3:\n",
    "        k=0\n",
    "    else:\n",
    "        k=1\n",
    "        i -= 3\n",
    "    if i==0:\n",
    "        axs[k,i].set_ylabel('states')\n",
    "    \n",
    "    axs[k,i].plot(x,fdm.loc[r[n],c[:1000]], label='phi(zeta,t)')\n",
    "    axs[k,i].plot(x,fdm.loc[r[n],c[1000:2000]], label='psi(zeta,t)')\n",
    "    axs[k,i].set_title(f't = {np.round(r[n],1)}')\n",
    "    axs[k,i].grid()\n",
    "    axs[k,i].legend()\n",
    "    if k == 1:\n",
    "        axs[k,i].set_xlabel('zeta')\n",
    "\n",
    "plt.tight_layout()\n",
    "plt.show()"
   ]
  },
  {
   "cell_type": "code",
   "execution_count": null,
   "metadata": {},
   "outputs": [],
   "source": [
    "(k, v, D, t, R) = (default_pars['k'], default_pars['v'], default_pars['D'], default_pars['tau'], default_pars['R'])\n",
    "# n_modes = max(3,7)\n",
    "Ts = 0.01\n",
    "normal_coefs = np.ones_like(lambdas)\n",
    "\n",
    "n_zeta = 1000\n",
    "\n",
    "zeta = np.linspace(0,1,n_zeta)\n",
    "eta = np.linspace(0,1,n_zeta)\n",
    "\n",
    "Zeta, Eta = np.meshgrid(zeta, eta)\n",
    "\n",
    "Ad_fun=[eig_fun_1, eig_fun_2]\n",
    "Ad_fun_adj=[eig_fun_adj_1, eig_fun_adj_2]\n",
    "\n",
    "mpc_k = np.zeros((2,2,n_zeta,n_zeta))\n",
    "for row in range(2):\n",
    "    for col in range(2):\n",
    "        mpc_k_complex = sum([np.exp(Ts*lambdas[i]) * Ad_fun[row](Zeta, default_pars, lambdas[i], normal_coefs[i]) * Ad_fun_adj[col](Eta, default_pars, lambdas[i], normal_coefs[i]) for i in range(n_modes)])\n",
    "        mpc_k[row,col] = np.where(np.abs(np.imag(mpc_k_complex)) < 1e-3, np.real(mpc_k_complex), mpc_k_complex)\n",
    "\n",
    "for row in range(2):\n",
    "    for col in range(2):\n",
    "        temp_path = f'MPC/Ad_{row}_{col}.csv'\n",
    "        mpc_k_df = pd.DataFrame(columns=[z for z in zeta], index=[e for e in eta])\n",
    "        mpc_k_df.iloc[:,:] = mpc_k[row,col]\n",
    "        mpc_k_df.to_csv(temp_path)\n",
    "\n",
    "mpc_b = np.zeros((2,n_zeta))\n",
    "\n",
    "for n in range(2):\n",
    "    mpc_b_complex = v * (1-R) * sum([eig_fun_adj_1(0, default_pars, lambdas[i], normal_coefs[i]) * ((np.exp(Ts*lambdas[i])-1)/lambdas[i]) * Ad_fun[n](zeta, default_pars, lambdas[i], normal_coefs[i]) for i in range(n_modes)])\n",
    "    mpc_b[n] =np.where(np.abs(np.imag(mpc_b_complex)) < 1e-3, np.real(mpc_b_complex), mpc_b_complex)\n",
    "\n",
    "mpc_b_df = pd.DataFrame(columns=[z for z in zeta], index=[0,1])\n",
    "mpc_b_df.iloc[:,:] = mpc_b\n",
    "mpc_b_df.to_csv(f'MPC/Bd.csv')"
   ]
  },
  {
   "cell_type": "code",
   "execution_count": null,
   "metadata": {},
   "outputs": [],
   "source": [
    "mpc_df = pd.read_csv('CSV/SimulationResults_Const.csv', index_col=0, header=0)\n",
    "rgb_1 = tuple(x / 255 for x in (39, 93, 55))\n",
    "rgb_2 = tuple(x / 255 for x in (242,205,0))"
   ]
  },
  {
   "cell_type": "code",
   "execution_count": null,
   "metadata": {},
   "outputs": [],
   "source": [
    "mpc_df"
   ]
  },
  {
   "cell_type": "code",
   "execution_count": null,
   "metadata": {},
   "outputs": [],
   "source": [
    "c = mpc_df.columns.copy()\n",
    "c[-5:]"
   ]
  },
  {
   "cell_type": "code",
   "execution_count": null,
   "metadata": {},
   "outputs": [],
   "source": [
    "N = [5, 35, 65, 95]\n",
    "c = mpc_df.columns\n",
    "fig, axs = plt.subplots(2,2, figsize=(9.5,6.5), sharey=True)\n",
    "for i,n in enumerate(N):\n",
    "    if i < 2:\n",
    "        k=0\n",
    "    else:\n",
    "        k=1\n",
    "        i -= 2\n",
    "    if i==0:\n",
    "        axs[k,i].set_ylabel('states')\n",
    "    \n",
    "    mpc_df[c[n]].plot(ax=axs[k,i], label='phi(zeta,t)', color=rgb_1)\n",
    "    mpc_df[c[101+n]].plot(ax=axs[k,i], label='psi(zeta,t)', color=rgb_2)\n",
    "    axs[k,i].set_title(f'zeta = {n/100}')\n",
    "    axs[k,i].grid()\n",
    "    axs[k,i].legend()\n",
    "\n",
    "    if k == 0:\n",
    "        axs[k,i].set_xlabel('')\n",
    "\n",
    "plt.tight_layout()\n",
    "plt.show()"
   ]
  },
  {
   "cell_type": "code",
   "execution_count": null,
   "metadata": {},
   "outputs": [],
   "source": [
    "fig, axs = plt.subplots(1, 1, figsize=(5.2, 7.2))\n",
    "\n",
    "axs.axhline(y=-3.5, color=rgb_2, linestyle='--', label='Input Constraint', linewidth=2)\n",
    "mpc_df['u'].plot(ax=axs, color=rgb_1, linewidth=2)\n",
    "\n",
    "axs.grid()\n",
    "axs.set_ylabel('u(t)')\n",
    "axs.set_title('Input, u(t)')\n",
    "\n",
    "\n",
    "# Display the legend\n",
    "axs.legend()\n",
    "\n",
    "plt.show()\n",
    "\n"
   ]
  },
  {
   "cell_type": "code",
   "execution_count": null,
   "metadata": {},
   "outputs": [],
   "source": [
    "N = [4,199,349,799]\n",
    "c = mpc_df.columns\n",
    "r = mpc_df.index\n",
    "x = np.linspace(0,1,101)\n",
    "fig, axs = plt.subplots(2,2, figsize=(9.5,6.5), sharey=True)\n",
    "for i,n in enumerate(N):\n",
    "    if i < 2:\n",
    "        k=0\n",
    "    else:\n",
    "        k=1\n",
    "        i -= 2\n",
    "    if i==0:\n",
    "        axs[k,i].set_ylabel('states')\n",
    "    \n",
    "    axs[k,i].plot(x,mpc_df.loc[r[n],c[:101]], label='phi(zeta,t)', color=rgb_1)\n",
    "    axs[k,i].plot(x,mpc_df.loc[r[n],c[101:202]], label='psi(zeta,t)', color=rgb_2)\n",
    "    axs[k,i].set_title(f't = {np.round(r[n],2)}')\n",
    "    axs[k,i].grid()\n",
    "    axs[k,i].legend()\n",
    "    if k == 1:\n",
    "        axs[k,i].set_xlabel('zeta')\n",
    "\n",
    "plt.tight_layout()\n",
    "plt.show()"
   ]
  },
  {
   "cell_type": "code",
   "execution_count": null,
   "metadata": {},
   "outputs": [],
   "source": [
    "from functions import *\n",
    "import numpy as np\n",
    "\n",
    "A = np.array([\n",
    "    [0.9649, 0.9572, 0.1419],\n",
    "    [0.1576, 0.4854, 0.4218],\n",
    "    [0.9706, 0.8003, 0.9157]])\n",
    "\n",
    "eigs = calc_eig_finite(A)\n",
    "\n",
    "eigs"
   ]
  },
  {
   "cell_type": "code",
   "execution_count": null,
   "metadata": {},
   "outputs": [],
   "source": []
  }
 ],
 "metadata": {
  "colab": {
   "collapsed_sections": [
    "rOp8yHdiv26a",
    "C1l2-KpYqZSK"
   ],
   "provenance": []
  },
  "kernelspec": {
   "display_name": "base",
   "language": "python",
   "name": "python3"
  },
  "language_info": {
   "codemirror_mode": {
    "name": "ipython",
    "version": 3
   },
   "file_extension": ".py",
   "mimetype": "text/x-python",
   "name": "python",
   "nbconvert_exporter": "python",
   "pygments_lexer": "ipython3",
   "version": "3.9.17"
  },
  "vscode": {
   "interpreter": {
    "hash": "40d3a090f54c6569ab1632332b64b2c03c39dcf918b08424e98f38b5ae0af88f"
   }
  }
 },
 "nbformat": 4,
 "nbformat_minor": 1
}
