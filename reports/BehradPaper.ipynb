{
 "cells": [
  {
   "cell_type": "markdown",
   "metadata": {
    "id": "ByIufqrO7oiy"
   },
   "source": [
    "Initializing the notebook:"
   ]
  },
  {
   "cell_type": "code",
   "execution_count": null,
   "metadata": {
    "executionInfo": {
     "elapsed": 7,
     "status": "ok",
     "timestamp": 1674594709346,
     "user": {
      "displayName": "Guilherme Ozorio Cassol",
      "userId": "16524009092046304621"
     },
     "user_tz": 420
    },
    "id": "uEGAWDi23_da"
   },
   "outputs": [],
   "source": [
    "import os\n",
    "import numpy as np\n",
    "from functions import *\n",
    "import matplotlib.pyplot as plt\n",
    "import pandas as pd\n",
    "from scipy.optimize import fsolve\n",
    "\n",
    "# Get the directory where the current script is located\n",
    "script_directory = os.getcwd()\n",
    "\n",
    "# Change the current working directory to the script's directory\n",
    "os.chdir(script_directory)\n",
    "\n",
    "# Now the CWD is the same as the script's directory\n",
    "print(\"New Current Working Directory:\", os.getcwd())"
   ]
  },
  {
   "cell_type": "markdown",
   "metadata": {
    "id": "C1l2-KpYqZSK"
   },
   "source": [
    "# System Model\n",
    "\n",
    "Initially, only the equation for one state (temperature or concentration) will be considered. For simplicity, the domain will be $[0,1]$, with Danckwerts boundary conditions:\n",
    "\n",
    "$$\\left\\{\\begin{array}{l} \\dot{x} = D\\partial_{\\zeta\\zeta} x -v\\partial_{\\zeta} x +kx\\\\\n",
    "D\\partial_\\zeta x(0,t)-vx(0,t)=-v[Rx(1,t-\\tau)+(1-R)u(t-\\tau_I)] \\\\\n",
    "\\partial_\\zeta x(1,t)=0 \\\\\n",
    "y(t)=x(1,t-\\tau_O)\n",
    "  \\end{array}\\right. $$\n",
    "\n",
    "This model considers that the input is applied in the reactor's entrance, which is mixed with the recycle from the outlet. Input, output, and state delays are considered and represented by $\\tau_I,\\tau_O$, and $\\tau$, respectively. "
   ]
  },
  {
   "cell_type": "markdown",
   "metadata": {},
   "source": [
    "## Eigenvalue Analysis\n",
    "\n",
    "The eigenvalue problem, defined as $A\\Phi(\\zeta,\\lambda)=\\lambda\\Phi(\\zeta,\\lambda)$, will result in the following system of equation for this system:\n",
    "\n",
    "$$\\left\\{\\begin{array}{l} \\lambda\\phi = D\\partial_{\\zeta\\zeta} \\phi -v\\partial_{\\zeta} \\phi +k\\phi\\\\\n",
    "\\lambda\\psi=\\dfrac{1}{\\tau}\\partial_{\\zeta}\\psi\\\\\n",
    "D\\partial_\\zeta \\phi(0)-v\\phi(0)=-Rv\\psi(0) \\\\\n",
    "\\partial_\\zeta \\phi(1)=0 \\\\\n",
    "\\psi(1)=\\phi(1)\\\\\n",
    "  \\end{array}\\right. $$"
   ]
  },
  {
   "attachments": {},
   "cell_type": "markdown",
   "metadata": {},
   "source": [
    "where $\\Phi=[\\phi_1,\\,\\phi_2]^T$, with $\\phi_1$ as the state (concentration) eigenfunction and $\\phi_2$ as the eigenfunction related to the delay. By defining $X=[\\phi_1,\\, \\partial_{\\zeta}\\phi_1,\\,\\phi_2]^T$, the following system of ODEs is obtained:\n",
    "\n",
    "$$\n",
    "\\left\\{\\begin{array}{l}\\partial_{\\zeta}X=\\begin{bmatrix} 0 & 1 & 0\\\\ \\dfrac{\\lambda-k}{D} & \\dfrac{v}{D} & 0\\\\0 & 0 & \\tau\\lambda\\end{bmatrix}X=ΛX \\\\\n",
    "DX_2(0)-vX_1(0)=-RvX_3(0) \\\\\n",
    "X_2(1)=0 \\\\\n",
    "X_3(1)=X_1(1)\\\\ \\end{array}\\right.\n",
    "$$"
   ]
  },
  {
   "cell_type": "markdown",
   "metadata": {},
   "source": [
    "## Characteristic Equation"
   ]
  },
  {
   "cell_type": "markdown",
   "metadata": {},
   "source": [
    "This is a system of first order ODE's, and the solution to such systems is given by:\n",
    "\n",
    "$$ X(\\zeta, \\lambda) = e^{\\Lambda \\zeta} X (\\zeta=0, \\lambda) \\\\ \\overset{\\zeta = 1}{\\Rightarrow} X(1, \\lambda) = e^{\\Lambda} X (\\zeta=0) $$"
   ]
  },
  {
   "cell_type": "markdown",
   "metadata": {},
   "source": [
    "Now, let's assume:\n",
    "\n",
    "$$ e^{\\Lambda} = Q(\\lambda) = \\begin{bmatrix} \n",
    "        q_{1} & q_{2} & q_{3} \\\\ q_{4} & q_{5} & q_{6} \\\\ q_{7} & q_{8} & q_{9}\n",
    "    \\end{bmatrix} $$\n"
   ]
  },
  {
   "cell_type": "markdown",
   "metadata": {},
   "source": [
    "Thus, we may write:\n",
    "\n",
    "$$\\left\\{\\begin{array}{l}\n",
    "X_1(1) = q_1 X_1(0) + q_2 X_2(0) + q_3 X_3(0) \\\\\n",
    "X_2(1) = q_4 X_1(0) + q_5 X_2(0) + q_6 X_3(0) \\\\\n",
    "X_3(1) = q_7 X_1(0) + q_8 X_2(0) + q_9 X_3(0)\n",
    "\\end{array}\\right.$$"
   ]
  },
  {
   "cell_type": "markdown",
   "metadata": {},
   "source": [
    "Now, we may go ahead and put the above expressions into boundary conditions to get the following:\n",
    "\n",
    "$$\\left\\{\\begin{array}{l}\n",
    "Dx_2-vx_1=-Rvx_3 \\\\\n",
    "q_4 x_1 + q_5 x_2 + q_6 x_3 = 0 \\\\\n",
    "q_7 x_1 + q_8 x_2 + q_9 x_3 = q_1 x_1 + q_2 x_2 + q_3 x_3\n",
    "\\end{array}\\right. \\Rightarrow \\left\\{\\begin{array}{l}\n",
    "-vx_1 + Dx_2 + Rvx_3 = 0 \\\\\n",
    "q_4 x_1 + q_5 x_2 + q_6 x_3 = 0 \\\\\n",
    "(q_1 - q_7) x_1 + (q_2 - q_8) x_2 + (q_3 - q_9) x_3 = 0\n",
    "\\end{array}\\right.$$\n",
    "\n",
    "\n",
    "where $x_i$ is the same as $X_i(0)$."
   ]
  },
  {
   "attachments": {},
   "cell_type": "markdown",
   "metadata": {},
   "source": [
    "For this particular case, we know that:\n",
    "\n",
    "$$ q_{3} = q_{6} = q_{7} = q_{8} = 0 $$"
   ]
  },
  {
   "attachments": {},
   "cell_type": "markdown",
   "metadata": {},
   "source": [
    "This will further simplify the above system of equions into the following system:\n",
    "\n",
    "$$\\left\\{\\begin{array}{l}\n",
    "-vx_1 + Dx_2 + Rvx_3 = 0 \\\\\n",
    "q_4 x_1 + q_5 x_2 = 0 \\\\\n",
    "q_1 x_1 + q_2 x_2 - q_9 x_3 = 0\n",
    "\\end{array}\\right.$$"
   ]
  },
  {
   "attachments": {},
   "cell_type": "markdown",
   "metadata": {},
   "source": [
    "This is a $3 \\times 3$ system of algebraic equations in the form of $\\bar{A} \\bar{x} = 0 $, with:\n",
    "\n",
    "$$ det(\\bar{A}) = det \\left( \\begin{bmatrix}\n",
    "-v & D & Rv \\\\\n",
    "q_4 & q_5 & 0 \\\\\n",
    "q_1 & q_2 & -q_9\n",
    "\\end{bmatrix} \\right) = 0; \\quad \\bar{x} = \\begin{bmatrix}\n",
    "x_1 \\\\ x_2 \\\\ x_3\n",
    "\\end{bmatrix} $$"
   ]
  },
  {
   "cell_type": "markdown",
   "metadata": {},
   "source": [
    " For such a system to have non-trivial solution (i.e. $\\bar{x} \\neq 0$), the dimension of the nullspace of the coefficients matrix $\\bar{A}$ needs to be non-zero. This will happen if and only if the coefficients matrix $\\bar{A}$ is rank-deficient. One way to make sure matrix $ \\bar{A} $ is not full-rank, is to set its determinant equal to zero. Doing so and further simplifying the result will give the characteristic equation as following:\n",
    "$$\n",
    "f(\\lambda) = e^{(\\lambda \\tau+\\frac{v}{2D})}\n",
    "\\left[\n",
    "    \\frac{(v^2+2D^2)}{\\sqrt{v^2-4D\\left(k-\\lambda\\right)}}\\sinh{(\\frac{\\sqrt{v^2-4D\\left(k-\\lambda\\right)}}{2D})} + v \\cosh{(\\frac{\\sqrt{v^2-4D\\left(k-\\lambda\\right)}}{2D})}\n",
    "\\right]\n",
    "- vRe^{(\\frac{v}{D})}\n",
    "= 0\n",
    "$$\n",
    "\n",
    "To ease numerical calculation, we use the limit of the above equation where the denominator of the first term approaches zero. The limit is obtained as follows:\n",
    "\n",
    "$$\n",
    "\\lim_{p(\\lambda) \\to 0} f(\\lambda) = ... \n",
    "= e^{(\\lambda \\tau+\\frac{v}{2D})}\n",
    "\\left[\n",
    "    \\frac{v^2}{2D} + v + D\n",
    "\\right]\n",
    "- vRe^{(\\frac{v}{D})}\n",
    "\n",
    "$$\n",
    "\n",
    "where $ p(\\lambda) \\equiv v^2-4D\\left(k-\\lambda\\right) $."
   ]
  },
  {
   "cell_type": "markdown",
   "metadata": {},
   "source": [
    "## Adjoint Operator"
   ]
  },
  {
   "cell_type": "markdown",
   "metadata": {},
   "source": [
    "Prior to solving the obtained equation for eigenvalues, we first need to see whether or not the operator $\\hat{A}$ is self-adjoint. This will be done by calculating ${\\hat{A}}^{*}$ and then checking if $\\hat{A} = {\\hat{A}}^{*}$:\n",
    "\n",
    "$$\n",
    "\\begin{align*}\n",
    "    &\\begin{cases}\n",
    "        &\\hat{A} (.) =\n",
    "        &\\begin{bmatrix}\n",
    "            D\\partial_{\\zeta\\zeta} (.) -v\\partial_{\\zeta} (.) +k(.) & 0 \\\\\n",
    "            0 & \\dfrac{1}{\\tau}\\partial_{\\zeta} (.)\n",
    "        \\end{bmatrix} \\\\\n",
    "        \\, \\\\\n",
    "        &B.C. \\quad : \\quad &\\begin{cases}\n",
    "            D\\partial_\\zeta \\phi_1(0)-v\\phi_1(0)=-Rv\\phi_2(0) \\\\\n",
    "            \\partial_\\zeta \\phi_1(1)=0 \\\\\n",
    "            \\phi_2(1)=\\phi_1(1)\n",
    "        \\end{cases}\n",
    "    \\end{cases}\\\\\n",
    "    \\, \\\\\n",
    "    u = 0 \\Rightarrow \\langle \\hat{A} \\Phi, \\Psi\\rangle  = \\langle \\Phi, {\\hat{A}}^{*} \\Psi\\rangle  \\Rightarrow\n",
    "    &\\begin{cases}\n",
    "        &{\\hat{A}}^{*} (.) =\n",
    "        &\\begin{bmatrix}\n",
    "            D\\partial_{\\zeta\\zeta} (.) +v\\partial_{\\zeta} (.) +k(.) & 0\\\\\n",
    "            0 & -\\dfrac{1}{\\tau}\\partial_{\\zeta} (.)\n",
    "        \\end{bmatrix} \\\\\n",
    "        \\, \\\\\n",
    "        &B.C. \\quad : \\quad &\\begin{cases}\n",
    "            D\\partial_\\zeta \\psi_{1}(1)+v\\psi_{1}(1)=\\dfrac{1}{\\tau}\\psi_{2}(1) \\\\\n",
    "            Rv\\psi_{1}(0) = \\dfrac{1}{\\tau}\\psi_{2}(0) \\\\\n",
    "            \\partial_\\zeta \\psi_{1}(0)=0\n",
    "        \\end{cases}\n",
    "    \\end{cases}\n",
    "    \\Rightarrow \\hat{A} \\neq {\\hat{A}}^{*}\n",
    "\\end{align*}\n",
    "$$\n",
    "\n",
    "Therefore, operator $\\hat{A}$ is not self adjoint. However, we need to make sure that $\\hat{A}$ and $\\hat{A}^*$ share the same spectrum (i.e. eigenvalue distribution). Hence, we need to obtain the characteristic equation for $\\hat{A}^*$, just as we did for $\\hat{A}$."
   ]
  },
  {
   "cell_type": "markdown",
   "metadata": {},
   "source": [
    "### Adjoint Eigenvalue Analysis\n",
    "\n",
    "The eigenvalue problem, defined as $\\hat{A}^*\\Psi_i(\\zeta)=\\lambda_i\\Psi_i(\\zeta)$, will result in the following system of equation for this system:\n",
    "\n",
    "$$\\left\\{\\begin{array}{l} \\lambda\\psi_1 = D\\partial_{\\zeta\\zeta} \\psi_1 +v\\partial_{\\zeta} \\psi_1 +k\\psi_1\\\\\n",
    "\\lambda\\psi_2=-\\dfrac{1}{\\tau}\\partial_{\\zeta}\\psi_2\\\\\n",
    "D\\partial_\\zeta \\psi_{1}(1)+v\\psi_{1}(1)=\\dfrac{1}{\\tau}\\psi_{2}(1) \\\\\n",
    "Rv\\psi_{1}(0) = \\dfrac{1}{\\tau}\\psi_{2}(0) \\\\\n",
    "\\partial_\\zeta \\psi_{1}(0)=0\\\\\n",
    "  \\end{array}\\right. $$"
   ]
  },
  {
   "cell_type": "markdown",
   "metadata": {},
   "source": [
    "where $\\Psi=[\\psi_1,\\,\\psi_2]^T$, with $\\psi_1$ and $\\psi_2$ being adjoint eigenfunctions of the system. By defining $X=[\\psi_1,\\, \\partial_{\\zeta}\\psi_1,\\,\\psi_2]^T$, a system of 3 first-order ODEs is obtained, that can be utilized to derive the characteristic equation for the adjoint operator."
   ]
  },
  {
   "cell_type": "markdown",
   "metadata": {},
   "source": [
    "### Adjoint Characteristic Equation"
   ]
  },
  {
   "cell_type": "markdown",
   "metadata": {},
   "source": [
    "Repeating the same steps as before followed by further simplifying the result will give the adjoint characteristic equation as following:\n",
    "$$\n",
    "f(\\lambda) = e^{(\\lambda \\tau+\\frac{v}{2D})}\n",
    "\\left[\n",
    "    \\frac{(v^2+2D^2)}{\\sqrt{v^2-4D\\left(k-\\lambda\\right)}}\\sinh{(\\frac{\\sqrt{v^2-4D\\left(k-\\lambda\\right)}}{2D})} + v \\cosh{(\\frac{\\sqrt{v^2-4D\\left(k-\\lambda\\right)}}{2D})}\n",
    "\\right]\n",
    "- vRe^{(\\frac{v}{D})}\n",
    "= 0\n",
    "$$\n",
    "\n",
    "Which is exactly the same as the previous characteristic equation. We may now move forward and calculate the eigenvalues of the system for a given set of parameters."
   ]
  },
  {
   "cell_type": "markdown",
   "metadata": {},
   "source": [
    "## Numerical Solution"
   ]
  },
  {
   "attachments": {},
   "cell_type": "markdown",
   "metadata": {},
   "source": [
    "Initializing system parameters:"
   ]
  },
  {
   "cell_type": "code",
   "execution_count": null,
   "metadata": {},
   "outputs": [],
   "source": [
    "default_pars = obtain_default_pars('pars_list.csv')\n",
    "default_pars['label'] = 'default'\n",
    "display(default_pars)"
   ]
  },
  {
   "cell_type": "markdown",
   "metadata": {},
   "source": [
    "### Solving Characteristic Equation for $\\hat{A}$"
   ]
  },
  {
   "cell_type": "markdown",
   "metadata": {},
   "source": [
    "Searching `guess` range to obtain eigenvalues distribution:"
   ]
  },
  {
   "cell_type": "code",
   "execution_count": null,
   "metadata": {},
   "outputs": [],
   "source": [
    "path = \"CSV/default.csv\"\n",
    "\n",
    "if not os.path.exists(path):\n",
    "    guess = {\n",
    "        'guess_range_real':[-75,-15,25],\n",
    "        'guess_range_imag':[100,600,1000]\n",
    "    }\n",
    "    save_dataframe_to_csv(*find_eig(default_pars, **guess, round_sig_digits=5, tol_is_sol=1e-8, max_iter=200), 'CSV')\n",
    "else:\n",
    "    print(\"Solution has already been saved in the appropriate location.\")"
   ]
  },
  {
   "cell_type": "markdown",
   "metadata": {},
   "source": [
    "Plotting the obtained eigenvalue distribution:"
   ]
  },
  {
   "cell_type": "code",
   "execution_count": null,
   "metadata": {},
   "outputs": [],
   "source": [
    "df, label, metadata = plot_single_df(\n",
    "        path, filter=True,\n",
    "        real_lower_bound=-40, real_upper_bound=1, imag_lower_bound=-500, imag_upper_bound=500\n",
    ")\n",
    "n_lambdas = len(df)\n",
    "display(df.head(n_lambdas))"
   ]
  },
  {
   "cell_type": "markdown",
   "metadata": {},
   "source": [
    "## Obtaining Eigenfunctions\n",
    "\n",
    "Having obtained the eigenvalues of the open-loop system, we may go ahead and find the eigenfunction corresponding to each eigenvalue. To do so, we plug in the eigenvalue into the eigenvalue problem and form a system of ODE's. Solving the resulting system will give the eigenvalue's corresponding eigenfunction. We start by 3 eigenvalues with largest real parts. These values are stored in `lambdas` as follows:"
   ]
  },
  {
   "cell_type": "code",
   "execution_count": null,
   "metadata": {},
   "outputs": [],
   "source": [
    "lambdas = []\n",
    "for index, row in df.head(n_lambdas).iterrows():\n",
    "    l = complex(row['Sol_r'], row['Sol_i'])\n",
    "    print(f'lambda_{index+1} = {l}')\n",
    "    lambdas.append(l)"
   ]
  },
  {
   "cell_type": "markdown",
   "metadata": {},
   "source": [
    "The problem of finding the eigenfunctions is now reduced to solving a system of linear ODEs  for each $\\lambda_{i}$, containing a first order and a second order ODE.\n",
    "\n",
    "$$\\left\\{\\begin{array}{l}\n",
    "D\\partial_{\\zeta\\zeta} \\phi_1 &-v\\partial_{\\zeta} \\phi_1 &+(k-\\lambda) \\phi_1 &= 0 &\\\\\n",
    "\\, \\\\\n",
    "&\\dfrac{1}{\\tau}\\partial_{\\zeta}\\phi_2 &- \\lambda\\phi_2 &= 0 &\\\\\n",
    "\\end{array}\\right. $$"
   ]
  },
  {
   "cell_type": "markdown",
   "metadata": {},
   "source": [
    "It can be proven that the resulting characteristic equation for the second order ODE will always have 2 distinct roots as long as $\\lambda \\neq -k$. Therefore, the general form of the required eigenfunction looks like the following:\n",
    "\n",
    "$$\\left\\{\\begin{array}{l}\n",
    "\\phi_1^{(i)}(\\zeta) =& a e^{r_{1}\\zeta} + b e^{r_{2}\\zeta} &\\\\\n",
    "\\, \\\\\n",
    "\\phi_2^{(i)}(\\zeta) =& c e^{\\tau \\lambda \\zeta} &\\\\\n",
    "\\end{array}\\right. $$\n",
    "\n",
    "where $a, b,$ and $c$ are unknown coefficients; two of which can be determined by applying boundary conditions, and the third wil be set after normalizing. Also, $r_{1,2}$, the roots of the second order ODE, shall be obtained as follows:\n",
    "\n",
    "$$\n",
    "{r_{1,2}}_i = \\frac{v \\pm \\sqrt{v^2+4D\\left(\\lambda_i-k\\right)}}{2D} \\quad \\text{for } i=1,2,3,\\dots\n",
    "$$"
   ]
  },
  {
   "cell_type": "markdown",
   "metadata": {},
   "source": [
    "Applying the following boundary conditions:\n",
    "\n",
    "$$\\left\\{\\begin{array}{l}\n",
    "D \\partial_{\\zeta} \\phi_1 (0) - v \\phi_1 (0) &=& -R v \\phi_2 (0) \\\\\n",
    "\\, \\\\\n",
    "\\partial_{\\zeta} \\phi_1 (1) &=& 0 \\\\\n",
    "\\, \\\\\n",
    "\\phi_1(1) &=& \\phi_2(1) \\\\\n",
    "\\end{array}\\right. $$\n",
    "\n",
    "will result in the following system of linear algebraic equations:\n",
    "\n",
    "$$\\left\\{\\begin{array}{l}\n",
    "D ( a r_1 + b r_2) - v (a + b) &=& -Rvc \\\\\n",
    "\\, \\\\\n",
    "a r_1 e^{r_1} + b r_2 e^{r_2} &=& 0 \\\\\n",
    "\\, \\\\\n",
    "a e^{r_1} + b e^{r_2} &=& c e^{\\tau \\lambda} \\\\\n",
    "\\end{array}\\right.$$"
   ]
  },
  {
   "cell_type": "markdown",
   "metadata": {},
   "source": [
    "The above system of algebraic equation is rank deficient, resulting in one of the coefficient to be equal to $\\frac{0}{0}$. Here, we decided to keep `b` and obtain `a`, `c` as functions of `b`:\n",
    "\n",
    "$$\\begin{align*}\n",
    "\\begin{cases}\n",
    "a = -\\frac{r_2 e^{r_2}}{r_1 e^{r_1}}b \\\\\n",
    "\\, \\\\\n",
    "c = b (1-\\frac{r_2}{r_1}) e^{r_2 - \\tau \\lambda}\\\\\n",
    "\\end{cases}\n",
    "\\end{align*}\n",
    "$$"
   ]
  },
  {
   "cell_type": "markdown",
   "metadata": {},
   "source": [
    "The third equation will be redundant, as shown below:\n",
    "\n",
    "$$\\begin{align*}\n",
    "b \\times \\Bigl(g(\\lambda_i)\\Bigr) = 0\n",
    "\\end{align*}\n",
    "$$\n",
    "\n",
    "where $g(\\lambda_i)$ is the charecteristic equation of the operator $\\hat{A}$, and is always equal to zero. Therefore, the third equation will give:\n",
    "\n",
    "$$\\begin{align*}\n",
    "b \\times 0 = 0 \\Rightarrow b = \\frac{0}{0}\n",
    "\\end{align*}\n",
    "$$\n",
    "\n",
    "which is expected according to the explanation above."
   ]
  },
  {
   "cell_type": "markdown",
   "metadata": {},
   "source": [
    "Thus, each set of eigenfunctions $[\\phi_1^{(i)}, \\phi_2^{(i)}]^T$ will be obtained after solving the above system of equations for their correspoding eigenvalue $\\lambda_i$, with a normalization coefficient remaining to be calculated, i.e. `b` in this case:\n",
    "$$\n",
    "\\begin{align*}\n",
    "\\Rightarrow \\begin{cases}\n",
    "\\phi_1^{(i)}(\\zeta) =& b_i \\Bigl[ \\left( -\\frac{r_{i,2} e^{r_{i,2}}}{r_{i,1} e^{r_{i,1}}}\\right) e^{r_{i,1} \\zeta} + e^{r_{i,2} \\zeta}\\Bigr]&\\\\\n",
    "\\, \\\\\n",
    "\\phi_2^{(i)}(\\zeta) =& b_i (1-\\frac{r_{i,2}}{r_{i,1}}) e^{r_{i,2} - \\tau \\lambda} e^{ \\tau \\lambda \\zeta } &\\\\\n",
    "\\end{cases}\n",
    "\\end{align*}\n",
    "$$"
   ]
  },
  {
   "cell_type": "markdown",
   "metadata": {},
   "source": [
    "Same approach may be followed to obtain the adjoint eigenfunctions $[\\psi_1^{(i)}, \\psi_2^{(i)}]^T$ for their correspoding eigenvalue $\\lambda_i$, again with a normalization coefficient remaining to be calculated, i.e. `b*` in this case:\n",
    "$$\n",
    "\\begin{align*}\n",
    "\\Rightarrow \\begin{cases}\n",
    "\\psi_1^{(i)}(\\zeta) =& b^*_i\\left[ - \\frac{r_{i,2}^*}{r_{i,1}^*}e^{r_{i,1}^* \\zeta} + e^{r_{i,2}^* \\zeta} \\right]&\\\\\n",
    "\\, \\\\\n",
    "\\psi_2^{(i)}(\\zeta) =& b^*_i \\left( 1- \\frac{r_{i,2}^*}{r_{i,1}^*} \\right) e^{- \\tau \\lambda \\zeta} &\\\\\n",
    "\\end{cases}\n",
    "\\end{align*}\n",
    "$$"
   ]
  },
  {
   "cell_type": "markdown",
   "metadata": {},
   "source": [
    "## Normalizing Eigenfunctions\n",
    "\n",
    "Defining the unnormalized eigenfunction as follows:\n",
    "\n",
    "$$\n",
    "\\widetilde{\\Phi}_i(\\zeta) \\equiv \\frac{\\Phi_i(\\zeta)}{b_i} = \\begin{bmatrix}\n",
    "\\widetilde{\\phi}_1^{(i)}(\\zeta)\\\\ \\, \\\\ \\widetilde{\\phi}_2^{(i)}(\\zeta)\\\\\n",
    "\\end{bmatrix} = \\begin{bmatrix}\n",
    "\\Bigl[ \\left( -\\frac{r_{i,2} e^{r_{i,2}}}{r_{i,1} e^{r_{i,1}}}\\right) e^{r_{i,1} \\zeta} + e^{r_{i,2} \\zeta}\\Bigr]\\\\\n",
    "\\, \\\\\n",
    "(1-\\frac{r_{i,2}}{r_{i,1}}) e^{r_{i,2} - \\tau \\lambda} e^{ \\tau \\lambda \\zeta } \\\\\n",
    "\\end{bmatrix}\n",
    "$$\n",
    "\n",
    "This approach may be followed to obtain the normalization coefficients `b` and `b*`. First, we assume that the set of eigenfunctions $\\{\\Phi_i(\\zeta)\\}$ are normal, meaning that the norm-2 of each given eigenfunction is equal to 1. This will obtain normalization coefficients `b` as follows:\n",
    "\n",
    "$$\n",
    "\\begin{align*}\n",
    "&\\langle \\Phi_i(\\zeta), \\Phi_i(\\zeta)\\rangle  = {b_i}^2 \\langle \\widetilde{\\Phi}_i(\\zeta),\\widetilde{\\Phi}_i(\\zeta)\\rangle  = 1 \\Rightarrow \\\\\n",
    "\\, \\\\\n",
    "&{b_i}^2 \\int_0^1 \\widetilde{\\Phi}_i(\\zeta) \\cdot \\overline{\\widetilde{\\Phi}_i(\\zeta)} d\\zeta = 1 \\Rightarrow b_i = \\frac{1}{\\sqrt{\\int_0^1 \\widetilde{\\Phi}_i(\\zeta) \\cdot \\overline{\\widetilde{\\Phi}_i(\\zeta)} d\\zeta}}\n",
    "\\end{align*}\n",
    "$$\n",
    "\n",
    "Keep in mind that all `b` coefficients are real numbers, therefore we simply replace $b_i \\cdot \\overline{b_i}$ with ${b_i}^2$ in the above formula. Having obtained `b`, we may go ahead and scale adjoint eigenfunctions according to the biorthogonal theorem, which will result in `b*`."
   ]
  },
  {
   "cell_type": "markdown",
   "metadata": {},
   "source": [
    "### Bi-orthogonal Theorem\n",
    "\n",
    "The following property, known as **biorthogonal theorem** may further assist us to both normalize the eigenfunctions of a *non-self-adjoint Riesz spectral operator*; and determine main modes of its spectrum:\n",
    "\n",
    "**Bi-orthogonal theorem:** For every closed, linear operator $\\hat{A}$ on the Hilbert space $Z$ that has simple set of eigenvalues $ \\{ \\lambda_n, n \\geq 1 \\}$ with its corresponding eigenvectors $ \\{ \\Phi_n, n \\geq 1 \\}$ forming a Riesz basis in Z, we can show that:\n",
    "\n",
    "1. If $ \\{ \\Psi_n, n \\geq 1 \\}$ are the eigenvectors of the adjoint of A corresponding to the eigenvalues $ \\{ \\lambda_n, n \\geq 1 \\}$, then the eigenvectors can be **suitably scaled** such that $ \\langle  \\Phi_n, \\Psi_m \\rangle  = \\delta_{mn} $\n",
    "\n",
    "2. Every function $ z \\in Z $ can be represented by the following infinite sum:\n",
    "\n",
    "$$ z = \\sum_{n=1}^{\\infty} \\langle  z, \\Psi_n \\rangle  \\Phi_n $$"
   ]
  },
  {
   "cell_type": "markdown",
   "metadata": {},
   "source": [
    "#### Matching Eigenfunctions with their Adjoints\n",
    "\n",
    "The first result of the bi-orthogonal theorem is that we can successfully assign one of the eigenfunctions $\\Psi_{(m)}$ of the adjoint operator $A^*$ and its corresponding eigenvalue $\\lambda^*_{(m)}$ to one and only one eigenfunction $\\Phi_{(n)}$ of the original operator $A$ with its own eigenvalue $\\lambda_{(n)}$. This is done as follows:\n",
    "\n",
    "$$ \\langle A\\Phi_{(n)}, \\Psi_{(m)}\\rangle  = \\langle \\Phi_{(n)}, A^* \\Psi_{(m)}\\rangle  $$\n",
    "\n",
    "$$ LHS = \\langle \\lambda_{(n)} \\Phi_{(n)}, \\Psi_{(m)}\\rangle  = \\lambda_{(n)} \\langle \\Phi_{(n)}, \\Psi_{(m)}\\rangle  $$\n",
    "\n",
    "$$ RHS = \\langle \\Phi_{(n)}, \\lambda^*_{(m)} \\Psi_{(m)}\\rangle  = \\overline{\\lambda^*_{(m)}} \\langle \\Phi_{(n)}, \\Psi_{(m)}\\rangle  $$\n",
    "\n",
    "Where $\\overline{z}$ indicates the complex conjugate of $z$. Now, for the case $n = m$, we can write:\n",
    "\n",
    "$$ n = m \\Rightarrow \\langle \\Phi_{(n)}, \\Psi_{(m)}\\rangle  = \\langle \\Phi_{(n)}, \\Psi_{(n)}\\rangle  = 1 \\Rightarrow \\\\\n",
    "\\lambda_{(n)} \\langle \\Phi_{(n)}, \\Psi_{(n)}\\rangle  = \\overline{\\lambda^*_{(n)}} \\langle \\Phi_{(n)}, \\Psi_{(n)}\\rangle  \\Rightarrow \\lambda_{(n)} = \\overline{\\lambda^*_{(n)}}$$\n",
    "\n",
    "This means each eigenfunction $\\Phi_{(n)}$ with an eigenvalue equal to $\\lambda_{(n)}$ is orthogonal to an adjoint eigenfunction $\\Psi_{(n)}$ with an eigenvalue $\\lambda^*_{(n)}$ that is the complex conjugate of $\\lambda_{(n)}$."
   ]
  },
  {
   "cell_type": "markdown",
   "metadata": {},
   "source": [
    "### Scaling Adjoint Eigenfunctions"
   ]
  },
  {
   "cell_type": "markdown",
   "metadata": {},
   "source": [
    "According to the above theorem, the given set of adjoint eigenvectors $\\{ \\Psi_i \\}$ may be scaled given the set of eigenvectors $\\{ \\Phi_i \\}$ for the original operator. Same as above, we may start by defining un-normalized adjoing eigenfunctions:\n",
    "\n",
    "$$\n",
    "\\widetilde{\\Psi}_i(\\zeta) \\equiv \\frac{\\Psi_i(\\zeta)}{b^*_i} = \\begin{bmatrix}\n",
    "\\widetilde{\\psi}_1^{(i)}(\\zeta)\\\\ \\, \\\\ \\widetilde{\\psi}_2^{(i)}(\\zeta)\\\\\n",
    "\\end{bmatrix} = \\begin{bmatrix}\n",
    "\\left[ - \\frac{r_{i,2}^*}{r_{i,1}^*}e^{r_{i,1}^* \\zeta} + e^{r_{i,2}^* \\zeta} \\right]\\\\\n",
    "\\, \\\\\n",
    "\\left( 1- \\frac{r_{i,2}^*}{r_{i,1}^*} \\right) e^{- \\tau \\lambda \\zeta} \\\\\n",
    "\\end{bmatrix}\n",
    "$$\n",
    "\n",
    "Then we can go ahead and use the bi-orthonormality as follows:\n",
    "\n",
    "$$\n",
    "\\begin{align*}\n",
    "&\\langle \\Phi_i(\\zeta), \\Psi_i(\\zeta)\\rangle  = \\langle \\Phi_i(\\zeta),b^*_i\\widetilde{\\Psi}_i(\\zeta)\\rangle  = 1 \\Rightarrow \\\\\n",
    "\\, \\\\\n",
    "& \\int_0^1 \\Phi_i(\\zeta) \\cdot \\overline{b^*_i \\widetilde{\\Psi}_i(\\zeta)} d\\zeta = 1 \\Rightarrow b^*_i = \\overline{\\frac{1}{\\int_0^1 \\Phi_i(\\zeta) \\cdot \\overline{\\widetilde{\\Psi}_i(\\zeta)} d\\zeta}}\n",
    "\\end{align*}\n",
    "$$"
   ]
  },
  {
   "cell_type": "markdown",
   "metadata": {},
   "source": [
    "The coefficients `b` and `b*` are obtained in the following code block:"
   ]
  },
  {
   "cell_type": "code",
   "execution_count": null,
   "metadata": {},
   "outputs": [],
   "source": [
    "from scipy.integrate import quad\n",
    "\n",
    "normal_coefs = []\n",
    "for n in range(n_lambdas):\n",
    "    l = lambdas[n]\n",
    "    \n",
    "    i_phi = quad(eig_fun_mul_0,0,1,args=(default_pars, l),complex_func=True)[0]\n",
    "    b_phi = np.sqrt(1/i_phi)\n",
    "    \n",
    "    i_psi = quad(eig_fun_mul_1,0,1,args=(default_pars, l, [b_phi, 1]),complex_func=True)[0]\n",
    "    b_psi = (1/i_psi)\n",
    "    \n",
    "    b = (b_phi, b_psi.conjugate())\n",
    "    normal_coefs.append(b)\n",
    "    \n",
    "    print(f'normal_coef_phi_{n+1} = {complex(round(normal_coefs[n][0].real,4),round(normal_coefs[n][0].imag,4))}')\n",
    "    print(f'normal_coef_psi_{n+1} = {complex(round(normal_coefs[n][1].real,4),round(normal_coefs[n][1].imag,4))}')\n",
    "    print()"
   ]
  },
  {
   "cell_type": "markdown",
   "metadata": {},
   "source": [
    "In the following code block, the norm of each $\\Phi_i$ is calculated and checked whether it is equal to 1:"
   ]
  },
  {
   "cell_type": "code",
   "execution_count": null,
   "metadata": {},
   "outputs": [],
   "source": [
    "for n in range(n_lambdas):\n",
    "    l = lambdas[n]\n",
    "    b = normal_coefs[n]\n",
    "\n",
    "    print(np.round(quad(eig_fun_mul_0,0,1,args=(default_pars, l, b),complex_func=True)[0],4))"
   ]
  },
  {
   "cell_type": "markdown",
   "metadata": {},
   "source": [
    "In the following code block, the inner product $\\langle \\Phi_i, \\Psi_j \\rangle$ is calculated and checked whether it is equal to $\\delta_{ij}$:"
   ]
  },
  {
   "cell_type": "code",
   "execution_count": null,
   "metadata": {},
   "outputs": [],
   "source": [
    "biorth_matrix = np.zeros((n_lambdas, n_lambdas))\n",
    "print(biorth_matrix.shape)\n",
    "for n in range(n_lambdas):\n",
    "    for m in range(n_lambdas):\n",
    "        l = [lambdas[n], lambdas[m]]\n",
    "        b = (normal_coefs[m][0], normal_coefs[n][1])\n",
    "        y = quad(eig_fun_mul_1,0,1,args=(default_pars, l, b),complex_func=True)[0]\n",
    "        if y.imag < 1e-4:\n",
    "            y = y.real\n",
    "        biorth_matrix[n,m] = np.round(y,5)\n",
    "\n",
    "print(biorth_matrix[:8,:8])"
   ]
  },
  {
   "cell_type": "markdown",
   "metadata": {},
   "source": [
    "### Selecting dominant modes (Does not work!)\n",
    "\n",
    "Now that we have found and scaled all eigenfunctions, we can try to use the second part of *bi-orthogonal theorem* to find the dominant modes of the system by trying to reconstruct any function that belongs to our function space, using a finite sum, with sufficient accuracy. An arbitrary function $z(\\zeta)$ that belongs to the corresponding function space may be defined as follows:\n",
    "\n",
    "$$\n",
    "z(\\zeta) = \\begin{bmatrix} \n",
    "    6 \\\\\n",
    "    10 - 4 \\zeta\n",
    "\\end{bmatrix}\n",
    "$$\n",
    "\n",
    "Therefore, we may write:\n",
    "\n",
    "$$\n",
    "\\begin{align*}\n",
    "    &\\begin{bmatrix} \n",
    "        6 \\\\\n",
    "        10 - 4 \\zeta\n",
    "    \\end{bmatrix} = z(\\zeta) = \\sum_{n=1}^{\\infty} \\langle z(\\zeta), \\Phi^*_n \\rangle \\Phi_n\n",
    "    \\\\\n",
    "    = &\\sum_{n=1}^{\\infty} \\langle\\begin{bmatrix}\n",
    "    6 \\\\ 10 - 4 \\zeta\n",
    "    \\end{bmatrix} , \\begin{bmatrix}\n",
    "    \\phi^*_n(\\zeta) \\\\ \\psi^*_n(\\zeta)\n",
    "    \\end{bmatrix} \\rangle \\begin{bmatrix}\n",
    "    \\phi_n(\\zeta) \\\\ \\psi_n(\\zeta)\n",
    "    \\end{bmatrix}\n",
    "    \\\\\n",
    "    = &\\sum_{n=1}^{\\infty} \n",
    "    \\Biggl(\\int_0^1 \n",
    "    \\Bigl(6 \\phi^*_n(\\zeta) + (10 - 4 \\zeta) \\psi^*_n(\\zeta)\\Bigr) d\\zeta \\begin{bmatrix}\n",
    "    \\phi_n(\\zeta) \\\\ \\psi_n(\\zeta)\n",
    "    \\end{bmatrix}\n",
    "    \\Biggr)\n",
    "    \\\\\n",
    "    \\Rightarrow & \\begin{cases}\n",
    "        6 &= \\sum_1^{\\infty} \\int_0^1 \\Bigl(6 \\phi^*_n(\\zeta) + (10 - 4 \\zeta) \\psi^*_n(\\zeta)\\Bigr) d\\zeta \\phi_n(\\zeta) \\\\\n",
    "        10 - 4\\zeta &= \\sum_1^{\\infty} \\int_0^1 \\Bigl(6 \\phi^*_n(\\zeta) + (10 - 4 \\zeta) \\psi^*_n(\\zeta)\\Bigr) d\\zeta \\psi_n(\\zeta) \\\\\n",
    "    \\end{cases}\n",
    "\\end{align*}\n",
    "$$"
   ]
  },
  {
   "cell_type": "markdown",
   "metadata": {},
   "source": [
    "The goal in this section is to find a reasonably small $N$, such that the following approximation results in an accurate enough value for the function:\n",
    "$$z(\\zeta) \\approx \\sum_{n=1}^{N} \\langle z(\\zeta), \\Phi^*_n \\rangle \\Phi_n$$\n",
    "\n",
    "This is done as follows:"
   ]
  },
  {
   "cell_type": "markdown",
   "metadata": {},
   "source": [
    "## Finite Difference\n",
    "\n",
    "To check if the above gain stabilizes the system, the system can be modeled using FDM given full-state feedback. The code is as follows:"
   ]
  },
  {
   "cell_type": "markdown",
   "metadata": {},
   "source": [
    "Zero input, unstable open-loop system:"
   ]
  },
  {
   "cell_type": "code",
   "execution_count": null,
   "metadata": {},
   "outputs": [],
   "source": [
    "from scipy.sparse import csr_matrix\n",
    "from scipy.integrate import solve_ivp\n",
    "import plotly.graph_objs as go\n",
    "\n",
    "N_zeta = 101\n",
    "zeta = np.linspace(0,1,N_zeta)\n",
    "dz = zeta[1]\n",
    "\n",
    "# Define the time points for the solution\n",
    "t_end = 5\n",
    "N_t = 100\n",
    "t_eval = np.linspace(0, t_end, num=N_t)  # Time points at which to evaluate\n",
    "\n",
    "par = default_pars.copy()\n",
    "(k, v, D, tau, R) = (par['k'], par['v'], par['D'], par['tau'], par['R'])\n",
    "# k = -1\n",
    "\n",
    "# Lists to hold data for middle rows\n",
    "rows_data = [\n",
    "    k - (2*D)/(dz**2) - (v)/(dz) - (v**2)/(2*D),\n",
    "    (2*D)/(dz**2),\n",
    "    R * ((v)/(dz) + (v**2)/(2*D))]\n",
    "rows_row_indices = [0,0,0]\n",
    "rows_col_indices = [0,1,N_zeta]\n",
    "\n",
    "# Fill the middle rows (from index 1 to N_zeta-2)\n",
    "for i in range(1, N_zeta-1):\n",
    "    # Fill the element before the diagonal (3), if it exists\n",
    "    rows_data.extend([\n",
    "        (D)/(dz**2) + (v)/(2*dz),\n",
    "        k - (2*D)/(dz**2),\n",
    "        (D)/(dz**2) - (v)/(2*dz)\n",
    "    ])\n",
    "    rows_row_indices.extend([i, i, i])\n",
    "    rows_col_indices.extend([i-1, i, i+1])\n",
    "\n",
    "# Define the last row\n",
    "rows_data.extend([\n",
    "    (2*D)/(dz**2),\n",
    "    k - (2*D)/(dz**2)\n",
    "])\n",
    "rows_row_indices.extend([N_zeta-1, N_zeta-1])\n",
    "rows_col_indices.extend([N_zeta-2, N_zeta-1])\n",
    "\n",
    "for i in range(N_zeta, 2*N_zeta-2):\n",
    "    rows_data.extend([\n",
    "        -1/(tau*dz),\n",
    "        1/(tau*dz)\n",
    "        ])\n",
    "    rows_row_indices.extend([i,i])\n",
    "    rows_col_indices.extend([i,i+1])\n",
    "\n",
    "# Define the last row\n",
    "rows_data.extend([\n",
    "        1/(tau*dz),\n",
    "        -1/(tau*dz)\n",
    "        ])\n",
    "rows_row_indices.extend([2*N_zeta-2, 2*N_zeta-2])\n",
    "rows_col_indices.extend([N_zeta-1, 2*N_zeta-2])\n",
    "\n",
    "# Define the last row\n",
    "rows_data.extend([\n",
    "    (2*D)/(dz**2),\n",
    "    k - (2*D)/(dz**2)\n",
    "])\n",
    "rows_row_indices.extend([2*N_zeta-1, 2*N_zeta-1])\n",
    "rows_col_indices.extend([N_zeta-2, N_zeta-1])\n",
    "\n",
    "# Construct the middle rows as a sparse matrix\n",
    "A_ode = csr_matrix((rows_data, (rows_row_indices, rows_col_indices)), shape=(2*N_zeta, 2*N_zeta))"
   ]
  },
  {
   "cell_type": "code",
   "execution_count": null,
   "metadata": {},
   "outputs": [],
   "source": [
    "# Define the function representing the system of ODEs\n",
    "def system_zero_u(t, x, A, par):\n",
    "    \n",
    "    (k, v, D, tau, R) = (par['k'], par['v'], par['D'], par['tau'], par['R'])\n",
    "    n = int((len(x)+1)/2)\n",
    "    dz = 1/(n-1)\n",
    "    \n",
    "    phi = x[:n]\n",
    "    psi = x[n:]\n",
    "        \n",
    "    return A.dot(x)\n",
    "\n",
    "\n",
    "# Define the initial condition\n",
    "phi_0 = init_cond_func_1(zeta)\n",
    "psi_0 = init_cond_func_2(zeta, par)\n",
    "\n",
    "x0 = [*phi_0, *psi_0]\n",
    "\n",
    "\n",
    "\n",
    "# Solve the system using solve_ivp\n",
    "solution = solve_ivp(system_zero_u, (0, t_end), x0, args=(A_ode, par), t_eval=t_eval, method='RK45')\n",
    "\n",
    "# Access the solution\n",
    "times = solution.t\n",
    "x_values = solution.y\n",
    "\n",
    "\n",
    "# Create phi_sol with the first 100 rows and all columns of x_values\n",
    "phi_sol = x_values[:N_zeta, :]\n",
    "\n",
    "# Create psi_sol with the last 99 rows and all columns of x_values\n",
    "psi_sol = x_values[N_zeta:, :]\n",
    "\n",
    "z_grid, t_grid = np.meshgrid(t_eval, zeta)\n",
    "\n",
    "# Create data traces for phi_sol\n",
    "phi_trace = go.Surface(x=z_grid, y=t_grid, z=phi_sol, colorscale='Viridis', name='phi')\n",
    "\n",
    "# Create a layout for phi_sol plot\n",
    "phi_layout = go.Layout(\n",
    "    scene=dict(\n",
    "        xaxis=dict(title='t'),\n",
    "        yaxis=dict(title='zeta'),\n",
    "        zaxis=dict(title='phi')\n",
    "    ),\n",
    "    title='Phi Plot',\n",
    "    width=600,\n",
    "    height=500,\n",
    ")\n",
    "\n",
    "# Create a figure for phi_sol plot\n",
    "phi_fig = go.Figure(data=[phi_trace], layout=phi_layout)\n",
    "\n",
    "# Plot phi_sol figure\n",
    "phi_fig.show()\n",
    "\n",
    "\n",
    "# Create data traces for psi_sol\n",
    "psi_trace = go.Surface(x=z_grid, y=t_grid, z=psi_sol, colorscale='Viridis', name='psi')\n",
    "\n",
    "# Create a layout for psi_sol plot\n",
    "psi_layout = go.Layout(\n",
    "    scene=dict(\n",
    "        xaxis=dict(title='t'),\n",
    "        yaxis=dict(title='zeta'),\n",
    "        zaxis=dict(title='psi')\n",
    "    ),\n",
    "    title='Psi Plot',\n",
    "    width=600,\n",
    "    height=500,\n",
    ")\n",
    "\n",
    "# Create a figure for psi_sol plot\n",
    "psi_fig = go.Figure(data=[psi_trace], layout=psi_layout)\n",
    "\n",
    "# Plot psi_sol figure\n",
    "psi_fig.show()"
   ]
  },
  {
   "cell_type": "markdown",
   "metadata": {},
   "source": [
    "## LQR Controller Design"
   ]
  },
  {
   "cell_type": "markdown",
   "metadata": {},
   "source": [
    "### Ricatti Equation"
   ]
  },
  {
   "cell_type": "markdown",
   "metadata": {},
   "source": [
    "Following is the Algebraic Ricatti Equation for finite dimensional systems:\n",
    "\n",
    "$\n",
    "A^TP + PA - PBR^{-1}B^TP + Q = 0\n",
    "$\n",
    "\n",
    "This can be extended for infinite dimensional setup by applying the projection $\\langle (.)x, y\\rangle$, resulting in the following:\n",
    "\n",
    "$\n",
    "\\langle A^*Px, y\\rangle + \\langle PAx, y\\rangle -  \\langle PB R^{-1} B^*Px, y\\rangle + \\langle Qx, y\\rangle = 0 \\Rightarrow\n",
    "$\n",
    "\n",
    "$\n",
    "\\langle Px, Ay\\rangle + \\langle Ax, Py\\rangle -  R^{-1} \\langle B^*Px, B^*Py\\rangle + \\langle Qx, y\\rangle = 0\n",
    "$\n",
    "\n",
    "The goal is to solve the above equation to obtain `P` operator, which will give the optimal gain that stabilizes the system. We can define the $P$ operator as follows:\n",
    "\n",
    "$\n",
    "\\hat{P}x = \\sum_{i=1}^{\\infty}\\sum_{j=1}^{\\infty} p_{i,j} \\langle x, \\Psi_j \\rangle \\Psi_i\n",
    "$\n",
    "\n",
    "This definition assures that $P\\Phi_m$ falls within the domain of operator $A^*$, and operator $A$ can operate on $P\\Phi_m$."
   ]
  },
  {
   "cell_type": "markdown",
   "metadata": {},
   "source": [
    "However, we first need to obtain $\\hat{B}^*$. This is done as follows:\n",
    "\n",
    "$\n",
    "\\langle A\\Phi + Bu, \\Psi \\rangle = \\langle A \\Phi , \\Psi\\rangle + \\langle Bu , \\Psi\\rangle = \\langle \\Phi, A^*\\Psi \\rangle + \\langle u, B^*\\Psi \\rangle \\Rightarrow\n",
    "$\n",
    "\n",
    "$\n",
    "\\langle u, B^*\\Psi \\rangle = \\langle A\\Phi + Bu, \\Psi \\rangle - \\langle \\Phi, A^*\\Psi \\rangle\n",
    "$"
   ]
  },
  {
   "cell_type": "markdown",
   "metadata": {},
   "source": [
    "#### Obtaining B*\n",
    "\n",
    "This is very similar to the approach we took to calculate the adjoint operator $\\hat{A}^*$, with the difference being that this time $u \\neq 0 $. Therefore we can open the inner product terms into integration and perform integration by parts, with the following definitions for $\\hat{A}$ and $\\hat{A}^*$:\n",
    "\n",
    "$$\n",
    "\\begin{align*}\n",
    "    u \\neq 0 \\Rightarrow&\\begin{cases}\n",
    "        &\\hat{A} (.) =\n",
    "        &\\begin{bmatrix}\n",
    "            D\\partial_{\\zeta\\zeta} (.) -v\\partial_{\\zeta} (.) +k(.) & 0 \\\\\n",
    "            0 & \\dfrac{1}{\\tau}\\partial_{\\zeta} (.)\n",
    "        \\end{bmatrix} \\\\\n",
    "        \\, \\\\\n",
    "        &B.C. \\quad : \\quad &\\begin{cases}\n",
    "            D\\partial_\\zeta \\phi_1(0)-v\\phi_1(0)=-v\\left[ R\\phi_2(0) + (1-R) u\\right] \\\\\n",
    "            \\partial_\\zeta \\phi_1(1)=0 \\\\\n",
    "            \\phi_2(1)=\\phi_1(1)\n",
    "        \\end{cases}\n",
    "    \\end{cases}\\\\\n",
    "    \\, \\\\\n",
    "    &\\begin{cases}\n",
    "        &{\\hat{A}}^{*} (.) =\n",
    "        &\\begin{bmatrix}\n",
    "            D\\partial_{\\zeta\\zeta} (.) +v\\partial_{\\zeta} (.) +k(.) & 0\\\\\n",
    "            0 & -\\dfrac{1}{\\tau}\\partial_{\\zeta} (.)\n",
    "        \\end{bmatrix} \\\\\n",
    "        \\, \\\\\n",
    "        &B.C. \\quad : \\quad &\\begin{cases}\n",
    "            D\\partial_\\zeta \\psi_{1}(1)+v\\psi_{1}(1)=\\dfrac{1}{\\tau}\\psi_{2}(1) \\\\\n",
    "            Rv\\psi_{1}(0) = \\dfrac{1}{\\tau}\\psi_{2}(0) \\\\\n",
    "            \\partial_\\zeta \\psi_{1}(0)=0\n",
    "        \\end{cases}\n",
    "    \\end{cases}\n",
    "\\end{align*}\n",
    "$$\n",
    "\n",
    "Doing the integration by parts, we get to the followig point:\n",
    "\n",
    "$\n",
    "\\langle u, B^*\\Psi \\rangle = v (1-R) u \\overline{\\psi}_1(0) \\Rightarrow B^*(.) = \\Bigl[ \\quad v(1-R) \\int_0^1 \\delta_{\\zeta=0}(\\zeta) (.)d\\zeta \\qquad , \\qquad 0 \\quad \\Bigr]\n",
    "$\n",
    "\n",
    "where $\\delta(\\zeta)$ is the dirac delta function. Now that we have $B^*$ defined, we may go back and try to solve the Ricatti equation."
   ]
  },
  {
   "cell_type": "markdown",
   "metadata": {},
   "source": [
    "#### Constructing Ricatti Equation for Infinite Dimensional Setup"
   ]
  },
  {
   "cell_type": "markdown",
   "metadata": {},
   "source": [
    "For all $x,y$ in the domain of $\\hat{A}$ in the above equation, the solution $P$ is unique. Therefore, we arbitrarily pick $x = \\Phi_m$ and $y = \\Phi_n$ to obtain the solution. Therefore we can write:\n",
    "\n",
    "$\n",
    "\\langle P\\Phi_m, A\\Phi_n\\rangle + \\langle A\\Phi_m, P\\Phi_n\\rangle -  R^{-1} \\langle B^*P\\Phi_m, B^*P\\Phi_n\\rangle + \\langle Q\\Phi_m, \\Phi_n\\rangle = 0\n",
    "$"
   ]
  },
  {
   "cell_type": "markdown",
   "metadata": {},
   "source": [
    "By applying the definition of $P$ operator and obtaining corresponding eigenvalues where $A$ operates on eigenfunctions, we have:\n",
    "\n",
    "$\n",
    "\\langle \\sum_i p_{im} \\Phi_i , \\lambda_n \\Phi_n \\rangle + \\langle \\lambda_m \\Phi_m , \\sum_i p_{in} \\Phi_i \\rangle - R^{-1} \\langle B^*P\\Phi_m, B^*P\\Phi_n\\rangle + \\langle Q\\Phi_m, \\Phi_n\\rangle = 0\n",
    "$"
   ]
  },
  {
   "cell_type": "markdown",
   "metadata": {},
   "source": [
    "The first two inner products may be further simplified to give:\n",
    "\n",
    "$\n",
    "\\overline{\\lambda_n} p_{nm} + \\lambda_m \\overline{p_{mn}} - R^{-1} \\langle B^*P\\Phi_m, B^*P\\Phi_n\\rangle + \\langle Q\\Phi_m, \\Phi_n\\rangle = 0\n",
    "$"
   ]
  },
  {
   "cell_type": "markdown",
   "metadata": {},
   "source": [
    "Knowing that $P$ is hermitian, we can replace $\\overline{p_{nm}}$ with $p_{mn}$ to get the following:\n",
    "\n",
    "$\n",
    "p_{nm}(\\lambda_m + \\overline{\\lambda_n}) - R^{-1} \\langle B^*P\\Phi_m, B^*P\\Phi_n\\rangle + \\langle Q\\Phi_m, \\Phi_n\\rangle = 0\n",
    "$"
   ]
  },
  {
   "cell_type": "markdown",
   "metadata": {},
   "source": [
    "We may also break down the term $B^*P\\Phi_n$, knowing how $P$ operates on $\\Phi_n$ and how $B^*$ operates on the result:\n",
    "\n",
    "$\n",
    "P\\Phi_n = \\sum_i p_{in} \\Psi_i\n",
    "$\n",
    "\n",
    "$\n",
    "B^*P\\Phi_n = \\Bigl[ \\quad v(1-R) \\int_0^1 \\delta_{\\zeta=0}(\\zeta) (.)d\\zeta \\qquad , \\qquad 0 \\quad \\Bigr] \\sum_i p_{in} \\begin{bmatrix} \\psi_1^{(i)} \\\\ \\psi_2^{(i)} \\end{bmatrix} \\\\ \n",
    "= \\sum_i v(1-R) p_{in} \\psi_1^{(i)}(\\zeta=0)\n",
    "$\n",
    "\n",
    "We can simplify the above expression by defining $\\gamma_i \\equiv v(1-R) \\psi_1^{(i)}(\\zeta=0)$. Therefore we have:\n",
    "\n",
    "$\n",
    "B^*P\\Phi_n = \\sum_i p_{in} \\gamma_i\n",
    "$\n",
    "\n",
    "same goes for $B^*P\\Phi_m$:\n",
    "\n",
    "$\n",
    "B^*P\\Phi_m = \\sum_i p_{im} \\gamma_i\n",
    "$"
   ]
  },
  {
   "cell_type": "markdown",
   "metadata": {},
   "source": [
    "Using the above expressions, we can rewrite the third inner product as follows:\n",
    "\n",
    "$\n",
    "\\langle B^*P\\Phi_m, B^*P\\Phi_n\\rangle = \\langle \\sum_i p_{in} \\gamma_i, \\sum_i p_{im} \\gamma_i \\rangle\n",
    "$\n",
    "\n",
    "Now, we define the infinite dimensional column vector $\\Gamma$ as follows:\n",
    "\n",
    "$\\Gamma \\equiv \\left[ \\quad \\gamma_i \\quad \\right]^T \\qquad \\forall i$"
   ]
  },
  {
   "cell_type": "markdown",
   "metadata": {},
   "source": [
    "Which results in further simplifying the above inner product into the following:\n",
    "\n",
    "$\n",
    "(p[:,n] \\cdot \\Gamma) \\cdot \\overline{(p[:,m] \\cdot \\Gamma)}\n",
    "$"
   ]
  },
  {
   "cell_type": "markdown",
   "metadata": {},
   "source": [
    "The last inner product is also simply a scalar. We can rewrite it as follows:\n",
    "\n",
    "$q_{mn} \\equiv \\langle Q \\Phi_m, \\Phi_n\\rangle$"
   ]
  },
  {
   "cell_type": "markdown",
   "metadata": {},
   "source": [
    "Now we can rewrite the Algebraic Ricatti Equation as follows:\n",
    "\n",
    "$\n",
    "p_{nm}(\\lambda_m + \\overline{\\lambda_n}) - R^{-1} (p[:,n] \\cdot \\Gamma) \\cdot \\overline{(p[:,m] \\cdot \\Gamma)} + q_{mn} = 0\n",
    "$"
   ]
  },
  {
   "cell_type": "markdown",
   "metadata": {},
   "source": [
    "#### Solving Ricatti Equation"
   ]
  },
  {
   "cell_type": "markdown",
   "metadata": {},
   "source": [
    "By reducing the infinite sums in the Ricatti equation to finite sums over N modes, we can have a system of nonlinear (quadratic, due to the term involving $\\Gamma$) algebraic equations. The unknowns are $p_{ij}$ coefficients. Knowing that P will become a square $N \\times N$ hermitian matrix, where $p_{ij} = \\overline{p_{ji}}$, we will have $\\frac{N(N+1)}{2}$ sets of unknowns. Same number of equation can be obtained by plugging a pair of eigenfunctions $\\Phi_i, \\Phi_j$ into the above equation, where $i = 1, ..., N$ and $j = 1, ..., i$. "
   ]
  },
  {
   "cell_type": "markdown",
   "metadata": {},
   "source": [
    "Once the finite dimensional $P$ matrix is obtained, one can calculate the optimal stabilizing feedback gain $K(\\zeta)$ as follows:\n",
    "\n",
    "$\n",
    "u = \\langle K(\\zeta) , x(\\zeta) \\rangle = B^*Px = \\Bigl[ v(1-R) \\int_0^1 \\delta_{\\zeta=0}(\\zeta) (.)d\\zeta , 0 \\Bigr] \\cdot \\sum_{i=1}^{N}\\sum_{j=1}^{N} p_{i,j} \\langle x, \\Psi_j \\rangle \\Psi_i = \\sum_{i}\\sum_{j} p_{i,j} \\langle x, \\Psi_j \\rangle \\gamma_i \\\\ \\, \\\\\n",
    "= \\sum_{i}\\sum_{j} p_{i,j} \\gamma_i \\int_0^1 x(\\zeta) \\cdot \\overline{\\Psi_j}(\\zeta) d\\zeta \\\\ \\, \\\\\n",
    "= \\int_0^1 \\sum_{i}\\sum_{j} p_{i,j} \\gamma_i \\overline{\\Psi_j}(\\zeta) \\cdot x(\\zeta) d\\zeta \\\\ \\, \\\\\n",
    "\\Rightarrow K(\\zeta) = \\sum_{i}\\sum_{j} p_{i,j} \\gamma_i \\overline{\\Psi_j}(\\zeta)\n",
    "$\n",
    "\n",
    "This is done in the following code blocks:"
   ]
  },
  {
   "cell_type": "code",
   "execution_count": null,
   "metadata": {},
   "outputs": [],
   "source": [
    "n_modes = 1\n",
    "\n",
    "error = 1\n",
    "counter = 0\n",
    "\n",
    "\n",
    "while error > 1e-15:\n",
    "    p_0_shape = np.array([*triu_to_flat(np.zeros((n_modes,n_modes)))] * 2).shape # Proper shape for initial guess\n",
    "    p_0 = (np.random.rand(*p_0_shape) - 0.5) * 0.1 # Initial guess\n",
    "    p_sol_flat = fsolve(ricatti, p_0, (default_pars, lambdas[:n_modes], normal_coefs[:n_modes]), xtol = 1e-14)\n",
    "    K = k_ricatti(zeta, p_sol_flat, default_pars, lambdas[:n_modes], normal_coefs[:n_modes])\n",
    "    has_imag_values = np.any(np.abs(K.imag) > 1e-5)\n",
    "    if not has_imag_values:\n",
    "        error_array = np.array(ricatti(p_sol_flat, default_pars, lambdas[:n_modes], normal_coefs[:n_modes]))\n",
    "        error = np.sqrt(sum(error_array ** 2)) / (0.5 * len(p_0))\n",
    "    else:\n",
    "        error = 1\n",
    "    counter += 1\n",
    "    if counter == 50:\n",
    "        p_sol_flat = np.zeros_like(p_sol_flat)\n",
    "        error = 1\n",
    "        print('Does not converge')\n",
    "        break\n",
    "    print('counter = ', counter)\n",
    "    print('error = ', error)\n",
    "    print('k has imaginary values? ', has_imag_values)\n",
    "\n",
    "if error < 1:\n",
    "    K = K.real.astype(float)\n",
    "    print(\"k = \")\n",
    "    display(pd.DataFrame(K))\n",
    "    plt.plot(K[0], K[1], label='k_1(zeta)')\n",
    "    plt.plot(K[0], K[2], label='k_2(zeta)')\n",
    "    plt.legend()\n",
    "    plt.show()"
   ]
  },
  {
   "cell_type": "code",
   "execution_count": null,
   "metadata": {},
   "outputs": [],
   "source": [
    "zeta_low = np.linspace(0,1,5)\n",
    "K_low = np.array([np.zeros_like(zeta_low)]*3, dtype=float)\n",
    "K_low[0] = zeta_low\n",
    "K_low[1] = -1 * np.array([1.1077, 2.4852, 1.5559, 1.0428, 0.3841])\n",
    "K_low[2] = -1 * np.array([0.6026, 0.4273, 0.3135, 0.2556, 0.1315])\n",
    "\n",
    "print(\"k_low = \")\n",
    "display(pd.DataFrame(K_low))\n",
    "plt.plot(K_low[0], K_low[1], label='k_1(zeta)')\n",
    "plt.plot(K_low[0], K_low[2], label='k_2(zeta)')\n",
    "plt.legend()\n",
    "plt.show()"
   ]
  },
  {
   "cell_type": "code",
   "execution_count": null,
   "metadata": {},
   "outputs": [],
   "source": [
    "slicer = int(len(p_sol_flat)/2)\n",
    "p_flat_real = p_sol_flat[:slicer]\n",
    "p_flat_imag = p_sol_flat[slicer:]\n",
    "p_flat_complex = p_flat_real + p_flat_imag * 1j\n",
    "\n",
    "p = triu_to_hermitian(flat_to_triu(p_flat_complex))\n",
    "    "
   ]
  },
  {
   "cell_type": "code",
   "execution_count": null,
   "metadata": {},
   "outputs": [],
   "source": [
    "# Define the function representing the system of ODEs\n",
    "def system(t, x, A, B, par):\n",
    "    \n",
    "    (k, v, D, tau, R) = (par['k'], par['v'], par['D'], par['tau'], par['R'])\n",
    "    n = int((len(x))/2)\n",
    "    dz = 1/(n-1)\n",
    "    \n",
    "    phi = x[:n]\n",
    "    psi = x[n:]\n",
    "    \n",
    "    dim_ratio = int((0.5 * len(x)-1) / (len(K_low[1])-1))\n",
    "    phi_low = phi[::dim_ratio]\n",
    "    psi_low = psi[::dim_ratio]\n",
    "    u = (np.trapz(K_low[1] * phi_low + K_low[2] * psi_low))\n",
    "    \n",
    "    # u = (np.trapz(K[1] * phi + K[2] * psi))\n",
    "    \n",
    "    return A.dot(x) + B * u\n",
    "\n",
    "# Define the initial condition\n",
    "phi_0 = init_cond_func_1(zeta)\n",
    "psi_0 = init_cond_func_2(zeta, par)\n",
    "\n",
    "x0 = [*phi_0, *psi_0]\n",
    "\n",
    "B = np.zeros_like(x0)\n",
    "B[0] = ((v)/(dz) + (v**2)/(2*D)) * (1-R)\n",
    "\n",
    "# Solve the system using solve_ivp\n",
    "solution = solve_ivp(system, (0, t_end), x0, args=(A_ode, B, par), t_eval=t_eval, method='RK45')\n",
    "\n",
    "# Access the solution\n",
    "times = solution.t\n",
    "x_values = solution.y\n",
    "\n",
    "\n",
    "# Create phi_sol with the first 100 rows and all columns of x_values\n",
    "phi_sol = x_values[:N_zeta, :]\n",
    "\n",
    "# Create psi_sol with the last 99 rows and all columns of x_values\n",
    "psi_sol = x_values[N_zeta:, :]\n",
    "\n",
    "z_grid, t_grid = np.meshgrid(t_eval, zeta)\n",
    "\n",
    "# Create data traces for phi_sol\n",
    "phi_trace = go.Surface(x=z_grid, y=t_grid, z=phi_sol, colorscale='Viridis', name='phi')\n",
    "\n",
    "# Create a layout for phi_sol plot\n",
    "phi_layout = go.Layout(\n",
    "    scene=dict(\n",
    "        xaxis=dict(title='t'),\n",
    "        yaxis=dict(title='zeta'),\n",
    "        zaxis=dict(title='phi')\n",
    "    ),\n",
    "    title='Phi Plot',\n",
    "    width=600,\n",
    "    height=500,\n",
    ")\n",
    "\n",
    "# Create a figure for phi_sol plot\n",
    "phi_fig = go.Figure(data=[phi_trace], layout=phi_layout)\n",
    "\n",
    "# Plot phi_sol figure\n",
    "phi_fig.show()\n",
    "\n",
    "\n",
    "# Create data traces for psi_sol\n",
    "psi_trace = go.Surface(x=z_grid, y=t_grid, z=psi_sol, colorscale='Viridis', name='psi')\n",
    "\n",
    "# Create a layout for psi_sol plot\n",
    "psi_layout = go.Layout(\n",
    "    scene=dict(\n",
    "        xaxis=dict(title='t'),\n",
    "        yaxis=dict(title='zeta'),\n",
    "        zaxis=dict(title='psi')\n",
    "    ),\n",
    "    title='Psi Plot',\n",
    "    width=600,\n",
    "    height=500,\n",
    ")\n",
    "\n",
    "# Create a figure for psi_sol plot\n",
    "psi_fig = go.Figure(data=[psi_trace], layout=psi_layout)\n",
    "\n",
    "# Plot psi_sol figure\n",
    "psi_fig.show()\n",
    "\n"
   ]
  },
  {
   "cell_type": "code",
   "execution_count": null,
   "metadata": {},
   "outputs": [],
   "source": [
    "t_plots = np.linspace(0, t_end, 6)\n",
    "\n",
    "# Create a figure with 2x2 subplots\n",
    "fig, axes = plt.subplots(3, 2, figsize=(10, 8))\n",
    "\n",
    "# Flatten the axes array for easier iteration\n",
    "axes = axes.flatten()\n",
    "\n",
    "# Iterate over each t_plot and corresponding subplot\n",
    "for i, t_plot in enumerate(t_plots):\n",
    "    # Find the index corresponding to the closest time point\n",
    "    t_index = np.abs(t_eval - t_plot).argmin()\n",
    "    \n",
    "    # Plot phi and psi in the current subplot\n",
    "    axes[i].plot(zeta, phi_sol[:, t_index], label='phi')\n",
    "    axes[i].plot(zeta, psi_sol[:, t_index], label='psi')\n",
    "    axes[i].set_title(f\"time (s) = {np.round(t_plot,2)}\")\n",
    "    axes[i].legend()\n",
    "\n",
    "# Adjust layout to prevent overlapping\n",
    "plt.tight_layout()\n",
    "plt.show()"
   ]
  },
  {
   "cell_type": "code",
   "execution_count": null,
   "metadata": {},
   "outputs": [],
   "source": [
    "z_plots = np.linspace(0, 1, 6)\n",
    "\n",
    "# Create a figure with 2x2 subplots\n",
    "fig, axes = plt.subplots(3, 2, figsize=(10, 8))\n",
    "\n",
    "# Flatten the axes array for easier iteration\n",
    "axes = axes.flatten()\n",
    "\n",
    "# Iterate over each t_plot and corresponding subplot\n",
    "for i, z_plot in enumerate(z_plots):\n",
    "    # Find the index corresponding to the closest time point\n",
    "    z_index = np.abs(zeta - z_plot).argmin()\n",
    "    \n",
    "    # Plot phi and psi in the current subplot\n",
    "    axes[i].plot(t_eval, phi_sol[z_index,:], label='phi')\n",
    "    axes[i].plot(t_eval, psi_sol[z_index,:], label='psi')\n",
    "    axes[i].set_title(f\"zeta = {np.round(z_plot,2)}\")\n",
    "    axes[i].legend()\n",
    "\n",
    "# Adjust layout to prevent overlapping\n",
    "plt.tight_layout()\n",
    "plt.show()"
   ]
  },
  {
   "cell_type": "code",
   "execution_count": null,
   "metadata": {},
   "outputs": [],
   "source": [
    "u = np.zeros_like(t_eval)\n",
    "for i in range(len(u)):\n",
    "    u[i] = np.trapz(K[1] * phi_sol[:,i-1] + K[2] * psi_sol[:,i-1])\n",
    "    \n",
    "plt.plot(t_eval[1:], u[1:])\n",
    "plt.show()"
   ]
  },
  {
   "cell_type": "code",
   "execution_count": null,
   "metadata": {},
   "outputs": [],
   "source": [
    "import numpy as np\n",
    "import scipy.sparse as sp\n",
    "import scipy.sparse.linalg as sla\n",
    "import matplotlib.pyplot as plt\n",
    "\n",
    "# Assuming A_ode is your sparse matrix\n",
    "\n",
    "# Compute eigenvalues\n",
    "eigenvalues = sla.eigs(A_ode, k=N_zeta)[0]  # You can adjust k as needed\n",
    "\n",
    "# Separate real and imaginary parts\n",
    "eigenvalues_real = np.real(eigenvalues)\n",
    "eigenvalues_imag = np.imag(eigenvalues)\n",
    "\n",
    "# Plotting\n",
    "plt.figure(figsize=(8, 6))\n",
    "plt.scatter(eigenvalues_real, eigenvalues_imag, color='b', marker='o', label='Eigenvalues')\n",
    "plt.xlabel('Real')\n",
    "plt.ylabel('Imaginary')\n",
    "plt.title('Eigenvalue Distribution')\n",
    "plt.grid(True)\n",
    "plt.legend()\n",
    "plt.show()"
   ]
  },
  {
   "cell_type": "code",
   "execution_count": null,
   "metadata": {},
   "outputs": [],
   "source": [
    "# Define the time points for the solution\n",
    "t_end = 1\n",
    "N_t = 100\n",
    "t_eval = np.linspace(0, t_end, num=N_t)  # Time points at which to evaluate\n",
    "\n",
    "par = default_pars.copy()\n",
    "(k, v, D, tau, R) = (par['k'], par['v'], par['D'], par['tau'], par['R'])\n",
    "\n",
    "# Define the function representing the system of ODEs\n",
    "def system(t, x, A, B, par):\n",
    "    \n",
    "    (k, v, D, tau, R) = (par['k'], par['v'], par['D'], par['tau'], par['R'])\n",
    "    n = int((len(x)+1)/2)\n",
    "    dz = 1/(n-1)\n",
    "    \n",
    "    phi = x[:n]\n",
    "    psi_incomplete = x[n:]\n",
    "    psi = np.append(psi_incomplete, phi[-1].copy())\n",
    "    \n",
    "    u = np.trapz(K[1] * phi + K[2] * psi)\n",
    "    \n",
    "    return A.dot(x) + B * u\n",
    "\n",
    "\n",
    "# Define the initial condition\n",
    "phi_0 = init_cond_func_1(zeta)\n",
    "psi_0 = init_cond_func_2(zeta, par)\n",
    "\n",
    "x0 = [*phi_0, *psi_0[:-1]]\n",
    "\n",
    "B = np.zeros_like(x0)\n",
    "B[0] = ((v)/(dz) + (v**2)/(2*D)) * (1-R)\n",
    "\n",
    "# Solve the system using solve_ivp\n",
    "solution = solve_ivp(system, (0, t_end), x0, args=(A_ode, B, par), t_eval=t_eval, method='RK45')\n",
    "\n",
    "# Access the solution\n",
    "times = solution.t\n",
    "x_values = solution.y\n",
    "\n",
    "# Create phi_sol with the first 100 rows and all columns of x_values\n",
    "phi_sol = x_values[:N_zeta, :]\n",
    "\n",
    "# Create psi_sol with the last 99 rows and all columns of x_values\n",
    "psi_sol = x_values[N_zeta:, :]\n",
    "\n",
    "# Append the last row of phi_sol to the end of psi_sol\n",
    "psi_sol = np.vstack((psi_sol.copy(), phi_sol[-1, :].copy()))\n",
    "\n",
    "z_grid, t_grid = np.meshgrid(t_eval, zeta)\n",
    "\n",
    "\n",
    "\n",
    "# Create data traces for phi_sol\n",
    "phi_trace = go.Surface(x=z_grid, y=t_grid, z=phi_sol, colorscale='Viridis', name='phi')\n",
    "\n",
    "# Create a layout for phi_sol plot\n",
    "phi_layout = go.Layout(\n",
    "    scene=dict(\n",
    "        xaxis=dict(title='t'),\n",
    "        yaxis=dict(title='zeta'),\n",
    "        zaxis=dict(title='phi')\n",
    "    ),\n",
    "    title='Phi Plot',\n",
    "    width=600,\n",
    "    height=500,\n",
    ")\n",
    "\n",
    "# Create a figure for phi_sol plot\n",
    "phi_fig = go.Figure(data=[phi_trace], layout=phi_layout)\n",
    "\n",
    "# Plot phi_sol figure\n",
    "phi_fig.show()\n",
    "\n",
    "\n",
    "# Create data traces for psi_sol\n",
    "psi_trace = go.Surface(x=z_grid, y=t_grid, z=psi_sol, colorscale='Viridis', name='psi')\n",
    "\n",
    "# Create a layout for psi_sol plot\n",
    "psi_layout = go.Layout(\n",
    "    scene=dict(\n",
    "        xaxis=dict(title='t'),\n",
    "        yaxis=dict(title='zeta'),\n",
    "        zaxis=dict(title='psi')\n",
    "    ),\n",
    "    title='Psi Plot',\n",
    "    width=600,\n",
    "    height=500,\n",
    ")\n",
    "\n",
    "# Create a figure for psi_sol plot\n",
    "psi_fig = go.Figure(data=[psi_trace], layout=psi_layout)\n",
    "\n",
    "# Plot psi_sol figure\n",
    "psi_fig.show()\n"
   ]
  },
  {
   "cell_type": "markdown",
   "metadata": {},
   "source": [
    "# Continue"
   ]
  },
  {
   "cell_type": "code",
   "execution_count": null,
   "metadata": {},
   "outputs": [],
   "source": [
    "np.round(y,2)"
   ]
  },
  {
   "cell_type": "code",
   "execution_count": null,
   "metadata": {},
   "outputs": [],
   "source": [
    "plt.plot(x,arbit_fun_1(x, default_pars), label='z')\n",
    "plt.legend()\n",
    "plt.show()"
   ]
  },
  {
   "cell_type": "code",
   "execution_count": null,
   "metadata": {},
   "outputs": [],
   "source": [
    "n_lambdas = 13\n",
    "\n",
    "x = np.linspace(0,1,1000)\n",
    "\n",
    "s_1 = [np.zeros_like(x)]\n",
    "s_2 = [np.zeros_like(x)]\n",
    "\n",
    "y = []\n",
    "\n",
    "e = []\n",
    "\n",
    "for n,l in enumerate(lambdas[:n_lambdas]):\n",
    "    y.append(quad(eig_fun_mul_3,0,1,args=(default_pars, l, normal_coefs[n]),complex_func=True)[0])\n",
    "    # print(np.round(y,5))\n",
    "\n",
    "    s_1.append(y[n] * eig_fun_adj_1(x,default_pars, l, normal_coefs[n]))\n",
    "    s_2.append(y[n] * eig_fun_adj_2(x,default_pars, l, normal_coefs[n]))\n",
    "\n",
    "    err_1 = s_1[n] - arbit_fun_1(x, default_pars)\n",
    "    err_2 = s_2[n] - arbit_fun_2(x, default_pars)\n",
    "\n",
    "    err_cum = err_1**2 + err_2**2\n",
    "    err = np.sqrt(sum(err_cum)) / len(x)\n",
    "\n",
    "    if np.mod(n,2) == 1:\n",
    "        e.append(err)\n",
    "        print(f'e_{n} = {e[-1]}')\n",
    "        plt.plot(x, s_1[n], label=n)\n",
    "\n",
    "    # if n > 0 and n < 10:\n",
    "    #     plt.plot(x, s[n], label=n)\n",
    "\n",
    "# plt.plot(range(1, len(e)+1),e)   \n",
    "plt.plot(x,arbit_fun_1(x, default_pars), label='z')\n",
    "plt.legend()\n",
    "plt.show()\n"
   ]
  },
  {
   "cell_type": "code",
   "execution_count": null,
   "metadata": {},
   "outputs": [],
   "source": [
    "n_lambdas = 13\n",
    "\n",
    "x = np.linspace(0,1,1000)\n",
    "\n",
    "s_1 = [np.zeros_like(x)]\n",
    "s_2 = [np.zeros_like(x)]\n",
    "\n",
    "y = []\n",
    "\n",
    "e = []\n",
    "\n",
    "for n,l in enumerate(lambdas[:n_lambdas]):\n",
    "    y.append(quad(eig_fun_mul_2,0,1,args=(default_pars, l, normal_coefs[n]),complex_func=True)[0])\n",
    "    # print(np.round(y,5))\n",
    "\n",
    "    s_1.append(s_1[n] + y[n] * eig_fun_1(x,default_pars, l, normal_coefs[n]))\n",
    "    s_2.append(s_2[n] + y[n] * eig_fun_2(x,default_pars, l, normal_coefs[n]))\n",
    "\n",
    "    err_1 = s_1[n] - arbit_fun_1(x, default_pars)\n",
    "    err_2 = s_2[n] - arbit_fun_2(x, default_pars)\n",
    "\n",
    "    err_cum = err_1**2 + err_2**2\n",
    "    err = np.sqrt(sum(err_cum)) / len(x)\n",
    "\n",
    "    if np.mod(n,2) == 1:\n",
    "        e.append(err)\n",
    "        print(f'e_{n} = {e[-1]}')\n",
    "        plt.plot(x, s_1[n], label=n)\n",
    "\n",
    "    # if n > 0 and n < 10:\n",
    "    #     plt.plot(x, s[n], label=n)\n",
    "\n",
    "# plt.plot(range(1, len(e)+1),e)   \n",
    "plt.plot(x,arbit_fun_1(x, default_pars), label='z')\n",
    "plt.legend()\n",
    "plt.show()\n"
   ]
  },
  {
   "cell_type": "code",
   "execution_count": null,
   "metadata": {},
   "outputs": [],
   "source": [
    "x = np.linspace(0,1,1000)\n",
    "s = [np.zeros_like(x)]\n",
    "e=[]\n",
    "for n,l in enumerate(lambdas):\n",
    "    y = quad(eig_fun_mul_2,0,1,args=(default_pars, l, normal_coefs[n]),complex_func=True)[0]\n",
    "    s.append(s[n] + y * eig_fun_2(x,default_pars, l, normal_coefs[n]))\n",
    "    err = np.sqrt(sum((s[n] - arbit_fun_2(x, default_pars))**2))/1000\n",
    "    e.append(err)\n",
    "    if np.mod(n,2) == 1:\n",
    "        print(f'e_{n} = {e[-1]}')\n",
    "\n",
    "    # if n > 0 and n < 10:\n",
    "    #     plt.plot(x, s[n], label=n)\n",
    "\n",
    "plt.plot(range(1, len(e)+1),e)   \n",
    "# plt.plot(x,arbit_fun_2(x, default_pars), label='z')\n",
    "plt.legend()\n",
    "plt.show()\n"
   ]
  },
  {
   "cell_type": "code",
   "execution_count": null,
   "metadata": {},
   "outputs": [],
   "source": [
    "for i in range(17):\n",
    "    # print(np.round(normal_coefs[i][0],2))\n",
    "    print(np.round(normal_coefs[i][1],2))\n",
    "    # print()\n"
   ]
  },
  {
   "cell_type": "code",
   "execution_count": null,
   "metadata": {},
   "outputs": [],
   "source": [
    "x = np.linspace(0,1,1000)\n",
    "n_lambda_plot = 7\n",
    "\n",
    "# plt.plot(x, np.real(eig_fun_1(x, default_pars, lambdas[n_lambda_plot], normal_coefs[n_lambda_plot])), label='x1, real')\n",
    "plt.plot(x, np.imag(eig_fun_1(x, default_pars, lambdas[n_lambda_plot], normal_coefs[n_lambda_plot])), label='x1, imag')\n",
    "# plt.plot(x, np.real(eig_fun_2(x, default_pars, lambdas[n_lambda_plot], normal_coefs[n_lambda_plot])), label='x2, real')\n",
    "plt.plot(x, np.imag(eig_fun_2(x, default_pars, lambdas[n_lambda_plot], normal_coefs[n_lambda_plot])), label='x2, imag')\n",
    "plt.legend()\n",
    "\n",
    "plt.show()\n"
   ]
  },
  {
   "cell_type": "code",
   "execution_count": null,
   "metadata": {},
   "outputs": [],
   "source": [
    "par = default_pars.copy()\n",
    "(k, v, D, tau, R) = (par['k'], par['v'], par['D'], par['tau'], par['R'])\n",
    "a = [0,0,0]\n",
    "a[0] = D * (eig_fun_1_prime(0, default_pars, lambdas[15]))\n",
    "a[1] = -v * (eig_fun_1(0, default_pars, lambdas[15]))\n",
    "a[2] = R * v * (eig_fun_2(0, default_pars, lambdas[15]))\n",
    "print(a, sum(a))"
   ]
  },
  {
   "cell_type": "code",
   "execution_count": null,
   "metadata": {},
   "outputs": [],
   "source": [
    "x = np.linspace(0,1,1000)\n",
    "s = []\n",
    "e=[]\n",
    "for n,l in enumerate(lambdas[:15]):\n",
    "    y = quad(eig_fun_mul_2,0,1,args=(default_pars, l, normal_coefs[n]),complex_func=True)[0]\n",
    "    s.append(y)\n",
    "    if np.mod(n,2) == 1 or n == 0:\n",
    "        # print(f'e_{n} = {np.round(err*100, 2)}')\n",
    "        e.append(err)\n",
    "        # plt.plot(x, np.real(s[n]), label=n)\n",
    "\n",
    "print(np.round(s, 3))\n",
    "# plt.plot(e)   \n",
    "# plt.plot(x,np.real(arbit_fun_2(x, default_pars)), label='z')\n",
    "# plt.xlabel('zeta')\n",
    "# plt.ylabel('z, z_R')\n",
    "# plt.legend()\n",
    "# plt.show()\n"
   ]
  },
  {
   "cell_type": "code",
   "execution_count": null,
   "metadata": {},
   "outputs": [],
   "source": [
    "x = np.linspace(0,1,100000)\n",
    "s = [np.zeros_like(x)]\n",
    "e=[]\n",
    "for n,l in enumerate(lambdas[:13]):\n",
    "    y = quad(eig_fun_mul_2,0,1,args=(default_pars, l, normal_coefs[n]),complex_func=True)[0]\n",
    "    s.append(s[n] + y * eig_fun_2(x,default_pars, l, normal_coefs[n]))\n",
    "    err = np.sqrt(sum((s[n] - arbit_fun_2(x, default_pars))**2))/1000\n",
    "    if np.mod(n,2) == 1 or n == 0:\n",
    "        print(f'e_{n} = {np.round(err*100, 2)}')\n",
    "        e.append(err)\n",
    "        plt.plot(x, np.real(s[n]), label=n)\n",
    "\n",
    "# plt.plot(e)   \n",
    "plt.plot(x,np.real(arbit_fun_2(x, default_pars)), label='z')\n",
    "plt.xlabel('zeta')\n",
    "plt.ylabel('z, z_R')\n",
    "plt.legend()\n",
    "plt.show()\n"
   ]
  }
 ],
 "metadata": {
  "colab": {
   "collapsed_sections": [
    "rOp8yHdiv26a",
    "C1l2-KpYqZSK"
   ],
   "provenance": []
  },
  "kernelspec": {
   "display_name": "base",
   "language": "python",
   "name": "python3"
  },
  "language_info": {
   "codemirror_mode": {
    "name": "ipython",
    "version": 3
   },
   "file_extension": ".py",
   "mimetype": "text/x-python",
   "name": "python",
   "nbconvert_exporter": "python",
   "pygments_lexer": "ipython3",
   "version": "3.11.5"
  },
  "vscode": {
   "interpreter": {
    "hash": "40d3a090f54c6569ab1632332b64b2c03c39dcf918b08424e98f38b5ae0af88f"
   }
  }
 },
 "nbformat": 4,
 "nbformat_minor": 1
}
