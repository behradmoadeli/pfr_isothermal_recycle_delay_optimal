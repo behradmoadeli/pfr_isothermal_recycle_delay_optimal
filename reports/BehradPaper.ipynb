{
 "cells": [
  {
   "cell_type": "markdown",
   "metadata": {
    "id": "ByIufqrO7oiy"
   },
   "source": [
    "Initializing the notebook:"
   ]
  },
  {
   "cell_type": "code",
   "execution_count": 1,
   "metadata": {
    "executionInfo": {
     "elapsed": 7,
     "status": "ok",
     "timestamp": 1674594709346,
     "user": {
      "displayName": "Guilherme Ozorio Cassol",
      "userId": "16524009092046304621"
     },
     "user_tz": 420
    },
    "id": "uEGAWDi23_da"
   },
   "outputs": [
    {
     "name": "stdout",
     "output_type": "stream",
     "text": [
      "New Current Working Directory: c:\\Users\\behra\\OneDrive\\Documents\\PhD-behrad-legion\\behrad_papers\\reports\n"
     ]
    }
   ],
   "source": [
    "import os\n",
    "import numpy as np\n",
    "from functions import *\n",
    "\n",
    "# Get the directory where the current script is located\n",
    "script_directory = os.getcwd()\n",
    "\n",
    "# Change the current working directory to the script's directory\n",
    "os.chdir(script_directory)\n",
    "\n",
    "# Now the CWD is the same as the script's directory\n",
    "print(\"New Current Working Directory:\", os.getcwd())"
   ]
  },
  {
   "cell_type": "markdown",
   "metadata": {
    "id": "C1l2-KpYqZSK"
   },
   "source": [
    "# System Model\n",
    "\n",
    "Initially, only the equation for one state (temperature or concentration) will be considered. For simplicity, the domain will be $[0,1]$, with Danckwerts boundary conditions:\n",
    "\n",
    "$$\\left\\{\\begin{array}{l} \\dot{x} = D\\partial_{\\zeta\\zeta} x -v\\partial_{\\zeta} x +kx\\\\\n",
    "D\\partial_\\zeta x(0,t)-vx(0,t)=-v[Rx(1,t-\\tau)+(1-R)u(t-\\tau_I)] \\\\\n",
    "\\partial_\\zeta x(1,t)=0 \\\\\n",
    "y(t)=x(1,t-\\tau_O)\n",
    "  \\end{array}\\right. $$\n",
    "\n",
    "This model considers that the input is applied in the reactor's entrance, which is mixed with the recycle from the outlet. Input, output, and state delays are considered and represented by $\\tau_I,\\tau_O$, and $\\tau$, respectively. "
   ]
  },
  {
   "cell_type": "markdown",
   "metadata": {},
   "source": [
    "## Eigenvalue Analysis\n",
    "\n",
    "The eigenvalue problem, defined as $A\\Phi(\\zeta,\\lambda)=\\lambda\\Phi(\\zeta,\\lambda)$, will result in the following system of equation for this system:\n",
    "\n",
    "$$\\left\\{\\begin{array}{l} \\lambda\\phi = D\\partial_{\\zeta\\zeta} \\phi -v\\partial_{\\zeta} \\phi +k\\phi\\\\\n",
    "\\lambda\\psi=\\dfrac{1}{\\tau}\\partial_{\\zeta}\\psi\\\\\n",
    "D\\partial_\\zeta \\phi(0)-v\\phi(0)=-Rv\\psi(0) \\\\\n",
    "\\partial_\\zeta \\phi(1)=0 \\\\\n",
    "\\psi(1)=\\phi(1)\\\\\n",
    "  \\end{array}\\right. $$"
   ]
  },
  {
   "attachments": {},
   "cell_type": "markdown",
   "metadata": {},
   "source": [
    "where $\\Phi=[\\phi,\\,\\psi]^T$, with $\\phi$ as the state eigenfunction and $\\psi$ as the eigenfunction related to the delay. By defining $X=[\\phi,\\, \\partial_{\\zeta}\\phi,\\,\\psi]^T$, the following system of ODEs is obtained:\n",
    "\n",
    "$$\n",
    "\\left\\{\\begin{array}{l}\\partial_{\\zeta}X=\\begin{bmatrix} 0 & 1 & 0\\\\ \\dfrac{\\lambda-k}{D} & \\dfrac{v}{D} & 0\\\\0 & 0 & \\tau\\lambda\\end{bmatrix}X=ΛX \\\\\n",
    "DX_2(0)-vX_1(0)=-RvX_3(0) \\\\\n",
    "X_2(1)=0 \\\\\n",
    "X_3(1)=X_1(1)\\\\ \\end{array}\\right.\n",
    "$$"
   ]
  },
  {
   "cell_type": "markdown",
   "metadata": {},
   "source": [
    "## Characteristic Equation"
   ]
  },
  {
   "cell_type": "markdown",
   "metadata": {},
   "source": [
    "This is a system of first order ODE's, and the solution to such systems is given by:\n",
    "\n",
    "$$ X(\\zeta, \\lambda) = e^{\\Lambda \\zeta} X (\\zeta=0, \\lambda) \\\\ \\overset{\\zeta = 1}{\\Rightarrow} X(1, \\lambda) = e^{\\Lambda} X (\\zeta=0) $$"
   ]
  },
  {
   "cell_type": "markdown",
   "metadata": {},
   "source": [
    "Now, let's assume:\n",
    "\n",
    "$$ e^{\\Lambda} = Q(\\lambda) = \\begin{bmatrix} \n",
    "        q_{1} & q_{2} & q_{3} \\\\ q_{4} & q_{5} & q_{6} \\\\ q_{7} & q_{8} & q_{9}\n",
    "    \\end{bmatrix} $$\n"
   ]
  },
  {
   "cell_type": "markdown",
   "metadata": {},
   "source": [
    "Thus, we may write:\n",
    "\n",
    "$$\\left\\{\\begin{array}{l}\n",
    "X_1(1) = q_1 X_1(0) + q_2 X_2(0) + q_3 X_3(0) \\\\\n",
    "X_2(1) = q_4 X_1(0) + q_5 X_2(0) + q_6 X_3(0) \\\\\n",
    "X_3(1) = q_7 X_1(0) + q_8 X_2(0) + q_9 X_3(0)\n",
    "\\end{array}\\right.$$"
   ]
  },
  {
   "cell_type": "markdown",
   "metadata": {},
   "source": [
    "Now, we may go ahead and put the above expressions into boundary conditions to get the following:\n",
    "\n",
    "$$\\left\\{\\begin{array}{l}\n",
    "Dx_2-vx_1=-Rvx_3 \\\\\n",
    "q_4 x_1 + q_5 x_2 + q_6 x_3 = 0 \\\\\n",
    "q_7 x_1 + q_8 x_2 + q_9 x_3 = q_1 x_1 + q_2 x_2 + q_3 x_3\n",
    "\\end{array}\\right. \\Rightarrow \\left\\{\\begin{array}{l}\n",
    "-vx_1 + Dx_2 + Rvx_3 = 0 \\\\\n",
    "q_4 x_1 + q_5 x_2 + q_6 x_3 = 0 \\\\\n",
    "(q_1 - q_7) x_1 + (q_2 - q_8) x_2 + (q_3 - q_9) x_3 = 0\n",
    "\\end{array}\\right.$$\n",
    "\n",
    "\n",
    "where $x_i$ is the same as $X_i(0)$."
   ]
  },
  {
   "attachments": {},
   "cell_type": "markdown",
   "metadata": {},
   "source": [
    "For this particular case, we know that:\n",
    "\n",
    "$$ q_{3} = q_{6} = q_{7} = q_{8} = 0 $$"
   ]
  },
  {
   "attachments": {},
   "cell_type": "markdown",
   "metadata": {},
   "source": [
    "This will further simplify the above system of equions into the following system:\n",
    "\n",
    "$$\\left\\{\\begin{array}{l}\n",
    "-vx_1 + Dx_2 + Rvx_3 = 0 \\\\\n",
    "q_4 x_1 + q_5 x_2 = 0 \\\\\n",
    "q_1 x_1 + q_2 x_2 - q_9 x_3 = 0\n",
    "\\end{array}\\right.$$"
   ]
  },
  {
   "attachments": {},
   "cell_type": "markdown",
   "metadata": {},
   "source": [
    "This is a $3 \\times 3$ system of algebraic equations in the form of $\\bar{A} \\bar{x} = 0 $, with:\n",
    "\n",
    "$$ \\bar{A} = \\begin{bmatrix}\n",
    "-v & D & Rv \\\\\n",
    "q_4 & q_5 & 0 \\\\\n",
    "q_1 & q_2 & -q_9\n",
    "\\end{bmatrix}; \\quad \\bar{x} = \\begin{bmatrix}\n",
    "x_1 \\\\ x_2 \\\\ x_3\n",
    "\\end{bmatrix} $$"
   ]
  },
  {
   "cell_type": "markdown",
   "metadata": {},
   "source": [
    " For such a system to have non-trivial solution (i.e. $\\bar{x} \\neq 0$), the dimension of the nullspace of the coefficients matrix $\\bar{A}$ needs to be non-zero. This will happen if and only if the coefficients matrix $\\bar{A}$ is rank-deficient. One way to make sure matrix $ \\bar{A} $ is not full-rank, is to set its determinant equal to zero. Doing so and further simplifying the result will give the characteristic equation as following:\n",
    "$$\n",
    "f(\\lambda) = e^{(\\lambda \\tau+\\frac{v}{2D})}\n",
    "\\left[\n",
    "    \\frac{(v^2+2D^2)}{\\sqrt{v^2-4D\\left(k-\\lambda\\right)}}\\sinh{(\\frac{\\sqrt{v^2-4D\\left(k-\\lambda\\right)}}{2D})} + v \\cosh{(\\frac{\\sqrt{v^2-4D\\left(k-\\lambda\\right)}}{2D})}\n",
    "\\right]\n",
    "- vRe^{(\\frac{v}{D})}\n",
    "= 0\n",
    "$$\n",
    "\n",
    "To ease numerical calculation, we use the limit of the above equation where the denominator of the first term approaches zero. The limit is obtained as follows:\n",
    "\n",
    "$$\n",
    "\\lim_{p(\\lambda) \\to 0} f(\\lambda) = ... \n",
    "= e^{(\\lambda \\tau+\\frac{v}{2D})}\n",
    "\\left[\n",
    "    \\frac{v^2}{2D} + v + D\n",
    "\\right]\n",
    "- vRe^{(\\frac{v}{D})}\n",
    "\n",
    "$$\n",
    "\n",
    "where $ p(\\lambda) \\equiv v^2-4D\\left(k-\\lambda\\right) $."
   ]
  },
  {
   "cell_type": "markdown",
   "metadata": {},
   "source": [
    "## Adjoint Operator"
   ]
  },
  {
   "cell_type": "markdown",
   "metadata": {},
   "source": [
    "Prior to solving the obtained equation for eigenvalues, we first need to see whether or not the operator $\\hat{A}$ is self-adjoint. This will be done by calculating ${\\hat{A}}^{*}$ and then checking if $\\hat{A} = {\\hat{A}}^{*}$:\n",
    "\n",
    "$$\n",
    "\\begin{align*}\n",
    "    &\\begin{cases}\n",
    "        &\\hat{A} (.) =\n",
    "        &\\begin{bmatrix}\n",
    "            D\\partial_{\\zeta\\zeta} (.) -v\\partial_{\\zeta} (.) +k(.) & 0 \\\\\n",
    "            0 & \\dfrac{1}{\\tau}\\partial_{\\zeta} (.)\n",
    "        \\end{bmatrix} \\\\\n",
    "        \\, \\\\\n",
    "        &B.C. \\quad : \\quad &\\begin{cases}\n",
    "            D\\partial_\\zeta \\phi(0)-v\\phi(0)=-Rv\\psi(0) \\\\\n",
    "            \\partial_\\zeta \\phi(1)=0 \\\\\n",
    "            \\psi(1)=\\phi(1)\n",
    "        \\end{cases}\n",
    "    \\end{cases}\\\\\n",
    "    \\, \\\\\n",
    "    <\\hat{A} \\Phi, \\Psi> = <\\Phi, {\\hat{A}}^{*} \\Psi> \\Rightarrow\n",
    "    &\\begin{cases}\n",
    "        &{\\hat{A}}^{*} (.) =\n",
    "        &\\begin{bmatrix}\n",
    "            D\\partial_{\\zeta\\zeta} (.) +v\\partial_{\\zeta} (.) +k(.) & 0\\\\\n",
    "            0 & -\\dfrac{1}{\\tau}\\partial_{\\zeta} (.)\n",
    "        \\end{bmatrix} \\\\\n",
    "        \\, \\\\\n",
    "        &B.C. \\quad : \\quad &\\begin{cases}\n",
    "            D\\partial_\\zeta \\phi^{*}(1)+v\\phi^{*}(1)=Rv\\psi^{*}(1) \\\\\n",
    "            \\partial_\\zeta \\phi^{*}(0)=0 \\\\\n",
    "            \\psi^{*}(0)=\\phi^{*}(0)\n",
    "        \\end{cases}\n",
    "    \\end{cases}\n",
    "    \\Rightarrow \\hat{A} \\neq {\\hat{A}}^{*}\n",
    "\\end{align*}\n",
    "$$\n",
    "\n",
    "Therefore, operator $\\hat{A}$ is not self adjoint. However, we need to make sure that $\\hat{A}$ and $\\hat{A}^*$ share the same spectrum (i.e. eigenvalue distribution). Hence, we need to obtain the characteristic equation for $\\hat{A}^*$, just as we did for $\\hat{A}$."
   ]
  },
  {
   "cell_type": "markdown",
   "metadata": {},
   "source": [
    "### Adjoint Eigenvalue Analysis\n",
    "\n",
    "The eigenvalue problem, defined as $\\hat{A}^*\\Phi(\\zeta,\\lambda)=\\lambda\\Phi(\\zeta,\\lambda)$, will result in the following system of equation for this system:\n",
    "\n",
    "$$\\left\\{\\begin{array}{l} \\lambda\\phi = D\\partial_{\\zeta\\zeta} \\phi +v\\partial_{\\zeta} \\phi +k\\phi\\\\\n",
    "\\lambda\\psi=-\\dfrac{1}{\\tau}\\partial_{\\zeta}\\psi\\\\\n",
    "D\\partial_\\zeta \\phi(1)+v\\phi(1)=Rv\\psi(1) \\\\\n",
    "\\partial_\\zeta \\phi(0)=0 \\\\\n",
    "\\psi(0)=\\phi(0)\\\\\n",
    "  \\end{array}\\right. $$"
   ]
  },
  {
   "cell_type": "markdown",
   "metadata": {},
   "source": [
    "where $\\Phi=[\\phi,\\,\\psi]^T$, with $\\phi$ as the state eigenfunction and $\\psi$ as the eigenfunction related to the delay. By defining $X=[\\phi,\\, \\partial_{\\zeta}\\phi,\\,\\psi]^T$, the following system of ODEs is obtained:\n",
    "\n",
    "$$\n",
    "\\left\\{\\begin{array}{l}\\partial_{\\zeta}X=\\begin{bmatrix} 0 & 1 & 0\\\\ \\dfrac{\\lambda-k}{D} & \\dfrac{-v}{D} & 0\\\\0 & 0 & -\\tau\\lambda\\end{bmatrix}X=ΛX \\\\\n",
    "DX_2(1)+vX_1(1)=RvX_3(1) \\\\\n",
    "X_2(0)=0 \\\\\n",
    "X_3(0)=X_1(0)\\\\ \\end{array}\\right.\n",
    "$$"
   ]
  },
  {
   "cell_type": "markdown",
   "metadata": {},
   "source": [
    "### Adjoint Characteristic Equation"
   ]
  },
  {
   "cell_type": "markdown",
   "metadata": {},
   "source": [
    "This is a system of first order ODE's, and the solution to such systems is given by:\n",
    "\n",
    "$$ X(\\zeta, \\lambda) = e^{\\Lambda (\\zeta-\\zeta=1)} X (\\zeta=1, \\lambda) \\\\ \\overset{\\zeta = 0}{\\Rightarrow} X(0, \\lambda) = e^{-\\Lambda} X (\\zeta=1) $$"
   ]
  },
  {
   "cell_type": "markdown",
   "metadata": {},
   "source": [
    "Now, let's assume:\n",
    "\n",
    "$$ e^{-\\Lambda} = Q(\\lambda) = \\begin{bmatrix} \n",
    "        q_{1} & q_{2} & q_{3} \\\\ q_{4} & q_{5} & q_{6} \\\\ q_{7} & q_{8} & q_{9}\n",
    "    \\end{bmatrix} $$\n"
   ]
  },
  {
   "cell_type": "markdown",
   "metadata": {},
   "source": [
    "Thus, we may write:\n",
    "\n",
    "$$\\left\\{\\begin{array}{l}\n",
    "X_1(0) = q_1 X_1(1) + q_2 X_2(1) + q_3 X_3(1) \\\\\n",
    "X_2(0) = q_4 X_1(1) + q_5 X_2(1) + q_6 X_3(1) \\\\\n",
    "X_3(0) = q_7 X_1(1) + q_8 X_2(1) + q_9 X_3(1)\n",
    "\\end{array}\\right.$$"
   ]
  },
  {
   "cell_type": "markdown",
   "metadata": {},
   "source": [
    "Now, we may go ahead and put the above expressions into boundary conditions to get the following:\n",
    "\n",
    "$$\\left\\{\\begin{array}{l}\n",
    "Dx_2+vx_1=Rvx_3 \\\\\n",
    "q_4 x_1 + q_5 x_2 + q_6 x_3 = 0 \\\\\n",
    "q_7 x_1 + q_8 x_2 + q_9 x_3 = q_1 x_1 + q_2 x_2 + q_3 x_3\n",
    "\\end{array}\\right. \\Rightarrow \\left\\{\\begin{array}{l}\n",
    "vx_1 + Dx_2 - Rvx_3 = 0 \\\\\n",
    "q_4 x_1 + q_5 x_2 + q_6 x_3 = 0 \\\\\n",
    "(q_1 - q_7) x_1 + (q_2 - q_8) x_2 + (q_3 - q_9) x_3 = 0\n",
    "\\end{array}\\right.$$\n",
    "\n",
    "\n",
    "where $x_i$ is the same as $X_i(1)$."
   ]
  },
  {
   "cell_type": "markdown",
   "metadata": {},
   "source": [
    "For this particular case, we know that:\n",
    "\n",
    "$$ q_{3} = q_{6} = q_{7} = q_{8} = 0 $$"
   ]
  },
  {
   "cell_type": "markdown",
   "metadata": {},
   "source": [
    "This will further simplify the above system of equions into the following system:\n",
    "\n",
    "$$\\left\\{\\begin{array}{l}\n",
    "vx_1 + Dx_2 + Rvx_3 = 0 \\\\\n",
    "q_4 x_1 + q_5 x_2 = 0 \\\\\n",
    "q_1 x_1 + q_2 x_2 - q_9 x_3 = 0\n",
    "\\end{array}\\right.$$"
   ]
  },
  {
   "cell_type": "markdown",
   "metadata": {},
   "source": [
    "This is a $3 \\times 3$ system of algebraic equations in the form of $\\bar{A} \\bar{x} = 0 $, with:\n",
    "\n",
    "$$ \\bar{A} = \\begin{bmatrix}\n",
    "-v & D & Rv \\\\\n",
    "q_4 & q_5 & 0 \\\\\n",
    "q_1 & q_2 & -q_9\n",
    "\\end{bmatrix}; \\quad \\bar{x} = \\begin{bmatrix}\n",
    "x_1 \\\\ x_2 \\\\ x_3\n",
    "\\end{bmatrix} $$"
   ]
  },
  {
   "cell_type": "markdown",
   "metadata": {},
   "source": [
    " For such a system to have non-trivial solution (i.e. $\\bar{x} \\neq 0$), the dimension of the nullspace of the coefficients matrix $\\bar{A}$ needs to be non-zero. This will happen if and only if the coefficients matrix $\\bar{A}$ is rank-deficient. One way to make sure matrix $ \\bar{A} $ is not full-rank, is to set its determinant equal to zero. Doing so and further simplifying the result will give the characteristic equation as following:\n",
    "$$\n",
    "f(\\lambda) = e^{(\\lambda \\tau+\\frac{v}{2D})}\n",
    "\\left[\n",
    "    \\frac{(v^2+2D^2)}{\\sqrt{v^2-4D\\left(k-\\lambda\\right)}}\\sinh{(\\frac{\\sqrt{v^2-4D\\left(k-\\lambda\\right)}}{2D})} + v \\cosh{(\\frac{\\sqrt{v^2-4D\\left(k-\\lambda\\right)}}{2D})}\n",
    "\\right]\n",
    "- vRe^{(\\frac{v}{D})}\n",
    "= 0\n",
    "$$\n",
    "\n",
    "Which is exactly the same as the previous characteristic equation. We may now move forward and calculate the eigenvalues of the system for a given set of parameters."
   ]
  },
  {
   "cell_type": "markdown",
   "metadata": {},
   "source": [
    "## Numerical Solution"
   ]
  },
  {
   "attachments": {},
   "cell_type": "markdown",
   "metadata": {},
   "source": [
    "Initializing system parameters:"
   ]
  },
  {
   "cell_type": "code",
   "execution_count": 2,
   "metadata": {},
   "outputs": [
    {
     "data": {
      "text/plain": [
       "{'k': 1.5, 'D': 0.05, 'v': 1, 'tau': 0.8, 'R': 0.6, 'label': 'default'}"
      ]
     },
     "metadata": {},
     "output_type": "display_data"
    }
   ],
   "source": [
    "default_pars = obtain_default_pars('pars_list.csv')\n",
    "display(default_pars)"
   ]
  },
  {
   "cell_type": "markdown",
   "metadata": {},
   "source": [
    "### Solving Characteristic Equation for $\\hat{A}$"
   ]
  },
  {
   "cell_type": "markdown",
   "metadata": {},
   "source": [
    "Searching `guess` range to obtain eigenvalues distribution:"
   ]
  },
  {
   "cell_type": "code",
   "execution_count": 3,
   "metadata": {},
   "outputs": [
    {
     "name": "stdout",
     "output_type": "stream",
     "text": [
      "Solution has already been saved in the appropriate location.\n"
     ]
    }
   ],
   "source": [
    "path = 'CSV\\default.csv'\n",
    "\n",
    "if not os.path.exists(path):\n",
    "    guess = {\n",
    "        'guess_range_real':[-150,50,50],\n",
    "        'guess_range_imag':[0,100,20]\n",
    "    }\n",
    "    save_dataframe_to_csv(*find_eig(default_pars, **guess, round_sig_digits=5, tol_is_sol=1e-7, max_iter=200), 'CSV')\n",
    "else:\n",
    "    print(\"Solution has already been saved in the appropriate location.\")"
   ]
  },
  {
   "cell_type": "markdown",
   "metadata": {},
   "source": [
    "Plotting the obtained eigenvalue distribution:"
   ]
  },
  {
   "cell_type": "code",
   "execution_count": 4,
   "metadata": {},
   "outputs": [
    {
     "data": {
      "image/png": "[encoded data removed]",
      "text/plain": [
       "<Figure size 1200x800 with 1 Axes>"
      ]
     },
     "metadata": {},
     "output_type": "display_data"
    },
    {
     "name": "stdout",
     "output_type": "stream",
     "text": [
      "{'par': {'k': 1.5; 'D': 0.05; 'v': 1; 'tau': 0.8; 'R': 0.6; 'label': 'default'}; 'guess_range': ([-150; 50; 200]; [0; 100; 50]); 'tols': (1e-09; 0.0001; 5)}\n"
     ]
    },
    {
     "data": {
      "text/html": [
       "<div>\n",
       "<style scoped>\n",
       "    .dataframe tbody tr th:only-of-type {\n",
       "        vertical-align: middle;\n",
       "    }\n",
       "\n",
       "    .dataframe tbody tr th {\n",
       "        vertical-align: top;\n",
       "    }\n",
       "\n",
       "    .dataframe thead th {\n",
       "        text-align: right;\n",
       "    }\n",
       "</style>\n",
       "<table border=\"1\" class=\"dataframe\">\n",
       "  <thead>\n",
       "    <tr style=\"text-align: right;\">\n",
       "      <th></th>\n",
       "      <th>Sol_r</th>\n",
       "      <th>Sol_i</th>\n",
       "      <th>Guess</th>\n",
       "      <th>g(x)</th>\n",
       "      <th>ier</th>\n",
       "      <th>msg</th>\n",
       "      <th>infodict</th>\n",
       "      <th>instances</th>\n",
       "    </tr>\n",
       "  </thead>\n",
       "  <tbody>\n",
       "    <tr>\n",
       "      <th>0</th>\n",
       "      <td>0.57438</td>\n",
       "      <td>0.0000</td>\n",
       "      <td>[-139.    0.]</td>\n",
       "      <td>1.776357e-15</td>\n",
       "      <td>1</td>\n",
       "      <td>The solution converged.</td>\n",
       "      <td>{'nfev': 4, 'fjac': array([[-1.0000000e+00,  7...</td>\n",
       "      <td>252</td>\n",
       "    </tr>\n",
       "    <tr>\n",
       "      <th>1</th>\n",
       "      <td>0.22125</td>\n",
       "      <td>-3.3599</td>\n",
       "      <td>[33.  0.]</td>\n",
       "      <td>1.404333e-15</td>\n",
       "      <td>1</td>\n",
       "      <td>The solution converged.</td>\n",
       "      <td>{'nfev': 4, 'fjac': array([[-0.43117281, -0.90...</td>\n",
       "      <td>408</td>\n",
       "    </tr>\n",
       "    <tr>\n",
       "      <th>2</th>\n",
       "      <td>0.22125</td>\n",
       "      <td>3.3599</td>\n",
       "      <td>[0.22125264 3.35991407]</td>\n",
       "      <td>1.404333e-15</td>\n",
       "      <td>1</td>\n",
       "      <td>The solution converged.</td>\n",
       "      <td>{'nfev': 4, 'fjac': array([[-0.43117281,  0.90...</td>\n",
       "      <td>408</td>\n",
       "    </tr>\n",
       "    <tr>\n",
       "      <th>3</th>\n",
       "      <td>-0.72849</td>\n",
       "      <td>7.0043</td>\n",
       "      <td>[-150.    6.]</td>\n",
       "      <td>1.601186e-15</td>\n",
       "      <td>1</td>\n",
       "      <td>The solution converged.</td>\n",
       "      <td>{'nfev': 4, 'fjac': array([[-0.84240586,  0.53...</td>\n",
       "      <td>494</td>\n",
       "    </tr>\n",
       "    <tr>\n",
       "      <th>4</th>\n",
       "      <td>-0.72849</td>\n",
       "      <td>-7.0043</td>\n",
       "      <td>[-0.72848856 -7.0042923 ]</td>\n",
       "      <td>1.601186e-15</td>\n",
       "      <td>1</td>\n",
       "      <td>The solution converged.</td>\n",
       "      <td>{'nfev': 4, 'fjac': array([[-0.84240586, -0.53...</td>\n",
       "      <td>494</td>\n",
       "    </tr>\n",
       "    <tr>\n",
       "      <th>5</th>\n",
       "      <td>-2.05770</td>\n",
       "      <td>11.0590</td>\n",
       "      <td>[-150.   10.]</td>\n",
       "      <td>1.248396e-14</td>\n",
       "      <td>1</td>\n",
       "      <td>The solution converged.</td>\n",
       "      <td>{'nfev': 4, 'fjac': array([[-0.88832443,  0.45...</td>\n",
       "      <td>605</td>\n",
       "    </tr>\n",
       "    <tr>\n",
       "      <th>6</th>\n",
       "      <td>-2.05770</td>\n",
       "      <td>-11.0590</td>\n",
       "      <td>[ -2.05768553 -11.05855231]</td>\n",
       "      <td>1.248396e-14</td>\n",
       "      <td>1</td>\n",
       "      <td>The solution converged.</td>\n",
       "      <td>{'nfev': 4, 'fjac': array([[-0.88832443, -0.45...</td>\n",
       "      <td>605</td>\n",
       "    </tr>\n",
       "    <tr>\n",
       "      <th>7</th>\n",
       "      <td>-3.58360</td>\n",
       "      <td>-15.5170</td>\n",
       "      <td>[ -3.58362211 -15.5173744 ]</td>\n",
       "      <td>4.938783e-14</td>\n",
       "      <td>1</td>\n",
       "      <td>The solution converged.</td>\n",
       "      <td>{'nfev': 4, 'fjac': array([[-0.72015984, -0.69...</td>\n",
       "      <td>559</td>\n",
       "    </tr>\n",
       "    <tr>\n",
       "      <th>8</th>\n",
       "      <td>-3.58360</td>\n",
       "      <td>15.5170</td>\n",
       "      <td>[-134.   14.]</td>\n",
       "      <td>4.938783e-14</td>\n",
       "      <td>1</td>\n",
       "      <td>The solution converged.</td>\n",
       "      <td>{'nfev': 4, 'fjac': array([[-0.72015984,  0.69...</td>\n",
       "      <td>559</td>\n",
       "    </tr>\n",
       "  </tbody>\n",
       "</table>\n",
       "</div>"
      ],
      "text/plain": [
       "     Sol_r    Sol_i                        Guess          g(x)  ier  \\\n",
       "0  0.57438   0.0000                [-139.    0.]  1.776357e-15    1   \n",
       "1  0.22125  -3.3599                    [33.  0.]  1.404333e-15    1   \n",
       "2  0.22125   3.3599      [0.22125264 3.35991407]  1.404333e-15    1   \n",
       "3 -0.72849   7.0043                [-150.    6.]  1.601186e-15    1   \n",
       "4 -0.72849  -7.0043    [-0.72848856 -7.0042923 ]  1.601186e-15    1   \n",
       "5 -2.05770  11.0590                [-150.   10.]  1.248396e-14    1   \n",
       "6 -2.05770 -11.0590  [ -2.05768553 -11.05855231]  1.248396e-14    1   \n",
       "7 -3.58360 -15.5170  [ -3.58362211 -15.5173744 ]  4.938783e-14    1   \n",
       "8 -3.58360  15.5170                [-134.   14.]  4.938783e-14    1   \n",
       "\n",
       "                       msg                                           infodict  \\\n",
       "0  The solution converged.  {'nfev': 4, 'fjac': array([[-1.0000000e+00,  7...   \n",
       "1  The solution converged.  {'nfev': 4, 'fjac': array([[-0.43117281, -0.90...   \n",
       "2  The solution converged.  {'nfev': 4, 'fjac': array([[-0.43117281,  0.90...   \n",
       "3  The solution converged.  {'nfev': 4, 'fjac': array([[-0.84240586,  0.53...   \n",
       "4  The solution converged.  {'nfev': 4, 'fjac': array([[-0.84240586, -0.53...   \n",
       "5  The solution converged.  {'nfev': 4, 'fjac': array([[-0.88832443,  0.45...   \n",
       "6  The solution converged.  {'nfev': 4, 'fjac': array([[-0.88832443, -0.45...   \n",
       "7  The solution converged.  {'nfev': 4, 'fjac': array([[-0.72015984, -0.69...   \n",
       "8  The solution converged.  {'nfev': 4, 'fjac': array([[-0.72015984,  0.69...   \n",
       "\n",
       "   instances  \n",
       "0        252  \n",
       "1        408  \n",
       "2        408  \n",
       "3        494  \n",
       "4        494  \n",
       "5        605  \n",
       "6        605  \n",
       "7        559  \n",
       "8        559  "
      ]
     },
     "metadata": {},
     "output_type": "display_data"
    }
   ],
   "source": [
    "df, label, metadata = plot_single_df(\n",
    "        path, filter=True,\n",
    "        real_lower_bound=-25, real_upper_bound=10, imag_lower_bound=-100, imag_upper_bound=100\n",
    ")\n",
    "n_lambdas = 9\n",
    "display(df.head(n_lambdas))"
   ]
  },
  {
   "cell_type": "markdown",
   "metadata": {},
   "source": [
    "## Obtaining Eigenfunctions\n",
    "\n",
    "Having obtained the eigenvalues of the open-loop system, we may go ahead and find the eigenfunction corresponding to each eigenvalue. To do so, we plug in the eigenvalue into the eigenvalue problem and form a system of ODE's. Solving the resulting system will give the eigenvalue's corresponding eigenfunction. We start by 3 eigenvalues with largest real parts. These values are stored in `lambdas` as follows:"
   ]
  },
  {
   "cell_type": "code",
   "execution_count": 5,
   "metadata": {},
   "outputs": [
    {
     "name": "stdout",
     "output_type": "stream",
     "text": [
      "lambda_1 = (0.57438+0j)\n",
      "lambda_2 = (0.22125-3.3599j)\n",
      "lambda_3 = (0.22125+3.3599j)\n",
      "lambda_4 = (-0.72849+7.0043j)\n",
      "lambda_5 = (-0.72849-7.0043j)\n",
      "lambda_6 = (-2.0577+11.059j)\n",
      "lambda_7 = (-2.0577-11.059j)\n",
      "lambda_8 = (-3.5836-15.517j)\n",
      "lambda_9 = (-3.5836+15.517j)\n"
     ]
    }
   ],
   "source": [
    "lambdas = []\n",
    "for index, row in df.head(n_lambdas).iterrows():\n",
    "    l = complex(row['Sol_r'], row['Sol_i'])\n",
    "    print(f'lambda_{index+1} = {l}')\n",
    "    lambdas.append(l)"
   ]
  },
  {
   "cell_type": "markdown",
   "metadata": {},
   "source": [
    "The problem of finding the eigenfunctions is now reduced to solving a system of linear ODEs  for each $\\lambda_{i}$, containing a first order and a second order ODE.\n",
    "\n",
    "$$\\left\\{\\begin{array}{l}\n",
    "D\\partial_{\\zeta\\zeta} \\phi &-v\\partial_{\\zeta} \\phi &+(k-\\lambda) \\phi &= 0 &\\\\\n",
    "\\, \\\\\n",
    "&\\dfrac{1}{\\tau}\\partial_{\\zeta}\\psi &- \\lambda\\psi &= 0 &\\\\\n",
    "\\end{array}\\right. $$"
   ]
  },
  {
   "cell_type": "markdown",
   "metadata": {},
   "source": [
    "It can be proven that the resulting characteristic equation for the second order ODE will always have 2 distinct roots as long as $\\lambda \\neq -k$. Therefore, the general form of the required eigenfunction looks like the following:\n",
    "\n",
    "$$\\left\\{\\begin{array}{l}\n",
    "\\phi_{i}(\\zeta) =& a e^{r_{1}\\zeta} + b e^{r_{2}\\zeta} &\\\\\n",
    "\\psi_{i}(\\zeta) =& c e^{\\tau \\lambda \\zeta} &\\\\\n",
    "\\end{array}\\right. $$\n",
    "\n",
    "where $a, b,$ and $c$ are unknown coefficients that can be determined by applying boundary conditions. Also, $r_{1,2}$, the roots of the second order ODE, shall obtained as follows:\n",
    "\n",
    "$$\n",
    "{r_{1,2}}_i = \\frac{v \\pm \\sqrt{v^2+4D\\left(\\lambda_i-k\\right)}}{2D} \\quad \\text{for } i=1,2,3,\\dots\n",
    "$$"
   ]
  },
  {
   "cell_type": "markdown",
   "metadata": {},
   "source": [
    "Applying the following boundary conditions:\n",
    "\n",
    "$$\\left\\{\\begin{array}{l}\n",
    "D \\partial_{\\zeta} \\phi (0) - v \\phi (0) &=& -R v \\psi (0) \\\\\n",
    "\\, \\\\\n",
    "\\partial_{\\zeta} \\phi (1) &=& 0 \\\\\n",
    "\\, \\\\\n",
    "\\phi(1) &=& \\psi(1) \\\\\n",
    "\\end{array}\\right. $$\n",
    "\n",
    "will result in the following system of linear algebraic equations that can give us the coefficients $a, b,$ and $c$:\n",
    "\n",
    "$$\\left\\{\\begin{array}{l}\n",
    "D ( a r_1 + b r_2) - v (a + b) &=& -Rvc \\\\\n",
    "\\, \\\\\n",
    "a r_1 e^{r_1} + b r_2 e^{r_2} &=& 0 \\\\\n",
    "\\, \\\\\n",
    "a e^{r_1} + b e^{r_2} &=& c e^{\\tau \\lambda} \\\\\n",
    "\\end{array}\\right.$$"
   ]
  },
  {
   "cell_type": "markdown",
   "metadata": {},
   "source": [
    "The above system of algebraic equation is rank deficient, resulting in one of the coefficient to be equal to $\\frac{0}{0}$. Here, we decided to keep `b` and obtain `a`, `c` as functions of `b`:\n",
    "\n",
    "$$\\begin{align*}\n",
    "\\begin{cases}\n",
    "a = -\\frac{r_2 e^{r_2}}{r_1 e^{r_1}}b \\\\\n",
    "\\, \\\\\n",
    "c = b (1-\\frac{r_2}{r_1}) e^{r_2 - \\tau \\lambda}\\\\\n",
    "\\end{cases}\n",
    "\\end{align*}\n",
    "$$"
   ]
  },
  {
   "cell_type": "markdown",
   "metadata": {},
   "source": [
    "The third equation will be redundant, as shown below:\n",
    "\n",
    "$$\\begin{align*}\n",
    "b \\times \\Bigl(g(\\lambda_i)\\Bigr) = 0\n",
    "\\end{align*}\n",
    "$$\n",
    "\n",
    "where $g(\\lambda_i)$ is the charecteristic equation of the operator $\\hat{A}$, and is always equal to zero. Therefore, the third equation will give:\n",
    "\n",
    "$$\\begin{align*}\n",
    "b \\times 0 = 0 \\Rightarrow b = \\frac{0}{0}\n",
    "\\end{align*}\n",
    "$$\n",
    "\n",
    "which is expected according to the explanation above."
   ]
  },
  {
   "cell_type": "markdown",
   "metadata": {},
   "source": [
    "Thus, each set of eigenfunctions $[\\phi_i, \\psi_i]^T$ will be obtained after solving the above system of equations for their correspoding eigenvalue $\\lambda_i$, with a normalization coefficient remaining to be calculated, i.e. `b` in this case:\n",
    "$$\n",
    "\\begin{align*}\n",
    "\\Rightarrow \\begin{cases}\n",
    "\\phi_{i}(\\zeta) =& b_i \\Bigl[ \\left( -\\frac{r_{i,2} e^{r_{i,2}}}{r_{i,1} e^{r_{i,1}}}\\right) e^{r_{i,1} \\zeta} + e^{r_{i,2} \\zeta}\\Bigr]&\\\\\n",
    "\\, \\\\\n",
    "\\psi_{i}(\\zeta) =& b_i (1-\\frac{r_{i,2}}{r_{i,1}}) e^{r_{i,2} - \\tau \\lambda} e^{ \\tau \\lambda \\zeta } &\\\\\n",
    "\\end{cases}\n",
    "\\end{align*}\n",
    "$$"
   ]
  },
  {
   "cell_type": "markdown",
   "metadata": {},
   "source": [
    "Same approach may be followed to obtain the adjoint eigenfunctions $[\\phi^*_i, \\psi^*_i]^T$ for their correspoding eigenvalue $\\lambda_i$, again with a normalization coefficient remaining to be calculated, i.e. `b*` in this case:\n",
    "$$\n",
    "\\begin{align*}\n",
    "\\Rightarrow \\begin{cases}\n",
    "\\phi^*_{i}(\\zeta) =& b^*_i\\left[ - \\frac{r_{i,2}^*}{r_{i,1}^*}e^{r_{i,1}^* \\zeta} + e^{r_{i,2}^* \\zeta} \\right]&\\\\\n",
    "\\, \\\\\n",
    "\\psi^*_{i}(\\zeta) =& b^*_i \\left( 1- \\frac{r_{i,2}^*}{r_{i,1}^*} \\right) e^{- \\tau \\lambda \\zeta} &\\\\\n",
    "\\end{cases}\n",
    "\\end{align*}\n",
    "$$"
   ]
  },
  {
   "cell_type": "markdown",
   "metadata": {},
   "source": [
    "The following property, known as **biorthogonal theorem** may further assist us to both normalize the eigenfunctions of a *non-self-adjoint Riesz spectral operator*; and determine main modes of its spectrum:\n",
    "\n",
    "**Bi-orthogonal theorem:** For every closed, linear operator $\\hat{A}$ on the Hilbert space $Z$ that has simple set of eigenvalues $ \\{ \\lambda_n, n \\geq 1 \\}$ with its corresponding eigenvectors $ \\{ \\Phi_n, n \\geq 1 \\}$ forming a Riesz basis in Z, we can show that:\n",
    "\n",
    "1. If $ \\{ \\Phi^*_n, n \\geq 1 \\}$ are the eigenvectors of the adjoint of A corresponding to the eigenvalues $ \\{ \\lambda_n, n \\geq 1 \\}$, then the eigenvectors can be suitably scaled such that $ < \\Phi_n, \\Phi^*_m > = \\delta_{mn} $\n",
    "\n",
    "2. Every function $ z \\in Z $ can be represented by the following infinite sum:\n",
    "\n",
    "$$ z = \\sum_{n=1}^{\\infty} < z, \\Phi^*_n > \\Phi_n $$\n",
    "\n"
   ]
  },
  {
   "cell_type": "markdown",
   "metadata": {},
   "source": [
    "### Scaling Eigenvectors"
   ]
  },
  {
   "cell_type": "markdown",
   "metadata": {},
   "source": [
    "According to the above theorem, adjoint eigenvectors may be scaled given a set of eigenvectors for the original operator. Therefore, we may arbitrarily set $b_i = 1$ for $ i = 1, 2, ...$ and try to obtain $b^*_i$ for each $i$ using the biorthogonal relation. This will be done by computing the following integral for each set of eigenvectors:"
   ]
  },
  {
   "cell_type": "markdown",
   "metadata": {},
   "source": [
    "$$\n",
    "\\begin{align*}\n",
    "    <\\Phi_i, \\Phi^*_i> = &\\int_{0}^{1} \\Bigl[\\phi_{i} (\\zeta) \\phi^*_{i} (\\zeta) + \\psi_{i} (\\zeta) \\psi^*_{i} (\\zeta) \\Bigr] d\\zeta = 1 & \\\\\n",
    "    =&\\int_{0}^{1} \\Biggl[b_i \\Bigl[ \\bigl( -\\frac{r_{i,2} e^{r_{i,2}}}{r_{i,1} e^{r_{i,1}}}\\bigr) e^{r_{i,1} \\zeta} + e^{r_{i,2} \\zeta}\\Bigr] \\times b^*_i\\Bigl[ - \\frac{r_{i,2}^*}{r_{i,1}^*}e^{r_{i,1}^* \\zeta} + e^{r_{i,2}^* \\zeta} \\Bigr] & \\\\\n",
    "    &\\quad +b_i (1-\\frac{r_{i,2}}{r_{i,1}}) e^{r_{i,2} - \\tau \\lambda} e^{ \\tau \\lambda \\zeta } \\times b^*_i \\Bigl( 1- \\frac{r_{i,2}^*}{r_{i,1}^*} \\Bigr) e^{- \\tau \\lambda \\zeta} \\Biggr] d\\zeta = 1& \\\\\n",
    "\\end{align*}\n",
    "$$\n",
    "\n",
    "Therefore we can write $b_i b^*_i = \\frac{1}{I_i}$ where $I_i$ is given by:\n",
    "\n",
    "$$\n",
    "\\begin{align*}\n",
    "    I_i = \\int_{0}^{1} \\Biggl[\\Bigl[ \\bigl( -\\frac{r_{i,2} e^{r_{i,2}}}{r_{i,1} e^{r_{i,1}}}\\bigr) e^{r_{i,1} \\zeta} + e^{r_{i,2} \\zeta}\\Bigr] \\times \\Bigl[ - \\frac{r_{i,2}^*}{r_{i,1}^*}e^{r_{i,1}^* \\zeta} + e^{r_{i,2}^* \\zeta} \\Bigr]\n",
    "    + (1-\\frac{r_{i,2}}{r_{i,1}}) e^{r_{i,2} - \\tau \\lambda} e^{ \\tau \\lambda \\zeta } \\times \\Bigl( 1- \\frac{r_{i,2}^*}{r_{i,1}^*} \\Bigr) e^{- \\tau \\lambda \\zeta} \\Biggr] d\\zeta\n",
    "\\end{align*}\n",
    "$$\n",
    "\n",
    "which is calculated numerically for $i = 1,2,3$ as follows:"
   ]
  },
  {
   "cell_type": "code",
   "execution_count": 6,
   "metadata": {},
   "outputs": [
    {
     "name": "stdout",
     "output_type": "stream",
     "text": [
      "I_1 = (9.9771+0j)\n",
      "I_2 = (-3.145-2.9551j)\n",
      "I_3 = (-3.145+2.9551j)\n",
      "I_4 = (-4+0.7356j)\n",
      "I_5 = (-4-0.7356j)\n",
      "I_6 = (-4.3168-0.3509j)\n",
      "I_7 = (-4.3168+0.3509j)\n",
      "I_8 = (-4.5644+1.0959j)\n",
      "I_9 = (-4.5644-1.0959j)\n"
     ]
    }
   ],
   "source": [
    "from scipy.integrate import quad\n",
    "\n",
    "I = []\n",
    "\n",
    "for n,l in enumerate(lambdas):\n",
    "    # I.append(quad(eig_fun_mul_1,0,1,args=(default_pars, l),complex_func=True)[0])\n",
    "    y = quad(eig_fun_mul_1,0,1,args=(default_pars, l),complex_func=True)[0]\n",
    "    I.append(y)\n",
    "    print(f'I_{n+1} = {complex(round(y.real,4),round(y.imag,4))}')"
   ]
  },
  {
   "cell_type": "markdown",
   "metadata": {},
   "source": [
    "Having the result of integrals in hands, we may go ahead and scale adjoint eigenfunctions (i.e. calculate `b*`), given `b` is assumed to be equal to 1:"
   ]
  },
  {
   "cell_type": "code",
   "execution_count": 7,
   "metadata": {},
   "outputs": [
    {
     "name": "stdout",
     "output_type": "stream",
     "text": [
      "b*_1 = (0.1002+0j)\n",
      "b*_2 = (-0.1689+0.1587j)\n",
      "b*_3 = (-0.1689-0.1587j)\n",
      "b*_4 = (-0.2418-0.0445j)\n",
      "b*_5 = (-0.2418+0.0445j)\n",
      "b*_6 = (-0.2301+0.0187j)\n",
      "b*_7 = (-0.2301-0.0187j)\n",
      "b*_8 = (-0.2071-0.0497j)\n",
      "b*_9 = (-0.2071+0.0497j)\n"
     ]
    }
   ],
   "source": [
    "b_star = []\n",
    "for n, i in enumerate(I):\n",
    "    y = 1/i\n",
    "    b_star.append(y)\n",
    "    print(f'b*_{n+1} = {complex(round(y.real,4),round(y.imag,4))}')\n",
    "    "
   ]
  },
  {
   "cell_type": "markdown",
   "metadata": {},
   "source": [
    "Having scaled the adjoint eigenfunctions, we may check for the biorthogonality of the resulting sets by calculating the following integral for each pairs of eigenvalue/eigenvectors where $ n \\neq m $:\n",
    "\n",
    "$$\n",
    "\n",
    "<\\Phi_n, \\Phi^*_m> = \\int_{0}^{1} \\Bigl[\\phi_{n} (\\zeta) \\phi^*_{m} (\\zeta) + \\psi_{n} (\\zeta) \\psi^*_{m} (\\zeta) \\Bigr] d\\zeta = 0 \\\\\n",
    "    \n",
    "$$\n",
    "\n",
    "This is done as follows:"
   ]
  },
  {
   "cell_type": "code",
   "execution_count": 12,
   "metadata": {},
   "outputs": [
    {
     "name": "stdout",
     "output_type": "stream",
     "text": [
      "<Phi_1,Phi*_1> = (1+0j)\n",
      "<Phi_2,Phi*_1> = (0.3289-2.8365j)\n",
      "<Phi_2,Phi*_2> = (1+0j)\n",
      "<Phi_3,Phi*_1> = (0.3289+2.8365j)\n",
      "<Phi_3,Phi*_2> = (-0.4705-0.1767j)\n",
      "<Phi_3,Phi*_3> = (1-0j)\n",
      "<Phi_4,Phi*_1> = (-0.2785+0.5879j)\n",
      "<Phi_4,Phi*_2> = (-0.2565+0.4399j)\n",
      "<Phi_4,Phi*_3> = (0.9473+1.3097j)\n",
      "<Phi_4,Phi*_4> = (1-0j)\n",
      "<Phi_5,Phi*_1> = (-0.2785-0.5879j)\n",
      "<Phi_5,Phi*_2> = (0.9473-1.3097j)\n",
      "<Phi_5,Phi*_3> = (-0.2565-0.4399j)\n",
      "<Phi_5,Phi*_4> = (-0.2353+0.1051j)\n",
      "<Phi_5,Phi*_5> = (1+0j)\n",
      "<Phi_6,Phi*_1> = (-0.0911+0.6451j)\n",
      "<Phi_6,Phi*_2> = (-0.2534+0.1431j)\n",
      "<Phi_6,Phi*_3> = (0.2123+0.4296j)\n",
      "<Phi_6,Phi*_4> = (0.5824+0.8049j)\n",
      "<Phi_6,Phi*_5> = (-0.15+0.1338j)\n",
      "<Phi_6,Phi*_6> = (1+0j)\n",
      "<Phi_7,Phi*_1> = (-0.0911-0.6451j)\n",
      "<Phi_7,Phi*_2> = (0.2123-0.4296j)\n",
      "<Phi_7,Phi*_3> = (-0.2534-0.1431j)\n",
      "<Phi_7,Phi*_4> = (-0.15-0.1338j)\n",
      "<Phi_7,Phi*_5> = (0.5824-0.8049j)\n",
      "<Phi_7,Phi*_6> = (-0.0974+0.0763j)\n",
      "<Phi_7,Phi*_7> = (1-0j)\n",
      "<Phi_8,Phi*_1> = (-0.1104-0.4279j)\n",
      "<Phi_8,Phi*_2> = (0.1646-0.3783j)\n",
      "<Phi_8,Phi*_3> = (-0.2147-0.1659j)\n",
      "<Phi_8,Phi*_4> = (-0.1344-0.0472j)\n",
      "<Phi_8,Phi*_5> = (0.2106-0.2821j)\n",
      "<Phi_8,Phi*_6> = (-0.1136-0.058j)\n",
      "<Phi_8,Phi*_7> = (0.3781-0.6402j)\n",
      "<Phi_8,Phi*_8> = (1-0j)\n",
      "<Phi_9,Phi*_1> = (-0.1104+0.4279j)\n",
      "<Phi_9,Phi*_2> = (-0.2147+0.1659j)\n",
      "<Phi_9,Phi*_3> = (0.1646+0.3783j)\n",
      "<Phi_9,Phi*_4> = (0.2106+0.2821j)\n",
      "<Phi_9,Phi*_5> = (-0.1344+0.0472j)\n",
      "<Phi_9,Phi*_6> = (0.3781+0.6402j)\n",
      "<Phi_9,Phi*_7> = (-0.1136+0.058j)\n",
      "<Phi_9,Phi*_8> = (-0.0087-0.0212j)\n",
      "<Phi_9,Phi*_9> = (1+0j)\n"
     ]
    }
   ],
   "source": [
    "for n in range(len(lambdas)):\n",
    "    for m in range(n+1):\n",
    "        l = [lambdas[n], lambdas[m]]\n",
    "        y = quad(eig_fun_mul_1,0,1,args=(default_pars, l, b_star[m]),complex_func=True)[0]\n",
    "        print(f'<Phi_{n+1},Phi*_{m+1}> = {complex(round(y.real,4),round(y.imag,4))}')"
   ]
  },
  {
   "cell_type": "code",
   "execution_count": 17,
   "metadata": {},
   "outputs": [
    {
     "data": {
      "image/png": "[encoded data removed]",
      "text/plain": [
       "<Figure size 640x480 with 1 Axes>"
      ]
     },
     "metadata": {},
     "output_type": "display_data"
    }
   ],
   "source": [
    "import matplotlib.pyplot as plt\n",
    "import numpy as np\n",
    "from functions import *\n",
    "\n",
    "x = np.linspace(0,1,1000)\n",
    "# y = eig_fun_adj_1(x,default_pars,lambdas[17],b_star[17])\n",
    "# y = eig_fun_1(x,default_pars,lambdas[3],b_star[3])\n",
    "y = []\n",
    "for i in range(len(x)):\n",
    "    # y.append([*char_eq_copy([x[i],7.0045],default_pars),0])\n",
    "    y.append(np.real(quad(eig_fun_mul_1,0,x[i],args=(default_pars, [lambdas[0], lambdas[1]], b_star[1]),complex_func=True)[0]))\n",
    "\n",
    "# display(y)\n",
    "plt.plot(x,y)\n",
    "plt.show()"
   ]
  },
  {
   "cell_type": "markdown",
   "metadata": {},
   "source": [
    "# (TO-DO: Modify my_fsolve)\n",
    "\n",
    "Add the constraint to accept an eigenvalue only if it satisfies both $g(\\lambda)$ and $g^*(\\lambda)$. Accuracy must be increased!"
   ]
  },
  {
   "cell_type": "code",
   "execution_count": 10,
   "metadata": {},
   "outputs": [
    {
     "data": {
      "text/plain": [
       "(-0.00912223141596158, 0.010662435375467183)"
      ]
     },
     "execution_count": 10,
     "metadata": {},
     "output_type": "execute_result"
    }
   ],
   "source": [
    "l = lambdas[n_lambdas-2]\n",
    "x = np.real(l), np.imag(l)\n",
    "char_eq_adj(x, default_pars)"
   ]
  },
  {
   "cell_type": "code",
   "execution_count": 11,
   "metadata": {},
   "outputs": [
    {
     "name": "stdout",
     "output_type": "stream",
     "text": [
      "0j\n",
      "0j\n",
      "0j\n",
      "0j\n",
      "0j\n",
      "(-0.003-0.005j)\n",
      "(-0.003+0.005j)\n",
      "(-0.009+0.011j)\n",
      "(-0.009-0.011j)\n"
     ]
    }
   ],
   "source": [
    "for l in lambdas:\n",
    "    x = np.real(l), np.imag(l)\n",
    "    r, i = char_eq_adj(x, default_pars)\n",
    "    f = round(r,3) + round(i,3) * 1j\n",
    "    print(f)"
   ]
  }
 ],
 "metadata": {
  "colab": {
   "collapsed_sections": [
    "rOp8yHdiv26a",
    "C1l2-KpYqZSK"
   ],
   "provenance": []
  },
  "kernelspec": {
   "display_name": "base",
   "language": "python",
   "name": "python3"
  },
  "language_info": {
   "codemirror_mode": {
    "name": "ipython",
    "version": 3
   },
   "file_extension": ".py",
   "mimetype": "text/x-python",
   "name": "python",
   "nbconvert_exporter": "python",
   "pygments_lexer": "ipython3",
   "version": "3.11.5"
  },
  "vscode": {
   "interpreter": {
    "hash": "40d3a090f54c6569ab1632332b64b2c03c39dcf918b08424e98f38b5ae0af88f"
   }
  }
 },
 "nbformat": 4,
 "nbformat_minor": 1
}
