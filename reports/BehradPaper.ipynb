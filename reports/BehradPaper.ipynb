{
 "cells": [
  {
   "cell_type": "markdown",
   "metadata": {
    "id": "ByIufqrO7oiy"
   },
   "source": [
    "Initializing the notebook:"
   ]
  },
  {
   "cell_type": "code",
   "execution_count": 1,
   "metadata": {
    "executionInfo": {
     "elapsed": 7,
     "status": "ok",
     "timestamp": 1674594709346,
     "user": {
      "displayName": "Guilherme Ozorio Cassol",
      "userId": "16524009092046304621"
     },
     "user_tz": 420
    },
    "id": "uEGAWDi23_da"
   },
   "outputs": [
    {
     "name": "stdout",
     "output_type": "stream",
     "text": [
      "New Current Working Directory: /Users/behradmoadeli/Documents/PhD/behrads_papers/reports\n"
     ]
    }
   ],
   "source": [
    "import os\n",
    "from functions import *\n",
    "\n",
    "# Get the directory where the current script is located\n",
    "script_directory = os.getcwd()\n",
    "\n",
    "# Change the current working directory to the script's directory\n",
    "os.chdir(script_directory)\n",
    "\n",
    "# Now the CWD is the same as the script's directory\n",
    "print(\"New Current Working Directory:\", os.getcwd())"
   ]
  },
  {
   "cell_type": "markdown",
   "metadata": {
    "id": "C1l2-KpYqZSK"
   },
   "source": [
    "# System Model\n",
    "\n",
    "Initially, only the equation for one state (temperature or concentration) will be considered. For simplicity, the domain will be $[0,1]$, with Danckwerts boundary conditions:\n",
    "\n",
    "$$\\left\\{\\begin{array}{l} \\dot{x} = D\\partial_{\\zeta\\zeta} x -v\\partial_{\\zeta} x +kx\\\\\n",
    "D\\partial_\\zeta x(0,t)-vx(0,t)=-v[Rx(1,t-\\tau)+(1-R)u(t-\\tau_I)] \\\\\n",
    "\\partial_\\zeta x(1,t)=0 \\\\\n",
    "y(t)=x(1,t-\\tau_O)\n",
    "  \\end{array}\\right. $$\n",
    "\n",
    "This model considers that the input is applied in the reactor's entrance, which is mixed with the recycle from the outlet. Input, output, and state delays are considered and represented by $\\tau_I,\\tau_O$, and $\\tau$, respectively. "
   ]
  },
  {
   "cell_type": "markdown",
   "metadata": {},
   "source": [
    "## Eigenvalue Analysis\n",
    "\n",
    "The eigenvalue problem, defined as $A\\Phi(\\zeta,\\lambda)=\\lambda\\Phi(\\zeta,\\lambda)$, will result in the following system of equation for this system:\n",
    "\n",
    "$$\\left\\{\\begin{array}{l} \\lambda\\phi = D\\partial_{\\zeta\\zeta} \\phi -v\\partial_{\\zeta} \\phi +k\\phi\\\\\n",
    "\\lambda\\phi_D=\\dfrac{1}{\\tau}\\partial_{\\zeta}\\phi_D\\\\\n",
    "D\\partial_\\zeta \\phi(0)-v\\phi(0)=-Rv\\phi_D(0) \\\\\n",
    "\\partial_\\zeta \\phi(1)=0 \\\\\n",
    "\\phi_D(1)=\\phi(1)\\\\\n",
    "  \\end{array}\\right. $$"
   ]
  },
  {
   "attachments": {},
   "cell_type": "markdown",
   "metadata": {},
   "source": [
    "where $\\Phi=[\\phi,\\,\\phi_D]^T$, with $\\phi$ as the state eigenfunction and $\\phi_D$ as the eigenfunction related to the delay. By defining $X=[\\phi,\\, \\partial_{\\zeta}\\phi,\\,\\phi_D]^T$, the following system of ODEs is obtained:\n",
    "\n",
    "$$\n",
    "\\left\\{\\begin{array}{l}\\partial_{\\zeta}X=\\begin{bmatrix} 0 & 1 & 0\\\\ \\dfrac{\\lambda-k}{D} & \\dfrac{v}{D} & 0\\\\0 & 0 & \\tau\\lambda\\end{bmatrix}X=ΛX \\\\\n",
    "DX_2(0)-vX_1(0)=-RvX_3(0) \\\\\n",
    "X_2(1)=0 \\\\\n",
    "X_3(1)=X_1(1)\\\\ \\end{array}\\right.\n",
    "$$"
   ]
  },
  {
   "cell_type": "markdown",
   "metadata": {},
   "source": [
    "## Characteristic Equation"
   ]
  },
  {
   "cell_type": "markdown",
   "metadata": {},
   "source": [
    "This is a system of first order ODE's, and the solution to such systems is given by:\n",
    "\n",
    "$$ X(\\zeta, \\lambda) = e^{\\Lambda \\zeta} X (\\zeta=0, \\lambda) \\\\ \\overset{\\zeta = 1}{\\Rightarrow} X(1, \\lambda) = e^{\\Lambda} X (\\zeta=0) $$"
   ]
  },
  {
   "cell_type": "markdown",
   "metadata": {},
   "source": [
    "Now, let's assume:\n",
    "\n",
    "$$ e^{\\Lambda} = Q(\\lambda) = \\begin{bmatrix} \n",
    "        q_{1} & q_{2} & q_{3} \\\\ q_{4} & q_{5} & q_{6} \\\\ q_{7} & q_{8} & q_{9}\n",
    "    \\end{bmatrix} $$\n"
   ]
  },
  {
   "cell_type": "markdown",
   "metadata": {},
   "source": [
    "Thus, we may write:\n",
    "\n",
    "$$\\left\\{\\begin{array}{l}\n",
    "X_1(1) = q_1 X_1(0) + q_2 X_2(0) + q_3 X_3(0) \\\\\n",
    "X_2(1) = q_4 X_1(0) + q_5 X_2(0) + q_6 X_3(0) \\\\\n",
    "X_3(1) = q_7 X_1(0) + q_8 X_2(0) + q_9 X_3(0)\n",
    "\\end{array}\\right.$$"
   ]
  },
  {
   "cell_type": "markdown",
   "metadata": {},
   "source": [
    "Now, we may go ahead and put the above expressions into boundary conditions to get the following:\n",
    "\n",
    "$$\\left\\{\\begin{array}{l}\n",
    "Dx_2-vx_1=-Rvx_3 \\\\\n",
    "q_4 x_1 + q_5 x_2 + q_6 x_3 = 0 \\\\\n",
    "q_7 x_1 + q_8 x_2 + q_9 x_3 = q_1 x_1 + q_2 x_2 + q_3 x_3\n",
    "\\end{array}\\right. \\Rightarrow \\left\\{\\begin{array}{l}\n",
    "-vx_1 + Dx_2 + Rvx_3 = 0 \\\\\n",
    "q_4 x_1 + q_5 x_2 + q_6 x_3 = 0 \\\\\n",
    "(q_1 - q_7) x_1 + (q_2 - q_8) x_2 + (q_3 - q_9) x_3 = 0\n",
    "\\end{array}\\right.$$\n",
    "\n",
    "\n",
    "where $x_i$ is the same as $X_i(0)$."
   ]
  },
  {
   "attachments": {},
   "cell_type": "markdown",
   "metadata": {},
   "source": [
    "For this particular case, we know that:\n",
    "\n",
    "$$ q_{3} = q_{6} = q_{7} = q_{8} = 0 $$"
   ]
  },
  {
   "attachments": {},
   "cell_type": "markdown",
   "metadata": {},
   "source": [
    "This will further simplify the above system of equions into the following system:\n",
    "\n",
    "$$\\left\\{\\begin{array}{l}\n",
    "-vx_1 + Dx_2 + Rvx_3 = 0 \\\\\n",
    "q_4 x_1 + q_5 x_2 = 0 \\\\\n",
    "q_1 x_1 + q_2 x_2 - q_9 x_3 = 0\n",
    "\\end{array}\\right.$$"
   ]
  },
  {
   "attachments": {},
   "cell_type": "markdown",
   "metadata": {},
   "source": [
    "This is a $3 \\times 3$ system of algebraic equations in the form of $\\bar{A} \\bar{x} = 0 $, with:\n",
    "\n",
    "$$ \\bar{A} = \\begin{bmatrix}\n",
    "-v & D & Rv \\\\\n",
    "q_4 & q_5 & 0 \\\\\n",
    "q_1 & q_2 & -q_9\n",
    "\\end{bmatrix}; \\quad \\bar{x} = \\begin{bmatrix}\n",
    "x_1 \\\\ x_2 \\\\ x_3\n",
    "\\end{bmatrix} $$"
   ]
  },
  {
   "cell_type": "code",
   "execution_count": 2,
   "metadata": {},
   "outputs": [],
   "source": [
    "# Can be improved with symbolic determinant calculation"
   ]
  },
  {
   "attachments": {},
   "cell_type": "markdown",
   "metadata": {},
   "source": [
    " For such a system to have non-trivial solution (i.e. $\\bar{x} \\neq 0$), the dimension of the nullspace of the coefficients matrix $\\bar{A}$ needs to be non-zero. This will happen if and only if the coefficients matrix $\\bar{A}$ is rank-deficient. One way to make sure matrix $ \\bar{A} $ is not full-rank, is to set a linear combination of its rows to be zero, with non-zero coefficients. Multiplying the second row of the matrix by $\\alpha$ and the third row by $\\beta$, we can write:\n",
    "\n",
    "$$\n",
    "\\left\\{\\begin{array}{l}\n",
    "-v + \\alpha q_4 + \\beta q_1 = 0 \\\\\n",
    "D + \\alpha q_5 + \\beta q_2 = 0 \\\\\n",
    "-Rv - \\beta q_9 = 0 \n",
    "\\end{array}\\right.\n",
    "\\Rightarrow\n",
    "\\left\\{\\begin{array}{l}\n",
    "\\alpha q_4 + \\beta q_1 = v \\\\\n",
    "\\alpha q_5 + \\beta q_2 = -D \\\\\n",
    "\\beta q_9 = -Rv \n",
    "\\end{array}\\right.\n",
    "$$"
   ]
  },
  {
   "attachments": {},
   "cell_type": "markdown",
   "metadata": {},
   "source": [
    "The above system is a system of 3 equations and 3 unknowns (i.e. $\\alpha$, $\\beta$, and $\\lambda$, with $\\lambda$ being hidden in $q_i$ terms). By writing $\\alpha$ and $\\beta$ variables based on $q_i$ terms, we can get the characteristic equation.\n",
    "\n",
    "Using the third equation, we can get:\n",
    "\n",
    "$$ \\beta = \\frac{-Rv}{q_9} $$\n",
    "\n",
    "Using the above equation to replace $\\beta$ into the second equation will result in:\n",
    "\n",
    "$$ \\alpha = \\frac{v}{q_4} \\left(1 + \\frac{R q_1}{q_9} \\right) $$\n",
    "\n",
    "Therefore, we can put the above expressions for $\\alpha$ and $\\beta$ into the first equation to get the characteristic equation, which is a non-linear function of the eigenvalue of the system, $\\lambda$:\n",
    "\n",
    "$$ f(\\lambda) = D + v \\frac{q_5}{q_4} \\left( 1 + \\frac{R q_1}{q_9} \\right) - Rv \\frac{q_2}{q_9} = 0 $$"
   ]
  },
  {
   "attachments": {},
   "cell_type": "markdown",
   "metadata": {},
   "source": [
    "We may now multiply both sides of the charactersitic equation by $q_4 q_9$ to avoid numerical errors while solfing for $f(\\lambda)$. This will give:\n",
    "\n",
    "$$ g(\\lambda) = D q_4 q_9 + v [ q_5 q_9 + R (q_1 q_5 - q_2 q_4)] = 0 $$"
   ]
  },
  {
   "cell_type": "markdown",
   "metadata": {},
   "source": [
    "## Numerical Solution"
   ]
  },
  {
   "attachments": {},
   "cell_type": "markdown",
   "metadata": {},
   "source": [
    "Initializing system parameters:"
   ]
  },
  {
   "cell_type": "code",
   "execution_count": 3,
   "metadata": {},
   "outputs": [
    {
     "data": {
      "text/plain": [
       "{'k': 5, 'D': 0.3, 'v': 3, 'tau': 0.1, 'R': 0.5, 'label': 'default'}"
      ]
     },
     "metadata": {},
     "output_type": "display_data"
    }
   ],
   "source": [
    "default_pars = obtain_default_pars('pars_list.csv')\n",
    "display(default_pars)"
   ]
  },
  {
   "cell_type": "markdown",
   "metadata": {},
   "source": [
    "Searching `guess` range to obtain eigenvalues distribution:"
   ]
  },
  {
   "cell_type": "code",
   "execution_count": 4,
   "metadata": {},
   "outputs": [
    {
     "name": "stdout",
     "output_type": "stream",
     "text": [
      "DataFrame with metadata '{'par': {'k': 5, 'D': 0.3, 'v': 3, 'tau': 0.1, 'R': 0.5, 'label': 'default'}, 'guess_range': ([-275, 25, 15], [0, 500, 20]), 'tols': (1e-09, 0.05, 3)}' saved to CSV/default_1.csv\n"
     ]
    }
   ],
   "source": [
    "guess = {\n",
    "    'guess_range_real':[-275,25,15],\n",
    "    'guess_range_imag':[0,500,20]\n",
    "}\n",
    "\n",
    "save_dataframe_to_csv(*find_eig(default_pars, **guess, round_sig_digits=3), 'CSV')"
   ]
  },
  {
   "cell_type": "markdown",
   "metadata": {},
   "source": [
    "Plotting the obtained eigenvalue distribution:"
   ]
  },
  {
   "cell_type": "code",
   "execution_count": 6,
   "metadata": {},
   "outputs": [
    {
     "data": {
      "image/png": "[encoded data removed]",
      "text/plain": [
       "<Figure size 1200x800 with 1 Axes>"
      ]
     },
     "metadata": {},
     "output_type": "display_data"
    },
    {
     "name": "stdout",
     "output_type": "stream",
     "text": [
      "{'par': {'k': 5; 'D': 0.3; 'v': 3; 'tau': 0.1; 'R': 0.5; 'label': 'default'}; 'guess_range': ([-275; 25; 15]; [0; 500; 20]); 'tols': (1e-09; 0.05; 3)}\n"
     ]
    },
    {
     "data": {
      "text/html": [
       "<div>\n",
       "<style scoped>\n",
       "    .dataframe tbody tr th:only-of-type {\n",
       "        vertical-align: middle;\n",
       "    }\n",
       "\n",
       "    .dataframe tbody tr th {\n",
       "        vertical-align: top;\n",
       "    }\n",
       "\n",
       "    .dataframe thead th {\n",
       "        text-align: right;\n",
       "    }\n",
       "</style>\n",
       "<table border=\"1\" class=\"dataframe\">\n",
       "  <thead>\n",
       "    <tr style=\"text-align: right;\">\n",
       "      <th></th>\n",
       "      <th>Sol_r</th>\n",
       "      <th>Sol_i</th>\n",
       "      <th>Guess</th>\n",
       "      <th>g(x)</th>\n",
       "      <th>ier</th>\n",
       "      <th>msg</th>\n",
       "      <th>infodict</th>\n",
       "      <th>instances</th>\n",
       "    </tr>\n",
       "  </thead>\n",
       "  <tbody>\n",
       "    <tr>\n",
       "      <th>0</th>\n",
       "      <td>3.609</td>\n",
       "      <td>0.00</td>\n",
       "      <td>[-17.85714286   0.        ]</td>\n",
       "      <td>1.455192e-11</td>\n",
       "      <td>1</td>\n",
       "      <td>The solution converged.</td>\n",
       "      <td>{'nfev': 4, 'fjac': array([[-1.00000000e+00,  ...</td>\n",
       "      <td>46</td>\n",
       "    </tr>\n",
       "    <tr>\n",
       "      <th>1</th>\n",
       "      <td>-1.606</td>\n",
       "      <td>17.65</td>\n",
       "      <td>[-17.85714286  26.31578947]</td>\n",
       "      <td>9.761721e-11</td>\n",
       "      <td>1</td>\n",
       "      <td>The solution converged.</td>\n",
       "      <td>{'nfev': 4, 'fjac': array([[-0.94969779, -0.31...</td>\n",
       "      <td>4</td>\n",
       "    </tr>\n",
       "    <tr>\n",
       "      <th>2</th>\n",
       "      <td>-1.606</td>\n",
       "      <td>-17.65</td>\n",
       "      <td>[ -1.6056808  -17.65071346]</td>\n",
       "      <td>9.761721e-11</td>\n",
       "      <td>1</td>\n",
       "      <td>The solution converged.</td>\n",
       "      <td>{'nfev': 4, 'fjac': array([[-0.94969779,  0.31...</td>\n",
       "      <td>4</td>\n",
       "    </tr>\n",
       "    <tr>\n",
       "      <th>3</th>\n",
       "      <td>-13.300</td>\n",
       "      <td>40.80</td>\n",
       "      <td>[-39.28571429  26.31578947]</td>\n",
       "      <td>2.118791e-10</td>\n",
       "      <td>1</td>\n",
       "      <td>The solution converged.</td>\n",
       "      <td>{'nfev': 4, 'fjac': array([[-0.9029871 , -0.42...</td>\n",
       "      <td>7</td>\n",
       "    </tr>\n",
       "    <tr>\n",
       "      <th>4</th>\n",
       "      <td>-13.300</td>\n",
       "      <td>-40.80</td>\n",
       "      <td>[-13.30007156 -40.8031539 ]</td>\n",
       "      <td>2.118791e-10</td>\n",
       "      <td>1</td>\n",
       "      <td>The solution converged.</td>\n",
       "      <td>{'nfev': 4, 'fjac': array([[-0.9029871 ,  0.42...</td>\n",
       "      <td>7</td>\n",
       "    </tr>\n",
       "    <tr>\n",
       "      <th>5</th>\n",
       "      <td>-29.400</td>\n",
       "      <td>479.40</td>\n",
       "      <td>[-17.85714286 473.68421053]</td>\n",
       "      <td>1.634284e-02</td>\n",
       "      <td>1</td>\n",
       "      <td>The solution converged.</td>\n",
       "      <td>{'nfev': 4, 'fjac': array([[-0.04840703,  0.99...</td>\n",
       "      <td>3</td>\n",
       "    </tr>\n",
       "    <tr>\n",
       "      <th>6</th>\n",
       "      <td>-29.400</td>\n",
       "      <td>-479.40</td>\n",
       "      <td>[ -29.4022831  -479.37318401]</td>\n",
       "      <td>1.634284e-02</td>\n",
       "      <td>1</td>\n",
       "      <td>The solution converged.</td>\n",
       "      <td>{'nfev': 4, 'fjac': array([[-0.04840703, -0.99...</td>\n",
       "      <td>3</td>\n",
       "    </tr>\n",
       "    <tr>\n",
       "      <th>7</th>\n",
       "      <td>-29.480</td>\n",
       "      <td>67.83</td>\n",
       "      <td>[-17.85714286  78.94736842]</td>\n",
       "      <td>1.746230e-10</td>\n",
       "      <td>1</td>\n",
       "      <td>The solution converged.</td>\n",
       "      <td>{'nfev': 4, 'fjac': array([[-0.9327918 , -0.36...</td>\n",
       "      <td>3</td>\n",
       "    </tr>\n",
       "    <tr>\n",
       "      <th>8</th>\n",
       "      <td>-29.480</td>\n",
       "      <td>-67.83</td>\n",
       "      <td>[-29.48245245 -67.83051303]</td>\n",
       "      <td>1.746230e-10</td>\n",
       "      <td>1</td>\n",
       "      <td>The solution converged.</td>\n",
       "      <td>{'nfev': 4, 'fjac': array([[-0.9327918 ,  0.36...</td>\n",
       "      <td>3</td>\n",
       "    </tr>\n",
       "    <tr>\n",
       "      <th>9</th>\n",
       "      <td>-30.100</td>\n",
       "      <td>-416.60</td>\n",
       "      <td>[ -30.10105588 -416.59181694]</td>\n",
       "      <td>5.803156e-03</td>\n",
       "      <td>1</td>\n",
       "      <td>The solution converged.</td>\n",
       "      <td>{'nfev': 4, 'fjac': array([[-0.97862943, -0.20...</td>\n",
       "      <td>3</td>\n",
       "    </tr>\n",
       "    <tr>\n",
       "      <th>10</th>\n",
       "      <td>-30.100</td>\n",
       "      <td>416.60</td>\n",
       "      <td>[-39.28571429 421.05263158]</td>\n",
       "      <td>5.803156e-03</td>\n",
       "      <td>1</td>\n",
       "      <td>The solution converged.</td>\n",
       "      <td>{'nfev': 4, 'fjac': array([[-0.97862943,  0.20...</td>\n",
       "      <td>3</td>\n",
       "    </tr>\n",
       "    <tr>\n",
       "      <th>11</th>\n",
       "      <td>-30.910</td>\n",
       "      <td>353.80</td>\n",
       "      <td>[-17.85714286 368.42105263]</td>\n",
       "      <td>1.135320e-03</td>\n",
       "      <td>1</td>\n",
       "      <td>The solution converged.</td>\n",
       "      <td>{'nfev': 4, 'fjac': array([[-0.55321872, -0.83...</td>\n",
       "      <td>3</td>\n",
       "    </tr>\n",
       "    <tr>\n",
       "      <th>12</th>\n",
       "      <td>-30.910</td>\n",
       "      <td>-353.80</td>\n",
       "      <td>[ -30.91240889 -353.82981448]</td>\n",
       "      <td>1.135320e-03</td>\n",
       "      <td>1</td>\n",
       "      <td>The solution converged.</td>\n",
       "      <td>{'nfev': 4, 'fjac': array([[-0.55321872,  0.83...</td>\n",
       "      <td>3</td>\n",
       "    </tr>\n",
       "    <tr>\n",
       "      <th>13</th>\n",
       "      <td>-31.880</td>\n",
       "      <td>291.10</td>\n",
       "      <td>[-17.85714286 289.47368421]</td>\n",
       "      <td>3.618940e-05</td>\n",
       "      <td>1</td>\n",
       "      <td>The solution converged.</td>\n",
       "      <td>{'nfev': 4, 'fjac': array([[-0.43967327,  0.89...</td>\n",
       "      <td>2</td>\n",
       "    </tr>\n",
       "    <tr>\n",
       "      <th>14</th>\n",
       "      <td>-31.880</td>\n",
       "      <td>-291.10</td>\n",
       "      <td>[ -31.87880254 -291.10007167]</td>\n",
       "      <td>3.618940e-05</td>\n",
       "      <td>1</td>\n",
       "      <td>The solution converged.</td>\n",
       "      <td>{'nfev': 4, 'fjac': array([[-0.43967327, -0.89...</td>\n",
       "      <td>2</td>\n",
       "    </tr>\n",
       "    <tr>\n",
       "      <th>15</th>\n",
       "      <td>-33.070</td>\n",
       "      <td>-228.40</td>\n",
       "      <td>[ -33.07084235 -228.43301655]</td>\n",
       "      <td>1.066240e-06</td>\n",
       "      <td>1</td>\n",
       "      <td>The solution converged.</td>\n",
       "      <td>{'nfev': 4, 'fjac': array([[-0.96658267, -0.25...</td>\n",
       "      <td>3</td>\n",
       "    </tr>\n",
       "    <tr>\n",
       "      <th>16</th>\n",
       "      <td>-33.070</td>\n",
       "      <td>228.40</td>\n",
       "      <td>[-39.28571429 236.84210526]</td>\n",
       "      <td>1.066240e-06</td>\n",
       "      <td>1</td>\n",
       "      <td>The solution converged.</td>\n",
       "      <td>{'nfev': 4, 'fjac': array([[-0.96658267,  0.25...</td>\n",
       "      <td>3</td>\n",
       "    </tr>\n",
       "    <tr>\n",
       "      <th>17</th>\n",
       "      <td>-34.580</td>\n",
       "      <td>104.30</td>\n",
       "      <td>[-39.28571429 105.26315789]</td>\n",
       "      <td>8.394828e-10</td>\n",
       "      <td>1</td>\n",
       "      <td>The solution converged.</td>\n",
       "      <td>{'nfev': 4, 'fjac': array([[-0.83239294, -0.55...</td>\n",
       "      <td>3</td>\n",
       "    </tr>\n",
       "    <tr>\n",
       "      <th>18</th>\n",
       "      <td>-34.580</td>\n",
       "      <td>-104.30</td>\n",
       "      <td>[ -34.58111888 -104.345579  ]</td>\n",
       "      <td>8.394828e-10</td>\n",
       "      <td>1</td>\n",
       "      <td>The solution converged.</td>\n",
       "      <td>{'nfev': 4, 'fjac': array([[-0.83239294,  0.55...</td>\n",
       "      <td>3</td>\n",
       "    </tr>\n",
       "    <tr>\n",
       "      <th>19</th>\n",
       "      <td>-34.680</td>\n",
       "      <td>165.90</td>\n",
       "      <td>[-17.85714286 184.21052632]</td>\n",
       "      <td>4.012260e-08</td>\n",
       "      <td>1</td>\n",
       "      <td>The solution converged.</td>\n",
       "      <td>{'nfev': 4, 'fjac': array([[-0.93311752, -0.35...</td>\n",
       "      <td>3</td>\n",
       "    </tr>\n",
       "    <tr>\n",
       "      <th>20</th>\n",
       "      <td>-34.680</td>\n",
       "      <td>-165.90</td>\n",
       "      <td>[ -34.67690185 -165.86011579]</td>\n",
       "      <td>4.012260e-08</td>\n",
       "      <td>1</td>\n",
       "      <td>The solution converged.</td>\n",
       "      <td>{'nfev': 4, 'fjac': array([[-0.93311752,  0.35...</td>\n",
       "      <td>3</td>\n",
       "    </tr>\n",
       "    <tr>\n",
       "      <th>21</th>\n",
       "      <td>-79.150</td>\n",
       "      <td>113.30</td>\n",
       "      <td>[-125.           78.94736842]</td>\n",
       "      <td>5.996930e-10</td>\n",
       "      <td>1</td>\n",
       "      <td>The solution converged.</td>\n",
       "      <td>{'nfev': 4, 'fjac': array([[-0.99987454,  0.01...</td>\n",
       "      <td>19</td>\n",
       "    </tr>\n",
       "    <tr>\n",
       "      <th>22</th>\n",
       "      <td>-79.150</td>\n",
       "      <td>-113.30</td>\n",
       "      <td>[ -79.14646197 -113.25469823]</td>\n",
       "      <td>5.996930e-10</td>\n",
       "      <td>1</td>\n",
       "      <td>The solution converged.</td>\n",
       "      <td>{'nfev': 4, 'fjac': array([[-0.99987454, -0.01...</td>\n",
       "      <td>19</td>\n",
       "    </tr>\n",
       "    <tr>\n",
       "      <th>23</th>\n",
       "      <td>-162.000</td>\n",
       "      <td>-150.80</td>\n",
       "      <td>[-161.99637065 -150.79642274]</td>\n",
       "      <td>5.633221e-10</td>\n",
       "      <td>1</td>\n",
       "      <td>The solution converged.</td>\n",
       "      <td>{'nfev': 4, 'fjac': array([[-1.00000000e+00,  ...</td>\n",
       "      <td>45</td>\n",
       "    </tr>\n",
       "    <tr>\n",
       "      <th>24</th>\n",
       "      <td>-162.000</td>\n",
       "      <td>150.80</td>\n",
       "      <td>[-189.28571429   78.94736842]</td>\n",
       "      <td>5.633221e-10</td>\n",
       "      <td>1</td>\n",
       "      <td>The solution converged.</td>\n",
       "      <td>{'nfev': 4, 'fjac': array([[-1.00000000e+00, -...</td>\n",
       "      <td>45</td>\n",
       "    </tr>\n",
       "    <tr>\n",
       "      <th>25</th>\n",
       "      <td>-268.600</td>\n",
       "      <td>188.50</td>\n",
       "      <td>[-275.          157.89473684]</td>\n",
       "      <td>4.876941e-10</td>\n",
       "      <td>1</td>\n",
       "      <td>The solution converged.</td>\n",
       "      <td>{'nfev': 4, 'fjac': array([[-1.0000000e+00,  1...</td>\n",
       "      <td>71</td>\n",
       "    </tr>\n",
       "    <tr>\n",
       "      <th>26</th>\n",
       "      <td>-268.600</td>\n",
       "      <td>-188.50</td>\n",
       "      <td>[-268.58813205 -188.49555918]</td>\n",
       "      <td>4.876941e-10</td>\n",
       "      <td>1</td>\n",
       "      <td>The solution converged.</td>\n",
       "      <td>{'nfev': 4, 'fjac': array([[-1.0000000e+00, -1...</td>\n",
       "      <td>71</td>\n",
       "    </tr>\n",
       "    <tr>\n",
       "      <th>27</th>\n",
       "      <td>-398.900</td>\n",
       "      <td>226.20</td>\n",
       "      <td>[-275.          394.73684211]</td>\n",
       "      <td>1.182418e-09</td>\n",
       "      <td>1</td>\n",
       "      <td>The solution converged.</td>\n",
       "      <td>{'nfev': 4, 'fjac': array([[-1.00000000e+00,  ...</td>\n",
       "      <td>18</td>\n",
       "    </tr>\n",
       "    <tr>\n",
       "      <th>28</th>\n",
       "      <td>-398.900</td>\n",
       "      <td>-226.20</td>\n",
       "      <td>[-398.86691014 -226.19467101]</td>\n",
       "      <td>1.182418e-09</td>\n",
       "      <td>1</td>\n",
       "      <td>The solution converged.</td>\n",
       "      <td>{'nfev': 4, 'fjac': array([[-1.00000000e+00, -...</td>\n",
       "      <td>18</td>\n",
       "    </tr>\n",
       "  </tbody>\n",
       "</table>\n",
       "</div>"
      ],
      "text/plain": [
       "      Sol_r   Sol_i                          Guess          g(x)  ier  \\\n",
       "0     3.609    0.00    [-17.85714286   0.        ]  1.455192e-11    1   \n",
       "1    -1.606   17.65    [-17.85714286  26.31578947]  9.761721e-11    1   \n",
       "2    -1.606  -17.65    [ -1.6056808  -17.65071346]  9.761721e-11    1   \n",
       "3   -13.300   40.80    [-39.28571429  26.31578947]  2.118791e-10    1   \n",
       "4   -13.300  -40.80    [-13.30007156 -40.8031539 ]  2.118791e-10    1   \n",
       "5   -29.400  479.40    [-17.85714286 473.68421053]  1.634284e-02    1   \n",
       "6   -29.400 -479.40  [ -29.4022831  -479.37318401]  1.634284e-02    1   \n",
       "7   -29.480   67.83    [-17.85714286  78.94736842]  1.746230e-10    1   \n",
       "8   -29.480  -67.83    [-29.48245245 -67.83051303]  1.746230e-10    1   \n",
       "9   -30.100 -416.60  [ -30.10105588 -416.59181694]  5.803156e-03    1   \n",
       "10  -30.100  416.60    [-39.28571429 421.05263158]  5.803156e-03    1   \n",
       "11  -30.910  353.80    [-17.85714286 368.42105263]  1.135320e-03    1   \n",
       "12  -30.910 -353.80  [ -30.91240889 -353.82981448]  1.135320e-03    1   \n",
       "13  -31.880  291.10    [-17.85714286 289.47368421]  3.618940e-05    1   \n",
       "14  -31.880 -291.10  [ -31.87880254 -291.10007167]  3.618940e-05    1   \n",
       "15  -33.070 -228.40  [ -33.07084235 -228.43301655]  1.066240e-06    1   \n",
       "16  -33.070  228.40    [-39.28571429 236.84210526]  1.066240e-06    1   \n",
       "17  -34.580  104.30    [-39.28571429 105.26315789]  8.394828e-10    1   \n",
       "18  -34.580 -104.30  [ -34.58111888 -104.345579  ]  8.394828e-10    1   \n",
       "19  -34.680  165.90    [-17.85714286 184.21052632]  4.012260e-08    1   \n",
       "20  -34.680 -165.90  [ -34.67690185 -165.86011579]  4.012260e-08    1   \n",
       "21  -79.150  113.30  [-125.           78.94736842]  5.996930e-10    1   \n",
       "22  -79.150 -113.30  [ -79.14646197 -113.25469823]  5.996930e-10    1   \n",
       "23 -162.000 -150.80  [-161.99637065 -150.79642274]  5.633221e-10    1   \n",
       "24 -162.000  150.80  [-189.28571429   78.94736842]  5.633221e-10    1   \n",
       "25 -268.600  188.50  [-275.          157.89473684]  4.876941e-10    1   \n",
       "26 -268.600 -188.50  [-268.58813205 -188.49555918]  4.876941e-10    1   \n",
       "27 -398.900  226.20  [-275.          394.73684211]  1.182418e-09    1   \n",
       "28 -398.900 -226.20  [-398.86691014 -226.19467101]  1.182418e-09    1   \n",
       "\n",
       "                        msg  \\\n",
       "0   The solution converged.   \n",
       "1   The solution converged.   \n",
       "2   The solution converged.   \n",
       "3   The solution converged.   \n",
       "4   The solution converged.   \n",
       "5   The solution converged.   \n",
       "6   The solution converged.   \n",
       "7   The solution converged.   \n",
       "8   The solution converged.   \n",
       "9   The solution converged.   \n",
       "10  The solution converged.   \n",
       "11  The solution converged.   \n",
       "12  The solution converged.   \n",
       "13  The solution converged.   \n",
       "14  The solution converged.   \n",
       "15  The solution converged.   \n",
       "16  The solution converged.   \n",
       "17  The solution converged.   \n",
       "18  The solution converged.   \n",
       "19  The solution converged.   \n",
       "20  The solution converged.   \n",
       "21  The solution converged.   \n",
       "22  The solution converged.   \n",
       "23  The solution converged.   \n",
       "24  The solution converged.   \n",
       "25  The solution converged.   \n",
       "26  The solution converged.   \n",
       "27  The solution converged.   \n",
       "28  The solution converged.   \n",
       "\n",
       "                                             infodict  instances  \n",
       "0   {'nfev': 4, 'fjac': array([[-1.00000000e+00,  ...         46  \n",
       "1   {'nfev': 4, 'fjac': array([[-0.94969779, -0.31...          4  \n",
       "2   {'nfev': 4, 'fjac': array([[-0.94969779,  0.31...          4  \n",
       "3   {'nfev': 4, 'fjac': array([[-0.9029871 , -0.42...          7  \n",
       "4   {'nfev': 4, 'fjac': array([[-0.9029871 ,  0.42...          7  \n",
       "5   {'nfev': 4, 'fjac': array([[-0.04840703,  0.99...          3  \n",
       "6   {'nfev': 4, 'fjac': array([[-0.04840703, -0.99...          3  \n",
       "7   {'nfev': 4, 'fjac': array([[-0.9327918 , -0.36...          3  \n",
       "8   {'nfev': 4, 'fjac': array([[-0.9327918 ,  0.36...          3  \n",
       "9   {'nfev': 4, 'fjac': array([[-0.97862943, -0.20...          3  \n",
       "10  {'nfev': 4, 'fjac': array([[-0.97862943,  0.20...          3  \n",
       "11  {'nfev': 4, 'fjac': array([[-0.55321872, -0.83...          3  \n",
       "12  {'nfev': 4, 'fjac': array([[-0.55321872,  0.83...          3  \n",
       "13  {'nfev': 4, 'fjac': array([[-0.43967327,  0.89...          2  \n",
       "14  {'nfev': 4, 'fjac': array([[-0.43967327, -0.89...          2  \n",
       "15  {'nfev': 4, 'fjac': array([[-0.96658267, -0.25...          3  \n",
       "16  {'nfev': 4, 'fjac': array([[-0.96658267,  0.25...          3  \n",
       "17  {'nfev': 4, 'fjac': array([[-0.83239294, -0.55...          3  \n",
       "18  {'nfev': 4, 'fjac': array([[-0.83239294,  0.55...          3  \n",
       "19  {'nfev': 4, 'fjac': array([[-0.93311752, -0.35...          3  \n",
       "20  {'nfev': 4, 'fjac': array([[-0.93311752,  0.35...          3  \n",
       "21  {'nfev': 4, 'fjac': array([[-0.99987454,  0.01...         19  \n",
       "22  {'nfev': 4, 'fjac': array([[-0.99987454, -0.01...         19  \n",
       "23  {'nfev': 4, 'fjac': array([[-1.00000000e+00,  ...         45  \n",
       "24  {'nfev': 4, 'fjac': array([[-1.00000000e+00, -...         45  \n",
       "25  {'nfev': 4, 'fjac': array([[-1.0000000e+00,  1...         71  \n",
       "26  {'nfev': 4, 'fjac': array([[-1.0000000e+00, -1...         71  \n",
       "27  {'nfev': 4, 'fjac': array([[-1.00000000e+00,  ...         18  \n",
       "28  {'nfev': 4, 'fjac': array([[-1.00000000e+00, -...         18  "
      ]
     },
     "metadata": {},
     "output_type": "display_data"
    }
   ],
   "source": [
    "df, label, metadata = plot_single_df(\n",
    "        'CSV/default_1.csv', filter=False,\n",
    "        real_lower_bound=-200, real_upper_bound=10, imag_lower_bound=-300, imag_upper_bound=300\n",
    ")\n",
    "display(df)"
   ]
  },
  {
   "cell_type": "markdown",
   "metadata": {},
   "source": [
    "First, we define a handful of functions to ease the following tasks:\n",
    "\n",
    "- Writing solution dataframes to csv files with corresponding parameters as their filename, which may also contain other data as their first line.\n",
    "- Reading those csv files created above and saving them into a dataframe, with correct label ad metadata.\n",
    "- Reading csv files containing different sets of parameters and saving them to a list of dictionaries, with each parameters set being a dictionary.\n",
    "- clustering duplicate eigenvalues in the resulting dataframe using two methods:\n",
    "    - Utilizing significant digits\n",
    "    - Using HDBSCAN clustering method\n",
    "- Plotting a single dataframe of solutions\n",
    "- Plotting a series of solutions, each with diferent title (parameters set) to compare"
   ]
  },
  {
   "cell_type": "markdown",
   "metadata": {},
   "source": [
    "\n",
    "It is necessary to define a function that gives the value of the characteristic equation at each $\\lambda$. This can be later used in the main function, *find_eig()* to get a complete set of solutions. The charachteristic equiation is defined in the function *char_eq(x)*."
   ]
  },
  {
   "cell_type": "markdown",
   "metadata": {},
   "source": [
    "Now we may define a function to find the eigenvalues for the characteristic equation. This function takes the following optional keyword argument:\n",
    "\n",
    "- par (dict): A dictionary containing parameters for the system's matrix. If not provided, keys may be passed separately. Absent keys will take default values.\n",
    "- guess_single (complex): A single initial guess for eigenvalue calculation (real + imaginary part).\n",
    "- guess_range_real (list): A list specifying the range of real parts of initial guess values.\n",
    "- guess_range_imag (list): A list specifying the range of imaginary parts of initial guess values.\n",
    "- tol_fsolve (float): Tolerance for fsolve array-like comaprison to converge.\n",
    "- tol_is_sol (float): Tolerance for a complex solution to be accepted.\n",
    "- round_sig_digits (float): Number of significant digits to either separate two different solutions or merge them as one.\n",
    "\n",
    "It is designed to return a tuple with the following:\n",
    "\n",
    "- solution_df (pandas.DataFrame): DataFrame containing found solutions' information.\n",
    "- label (str): A label describing the customized parameters used for the computation.\n",
    "- metadata (dict): A dictionary containing input arguments values used in the computation, other than the parameters.\n"
   ]
  },
  {
   "attachments": {},
   "cell_type": "markdown",
   "metadata": {},
   "source": [
    "# Eigenvalue Distribution Analysis\n",
    "\n",
    "In this step, we want to evaluate system's eigenvalues. Furthermore, we are interested in the effects of system parameters on its eigenvalue distribution. First, we obtain the eigenvalue distribution for a system with default parameters, a.k.a. the default system:"
   ]
  },
  {
   "cell_type": "code",
   "execution_count": null,
   "metadata": {},
   "outputs": [],
   "source": [
    "# Solve and plot for default_par\n",
    "df, label, metadata = find_eig()\n",
    "\n",
    "plot_single_df(df, label, metadata, filter=False)\n",
    "print(df)"
   ]
  },
  {
   "cell_type": "markdown",
   "metadata": {},
   "source": [
    "Now we change the default parameters and define new parameter sets to obtain new systems. Then we call the solver function using the customized parameter values to see how changing each parameter will affect the eigenvalue distribution of the system:"
   ]
  },
  {
   "cell_type": "code",
   "execution_count": null,
   "metadata": {},
   "outputs": [],
   "source": [
    "pars_list = create_custom_pars_list('pars_list.csv')\n",
    "for par in pars_list:\n",
    "    df, label, metadata = find_eig(par=par)\n",
    "    save_dataframe_to_csv(df, label, 'CSV', metadata)"
   ]
  },
  {
   "cell_type": "code",
   "execution_count": null,
   "metadata": {},
   "outputs": [],
   "source": [
    "plot_multiple_datasets('CSV')"
   ]
  }
 ],
 "metadata": {
  "colab": {
   "collapsed_sections": [
    "rOp8yHdiv26a",
    "C1l2-KpYqZSK"
   ],
   "provenance": []
  },
  "kernelspec": {
   "display_name": "base",
   "language": "python",
   "name": "python3"
  },
  "language_info": {
   "codemirror_mode": {
    "name": "ipython",
    "version": 3
   },
   "file_extension": ".py",
   "mimetype": "text/x-python",
   "name": "python",
   "nbconvert_exporter": "python",
   "pygments_lexer": "ipython3",
   "version": "3.9.17"
  },
  "vscode": {
   "interpreter": {
    "hash": "40d3a090f54c6569ab1632332b64b2c03c39dcf918b08424e98f38b5ae0af88f"
   }
  }
 },
 "nbformat": 4,
 "nbformat_minor": 1
}
