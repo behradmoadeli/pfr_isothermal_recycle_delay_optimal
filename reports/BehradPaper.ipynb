{
 "cells": [
  {
   "cell_type": "markdown",
   "metadata": {
    "id": "ByIufqrO7oiy"
   },
   "source": [
    "Initializing the notebook:"
   ]
  },
  {
   "cell_type": "code",
   "execution_count": 1,
   "metadata": {
    "executionInfo": {
     "elapsed": 7,
     "status": "ok",
     "timestamp": 1674594709346,
     "user": {
      "displayName": "Guilherme Ozorio Cassol",
      "userId": "16524009092046304621"
     },
     "user_tz": 420
    },
    "id": "uEGAWDi23_da"
   },
   "outputs": [
    {
     "name": "stdout",
     "output_type": "stream",
     "text": [
      "New Current Working Directory: /Users/behradmoadeli/Documents/PhD/behrads_papers/reports\n"
     ]
    }
   ],
   "source": [
    "import os\n",
    "import numpy as np\n",
    "from functions import *\n",
    "\n",
    "# Get the directory where the current script is located\n",
    "script_directory = os.getcwd()\n",
    "\n",
    "# Change the current working directory to the script's directory\n",
    "os.chdir(script_directory)\n",
    "\n",
    "# Now the CWD is the same as the script's directory\n",
    "print(\"New Current Working Directory:\", os.getcwd())"
   ]
  },
  {
   "cell_type": "markdown",
   "metadata": {
    "id": "C1l2-KpYqZSK"
   },
   "source": [
    "# System Model\n",
    "\n",
    "Initially, only the equation for one state (temperature or concentration) will be considered. For simplicity, the domain will be $[0,1]$, with Danckwerts boundary conditions:\n",
    "\n",
    "$$\\left\\{\\begin{array}{l} \\dot{x} = D\\partial_{\\zeta\\zeta} x -v\\partial_{\\zeta} x +kx\\\\\n",
    "D\\partial_\\zeta x(0,t)-vx(0,t)=-v[Rx(1,t-\\tau)+(1-R)u(t-\\tau_I)] \\\\\n",
    "\\partial_\\zeta x(1,t)=0 \\\\\n",
    "y(t)=x(1,t-\\tau_O)\n",
    "  \\end{array}\\right. $$\n",
    "\n",
    "This model considers that the input is applied in the reactor's entrance, which is mixed with the recycle from the outlet. Input, output, and state delays are considered and represented by $\\tau_I,\\tau_O$, and $\\tau$, respectively. "
   ]
  },
  {
   "cell_type": "markdown",
   "metadata": {},
   "source": [
    "## Eigenvalue Analysis\n",
    "\n",
    "The eigenvalue problem, defined as $A\\Phi(\\zeta,\\lambda)=\\lambda\\Phi(\\zeta,\\lambda)$, will result in the following system of equation for this system:\n",
    "\n",
    "$$\\left\\{\\begin{array}{l} \\lambda\\phi = D\\partial_{\\zeta\\zeta} \\phi -v\\partial_{\\zeta} \\phi +k\\phi\\\\\n",
    "\\lambda\\psi=\\dfrac{1}{\\tau}\\partial_{\\zeta}\\psi\\\\\n",
    "D\\partial_\\zeta \\phi(0)-v\\phi(0)=-Rv\\psi(0) \\\\\n",
    "\\partial_\\zeta \\phi(1)=0 \\\\\n",
    "\\psi(1)=\\phi(1)\\\\\n",
    "  \\end{array}\\right. $$"
   ]
  },
  {
   "attachments": {},
   "cell_type": "markdown",
   "metadata": {},
   "source": [
    "where $\\Phi=[\\phi,\\,\\psi]^T$, with $\\phi$ as the state eigenfunction and $\\psi$ as the eigenfunction related to the delay. By defining $X=[\\phi,\\, \\partial_{\\zeta}\\phi,\\,\\psi]^T$, the following system of ODEs is obtained:\n",
    "\n",
    "$$\n",
    "\\left\\{\\begin{array}{l}\\partial_{\\zeta}X=\\begin{bmatrix} 0 & 1 & 0\\\\ \\dfrac{\\lambda-k}{D} & \\dfrac{v}{D} & 0\\\\0 & 0 & \\tau\\lambda\\end{bmatrix}X=ΛX \\\\\n",
    "DX_2(0)-vX_1(0)=-RvX_3(0) \\\\\n",
    "X_2(1)=0 \\\\\n",
    "X_3(1)=X_1(1)\\\\ \\end{array}\\right.\n",
    "$$"
   ]
  },
  {
   "cell_type": "markdown",
   "metadata": {},
   "source": [
    "## Characteristic Equation"
   ]
  },
  {
   "cell_type": "markdown",
   "metadata": {},
   "source": [
    "This is a system of first order ODE's, and the solution to such systems is given by:\n",
    "\n",
    "$$ X(\\zeta, \\lambda) = e^{\\Lambda \\zeta} X (\\zeta=0, \\lambda) \\\\ \\overset{\\zeta = 1}{\\Rightarrow} X(1, \\lambda) = e^{\\Lambda} X (\\zeta=0) $$"
   ]
  },
  {
   "cell_type": "markdown",
   "metadata": {},
   "source": [
    "Now, let's assume:\n",
    "\n",
    "$$ e^{\\Lambda} = Q(\\lambda) = \\begin{bmatrix} \n",
    "        q_{1} & q_{2} & q_{3} \\\\ q_{4} & q_{5} & q_{6} \\\\ q_{7} & q_{8} & q_{9}\n",
    "    \\end{bmatrix} $$\n"
   ]
  },
  {
   "cell_type": "markdown",
   "metadata": {},
   "source": [
    "Thus, we may write:\n",
    "\n",
    "$$\\left\\{\\begin{array}{l}\n",
    "X_1(1) = q_1 X_1(0) + q_2 X_2(0) + q_3 X_3(0) \\\\\n",
    "X_2(1) = q_4 X_1(0) + q_5 X_2(0) + q_6 X_3(0) \\\\\n",
    "X_3(1) = q_7 X_1(0) + q_8 X_2(0) + q_9 X_3(0)\n",
    "\\end{array}\\right.$$"
   ]
  },
  {
   "cell_type": "markdown",
   "metadata": {},
   "source": [
    "Now, we may go ahead and put the above expressions into boundary conditions to get the following:\n",
    "\n",
    "$$\\left\\{\\begin{array}{l}\n",
    "Dx_2-vx_1=-Rvx_3 \\\\\n",
    "q_4 x_1 + q_5 x_2 + q_6 x_3 = 0 \\\\\n",
    "q_7 x_1 + q_8 x_2 + q_9 x_3 = q_1 x_1 + q_2 x_2 + q_3 x_3\n",
    "\\end{array}\\right. \\Rightarrow \\left\\{\\begin{array}{l}\n",
    "-vx_1 + Dx_2 + Rvx_3 = 0 \\\\\n",
    "q_4 x_1 + q_5 x_2 + q_6 x_3 = 0 \\\\\n",
    "(q_1 - q_7) x_1 + (q_2 - q_8) x_2 + (q_3 - q_9) x_3 = 0\n",
    "\\end{array}\\right.$$\n",
    "\n",
    "\n",
    "where $x_i$ is the same as $X_i(0)$."
   ]
  },
  {
   "attachments": {},
   "cell_type": "markdown",
   "metadata": {},
   "source": [
    "For this particular case, we know that:\n",
    "\n",
    "$$ q_{3} = q_{6} = q_{7} = q_{8} = 0 $$"
   ]
  },
  {
   "attachments": {},
   "cell_type": "markdown",
   "metadata": {},
   "source": [
    "This will further simplify the above system of equions into the following system:\n",
    "\n",
    "$$\\left\\{\\begin{array}{l}\n",
    "-vx_1 + Dx_2 + Rvx_3 = 0 \\\\\n",
    "q_4 x_1 + q_5 x_2 = 0 \\\\\n",
    "q_1 x_1 + q_2 x_2 - q_9 x_3 = 0\n",
    "\\end{array}\\right.$$"
   ]
  },
  {
   "attachments": {},
   "cell_type": "markdown",
   "metadata": {},
   "source": [
    "This is a $3 \\times 3$ system of algebraic equations in the form of $\\bar{A} \\bar{x} = 0 $, with:\n",
    "\n",
    "$$ \\bar{A} = \\begin{bmatrix}\n",
    "-v & D & Rv \\\\\n",
    "q_4 & q_5 & 0 \\\\\n",
    "q_1 & q_2 & -q_9\n",
    "\\end{bmatrix}; \\quad \\bar{x} = \\begin{bmatrix}\n",
    "x_1 \\\\ x_2 \\\\ x_3\n",
    "\\end{bmatrix} $$"
   ]
  },
  {
   "cell_type": "markdown",
   "metadata": {},
   "source": [
    " For such a system to have non-trivial solution (i.e. $\\bar{x} \\neq 0$), the dimension of the nullspace of the coefficients matrix $\\bar{A}$ needs to be non-zero. This will happen if and only if the coefficients matrix $\\bar{A}$ is rank-deficient. One way to make sure matrix $ \\bar{A} $ is not full-rank, is to set its determinant equal to zero. Doing so and further simplifying the result will give the characteristic equation as following:\n",
    "$$\n",
    "\\begin{align*}\n",
    "    &\\frac{e^{(\\lambda t+\\frac{v}{2D})}\\sinh{(\\frac{\\sqrt{v^2-4D\\left(k-\\lambda\\right)}}{2D})}(v^2+2D^2)}{\\sqrt{v^2-4D\\left(k-\\lambda\\right)}}\\\\\n",
    "    -& \\frac{v\\sqrt{v^2-4D\\left(k-\\lambda\\right)}\\left(Re^{(\\frac{v}{D})}-\\cosh{(\\frac{\\sqrt{v^2-4D\\left(k-\\lambda\\right)}}{2D})}\\right)}{\\sqrt{v^2-4D\\left(k-\\lambda\\right)}} = 0\n",
    "\\end{align*}\n",
    "$$\n",
    "\n",
    "The denominator is the same on both sides. Therefore, we solve for the numerators first to obtain a potential solutoin:\n",
    "\n",
    "$$\n",
    "\\begin{align*}\n",
    "    &e^{(\\lambda t+\\frac{v}{2D})}\\sinh{(\\frac{\\sqrt{v^2-4D\\left(k-\\lambda\\right)}}{2D})}(v^2+2D^2)\\\\\n",
    "    - &v\\sqrt{v^2-4D\\left(k-\\lambda\\right)}\\left(Re^{(\\frac{v}{D})}-\\cosh{(\\frac{\\sqrt{v^2-4D\\left(k-\\lambda\\right)}}{2D})}\\right) = 0\n",
    "\\end{align*}\n",
    "$$\n",
    "\n",
    "and then check the following:\n",
    "\n",
    "1. The denominator does not go to zero close to the obtained solution. In this case, the potential solution is a solution for the original equation.\n",
    "2. The denominator goes to zero close to the obtained solution. In this case, the following must be checked:\n",
    "\n",
    "$$\n",
    "\\begin{equation}\n",
    "    e^{(\\lambda t+\\frac{v}{2D})}\\left(D+2\\left(k-\\lambda\\right)\\right) - v\\left(Re^{(\\frac{v}{D})}-1\\right) = 0\n",
    "\\end{equation}\n",
    "$$\n",
    "\n",
    "which is the $\\lim_{\\lambda \\rightarrow \\lambda_0}\\frac{N(\\lambda)}{D(\\lambda)}$, where $\\lambda_0$ is the potential solution. $\\lambda_0$ is the solution to the original equation only if the above expression holds true."
   ]
  },
  {
   "cell_type": "markdown",
   "metadata": {},
   "source": [
    "## Numerical Solution"
   ]
  },
  {
   "attachments": {},
   "cell_type": "markdown",
   "metadata": {},
   "source": [
    "Initializing system parameters:"
   ]
  },
  {
   "cell_type": "code",
   "execution_count": 3,
   "metadata": {},
   "outputs": [
    {
     "data": {
      "text/plain": [
       "{'k': 5, 'D': 0.3, 'v': 3, 'tau': 0.1, 'R': 0.5, 'label': 'default'}"
      ]
     },
     "metadata": {},
     "output_type": "display_data"
    }
   ],
   "source": [
    "default_pars = obtain_default_pars('pars_list.csv')\n",
    "display(default_pars)"
   ]
  },
  {
   "cell_type": "markdown",
   "metadata": {},
   "source": [
    "Searching `guess` range to obtain eigenvalues distribution:"
   ]
  },
  {
   "cell_type": "code",
   "execution_count": 4,
   "metadata": {},
   "outputs": [
    {
     "name": "stdout",
     "output_type": "stream",
     "text": [
      "Solution has already been saved in the appropriate location.\n"
     ]
    }
   ],
   "source": [
    "if not os.path.exists('CSV/default.csv'):\n",
    "    guess = {\n",
    "        'guess_range_real':[-275,25,30],\n",
    "        'guess_range_imag':[0,500,40]\n",
    "    }\n",
    "    save_dataframe_to_csv(*find_eig(default_pars, **guess, round_sig_digits=3), 'CSV')\n",
    "else:\n",
    "    print(\"Solution has already been saved in the appropriate location.\")"
   ]
  },
  {
   "cell_type": "markdown",
   "metadata": {},
   "source": [
    "Plotting the obtained eigenvalue distribution:"
   ]
  },
  {
   "cell_type": "code",
   "execution_count": 5,
   "metadata": {},
   "outputs": [
    {
     "data": {
      "image/png": "[encoded data removed]",
      "text/plain": [
       "<Figure size 1200x800 with 1 Axes>"
      ]
     },
     "metadata": {},
     "output_type": "display_data"
    },
    {
     "name": "stdout",
     "output_type": "stream",
     "text": [
      "{'par': {'k': 5; 'D': 0.3; 'v': 3; 'tau': 0.1; 'R': 0.5; 'label': 'default'}; 'guess_range': ([-275; 25; 30]; [0; 500; 40]); 'tols': (1e-09; 0.05; 3)}\n"
     ]
    },
    {
     "data": {
      "text/html": [
       "<div>\n",
       "<style scoped>\n",
       "    .dataframe tbody tr th:only-of-type {\n",
       "        vertical-align: middle;\n",
       "    }\n",
       "\n",
       "    .dataframe tbody tr th {\n",
       "        vertical-align: top;\n",
       "    }\n",
       "\n",
       "    .dataframe thead th {\n",
       "        text-align: right;\n",
       "    }\n",
       "</style>\n",
       "<table border=\"1\" class=\"dataframe\">\n",
       "  <thead>\n",
       "    <tr style=\"text-align: right;\">\n",
       "      <th></th>\n",
       "      <th>Sol_r</th>\n",
       "      <th>Sol_i</th>\n",
       "      <th>Guess</th>\n",
       "      <th>g(x)</th>\n",
       "      <th>ier</th>\n",
       "      <th>msg</th>\n",
       "      <th>infodict</th>\n",
       "      <th>instances</th>\n",
       "    </tr>\n",
       "  </thead>\n",
       "  <tbody>\n",
       "    <tr>\n",
       "      <th>0</th>\n",
       "      <td>3.609</td>\n",
       "      <td>0.00</td>\n",
       "      <td>[-6.03448276  0.        ]</td>\n",
       "      <td>1.455192e-11</td>\n",
       "      <td>1</td>\n",
       "      <td>The solution converged.</td>\n",
       "      <td>{'nfev': 4, 'fjac': array([[-1.,  0.],\\n      ...</td>\n",
       "      <td>182</td>\n",
       "    </tr>\n",
       "    <tr>\n",
       "      <th>1</th>\n",
       "      <td>-1.606</td>\n",
       "      <td>17.65</td>\n",
       "      <td>[-26.72413793  12.82051282]</td>\n",
       "      <td>9.761721e-11</td>\n",
       "      <td>1</td>\n",
       "      <td>The solution converged.</td>\n",
       "      <td>{'nfev': 4, 'fjac': array([[-0.94969779, -0.31...</td>\n",
       "      <td>27</td>\n",
       "    </tr>\n",
       "    <tr>\n",
       "      <th>2</th>\n",
       "      <td>-1.606</td>\n",
       "      <td>-17.65</td>\n",
       "      <td>[ -1.6056808  -17.65071346]</td>\n",
       "      <td>9.761721e-11</td>\n",
       "      <td>1</td>\n",
       "      <td>The solution converged.</td>\n",
       "      <td>{'nfev': 4, 'fjac': array([[-0.94969779,  0.31...</td>\n",
       "      <td>27</td>\n",
       "    </tr>\n",
       "    <tr>\n",
       "      <th>3</th>\n",
       "      <td>-13.300</td>\n",
       "      <td>40.80</td>\n",
       "      <td>[-16.37931034  38.46153846]</td>\n",
       "      <td>2.118791e-10</td>\n",
       "      <td>1</td>\n",
       "      <td>The solution converged.</td>\n",
       "      <td>{'nfev': 4, 'fjac': array([[-0.9029871 , -0.42...</td>\n",
       "      <td>27</td>\n",
       "    </tr>\n",
       "    <tr>\n",
       "      <th>4</th>\n",
       "      <td>-13.300</td>\n",
       "      <td>-40.80</td>\n",
       "      <td>[-13.30007156 -40.8031539 ]</td>\n",
       "      <td>2.118791e-10</td>\n",
       "      <td>1</td>\n",
       "      <td>The solution converged.</td>\n",
       "      <td>{'nfev': 4, 'fjac': array([[-0.9029871 ,  0.42...</td>\n",
       "      <td>27</td>\n",
       "    </tr>\n",
       "    <tr>\n",
       "      <th>5</th>\n",
       "      <td>-29.400</td>\n",
       "      <td>-479.40</td>\n",
       "      <td>[ -29.4022831  -479.37318401]</td>\n",
       "      <td>1.634284e-02</td>\n",
       "      <td>1</td>\n",
       "      <td>The solution converged.</td>\n",
       "      <td>{'nfev': 4, 'fjac': array([[-0.04840703, -0.99...</td>\n",
       "      <td>13</td>\n",
       "    </tr>\n",
       "    <tr>\n",
       "      <th>6</th>\n",
       "      <td>-29.400</td>\n",
       "      <td>479.40</td>\n",
       "      <td>[-37.06896552 474.35897436]</td>\n",
       "      <td>1.634284e-02</td>\n",
       "      <td>1</td>\n",
       "      <td>The solution converged.</td>\n",
       "      <td>{'nfev': 4, 'fjac': array([[-0.04840703,  0.99...</td>\n",
       "      <td>13</td>\n",
       "    </tr>\n",
       "    <tr>\n",
       "      <th>7</th>\n",
       "      <td>-29.480</td>\n",
       "      <td>67.83</td>\n",
       "      <td>[-37.06896552  64.1025641 ]</td>\n",
       "      <td>1.746230e-10</td>\n",
       "      <td>1</td>\n",
       "      <td>The solution converged.</td>\n",
       "      <td>{'nfev': 4, 'fjac': array([[-0.9327918 , -0.36...</td>\n",
       "      <td>20</td>\n",
       "    </tr>\n",
       "    <tr>\n",
       "      <th>8</th>\n",
       "      <td>-29.480</td>\n",
       "      <td>-67.83</td>\n",
       "      <td>[-29.48245245 -67.83051303]</td>\n",
       "      <td>1.746230e-10</td>\n",
       "      <td>1</td>\n",
       "      <td>The solution converged.</td>\n",
       "      <td>{'nfev': 4, 'fjac': array([[-0.9327918 ,  0.36...</td>\n",
       "      <td>20</td>\n",
       "    </tr>\n",
       "    <tr>\n",
       "      <th>9</th>\n",
       "      <td>-30.100</td>\n",
       "      <td>-416.60</td>\n",
       "      <td>[ -30.10105588 -416.59181694]</td>\n",
       "      <td>5.803156e-03</td>\n",
       "      <td>1</td>\n",
       "      <td>The solution converged.</td>\n",
       "      <td>{'nfev': 4, 'fjac': array([[-0.97862943, -0.20...</td>\n",
       "      <td>14</td>\n",
       "    </tr>\n",
       "    <tr>\n",
       "      <th>10</th>\n",
       "      <td>-30.100</td>\n",
       "      <td>416.60</td>\n",
       "      <td>[-37.06896552 410.25641026]</td>\n",
       "      <td>5.803156e-03</td>\n",
       "      <td>1</td>\n",
       "      <td>The solution converged.</td>\n",
       "      <td>{'nfev': 4, 'fjac': array([[-0.97862943,  0.20...</td>\n",
       "      <td>14</td>\n",
       "    </tr>\n",
       "    <tr>\n",
       "      <th>11</th>\n",
       "      <td>-30.910</td>\n",
       "      <td>353.80</td>\n",
       "      <td>[-26.72413793 346.15384615]</td>\n",
       "      <td>1.135320e-03</td>\n",
       "      <td>1</td>\n",
       "      <td>The solution converged.</td>\n",
       "      <td>{'nfev': 4, 'fjac': array([[-0.55321872, -0.83...</td>\n",
       "      <td>11</td>\n",
       "    </tr>\n",
       "    <tr>\n",
       "      <th>12</th>\n",
       "      <td>-30.910</td>\n",
       "      <td>-353.80</td>\n",
       "      <td>[ -30.91240889 -353.82981448]</td>\n",
       "      <td>1.135320e-03</td>\n",
       "      <td>1</td>\n",
       "      <td>The solution converged.</td>\n",
       "      <td>{'nfev': 4, 'fjac': array([[-0.55321872,  0.83...</td>\n",
       "      <td>11</td>\n",
       "    </tr>\n",
       "    <tr>\n",
       "      <th>13</th>\n",
       "      <td>-31.880</td>\n",
       "      <td>291.10</td>\n",
       "      <td>[-37.06896552 282.05128205]</td>\n",
       "      <td>3.618940e-05</td>\n",
       "      <td>1</td>\n",
       "      <td>The solution converged.</td>\n",
       "      <td>{'nfev': 4, 'fjac': array([[-0.43967327,  0.89...</td>\n",
       "      <td>12</td>\n",
       "    </tr>\n",
       "    <tr>\n",
       "      <th>14</th>\n",
       "      <td>-31.880</td>\n",
       "      <td>-291.10</td>\n",
       "      <td>[ -31.87880254 -291.10007167]</td>\n",
       "      <td>3.618940e-05</td>\n",
       "      <td>1</td>\n",
       "      <td>The solution converged.</td>\n",
       "      <td>{'nfev': 4, 'fjac': array([[-0.43967327, -0.89...</td>\n",
       "      <td>12</td>\n",
       "    </tr>\n",
       "    <tr>\n",
       "      <th>15</th>\n",
       "      <td>-33.070</td>\n",
       "      <td>228.40</td>\n",
       "      <td>[-37.06896552 230.76923077]</td>\n",
       "      <td>1.066240e-06</td>\n",
       "      <td>1</td>\n",
       "      <td>The solution converged.</td>\n",
       "      <td>{'nfev': 4, 'fjac': array([[-0.96658267,  0.25...</td>\n",
       "      <td>10</td>\n",
       "    </tr>\n",
       "    <tr>\n",
       "      <th>16</th>\n",
       "      <td>-33.070</td>\n",
       "      <td>-228.40</td>\n",
       "      <td>[ -33.07084235 -228.43301655]</td>\n",
       "      <td>1.066240e-06</td>\n",
       "      <td>1</td>\n",
       "      <td>The solution converged.</td>\n",
       "      <td>{'nfev': 4, 'fjac': array([[-0.96658267, -0.25...</td>\n",
       "      <td>10</td>\n",
       "    </tr>\n",
       "    <tr>\n",
       "      <th>17</th>\n",
       "      <td>-34.580</td>\n",
       "      <td>-104.30</td>\n",
       "      <td>[ -34.58111888 -104.345579  ]</td>\n",
       "      <td>8.394828e-10</td>\n",
       "      <td>1</td>\n",
       "      <td>The solution converged.</td>\n",
       "      <td>{'nfev': 4, 'fjac': array([[-0.83239294,  0.55...</td>\n",
       "      <td>10</td>\n",
       "    </tr>\n",
       "    <tr>\n",
       "      <th>18</th>\n",
       "      <td>-34.580</td>\n",
       "      <td>104.30</td>\n",
       "      <td>[-37.06896552 102.56410256]</td>\n",
       "      <td>8.394828e-10</td>\n",
       "      <td>1</td>\n",
       "      <td>The solution converged.</td>\n",
       "      <td>{'nfev': 4, 'fjac': array([[-0.83239294, -0.55...</td>\n",
       "      <td>10</td>\n",
       "    </tr>\n",
       "    <tr>\n",
       "      <th>19</th>\n",
       "      <td>-34.680</td>\n",
       "      <td>165.90</td>\n",
       "      <td>[-37.06896552 166.66666667]</td>\n",
       "      <td>4.012260e-08</td>\n",
       "      <td>1</td>\n",
       "      <td>The solution converged.</td>\n",
       "      <td>{'nfev': 4, 'fjac': array([[-0.93311752, -0.35...</td>\n",
       "      <td>11</td>\n",
       "    </tr>\n",
       "    <tr>\n",
       "      <th>20</th>\n",
       "      <td>-34.680</td>\n",
       "      <td>-165.90</td>\n",
       "      <td>[ -34.67690185 -165.86011579]</td>\n",
       "      <td>4.012260e-08</td>\n",
       "      <td>1</td>\n",
       "      <td>The solution converged.</td>\n",
       "      <td>{'nfev': 4, 'fjac': array([[-0.93311752,  0.35...</td>\n",
       "      <td>11</td>\n",
       "    </tr>\n",
       "    <tr>\n",
       "      <th>21</th>\n",
       "      <td>-79.150</td>\n",
       "      <td>-113.30</td>\n",
       "      <td>[ -79.14646197 -113.25469823]</td>\n",
       "      <td>5.042884e-10</td>\n",
       "      <td>1</td>\n",
       "      <td>The solution converged.</td>\n",
       "      <td>{'nfev': 4, 'fjac': array([[-0.99987454, -0.01...</td>\n",
       "      <td>85</td>\n",
       "    </tr>\n",
       "    <tr>\n",
       "      <th>22</th>\n",
       "      <td>-79.150</td>\n",
       "      <td>113.30</td>\n",
       "      <td>[-99.13793103  12.82051282]</td>\n",
       "      <td>5.042884e-10</td>\n",
       "      <td>1</td>\n",
       "      <td>The solution converged.</td>\n",
       "      <td>{'nfev': 4, 'fjac': array([[-0.99987454,  0.01...</td>\n",
       "      <td>85</td>\n",
       "    </tr>\n",
       "    <tr>\n",
       "      <th>23</th>\n",
       "      <td>-162.000</td>\n",
       "      <td>150.80</td>\n",
       "      <td>[-161.20689655    0.        ]</td>\n",
       "      <td>5.633221e-10</td>\n",
       "      <td>1</td>\n",
       "      <td>The solution converged.</td>\n",
       "      <td>{'nfev': 4, 'fjac': array([[-1.00000000e+00, -...</td>\n",
       "      <td>177</td>\n",
       "    </tr>\n",
       "    <tr>\n",
       "      <th>24</th>\n",
       "      <td>-162.000</td>\n",
       "      <td>-150.80</td>\n",
       "      <td>[-161.99637065 -150.79642274]</td>\n",
       "      <td>5.633221e-10</td>\n",
       "      <td>1</td>\n",
       "      <td>The solution converged.</td>\n",
       "      <td>{'nfev': 4, 'fjac': array([[-1.00000000e+00,  ...</td>\n",
       "      <td>177</td>\n",
       "    </tr>\n",
       "    <tr>\n",
       "      <th>25</th>\n",
       "      <td>-268.600</td>\n",
       "      <td>188.50</td>\n",
       "      <td>[-264.65517241  141.02564103]</td>\n",
       "      <td>4.876941e-10</td>\n",
       "      <td>1</td>\n",
       "      <td>The solution converged.</td>\n",
       "      <td>{'nfev': 4, 'fjac': array([[-1.0000000e+00,  1...</td>\n",
       "      <td>297</td>\n",
       "    </tr>\n",
       "    <tr>\n",
       "      <th>26</th>\n",
       "      <td>-268.600</td>\n",
       "      <td>-188.50</td>\n",
       "      <td>[-268.58813205 -188.49555918]</td>\n",
       "      <td>4.876941e-10</td>\n",
       "      <td>1</td>\n",
       "      <td>The solution converged.</td>\n",
       "      <td>{'nfev': 4, 'fjac': array([[-1.0000000e+00, -1...</td>\n",
       "      <td>297</td>\n",
       "    </tr>\n",
       "    <tr>\n",
       "      <th>27</th>\n",
       "      <td>-398.900</td>\n",
       "      <td>-226.20</td>\n",
       "      <td>[-398.86691014 -226.19467101]</td>\n",
       "      <td>1.182418e-09</td>\n",
       "      <td>1</td>\n",
       "      <td>The solution converged.</td>\n",
       "      <td>{'nfev': 4, 'fjac': array([[-1.00000000e+00, -...</td>\n",
       "      <td>64</td>\n",
       "    </tr>\n",
       "    <tr>\n",
       "      <th>28</th>\n",
       "      <td>-398.900</td>\n",
       "      <td>226.20</td>\n",
       "      <td>[-275.          384.61538462]</td>\n",
       "      <td>1.182418e-09</td>\n",
       "      <td>1</td>\n",
       "      <td>The solution converged.</td>\n",
       "      <td>{'nfev': 4, 'fjac': array([[-1.00000000e+00,  ...</td>\n",
       "      <td>64</td>\n",
       "    </tr>\n",
       "  </tbody>\n",
       "</table>\n",
       "</div>"
      ],
      "text/plain": [
       "      Sol_r   Sol_i                          Guess          g(x)  ier  \\\n",
       "0     3.609    0.00      [-6.03448276  0.        ]  1.455192e-11    1   \n",
       "1    -1.606   17.65    [-26.72413793  12.82051282]  9.761721e-11    1   \n",
       "2    -1.606  -17.65    [ -1.6056808  -17.65071346]  9.761721e-11    1   \n",
       "3   -13.300   40.80    [-16.37931034  38.46153846]  2.118791e-10    1   \n",
       "4   -13.300  -40.80    [-13.30007156 -40.8031539 ]  2.118791e-10    1   \n",
       "5   -29.400 -479.40  [ -29.4022831  -479.37318401]  1.634284e-02    1   \n",
       "6   -29.400  479.40    [-37.06896552 474.35897436]  1.634284e-02    1   \n",
       "7   -29.480   67.83    [-37.06896552  64.1025641 ]  1.746230e-10    1   \n",
       "8   -29.480  -67.83    [-29.48245245 -67.83051303]  1.746230e-10    1   \n",
       "9   -30.100 -416.60  [ -30.10105588 -416.59181694]  5.803156e-03    1   \n",
       "10  -30.100  416.60    [-37.06896552 410.25641026]  5.803156e-03    1   \n",
       "11  -30.910  353.80    [-26.72413793 346.15384615]  1.135320e-03    1   \n",
       "12  -30.910 -353.80  [ -30.91240889 -353.82981448]  1.135320e-03    1   \n",
       "13  -31.880  291.10    [-37.06896552 282.05128205]  3.618940e-05    1   \n",
       "14  -31.880 -291.10  [ -31.87880254 -291.10007167]  3.618940e-05    1   \n",
       "15  -33.070  228.40    [-37.06896552 230.76923077]  1.066240e-06    1   \n",
       "16  -33.070 -228.40  [ -33.07084235 -228.43301655]  1.066240e-06    1   \n",
       "17  -34.580 -104.30  [ -34.58111888 -104.345579  ]  8.394828e-10    1   \n",
       "18  -34.580  104.30    [-37.06896552 102.56410256]  8.394828e-10    1   \n",
       "19  -34.680  165.90    [-37.06896552 166.66666667]  4.012260e-08    1   \n",
       "20  -34.680 -165.90  [ -34.67690185 -165.86011579]  4.012260e-08    1   \n",
       "21  -79.150 -113.30  [ -79.14646197 -113.25469823]  5.042884e-10    1   \n",
       "22  -79.150  113.30    [-99.13793103  12.82051282]  5.042884e-10    1   \n",
       "23 -162.000  150.80  [-161.20689655    0.        ]  5.633221e-10    1   \n",
       "24 -162.000 -150.80  [-161.99637065 -150.79642274]  5.633221e-10    1   \n",
       "25 -268.600  188.50  [-264.65517241  141.02564103]  4.876941e-10    1   \n",
       "26 -268.600 -188.50  [-268.58813205 -188.49555918]  4.876941e-10    1   \n",
       "27 -398.900 -226.20  [-398.86691014 -226.19467101]  1.182418e-09    1   \n",
       "28 -398.900  226.20  [-275.          384.61538462]  1.182418e-09    1   \n",
       "\n",
       "                        msg  \\\n",
       "0   The solution converged.   \n",
       "1   The solution converged.   \n",
       "2   The solution converged.   \n",
       "3   The solution converged.   \n",
       "4   The solution converged.   \n",
       "5   The solution converged.   \n",
       "6   The solution converged.   \n",
       "7   The solution converged.   \n",
       "8   The solution converged.   \n",
       "9   The solution converged.   \n",
       "10  The solution converged.   \n",
       "11  The solution converged.   \n",
       "12  The solution converged.   \n",
       "13  The solution converged.   \n",
       "14  The solution converged.   \n",
       "15  The solution converged.   \n",
       "16  The solution converged.   \n",
       "17  The solution converged.   \n",
       "18  The solution converged.   \n",
       "19  The solution converged.   \n",
       "20  The solution converged.   \n",
       "21  The solution converged.   \n",
       "22  The solution converged.   \n",
       "23  The solution converged.   \n",
       "24  The solution converged.   \n",
       "25  The solution converged.   \n",
       "26  The solution converged.   \n",
       "27  The solution converged.   \n",
       "28  The solution converged.   \n",
       "\n",
       "                                             infodict  instances  \n",
       "0   {'nfev': 4, 'fjac': array([[-1.,  0.],\\n      ...        182  \n",
       "1   {'nfev': 4, 'fjac': array([[-0.94969779, -0.31...         27  \n",
       "2   {'nfev': 4, 'fjac': array([[-0.94969779,  0.31...         27  \n",
       "3   {'nfev': 4, 'fjac': array([[-0.9029871 , -0.42...         27  \n",
       "4   {'nfev': 4, 'fjac': array([[-0.9029871 ,  0.42...         27  \n",
       "5   {'nfev': 4, 'fjac': array([[-0.04840703, -0.99...         13  \n",
       "6   {'nfev': 4, 'fjac': array([[-0.04840703,  0.99...         13  \n",
       "7   {'nfev': 4, 'fjac': array([[-0.9327918 , -0.36...         20  \n",
       "8   {'nfev': 4, 'fjac': array([[-0.9327918 ,  0.36...         20  \n",
       "9   {'nfev': 4, 'fjac': array([[-0.97862943, -0.20...         14  \n",
       "10  {'nfev': 4, 'fjac': array([[-0.97862943,  0.20...         14  \n",
       "11  {'nfev': 4, 'fjac': array([[-0.55321872, -0.83...         11  \n",
       "12  {'nfev': 4, 'fjac': array([[-0.55321872,  0.83...         11  \n",
       "13  {'nfev': 4, 'fjac': array([[-0.43967327,  0.89...         12  \n",
       "14  {'nfev': 4, 'fjac': array([[-0.43967327, -0.89...         12  \n",
       "15  {'nfev': 4, 'fjac': array([[-0.96658267,  0.25...         10  \n",
       "16  {'nfev': 4, 'fjac': array([[-0.96658267, -0.25...         10  \n",
       "17  {'nfev': 4, 'fjac': array([[-0.83239294,  0.55...         10  \n",
       "18  {'nfev': 4, 'fjac': array([[-0.83239294, -0.55...         10  \n",
       "19  {'nfev': 4, 'fjac': array([[-0.93311752, -0.35...         11  \n",
       "20  {'nfev': 4, 'fjac': array([[-0.93311752,  0.35...         11  \n",
       "21  {'nfev': 4, 'fjac': array([[-0.99987454, -0.01...         85  \n",
       "22  {'nfev': 4, 'fjac': array([[-0.99987454,  0.01...         85  \n",
       "23  {'nfev': 4, 'fjac': array([[-1.00000000e+00, -...        177  \n",
       "24  {'nfev': 4, 'fjac': array([[-1.00000000e+00,  ...        177  \n",
       "25  {'nfev': 4, 'fjac': array([[-1.0000000e+00,  1...        297  \n",
       "26  {'nfev': 4, 'fjac': array([[-1.0000000e+00, -1...        297  \n",
       "27  {'nfev': 4, 'fjac': array([[-1.00000000e+00, -...         64  \n",
       "28  {'nfev': 4, 'fjac': array([[-1.00000000e+00,  ...         64  "
      ]
     },
     "metadata": {},
     "output_type": "display_data"
    }
   ],
   "source": [
    "df, label, metadata = plot_single_df(\n",
    "        'CSV/default.csv', filter=False,\n",
    "        real_lower_bound=-200, real_upper_bound=10, imag_lower_bound=-300, imag_upper_bound=300\n",
    ")\n",
    "display(df)"
   ]
  },
  {
   "cell_type": "markdown",
   "metadata": {},
   "source": [
    "We can check the hyperbolic curve to see if it is converging to a negative value:"
   ]
  },
  {
   "cell_type": "code",
   "execution_count": 6,
   "metadata": {},
   "outputs": [
    {
     "data": {
      "text/html": [
       "<div>\n",
       "<style scoped>\n",
       "    .dataframe tbody tr th:only-of-type {\n",
       "        vertical-align: middle;\n",
       "    }\n",
       "\n",
       "    .dataframe tbody tr th {\n",
       "        vertical-align: top;\n",
       "    }\n",
       "\n",
       "    .dataframe thead th {\n",
       "        text-align: right;\n",
       "    }\n",
       "</style>\n",
       "<table border=\"1\" class=\"dataframe\">\n",
       "  <thead>\n",
       "    <tr style=\"text-align: right;\">\n",
       "      <th></th>\n",
       "      <th>Sol_r</th>\n",
       "      <th>Sol_i</th>\n",
       "      <th>slope</th>\n",
       "    </tr>\n",
       "  </thead>\n",
       "  <tbody>\n",
       "    <tr>\n",
       "      <th>0</th>\n",
       "      <td>-34.68</td>\n",
       "      <td>165.9</td>\n",
       "      <td>2.6%</td>\n",
       "    </tr>\n",
       "    <tr>\n",
       "      <th>1</th>\n",
       "      <td>-33.07</td>\n",
       "      <td>228.4</td>\n",
       "      <td>1.9%</td>\n",
       "    </tr>\n",
       "    <tr>\n",
       "      <th>2</th>\n",
       "      <td>-31.88</td>\n",
       "      <td>291.1</td>\n",
       "      <td>1.5%</td>\n",
       "    </tr>\n",
       "    <tr>\n",
       "      <th>3</th>\n",
       "      <td>-30.91</td>\n",
       "      <td>353.8</td>\n",
       "      <td>1.3%</td>\n",
       "    </tr>\n",
       "    <tr>\n",
       "      <th>4</th>\n",
       "      <td>-30.10</td>\n",
       "      <td>416.6</td>\n",
       "      <td>1.1%</td>\n",
       "    </tr>\n",
       "    <tr>\n",
       "      <th>5</th>\n",
       "      <td>-29.40</td>\n",
       "      <td>479.4</td>\n",
       "      <td>0.0</td>\n",
       "    </tr>\n",
       "  </tbody>\n",
       "</table>\n",
       "</div>"
      ],
      "text/plain": [
       "   Sol_r  Sol_i slope\n",
       "0 -34.68  165.9  2.6%\n",
       "1 -33.07  228.4  1.9%\n",
       "2 -31.88  291.1  1.5%\n",
       "3 -30.91  353.8  1.3%\n",
       "4 -30.10  416.6  1.1%\n",
       "5 -29.40  479.4   0.0"
      ]
     },
     "execution_count": 6,
     "metadata": {},
     "output_type": "execute_result"
    }
   ],
   "source": [
    "filtered_df = df.loc[(df['Sol_r']>-50) & (df['Sol_i']>105),['Sol_r', 'Sol_i']]\n",
    "filtered_df['slope'] = np.zeros_like(filtered_df['Sol_r'])\n",
    "filtered_df.sort_values(by='Sol_i')\n",
    "for i in range(1,len(filtered_df)):\n",
    "    s = (\n",
    "        (filtered_df.iloc[i-1,0] - filtered_df.iloc[i,0]) *100/ \n",
    "        (filtered_df.iloc[i-1,1] - filtered_df.iloc[i,1])\n",
    "    )\n",
    "    s_percent = str(f\"{np.round(s,1)}%\")\n",
    "    filtered_df.iloc[i,2] = s_percent\n",
    "filtered_df.sort_values(by='Sol_i', ascending=True).reset_index(drop=True)"
   ]
  },
  {
   "cell_type": "markdown",
   "metadata": {},
   "source": [
    "As we can see, the difference between the real part of two consecutive eigenvalues of the hyperbolic region goes to zero as the imaginary part of those eigenvalues grow. In addition, the real part of all of these eigenvalues are well below zero. Hence, we can state that the real part of hyperbolic eigenvalues converge in the negative region as the imaginary part grows. Now we may move forward to the next step, where we determine which eigenvalues are mainly contributing to the dynamics of the system."
   ]
  },
  {
   "cell_type": "markdown",
   "metadata": {},
   "source": [
    "## Obtaining Eigenfunctions\n",
    "\n",
    "Having obtained the eigenvalues of the open-loop system, we may go ahead and find the eigenfunction corresponding to each eigenvalue. To do so, we plug in the eigenvalue into the eigenvalue problem and form a system of ODE's. Solving the resulting system will give the eigenvalue's corresponding eigenfunction. We start by 3 eigenvalues with largest real parts. These values are stored in `lambdas` as follows:"
   ]
  },
  {
   "cell_type": "code",
   "execution_count": 7,
   "metadata": {},
   "outputs": [
    {
     "data": {
      "text/plain": [
       "[(3.609+0j), (-1.606+17.65j), (-1.606-17.65j)]"
      ]
     },
     "metadata": {},
     "output_type": "display_data"
    }
   ],
   "source": [
    "lambdas = []\n",
    "for index, row in df.head(3).iterrows():\n",
    "    lambdas.append(complex(row['Sol_r'], row['Sol_i']))\n",
    "    \n",
    "display(lambdas)\n",
    "    "
   ]
  },
  {
   "cell_type": "markdown",
   "metadata": {},
   "source": [
    "which is:\n",
    "\n",
    "$$\\left\\{\\begin{array}{l}\n",
    "\\lambda_1 &=& &3.609 &+& 0j &\\\\\n",
    "\\lambda_2 &=& -&1.606 &+& 17.65j &\\\\\n",
    "\\lambda_3 &=& -&1.606 &-& 17.65j &\\\\\n",
    "\\end{array}\\right. $$"
   ]
  },
  {
   "cell_type": "markdown",
   "metadata": {},
   "source": [
    "The problem of finding the eigenfunctions is now reduced to solving a system of linear ODEs  for each $\\lambda_{i}$, containing a first order and a second order ODE.\n",
    "\n",
    "$$\\left\\{\\begin{array}{l}\n",
    "D\\partial_{\\zeta\\zeta} \\phi &-v\\partial_{\\zeta} \\phi &+(k-\\lambda) \\phi &= 0 &\\\\\n",
    "\\, \\\\\n",
    "&\\dfrac{1}{\\tau}\\partial_{\\zeta}\\psi &- \\lambda\\psi &= 0 &\\\\\n",
    "\\end{array}\\right. $$"
   ]
  },
  {
   "cell_type": "markdown",
   "metadata": {},
   "source": [
    "It can be proven that the resulting characteristic equation for the second order ODE will always have 2 distinct roots as long as $\\lambda \\neq -2.5$. Therefore, the general form of the required eigenfunction looks like the following:\n",
    "\n",
    "$$\\left\\{\\begin{array}{l}\n",
    "\\phi_{i}(\\zeta) =& a e^{r_{1}\\zeta} + b e^{r_{2}\\zeta} &\\\\\n",
    "\\psi_{i}(\\zeta) =& c e^{\\tau \\lambda \\zeta} &\\\\\n",
    "\\end{array}\\right. $$\n",
    "\n",
    "where $a, b,$ and $c$ are unknown coefficients that can be determined by applying boundary conditions. Also, $r_{1,2}$, the roots of the second order ODE, shall obtained as follows:\n",
    "\n",
    "$$\n",
    "{r_{1,2}}_i = \\frac{v \\pm \\sqrt{v^2+4D\\left(\\lambda_i-k\\right)}}{2D} \\quad \\text{for } i=1,2,3\n",
    "$$"
   ]
  },
  {
   "cell_type": "markdown",
   "metadata": {},
   "source": [
    "Applying the following boundary conditions:\n",
    "\n",
    "$$\\left\\{\\begin{array}{l}\n",
    "D \\partial_{\\zeta} \\phi (0) - v \\phi (0) &=& -R v \\psi (0) \\\\\n",
    "\\, \\\\\n",
    "\\partial_{\\zeta} \\phi (1) &=& 0 \\\\\n",
    "\\, \\\\\n",
    "\\phi(1) &=& \\psi(1) \\\\\n",
    "\\end{array}\\right. $$\n",
    "\n",
    "will result in the following system of linear algebraic equations that can ive us the coefficients $a, b,$ and $c$:\n",
    "\n",
    "$$\\left\\{\\begin{array}{l}\n",
    "D ( a r_1 + b r_2) - v (a + b) &=& -Rvc \\\\\n",
    "\\, \\\\\n",
    "a r_1 e^{r_1} + b r_2 e^{r_2} &=& 0 \\\\\n",
    "\\, \\\\\n",
    "a e^{r_1} + b e^{r_2} &=& c e^{\\tau \\lambda} \\\\\n",
    "\\end{array}\\right.$$"
   ]
  },
  {
   "cell_type": "markdown",
   "metadata": {},
   "source": [
    "The above system of algebraic equation is rank deficient, resulting in one of the coefficient to be equal to $\\frac{0}{0}$. Here, we decided to keep `b` and obtain `a`, `c` as functions of `b`:\n",
    "\n",
    "$$\\begin{align*}\n",
    "\\begin{cases}\n",
    "a = -\\frac{r_2 e^{r_2}}{r_1 e^{r_1}}b \\\\\n",
    "\\, \\\\\n",
    "c = e^{r_2 - \\tau \\lambda}(1-\\frac{r_2}{r_1}) b\\\\\n",
    "\\end{cases}\n",
    "\\end{align*}\n",
    "$$"
   ]
  },
  {
   "cell_type": "markdown",
   "metadata": {},
   "source": [
    "The third equation will be redundant, as shown below:\n",
    "\n",
    "$$\\begin{align*}\n",
    "b \\times \\Bigl(g(\\lambda_i)\\Bigr) = 0\n",
    "\\end{align*}\n",
    "$$\n",
    "\n",
    "where $g(\\lambda_i)$ is the charecteristic equation of the operator $\\hat{A}$, and is always equal to zero. Therefore, the third equation will give:\n",
    "\n",
    "$$\\begin{align*}\n",
    "b \\times 0 = 0 \\Rightarrow b = \\frac{0}{0}\n",
    "\\end{align*}\n",
    "$$\n",
    "\n",
    "which is expected according to the explanation above."
   ]
  },
  {
   "cell_type": "markdown",
   "metadata": {},
   "source": [
    "Thus, each set of eigenfunctions $[\\phi_i, \\psi_i]^T$ will be obtained after solving the above system of equations for their correspoding eigenvalue $\\lambda_i$, with a normalization coefficient remaining to be calculated, i.e. `b` in this case:\n",
    "$$\n",
    "\\begin{align*}\n",
    "\\Rightarrow \\begin{cases}\n",
    "\\phi_{i}(\\zeta) =& [e^{r_{2}(\\zeta-1)} - (\\frac{r_2}{r_1}) e^{r_{1}(\\zeta-1)}]b e^{r_{2}}&\\\\\n",
    "\\, \\\\\n",
    "\\psi_{i}(\\zeta) =& (1-\\frac{r_2}{r_1}) b e^{r_2 + \\tau \\lambda (\\zeta - 1)} &\\\\\n",
    "\\end{cases}\n",
    "\\end{align*}\n",
    "$$"
   ]
  },
  {
   "cell_type": "markdown",
   "metadata": {},
   "source": [
    "\n",
    "To obtain the normalization coefficient, we first need to see whether or not the operator $\\hat{A}$ is self-adjoint. This will be done by calculating ${\\hat{A}}^{*}$ and then checking if $\\hat{A} = {\\hat{A}}^{*}$:\n",
    "\n",
    "$$\n",
    "\\begin{align*}\n",
    "    &\\begin{cases}\n",
    "        &\\hat{A} (.) =\n",
    "        &\\begin{bmatrix}\n",
    "            D\\partial_{\\zeta\\zeta} (.) -v\\partial_{\\zeta} (.) +k(.) & 0 \\\\\n",
    "            0 & \\dfrac{1}{\\tau}\\partial_{\\zeta} (.)\n",
    "        \\end{bmatrix} \\\\\n",
    "        \\, \\\\\n",
    "        &B.C. \\quad : \\quad &\\begin{cases}\n",
    "            D\\partial_\\zeta \\phi(0)-v\\phi(0)=-Rv\\psi(0) \\\\\n",
    "            \\partial_\\zeta \\phi(1)=0 \\\\\n",
    "            \\psi(1)=\\phi(1)\n",
    "        \\end{cases}\n",
    "    \\end{cases}\\\\\n",
    "    \\, \\\\\n",
    "    <\\hat{A} \\Phi, \\Psi> = <\\Phi, {\\hat{A}}^{*} \\Psi> \\Rightarrow\n",
    "    &\\begin{cases}\n",
    "        &{\\hat{A}}^{*} (.) =\n",
    "        &\\begin{bmatrix}\n",
    "            D\\partial_{\\zeta\\zeta} (.) +v\\partial_{\\zeta} (.) +k(.) & 0\\\\\n",
    "            0 & \\dfrac{1}{\\tau}\\partial_{\\zeta} (.)\n",
    "        \\end{bmatrix} \\\\\n",
    "        \\, \\\\\n",
    "        &B.C. \\quad : \\quad &\\begin{cases}\n",
    "            D\\partial_\\zeta \\phi^{*}(1)+v\\phi^{*}(1)=-Rv\\psi^{*}(1) \\\\\n",
    "            \\partial_\\zeta \\phi^{*}(0)=0 \\\\\n",
    "            \\psi^{*}(0)=\\phi^{*}(0)\n",
    "        \\end{cases}\n",
    "    \\end{cases}\n",
    "    \\Rightarrow \\hat{A} \\neq {\\hat{A}}^{*}\n",
    "\\end{align*}\n",
    "$$\n",
    "\n",
    "Therefore, operator $\\hat{A}$ is not self adjoint. In this case, the normalization coeficient may be obtained using the following theorem:"
   ]
  },
  {
   "cell_type": "markdown",
   "metadata": {},
   "source": [
    "### (To Do: Put bi-orthonormal theorem)"
   ]
  },
  {
   "cell_type": "markdown",
   "metadata": {},
   "source": [
    "Before doing so, we need to make sure if $\\hat{A}$ and $\\hat{A}^*$ share the same set of eigenvalues. This is done by obtaining and solving the characteristics equation for $\\hat{A}^*$ as follows:"
   ]
  },
  {
   "cell_type": "markdown",
   "metadata": {},
   "source": [
    "### Adjoint Eigenvalue Analysis\n",
    "\n",
    "The eigenvalue problem, defined as $\\hat{A}^*\\Phi(\\zeta,\\lambda)=\\lambda\\Phi(\\zeta,\\lambda)$, will result in the following system of equation for this system:\n",
    "\n",
    "$$\\left\\{\\begin{array}{l} \\lambda\\phi = D\\partial_{\\zeta\\zeta} \\phi +v\\partial_{\\zeta} \\phi +k\\phi\\\\\n",
    "\\lambda\\psi=\\dfrac{1}{\\tau}\\partial_{\\zeta}\\psi\\\\\n",
    "D\\partial_\\zeta \\phi(1)+v\\phi(1)=-Rv\\psi(1) \\\\\n",
    "\\partial_\\zeta \\phi(0)=0 \\\\\n",
    "\\psi(0)=\\phi(0)\\\\\n",
    "  \\end{array}\\right. $$"
   ]
  },
  {
   "cell_type": "markdown",
   "metadata": {},
   "source": [
    "where $\\Phi=[\\phi,\\,\\psi]^T$, with $\\phi$ as the state eigenfunction and $\\psi$ as the eigenfunction related to the delay. By defining $X=[\\phi,\\, \\partial_{\\zeta}\\phi,\\,\\psi]^T$, the following system of ODEs is obtained:\n",
    "\n",
    "$$\n",
    "\\left\\{\\begin{array}{l}\\partial_{\\zeta}X=\\begin{bmatrix} 0 & 1 & 0\\\\ \\dfrac{\\lambda-k}{D} & \\dfrac{-v}{D} & 0\\\\0 & 0 & \\tau\\lambda\\end{bmatrix}X=ΛX \\\\\n",
    "DX_2(1)+vX_1(1)=-RvX_3(1) \\\\\n",
    "X_2(0)=0 \\\\\n",
    "X_3(0)=X_1(0)\\\\ \\end{array}\\right.\n",
    "$$"
   ]
  },
  {
   "cell_type": "markdown",
   "metadata": {},
   "source": [
    "### Adjoint Characteristic Equation"
   ]
  },
  {
   "cell_type": "markdown",
   "metadata": {},
   "source": [
    "This is a system of first order ODE's, and the solution to such systems is given by:\n",
    "\n",
    "$$ X(\\zeta, \\lambda) = e^{\\Lambda (\\zeta-\\zeta=1)} X (\\zeta=1, \\lambda) \\\\ \\overset{\\zeta = 0}{\\Rightarrow} X(0, \\lambda) = e^{-\\Lambda} X (\\zeta=1) $$"
   ]
  },
  {
   "cell_type": "markdown",
   "metadata": {},
   "source": [
    "Now, let's assume:\n",
    "\n",
    "$$ e^{-\\Lambda} = Q(\\lambda) = \\begin{bmatrix} \n",
    "        q_{1} & q_{2} & q_{3} \\\\ q_{4} & q_{5} & q_{6} \\\\ q_{7} & q_{8} & q_{9}\n",
    "    \\end{bmatrix} $$\n"
   ]
  },
  {
   "cell_type": "markdown",
   "metadata": {},
   "source": [
    "Thus, we may write:\n",
    "\n",
    "$$\\left\\{\\begin{array}{l}\n",
    "X_1(0) = q_1 X_1(1) + q_2 X_2(1) + q_3 X_3(1) \\\\\n",
    "X_2(0) = q_4 X_1(1) + q_5 X_2(1) + q_6 X_3(1) \\\\\n",
    "X_3(0) = q_7 X_1(1) + q_8 X_2(1) + q_9 X_3(1)\n",
    "\\end{array}\\right.$$"
   ]
  },
  {
   "cell_type": "markdown",
   "metadata": {},
   "source": [
    "Now, we may go ahead and put the above expressions into boundary conditions to get the following:\n",
    "\n",
    "$$\\left\\{\\begin{array}{l}\n",
    "Dx_2+vx_1=-Rvx_3 \\\\\n",
    "q_4 x_1 + q_5 x_2 + q_6 x_3 = 0 \\\\\n",
    "q_7 x_1 + q_8 x_2 + q_9 x_3 = q_1 x_1 + q_2 x_2 + q_3 x_3\n",
    "\\end{array}\\right. \\Rightarrow \\left\\{\\begin{array}{l}\n",
    "vx_1 + Dx_2 + Rvx_3 = 0 \\\\\n",
    "q_4 x_1 + q_5 x_2 + q_6 x_3 = 0 \\\\\n",
    "(q_1 - q_7) x_1 + (q_2 - q_8) x_2 + (q_3 - q_9) x_3 = 0\n",
    "\\end{array}\\right.$$\n",
    "\n",
    "\n",
    "where $x_i$ is the same as $X_i(1)$."
   ]
  },
  {
   "cell_type": "markdown",
   "metadata": {},
   "source": [
    "For this particular case, we know that:\n",
    "\n",
    "$$ q_{3} = q_{6} = q_{7} = q_{8} = 0 $$"
   ]
  },
  {
   "cell_type": "markdown",
   "metadata": {},
   "source": [
    "This will further simplify the above system of equions into the following system:\n",
    "\n",
    "$$\\left\\{\\begin{array}{l}\n",
    "vx_1 + Dx_2 + Rvx_3 = 0 \\\\\n",
    "q_4 x_1 + q_5 x_2 = 0 \\\\\n",
    "q_1 x_1 + q_2 x_2 - q_9 x_3 = 0\n",
    "\\end{array}\\right.$$"
   ]
  },
  {
   "cell_type": "markdown",
   "metadata": {},
   "source": [
    "This is a $3 \\times 3$ system of algebraic equations in the form of $\\bar{A} \\bar{x} = 0 $, with:\n",
    "\n",
    "$$ \\bar{A} = \\begin{bmatrix}\n",
    "-v & D & Rv \\\\\n",
    "q_4 & q_5 & 0 \\\\\n",
    "q_1 & q_2 & -q_9\n",
    "\\end{bmatrix}; \\quad \\bar{x} = \\begin{bmatrix}\n",
    "x_1 \\\\ x_2 \\\\ x_3\n",
    "\\end{bmatrix} $$"
   ]
  },
  {
   "cell_type": "markdown",
   "metadata": {},
   "source": [
    "# (To Do: Check symbolic adj char eq in MATLAB)"
   ]
  },
  {
   "cell_type": "markdown",
   "metadata": {},
   "source": [
    " For such a system to have non-trivial solution (i.e. $\\bar{x} \\neq 0$), the dimension of the nullspace of the coefficients matrix $\\bar{A}$ needs to be non-zero. This will happen if and only if the coefficients matrix $\\bar{A}$ is rank-deficient. One way to make sure matrix $ \\bar{A} $ is not full-rank, is to set its determinant equal to zero. Doing so and further simplifying the result will give the characteristic equation as following:\n",
    "\n",
    "$$\n",
    "\\begin{align*}\n",
    "    &\\frac{e^{(\\lambda t+\\frac{v}{2D})}\\sinh{(\\frac{\\sqrt{v^2-4D\\left(k-\\lambda\\right)}}{2D})}(v^2+2D^2)}{\\sqrt{v^2-4D\\left(k-\\lambda\\right)}}\\\\\n",
    "    -& \\frac{v\\sqrt{v^2-4D\\left(k-\\lambda\\right)}\\left(Re^{(\\frac{v}{D})}-\\cosh{(\\frac{\\sqrt{v^2-4D\\left(k-\\lambda\\right)}}{2D})}\\right)}{\\sqrt{v^2-4D\\left(k-\\lambda\\right)}} = 0\n",
    "\\end{align*}\n",
    "$$\n",
    "\n",
    "The denominator is the same on both sides. Therefore, we solve for the numerators first to obtain a potential solutoin:\n",
    "\n",
    "$$\n",
    "\\begin{align*}\n",
    "    &e^{(\\lambda t+\\frac{v}{2D})}\\sinh{(\\frac{\\sqrt{v^2-4D\\left(k-\\lambda\\right)}}{2D})}(v^2+2D^2)\\\\\n",
    "    - &v\\sqrt{v^2-4D\\left(k-\\lambda\\right)}\\left(Re^{(\\frac{v}{D})}-\\cosh{(\\frac{\\sqrt{v^2-4D\\left(k-\\lambda\\right)}}{2D})}\\right) = 0\n",
    "\\end{align*}\n",
    "$$\n",
    "\n",
    "and then check the following:\n",
    "\n",
    "1. The denominator does not go to zero close to the obtained solution. In this case, the potential solution is a solution for the original equation.\n",
    "2. The denominator goes to zero close to the obtained solution. In this case, the following must be checked:\n",
    "\n",
    "$$\n",
    "\\begin{equation}\n",
    "    e^{(\\lambda t+\\frac{v}{2D})}\\left(D+2\\left(k-\\lambda\\right)\\right) - v\\left(Re^{(\\frac{v}{D})}-1\\right) = 0\n",
    "\\end{equation}\n",
    "$$\n",
    "\n",
    "which is the $\\lim_{\\lambda \\rightarrow \\lambda_0}\\frac{N(\\lambda)}{D(\\lambda)}$, where $\\lambda_0$ is the potential solution. $\\lambda_0$ is the solution to the original equation only if the above expression holds true."
   ]
  },
  {
   "cell_type": "markdown",
   "metadata": {},
   "source": []
  }
 ],
 "metadata": {
  "colab": {
   "collapsed_sections": [
    "rOp8yHdiv26a",
    "C1l2-KpYqZSK"
   ],
   "provenance": []
  },
  "kernelspec": {
   "display_name": "base",
   "language": "python",
   "name": "python3"
  },
  "language_info": {
   "codemirror_mode": {
    "name": "ipython",
    "version": 3
   },
   "file_extension": ".py",
   "mimetype": "text/x-python",
   "name": "python",
   "nbconvert_exporter": "python",
   "pygments_lexer": "ipython3",
   "version": "3.9.17"
  },
  "vscode": {
   "interpreter": {
    "hash": "40d3a090f54c6569ab1632332b64b2c03c39dcf918b08424e98f38b5ae0af88f"
   }
  }
 },
 "nbformat": 4,
 "nbformat_minor": 1
}
