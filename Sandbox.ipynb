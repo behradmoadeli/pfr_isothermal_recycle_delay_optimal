{
 "cells": [
  {
   "cell_type": "code",
   "execution_count": 19,
   "metadata": {},
   "outputs": [
    {
     "name": "stdout",
     "output_type": "stream",
     "text": [
      "2\n",
      "3\n",
      "4\n",
      "10\n"
     ]
    }
   ],
   "source": [
    "dict = {\n",
    "    # 'key_1':1,\n",
    "    'key_2':2,\n",
    "    'key_3':3,\n",
    "    'key_4':4\n",
    "}\n",
    "\n",
    "dict['key_1'] = dict.get('key_1', 10)\n",
    "for key in dict.keys():\n",
    "    print(dict[key])"
   ]
  },
  {
   "cell_type": "code",
   "execution_count": 7,
   "metadata": {},
   "outputs": [
    {
     "data": {
      "text/plain": [
       "False"
      ]
     },
     "execution_count": 7,
     "metadata": {},
     "output_type": "execute_result"
    }
   ],
   "source": [
    "not 'key_1' in dict"
   ]
  },
  {
   "cell_type": "code",
   "execution_count": 34,
   "metadata": {},
   "outputs": [
    {
     "name": "stdout",
     "output_type": "stream",
     "text": [
      "-10\n",
      "0.1\n",
      "0.5\n",
      "1\n",
      "0.9\n",
      "default\n"
     ]
    }
   ],
   "source": [
    "default_pars = {\n",
    "    'k':-10,\n",
    "    'D':0.1,\n",
    "    'v':0.5,\n",
    "    'tau':1,\n",
    "    'R':0.9,\n",
    "    'label':'default'\n",
    "}\n",
    "\n",
    "par = default_pars\n",
    "par_attributes = [key for key in par.keys()]\n",
    "\n",
    "for key in par:\n",
    "    print(par[key])"
   ]
  },
  {
   "cell_type": "code",
   "execution_count": 24,
   "metadata": {},
   "outputs": [
    {
     "name": "stdout",
     "output_type": "stream",
     "text": [
      "{'k': 2, 'D': 100}\n"
     ]
    }
   ],
   "source": [
    "def example_function(**kwargs):\n",
    "    kwargs['D'] = kwargs.get('D', 100)\n",
    "    print(kwargs)\n",
    "\n",
    "\n",
    "example_function(k=2)"
   ]
  },
  {
   "cell_type": "code",
   "execution_count": 33,
   "metadata": {},
   "outputs": [
    {
     "data": {
      "text/plain": [
       "{'k': -10, 'D': 0.1, 'v': 0.5, 'tau': 1, 'R': 0.9, 'label': 'default'}"
      ]
     },
     "metadata": {},
     "output_type": "display_data"
    },
    {
     "data": {
      "text/plain": [
       "{'k': -10, 'D': 2, 'v': 0.5, 'tau': 1, 'R': 0.9, 'label': 'default'}"
      ]
     },
     "metadata": {},
     "output_type": "display_data"
    },
    {
     "data": {
      "text/plain": [
       "True"
      ]
     },
     "execution_count": 33,
     "metadata": {},
     "output_type": "execute_result"
    }
   ],
   "source": [
    "default_pars = {\n",
    "    'k':-10,\n",
    "    'D':0.1,\n",
    "    'v':0.5,\n",
    "    'tau':1,\n",
    "    'R':0.9,\n",
    "    'label':'default'\n",
    "}\n",
    "\n",
    "par = default_pars.copy()\n",
    "par['D'] = 2\n",
    "display(default_pars)\n",
    "display(par)\n",
    "\n",
    "'k' in par"
   ]
  },
  {
   "cell_type": "code",
   "execution_count": 37,
   "metadata": {},
   "outputs": [
    {
     "data": {
      "text/plain": [
       "-100.0"
      ]
     },
     "execution_count": 37,
     "metadata": {},
     "output_type": "execute_result"
    }
   ],
   "source": [
    "import numpy as np\n",
    "\n",
    "np.linspace(-100,-100,1)[0]"
   ]
  },
  {
   "cell_type": "code",
   "execution_count": 47,
   "metadata": {},
   "outputs": [
    {
     "data": {
      "text/plain": [
       "array([ 6.+4.j,  7.+4.j,  8.+4.j,  9.+4.j, 10.+4.j])"
      ]
     },
     "execution_count": 47,
     "metadata": {},
     "output_type": "execute_result"
    }
   ],
   "source": [
    "mesh = np.meshgrid(np.linspace(6,10,5),np.linspace(2,4,2))\n",
    "init_guess_complex = mesh[0] + mesh[1] * 1j\n",
    "init_guess_complex[1]"
   ]
  },
  {
   "cell_type": "code",
   "execution_count": 49,
   "metadata": {},
   "outputs": [
    {
     "data": {
      "text/plain": [
       "[{'key_2': 2, 'key_3': 3, 'key_4': 4, 'key_1': 10},\n",
       " {'key_2': 2, 'key_3': 3, 'key_4': 4, 'key_1': 10},\n",
       " {'key_2': 2, 'key_3': 3, 'key_4': 4, 'key_1': 10}]"
      ]
     },
     "execution_count": 49,
     "metadata": {},
     "output_type": "execute_result"
    }
   ],
   "source": [
    "[dict] * 3"
   ]
  },
  {
   "cell_type": "code",
   "execution_count": 50,
   "metadata": {},
   "outputs": [
    {
     "data": {
      "text/html": [
       "<div>\n",
       "<style scoped>\n",
       "    .dataframe tbody tr th:only-of-type {\n",
       "        vertical-align: middle;\n",
       "    }\n",
       "\n",
       "    .dataframe tbody tr th {\n",
       "        vertical-align: top;\n",
       "    }\n",
       "\n",
       "    .dataframe thead th {\n",
       "        text-align: right;\n",
       "    }\n",
       "</style>\n",
       "<table border=\"1\" class=\"dataframe\">\n",
       "  <thead>\n",
       "    <tr style=\"text-align: right;\">\n",
       "      <th></th>\n",
       "      <th>col1</th>\n",
       "      <th>col2</th>\n",
       "      <th>col3</th>\n",
       "    </tr>\n",
       "  </thead>\n",
       "  <tbody>\n",
       "    <tr>\n",
       "      <th>0</th>\n",
       "      <td>1</td>\n",
       "      <td>a</td>\n",
       "      <td>{'key_2': 2, 'key_3': 3, 'key_4': 4, 'key_1': 10}</td>\n",
       "    </tr>\n",
       "    <tr>\n",
       "      <th>1</th>\n",
       "      <td>2</td>\n",
       "      <td>b</td>\n",
       "      <td>{'key_2': 2, 'key_3': 3, 'key_4': 4, 'key_1': 10}</td>\n",
       "    </tr>\n",
       "    <tr>\n",
       "      <th>2</th>\n",
       "      <td>3</td>\n",
       "      <td>c</td>\n",
       "      <td>{'key_2': 2, 'key_3': 3, 'key_4': 4, 'key_1': 10}</td>\n",
       "    </tr>\n",
       "    <tr>\n",
       "      <th>3</th>\n",
       "      <td>4</td>\n",
       "      <td>d</td>\n",
       "      <td>{'key_2': 2, 'key_3': 3, 'key_4': 4, 'key_1': 10}</td>\n",
       "    </tr>\n",
       "    <tr>\n",
       "      <th>4</th>\n",
       "      <td>5</td>\n",
       "      <td>e</td>\n",
       "      <td>{'key_2': 2, 'key_3': 3, 'key_4': 4, 'key_1': 10}</td>\n",
       "    </tr>\n",
       "  </tbody>\n",
       "</table>\n",
       "</div>"
      ],
      "text/plain": [
       "   col1 col2                                               col3\n",
       "0     1    a  {'key_2': 2, 'key_3': 3, 'key_4': 4, 'key_1': 10}\n",
       "1     2    b  {'key_2': 2, 'key_3': 3, 'key_4': 4, 'key_1': 10}\n",
       "2     3    c  {'key_2': 2, 'key_3': 3, 'key_4': 4, 'key_1': 10}\n",
       "3     4    d  {'key_2': 2, 'key_3': 3, 'key_4': 4, 'key_1': 10}\n",
       "4     5    e  {'key_2': 2, 'key_3': 3, 'key_4': 4, 'key_1': 10}"
      ]
     },
     "execution_count": 50,
     "metadata": {},
     "output_type": "execute_result"
    }
   ],
   "source": [
    "import pandas as pd\n",
    "\n",
    "dfdict = {\n",
    "    'col1' : [1,2,3,4,5],\n",
    "    'col2' : ['a', 'b', 'c', 'd', 'e'],\n",
    "    'col3' : [dict] * 5\n",
    "}\n",
    "\n",
    "df = pd.DataFrame(dfdict)\n",
    "df"
   ]
  }
 ],
 "metadata": {
  "kernelspec": {
   "display_name": "base",
   "language": "python",
   "name": "python3"
  },
  "language_info": {
   "codemirror_mode": {
    "name": "ipython",
    "version": 3
   },
   "file_extension": ".py",
   "mimetype": "text/x-python",
   "name": "python",
   "nbconvert_exporter": "python",
   "pygments_lexer": "ipython3",
   "version": "3.9.13"
  },
  "orig_nbformat": 4
 },
 "nbformat": 4,
 "nbformat_minor": 2
}
