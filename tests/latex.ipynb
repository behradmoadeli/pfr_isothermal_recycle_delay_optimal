{
 "cells": [
  {
   "cell_type": "code",
   "execution_count": null,
   "metadata": {},
   "outputs": [],
   "source": []
  },
  {
   "cell_type": "markdown",
   "metadata": {},
   "source": [
    "$$\n",
    "\n",
    "<\\Phi_n, \\Psi_m> = \\int_{0}^{1} \\Bigl(\\phi_{1,n} (\\zeta) \\psi_{1,m} (\\zeta) + \\phi_{2,n} (\\zeta) \\psi_{2,m} (\\zeta) \\Bigr) d\\zeta = \\delta_{n,m}\n",
    "\n",
    "$$"
   ]
  },
  {
   "cell_type": "markdown",
   "metadata": {},
   "source": []
  }
 ],
 "metadata": {
  "language_info": {
   "name": "python"
  }
 },
 "nbformat": 4,
 "nbformat_minor": 2
}
