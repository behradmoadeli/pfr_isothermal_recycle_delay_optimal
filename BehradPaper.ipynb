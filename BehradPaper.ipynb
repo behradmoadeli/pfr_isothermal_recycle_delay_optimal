{
 "cells": [
  {
   "cell_type": "markdown",
   "metadata": {
    "id": "ByIufqrO7oiy"
   },
   "source": [
    "Loading the packages:"
   ]
  },
  {
   "cell_type": "code",
   "execution_count": null,
   "metadata": {
    "executionInfo": {
     "elapsed": 7,
     "status": "ok",
     "timestamp": 1674594709346,
     "user": {
      "displayName": "Guilherme Ozorio Cassol",
      "userId": "16524009092046304621"
     },
     "user_tz": 420
    },
    "id": "uEGAWDi23_da"
   },
   "outputs": [],
   "source": [
    "import numpy as np\n",
    "import scipy.linalg as lina\n",
    "import scipy.optimize as opt\n",
    "import pandas as pd\n",
    "import matplotlib.pyplot as plt\n",
    "import warnings\n",
    "warnings.simplefilter('ignore')"
   ]
  },
  {
   "cell_type": "markdown",
   "metadata": {
    "id": "C1l2-KpYqZSK"
   },
   "source": [
    "# System Model\n",
    "\n",
    "Initially, only the equation for one state (temperature or concentration) will be considered. For simplicity, the domain will be $[0,1]$, with Danckwerts boundary conditions:\n",
    "\n",
    "$$\\left\\{\\begin{array}{l} \\dot{x} = D\\partial_{\\zeta\\zeta} x -v\\partial_{\\zeta} x +kx\\\\\n",
    "D\\partial_\\zeta x(0,t)-vx(0,t)=-Rv[x(1,t-\\tau)+u(t-\\tau_I)] \\\\\n",
    "\\partial_\\zeta x(1,t)=0 \\\\\n",
    "y(t)=x(1,t-\\tau_O)\n",
    "  \\end{array}\\right. $$\n",
    "\n",
    "This model considers that the input is applied in the reactor's entrance, which is mixed with the recycle from the outlet. Input, output, and state delays are considered and represented by $\\tau_I,\\tau_O$, and $\\tau$, respectively. "
   ]
  },
  {
   "attachments": {},
   "cell_type": "markdown",
   "metadata": {},
   "source": [
    "Initializing system parameters:"
   ]
  },
  {
   "cell_type": "code",
   "execution_count": null,
   "metadata": {},
   "outputs": [],
   "source": [
    "class default_par:\n",
    "    k = -10\n",
    "    D = 0.1\n",
    "    v = 0.5\n",
    "    tau = 1\n",
    "    R = 0.9\n",
    "\n",
    "class Result:\n",
    "    def __init__(self,case,pars,df,ax):\n",
    "        self.case = case\n",
    "        self.pars = pars\n",
    "        self.df = df\n",
    "        self.ax = ax"
   ]
  },
  {
   "cell_type": "markdown",
   "metadata": {},
   "source": [
    "## Eigenvalue Analysis\n",
    "\n",
    "The eigenvalue problem, defined as $A\\Phi(\\zeta,\\lambda)=\\lambda\\Phi(\\zeta,\\lambda)$, will result in the following system of equation for this system:\n",
    "\n",
    "$$\\left\\{\\begin{array}{l} \\lambda\\phi = D\\partial_{\\zeta\\zeta} \\phi -v\\partial_{\\zeta} \\phi +k\\phi\\\\\n",
    "\\lambda\\phi_D=\\dfrac{1}{\\tau}\\partial_{\\zeta}\\phi_D\\\\\n",
    "D\\partial_\\zeta \\phi(0)-v\\phi(0)=-v\\phi_D(0) \\\\\n",
    "\\partial_\\zeta \\phi(1)=0 \\\\\n",
    "\\phi_D(1)=\\phi(1)\\\\\n",
    "  \\end{array}\\right. $$"
   ]
  },
  {
   "attachments": {},
   "cell_type": "markdown",
   "metadata": {},
   "source": [
    "where $\\Phi=[\\phi,\\,\\phi_D]^T$, with $\\phi$ as the state eigenfunction and $\\phi_D$ as the eigenfunction related to the delay. By defining $X=[\\phi,\\, \\partial_{\\zeta}\\phi,\\,\\phi_D]^T$, the following system of ODEs is obtained:\n",
    "\n",
    "$$\n",
    "\\left\\{\\begin{array}{l}\\partial_{\\zeta}X=\\begin{bmatrix} 0 & 1 & 0\\\\ \\dfrac{\\lambda-k}{D} & \\dfrac{v}{D} & 0\\\\0 & 0 & \\tau\\lambda\\end{bmatrix}X=ΛX \\\\\n",
    "DX_2(0)-vX_1(0)=-RvX_3(0) \\\\\n",
    "X_2(1)=0 \\\\\n",
    "X_3(1)=X_1(1)\\\\ \\end{array}\\right.\n",
    "$$"
   ]
  },
  {
   "cell_type": "markdown",
   "metadata": {},
   "source": [
    "## Characteristic Equation"
   ]
  },
  {
   "cell_type": "markdown",
   "metadata": {},
   "source": [
    "This is a system of first order ODE's, and the solution to such systems is given by:\n",
    "\n",
    "$$ X(\\zeta, \\lambda) = e^{\\Lambda \\zeta} X (\\zeta=0, \\lambda) \\\\ \\overset{\\zeta = 1}{\\Rightarrow} X(1, \\lambda) = e^{\\Lambda} X (\\zeta=0) $$"
   ]
  },
  {
   "cell_type": "markdown",
   "metadata": {},
   "source": [
    "Now, let's assume:\n",
    "\n",
    "$$ e^{\\Lambda} = Q(\\lambda) = \\begin{bmatrix} \n",
    "        q_{1} & q_{2} & q_{3} \\\\ q_{4} & q_{5} & q_{6} \\\\ q_{7} & q_{8} & q_{9}\n",
    "    \\end{bmatrix} $$\n"
   ]
  },
  {
   "cell_type": "markdown",
   "metadata": {},
   "source": [
    "Thus, we may write:\n",
    "\n",
    "$$\\left\\{\\begin{array}{l}\n",
    "X_1(1) = q_1 X_1(0) + q_2 X_2(0) + q_3 X_3(0) \\\\\n",
    "X_2(1) = q_4 X_1(0) + q_5 X_2(0) + q_6 X_3(0) \\\\\n",
    "X_3(1) = q_7 X_1(0) + q_8 X_2(0) + q_9 X_3(0)\n",
    "\\end{array}\\right.$$"
   ]
  },
  {
   "cell_type": "markdown",
   "metadata": {},
   "source": [
    "Now, we may go ahead and put the above expressions into boundary conditions to get the following:\n",
    "\n",
    "$$\\left\\{\\begin{array}{l}\n",
    "Dx_2-vx_1=-Rvx_3 \\\\\n",
    "q_4 x_1 + q_5 x_2 + q_6 x_3 = 0 \\\\\n",
    "q_7 x_1 + q_8 x_2 + q_9 x_3 = q_1 x_1 + q_2 x_2 + q_3 x_3\n",
    "\\end{array}\\right. \\Rightarrow \\left\\{\\begin{array}{l}\n",
    "-vx_1 + Dx_2 - Rvx_3 = 0 \\\\\n",
    "q_4 x_1 + q_5 x_2 + q_6 x_3 = 0 \\\\\n",
    "(q_1 - q_7) x_1 + (q_2 - q_8) x_2 + (q_3 - q_9) x_3 = 0\n",
    "\\end{array}\\right.$$\n",
    "\n",
    "\n",
    "where $x_i$ is the same as $X_i(0)$."
   ]
  },
  {
   "attachments": {},
   "cell_type": "markdown",
   "metadata": {},
   "source": [
    "For this particular case, we know that:\n",
    "\n",
    "$$ q_{3} = q_{6} = q_{7} = q_{8} = 0 $$"
   ]
  },
  {
   "attachments": {},
   "cell_type": "markdown",
   "metadata": {},
   "source": [
    "This will further simplify the above system of equions into the following system:\n",
    "\n",
    "$$\\left\\{\\begin{array}{l}\n",
    "-vx_1 + Dx_2 - Rvx_3 = 0 \\\\\n",
    "q_4 x_1 + q_5 x_2 = 0 \\\\\n",
    "q_1 x_1 + q_2 x_2 - q_9 x_3 = 0\n",
    "\\end{array}\\right.$$"
   ]
  },
  {
   "attachments": {},
   "cell_type": "markdown",
   "metadata": {},
   "source": [
    "This is a $3 \\times 3$ system of algebraic equations in the form of $\\bar{A} \\bar{x} = 0 $, with:\n",
    "\n",
    "$$ \\bar{A} = \\begin{bmatrix}\n",
    "-v & D & -Rv \\\\\n",
    "q_4 & q_5 & 0 \\\\\n",
    "q_1 & q_2 & -q_9\n",
    "\\end{bmatrix}; \\quad \\bar{x} = \\begin{bmatrix}\n",
    "x_1 \\\\ x_2 \\\\ x_3\n",
    "\\end{bmatrix} $$"
   ]
  },
  {
   "attachments": {},
   "cell_type": "markdown",
   "metadata": {},
   "source": [
    " For such a system to have non-trivial solution (i.e. $\\bar{x} \\neq 0$), the dimension of the nullspace of the coefficients matrix $\\bar{A}$ needs to be non-zero. This will happen if and only if the coefficients matrix $\\bar{A}$ is rank-deficient. One way to make sure matrix $ \\bar{A} $ is not full-rank, is to set a linear combination of its rows to be zero, with non-zero coefficients. Multiplying the second row of the matrix by $\\alpha$ and the third row by $\\beta$, we can write:\n",
    "\n",
    "$$\n",
    "\\left\\{\\begin{array}{l}\n",
    "-v + \\alpha q_4 + \\beta q_1 = 0 \\\\\n",
    "D + \\alpha q_5 + \\beta q_2 = 0 \\\\\n",
    "-Rv - \\beta q_9 = 0 \n",
    "\\end{array}\\right.\n",
    "\\Rightarrow\n",
    "\\left\\{\\begin{array}{l}\n",
    "\\alpha q_4 + \\beta q_1 = v \\\\\n",
    "\\alpha q_5 + \\beta q_2 = -D \\\\\n",
    "\\beta q_9 = -Rv \n",
    "\\end{array}\\right.\n",
    "$$"
   ]
  },
  {
   "attachments": {},
   "cell_type": "markdown",
   "metadata": {},
   "source": [
    "The above system is a system of 3 equations and 3 unknowns (i.e. $\\alpha$, $\\beta$, and $\\lambda$, with $\\lambda$ being hidden in $q_i$ terms). By writing $\\alpha$ and $\\beta$ variables based on $q_i$ terms, we can get the characteristic equation.\n",
    "\n",
    "Using the third equation, we can get:\n",
    "\n",
    "$$ \\beta = \\frac{-Rv}{q_9} $$\n",
    "\n",
    "Using the above equation to replace $\\beta$ into the second equation will result in:\n",
    "\n",
    "$$ \\alpha = \\frac{v}{q_4} \\left(1 + \\frac{R q_1}{q_9} \\right) $$\n",
    "\n",
    "Therefore, we can put the above expressions for $\\alpha$ and $\\beta$ into the first equation to get the characteristic equation, which is a non-linear function of the eigenvalue of the system, $\\lambda$:\n",
    "\n",
    "$$ f(\\lambda) = D + v \\frac{q_5}{q_4} \\left( 1 + \\frac{R q_1}{q_9} \\right) - Rv \\frac{q_2}{q_9} = 0 $$"
   ]
  },
  {
   "attachments": {},
   "cell_type": "markdown",
   "metadata": {},
   "source": [
    "We may now multiply both sides of the charactersitic equation by $q_4 q_9$ to avoid numerical errors while solfing for $f(\\lambda)$. This will give:\n",
    "\n",
    "$$ g(\\lambda) = D q_4 q_9 + v [ q_5 q_9 + R (q_1 q_5 - q_2 q_4)] = 0 $$"
   ]
  },
  {
   "cell_type": "markdown",
   "metadata": {},
   "source": [
    "## Numerical Solution"
   ]
  },
  {
   "cell_type": "code",
   "execution_count": null,
   "metadata": {},
   "outputs": [],
   "source": [
    "def char_eq(x,par):\n",
    "    l = complex(x[0], x[1])\n",
    "    A = np.array([\n",
    "        [0, 1, 0],\n",
    "        [(l- par.k)/par.D, par.v/par.D, 0],\n",
    "        [0, 0, par.tau * l]\n",
    "    ])\n",
    "    Q = lina.expm(A)\n",
    "    q = np.insert(Q,0,0)\n",
    "    y = par.D * q[4] * q[9] + par.v * (q[5] * q[9] + par.R * (q[1] + q[5] - q[2] * q[4]))\n",
    "    return np.array([y.real, y.imag])"
   ]
  },
  {
   "cell_type": "code",
   "execution_count": null,
   "metadata": {},
   "outputs": [],
   "source": [
    "par = default_par\n",
    "results = []\n",
    "\n",
    "mesh = np.meshgrid(np.linspace(-200,0,200),np.linspace(0,50,50))\n",
    "init_guess_complex = mesh[0] + mesh[1] * 1j\n",
    "\n",
    "solution_lambda_dict = {'Sol_r':[],'Sol_i':[],'Guess_r':[],'Guess_i':[],'g(x)':[]}\n",
    "\n",
    "for i in init_guess_complex:\n",
    "    for m in i:\n",
    "        m = np.array([m.real, m.imag])\n",
    "        solution_array = opt.fsolve(char_eq,m,par)\n",
    "        is_near = char_eq(solution_array,par)\n",
    "        is_near = (abs(complex(is_near[0],is_near[1])))\n",
    "        if np.isclose(is_near,0,atol=0.0001):\n",
    "            solution_lambda_dict['Guess_r'].append(m[0])\n",
    "            solution_lambda_dict['Guess_i'].append(m[1])\n",
    "            solution_lambda_dict['g(x)'].append(is_near)\n",
    "            solution_lambda_dict['Sol_r'].append(solution_array[0])\n",
    "            solution_lambda_dict['Sol_i'].append(solution_array[1])\n",
    "\n",
    "solution_lambda_df = pd.DataFrame(solution_lambda_dict)\n",
    "solution_lambda_df = solution_lambda_df.sort_values(by=['Sol_r'])\n",
    "\n",
    "ax = solution_lambda_df.plot.scatter(x='Sol_r',y='Sol_i')\n",
    "ax.axhline(y=0, color='k')\n",
    "ax.axvline(x=0, color='k')\n",
    "ax.set_xlim(-200,50)\n",
    "ax.set_ylim(-8,8)\n",
    "\n",
    "results.append(Result(0,par,solution_lambda_df,ax))\n",
    "\n",
    "display(solution_lambda_df)\n",
    "plt.show()"
   ]
  },
  {
   "cell_type": "code",
   "execution_count": null,
   "metadata": {},
   "outputs": [],
   "source": [
    "# for case in range(1,2):\n",
    "#     par = default_par\n",
    "\n",
    "#     if case == 1:\n",
    "#         par.D = 0.2\n",
    "#     elif case == 2:\n",
    "#         par.v = 0.6\n",
    "#     elif case == 3:\n",
    "#         par.tau = 4\n",
    "#     elif case == 4:\n",
    "#         par.R = 0.2\n",
    "\n",
    "#     mesh = np.meshgrid(np.linspace(-250,50,600),np.linspace(0,50,100))\n",
    "#     init_guess_complex = mesh[0] + mesh[1] * 1j\n",
    "\n",
    "#     solution_lambda_dict = {'Sol_r':[],'Sol_i':[],'Guess_r':[],'Guess_i':[],'g(x)':[]}\n",
    "\n",
    "#     for i in init_guess_complex:\n",
    "#         for m in i:\n",
    "#             m = np.array([m.real, m.imag])\n",
    "#             solution_array = opt.fsolve(char_eq,m,par)\n",
    "#             is_near = char_eq(solution_array,par)\n",
    "#             is_near = (abs(complex(is_near[0],is_near[1])))\n",
    "#             if np.isclose(is_near,0,atol=0.0001):\n",
    "#                 solution_lambda_dict['Guess_r'].append(m[0])\n",
    "#                 solution_lambda_dict['Guess_i'].append(m[1])\n",
    "#                 solution_lambda_dict['g(x)'].append(is_near)\n",
    "#                 solution_lambda_dict['Sol_r'].append(solution_array[0])\n",
    "#                 solution_lambda_dict['Sol_i'].append(solution_array[1])\n",
    "\n",
    "\n",
    "#     solution_lambda_df = pd.DataFrame(solution_lambda_dict)\n",
    "#     solution_lambda_df = solution_lambda_df.sort_values(by=['Sol_r'])\n",
    "\n",
    "#     ax = solution_lambda_df.plot.scatter(x='Sol_r',y='Sol_i')\n",
    "#     ax.axhline(y=0, color='k')\n",
    "#     ax.axvline(x=0, color='k')\n",
    "#     ax.set_xlim(-200,50)\n",
    "#     ax.set_ylim(-15,15)\n",
    "\n",
    "#     results.append(Result(case,par,solution_lambda_df,ax))"
   ]
  },
  {
   "attachments": {},
   "cell_type": "markdown",
   "metadata": {},
   "source": [
    "# Eigenvalue Distribution Analysis\n",
    "\n",
    "In this step, we want to study the effect of system parameters on eigenvalue distribution.\n",
    "\n",
    "## Larger k, still negative"
   ]
  },
  {
   "cell_type": "code",
   "execution_count": null,
   "metadata": {},
   "outputs": [],
   "source": [
    "case = 1\n",
    "\n",
    "par = default_par\n",
    "par.D = 0.2\n",
    "# par.v = 0.6\n",
    "# par.tau = 4\n",
    "# par.R = 0.2\n",
    "\n",
    "mesh = np.meshgrid(np.linspace(-250,50,600),np.linspace(0,50,100))\n",
    "init_guess_complex = mesh[0] + mesh[1] * 1j\n",
    "\n",
    "solution_lambda_dict = {'Sol_r':[],'Sol_i':[],'Guess_r':[],'Guess_i':[],'g(x)':[]}\n",
    "\n",
    "for i in init_guess_complex:\n",
    "    for m in i:\n",
    "        m = np.array([m.real, m.imag])\n",
    "        solution_array = opt.fsolve(char_eq,m,par)\n",
    "        is_near = char_eq(solution_array,par)\n",
    "        is_near = (abs(complex(is_near[0],is_near[1])))\n",
    "        if np.isclose(is_near,0,atol=0.0001):\n",
    "            solution_lambda_dict['Guess_r'].append(m[0])\n",
    "            solution_lambda_dict['Guess_i'].append(m[1])\n",
    "            solution_lambda_dict['g(x)'].append(is_near)\n",
    "            solution_lambda_dict['Sol_r'].append(solution_array[0])\n",
    "            solution_lambda_dict['Sol_i'].append(solution_array[1])\n",
    "\n",
    "\n",
    "solution_lambda_df = pd.DataFrame(solution_lambda_dict)\n",
    "solution_lambda_df = solution_lambda_df.sort_values(by=['Sol_r'])\n",
    "\n",
    "ax = solution_lambda_df.plot.scatter(x='Sol_r',y='Sol_i')\n",
    "ax.axhline(y=0, color='k')\n",
    "ax.axvline(x=0, color='k')\n",
    "ax.set_xlim(-200,50)\n",
    "ax.set_ylim(-15,15)\n",
    "\n",
    "results.append(Result(case,par,solution_lambda_df,ax))"
   ]
  },
  {
   "cell_type": "code",
   "execution_count": null,
   "metadata": {},
   "outputs": [],
   "source": [
    "case = 2\n",
    "\n",
    "par = default_par\n",
    "# par.D = 0.2\n",
    "par.v = 0.6\n",
    "# par.tau = 4\n",
    "# par.R = 0.2\n",
    "\n",
    "mesh = np.meshgrid(np.linspace(-250,50,600),np.linspace(0,50,100))\n",
    "init_guess_complex = mesh[0] + mesh[1] * 1j\n",
    "\n",
    "solution_lambda_dict = {'Sol_r':[],'Sol_i':[],'Guess_r':[],'Guess_i':[],'g(x)':[]}\n",
    "\n",
    "for i in init_guess_complex:\n",
    "    for m in i:\n",
    "        m = np.array([m.real, m.imag])\n",
    "        solution_array = opt.fsolve(char_eq,m,par)\n",
    "        is_near = char_eq(solution_array,par)\n",
    "        is_near = (abs(complex(is_near[0],is_near[1])))\n",
    "        if np.isclose(is_near,0,atol=0.0001):\n",
    "            solution_lambda_dict['Guess_r'].append(m[0])\n",
    "            solution_lambda_dict['Guess_i'].append(m[1])\n",
    "            solution_lambda_dict['g(x)'].append(is_near)\n",
    "            solution_lambda_dict['Sol_r'].append(solution_array[0])\n",
    "            solution_lambda_dict['Sol_i'].append(solution_array[1])\n",
    "\n",
    "\n",
    "solution_lambda_df = pd.DataFrame(solution_lambda_dict)\n",
    "solution_lambda_df = solution_lambda_df.sort_values(by=['Sol_r'])\n",
    "\n",
    "ax = solution_lambda_df.plot.scatter(x='Sol_r',y='Sol_i')\n",
    "ax.axhline(y=0, color='k')\n",
    "ax.axvline(x=0, color='k')\n",
    "ax.set_xlim(-200,50)\n",
    "ax.set_ylim(-15,15)\n",
    "\n",
    "results.append(Result(case,par,solution_lambda_df,ax))"
   ]
  },
  {
   "cell_type": "code",
   "execution_count": null,
   "metadata": {},
   "outputs": [],
   "source": [
    "case = 3\n",
    "\n",
    "par = default_par\n",
    "# par.D = 0.2\n",
    "# par.v = 0.6\n",
    "par.tau = 4\n",
    "# par.R = 0.2\n",
    "\n",
    "mesh = np.meshgrid(np.linspace(-250,50,600),np.linspace(0,50,100))\n",
    "init_guess_complex = mesh[0] + mesh[1] * 1j\n",
    "\n",
    "solution_lambda_dict = {'Sol_r':[],'Sol_i':[],'Guess_r':[],'Guess_i':[],'g(x)':[]}\n",
    "\n",
    "for i in init_guess_complex:\n",
    "    for m in i:\n",
    "        m = np.array([m.real, m.imag])\n",
    "        solution_array = opt.fsolve(char_eq,m,par)\n",
    "        is_near = char_eq(solution_array,par)\n",
    "        is_near = (abs(complex(is_near[0],is_near[1])))\n",
    "        if np.isclose(is_near,0,atol=0.0001):\n",
    "            solution_lambda_dict['Guess_r'].append(m[0])\n",
    "            solution_lambda_dict['Guess_i'].append(m[1])\n",
    "            solution_lambda_dict['g(x)'].append(is_near)\n",
    "            solution_lambda_dict['Sol_r'].append(solution_array[0])\n",
    "            solution_lambda_dict['Sol_i'].append(solution_array[1])\n",
    "\n",
    "\n",
    "solution_lambda_df = pd.DataFrame(solution_lambda_dict)\n",
    "solution_lambda_df = solution_lambda_df.sort_values(by=['Sol_r'])\n",
    "\n",
    "ax = solution_lambda_df.plot.scatter(x='Sol_r',y='Sol_i')\n",
    "ax.axhline(y=0, color='k')\n",
    "ax.axvline(x=0, color='k')\n",
    "ax.set_xlim(-200,50)\n",
    "ax.set_ylim(-15,15)\n",
    "\n",
    "results.append(Result(case,par,solution_lambda_df,ax))"
   ]
  },
  {
   "cell_type": "code",
   "execution_count": null,
   "metadata": {},
   "outputs": [],
   "source": [
    "case = 4\n",
    "\n",
    "par = default_par\n",
    "# par.D = 0.2\n",
    "# par.v = 0.6\n",
    "# par.tau = 4\n",
    "par.R = 0.2\n",
    "\n",
    "mesh = np.meshgrid(np.linspace(-250,50,600),np.linspace(0,50,100))\n",
    "init_guess_complex = mesh[0] + mesh[1] * 1j\n",
    "\n",
    "solution_lambda_dict = {'Sol_r':[],'Sol_i':[],'Guess_r':[],'Guess_i':[],'g(x)':[]}\n",
    "\n",
    "for i in init_guess_complex:\n",
    "    for m in i:\n",
    "        m = np.array([m.real, m.imag])\n",
    "        solution_array = opt.fsolve(char_eq,m,par)\n",
    "        is_near = char_eq(solution_array,par)\n",
    "        is_near = (abs(complex(is_near[0],is_near[1])))\n",
    "        if np.isclose(is_near,0,atol=0.0001):\n",
    "            solution_lambda_dict['Guess_r'].append(m[0])\n",
    "            solution_lambda_dict['Guess_i'].append(m[1])\n",
    "            solution_lambda_dict['g(x)'].append(is_near)\n",
    "            solution_lambda_dict['Sol_r'].append(solution_array[0])\n",
    "            solution_lambda_dict['Sol_i'].append(solution_array[1])\n",
    "\n",
    "\n",
    "solution_lambda_df = pd.DataFrame(solution_lambda_dict)\n",
    "solution_lambda_df = solution_lambda_df.sort_values(by=['Sol_r'])\n",
    "\n",
    "ax = solution_lambda_df.plot.scatter(x='Sol_r',y='Sol_i')\n",
    "ax.axhline(y=0, color='k')\n",
    "ax.axvline(x=0, color='k')\n",
    "ax.set_xlim(-200,50)\n",
    "ax.set_ylim(-15,15)\n",
    "\n",
    "results.append(Result(case,par,solution_lambda_df,ax))"
   ]
  }
 ],
 "metadata": {
  "colab": {
   "collapsed_sections": [
    "rOp8yHdiv26a",
    "C1l2-KpYqZSK"
   ],
   "provenance": []
  },
  "kernelspec": {
   "display_name": "base",
   "language": "python",
   "name": "python3"
  },
  "language_info": {
   "codemirror_mode": {
    "name": "ipython",
    "version": 3
   },
   "file_extension": ".py",
   "mimetype": "text/x-python",
   "name": "python",
   "nbconvert_exporter": "python",
   "pygments_lexer": "ipython3",
   "version": "3.9.13"
  },
  "vscode": {
   "interpreter": {
    "hash": "40d3a090f54c6569ab1632332b64b2c03c39dcf918b08424e98f38b5ae0af88f"
   }
  }
 },
 "nbformat": 4,
 "nbformat_minor": 1
}
