{
 "cells": [
  {
   "cell_type": "markdown",
   "metadata": {
    "id": "ByIufqrO7oiy"
   },
   "source": [
    "Loading the packages:"
   ]
  },
  {
   "cell_type": "code",
   "execution_count": null,
   "metadata": {
    "executionInfo": {
     "elapsed": 7,
     "status": "ok",
     "timestamp": 1674594709346,
     "user": {
      "displayName": "Guilherme Ozorio Cassol",
      "userId": "16524009092046304621"
     },
     "user_tz": 420
    },
    "id": "uEGAWDi23_da"
   },
   "outputs": [],
   "source": [
    "import os\n",
    "import numpy as np\n",
    "import scipy.linalg as lina\n",
    "import scipy.optimize as opt\n",
    "import pandas as pd\n",
    "import matplotlib.pyplot as plt\n",
    "import ast  # Module to parse string representations of dictionaries\n",
    "import warnings\n",
    "warnings.simplefilter('ignore')"
   ]
  },
  {
   "cell_type": "markdown",
   "metadata": {
    "id": "C1l2-KpYqZSK"
   },
   "source": [
    "# System Model\n",
    "\n",
    "Initially, only the equation for one state (temperature or concentration) will be considered. For simplicity, the domain will be $[0,1]$, with Danckwerts boundary conditions:\n",
    "\n",
    "$$\\left\\{\\begin{array}{l} \\dot{x} = D\\partial_{\\zeta\\zeta} x -v\\partial_{\\zeta} x +kx\\\\\n",
    "D\\partial_\\zeta x(0,t)-vx(0,t)=-Rv[x(1,t-\\tau)+u(t-\\tau_I)] \\\\\n",
    "\\partial_\\zeta x(1,t)=0 \\\\\n",
    "y(t)=x(1,t-\\tau_O)\n",
    "  \\end{array}\\right. $$\n",
    "\n",
    "This model considers that the input is applied in the reactor's entrance, which is mixed with the recycle from the outlet. Input, output, and state delays are considered and represented by $\\tau_I,\\tau_O$, and $\\tau$, respectively. "
   ]
  },
  {
   "attachments": {},
   "cell_type": "markdown",
   "metadata": {},
   "source": [
    "Initializing system parameters:"
   ]
  },
  {
   "cell_type": "code",
   "execution_count": null,
   "metadata": {},
   "outputs": [],
   "source": [
    "default_pars = {\n",
    "    'k':10,\n",
    "    'D':0.1,\n",
    "    'v':0.5,\n",
    "    'tau':1,\n",
    "    'R':0.9,\n",
    "    'label':'default'\n",
    "}"
   ]
  },
  {
   "cell_type": "markdown",
   "metadata": {},
   "source": [
    "## Eigenvalue Analysis\n",
    "\n",
    "The eigenvalue problem, defined as $A\\Phi(\\zeta,\\lambda)=\\lambda\\Phi(\\zeta,\\lambda)$, will result in the following system of equation for this system:\n",
    "\n",
    "$$\\left\\{\\begin{array}{l} \\lambda\\phi = D\\partial_{\\zeta\\zeta} \\phi -v\\partial_{\\zeta} \\phi +k\\phi\\\\\n",
    "\\lambda\\phi_D=\\dfrac{1}{\\tau}\\partial_{\\zeta}\\phi_D\\\\\n",
    "D\\partial_\\zeta \\phi(0)-v\\phi(0)=-v\\phi_D(0) \\\\\n",
    "\\partial_\\zeta \\phi(1)=0 \\\\\n",
    "\\phi_D(1)=\\phi(1)\\\\\n",
    "  \\end{array}\\right. $$"
   ]
  },
  {
   "attachments": {},
   "cell_type": "markdown",
   "metadata": {},
   "source": [
    "where $\\Phi=[\\phi,\\,\\phi_D]^T$, with $\\phi$ as the state eigenfunction and $\\phi_D$ as the eigenfunction related to the delay. By defining $X=[\\phi,\\, \\partial_{\\zeta}\\phi,\\,\\phi_D]^T$, the following system of ODEs is obtained:\n",
    "\n",
    "$$\n",
    "\\left\\{\\begin{array}{l}\\partial_{\\zeta}X=\\begin{bmatrix} 0 & 1 & 0\\\\ \\dfrac{\\lambda-k}{D} & \\dfrac{v}{D} & 0\\\\0 & 0 & \\tau\\lambda\\end{bmatrix}X=ΛX \\\\\n",
    "DX_2(0)-vX_1(0)=-RvX_3(0) \\\\\n",
    "X_2(1)=0 \\\\\n",
    "X_3(1)=X_1(1)\\\\ \\end{array}\\right.\n",
    "$$"
   ]
  },
  {
   "cell_type": "markdown",
   "metadata": {},
   "source": [
    "## Characteristic Equation"
   ]
  },
  {
   "cell_type": "markdown",
   "metadata": {},
   "source": [
    "This is a system of first order ODE's, and the solution to such systems is given by:\n",
    "\n",
    "$$ X(\\zeta, \\lambda) = e^{\\Lambda \\zeta} X (\\zeta=0, \\lambda) \\\\ \\overset{\\zeta = 1}{\\Rightarrow} X(1, \\lambda) = e^{\\Lambda} X (\\zeta=0) $$"
   ]
  },
  {
   "cell_type": "markdown",
   "metadata": {},
   "source": [
    "Now, let's assume:\n",
    "\n",
    "$$ e^{\\Lambda} = Q(\\lambda) = \\begin{bmatrix} \n",
    "        q_{1} & q_{2} & q_{3} \\\\ q_{4} & q_{5} & q_{6} \\\\ q_{7} & q_{8} & q_{9}\n",
    "    \\end{bmatrix} $$\n"
   ]
  },
  {
   "cell_type": "markdown",
   "metadata": {},
   "source": [
    "Thus, we may write:\n",
    "\n",
    "$$\\left\\{\\begin{array}{l}\n",
    "X_1(1) = q_1 X_1(0) + q_2 X_2(0) + q_3 X_3(0) \\\\\n",
    "X_2(1) = q_4 X_1(0) + q_5 X_2(0) + q_6 X_3(0) \\\\\n",
    "X_3(1) = q_7 X_1(0) + q_8 X_2(0) + q_9 X_3(0)\n",
    "\\end{array}\\right.$$"
   ]
  },
  {
   "cell_type": "markdown",
   "metadata": {},
   "source": [
    "Now, we may go ahead and put the above expressions into boundary conditions to get the following:\n",
    "\n",
    "$$\\left\\{\\begin{array}{l}\n",
    "Dx_2-vx_1=-Rvx_3 \\\\\n",
    "q_4 x_1 + q_5 x_2 + q_6 x_3 = 0 \\\\\n",
    "q_7 x_1 + q_8 x_2 + q_9 x_3 = q_1 x_1 + q_2 x_2 + q_3 x_3\n",
    "\\end{array}\\right. \\Rightarrow \\left\\{\\begin{array}{l}\n",
    "-vx_1 + Dx_2 - Rvx_3 = 0 \\\\\n",
    "q_4 x_1 + q_5 x_2 + q_6 x_3 = 0 \\\\\n",
    "(q_1 - q_7) x_1 + (q_2 - q_8) x_2 + (q_3 - q_9) x_3 = 0\n",
    "\\end{array}\\right.$$\n",
    "\n",
    "\n",
    "where $x_i$ is the same as $X_i(0)$."
   ]
  },
  {
   "attachments": {},
   "cell_type": "markdown",
   "metadata": {},
   "source": [
    "For this particular case, we know that:\n",
    "\n",
    "$$ q_{3} = q_{6} = q_{7} = q_{8} = 0 $$"
   ]
  },
  {
   "attachments": {},
   "cell_type": "markdown",
   "metadata": {},
   "source": [
    "This will further simplify the above system of equions into the following system:\n",
    "\n",
    "$$\\left\\{\\begin{array}{l}\n",
    "-vx_1 + Dx_2 - Rvx_3 = 0 \\\\\n",
    "q_4 x_1 + q_5 x_2 = 0 \\\\\n",
    "q_1 x_1 + q_2 x_2 - q_9 x_3 = 0\n",
    "\\end{array}\\right.$$"
   ]
  },
  {
   "attachments": {},
   "cell_type": "markdown",
   "metadata": {},
   "source": [
    "This is a $3 \\times 3$ system of algebraic equations in the form of $\\bar{A} \\bar{x} = 0 $, with:\n",
    "\n",
    "$$ \\bar{A} = \\begin{bmatrix}\n",
    "-v & D & -Rv \\\\\n",
    "q_4 & q_5 & 0 \\\\\n",
    "q_1 & q_2 & -q_9\n",
    "\\end{bmatrix}; \\quad \\bar{x} = \\begin{bmatrix}\n",
    "x_1 \\\\ x_2 \\\\ x_3\n",
    "\\end{bmatrix} $$"
   ]
  },
  {
   "attachments": {},
   "cell_type": "markdown",
   "metadata": {},
   "source": [
    " For such a system to have non-trivial solution (i.e. $\\bar{x} \\neq 0$), the dimension of the nullspace of the coefficients matrix $\\bar{A}$ needs to be non-zero. This will happen if and only if the coefficients matrix $\\bar{A}$ is rank-deficient. One way to make sure matrix $ \\bar{A} $ is not full-rank, is to set a linear combination of its rows to be zero, with non-zero coefficients. Multiplying the second row of the matrix by $\\alpha$ and the third row by $\\beta$, we can write:\n",
    "\n",
    "$$\n",
    "\\left\\{\\begin{array}{l}\n",
    "-v + \\alpha q_4 + \\beta q_1 = 0 \\\\\n",
    "D + \\alpha q_5 + \\beta q_2 = 0 \\\\\n",
    "-Rv - \\beta q_9 = 0 \n",
    "\\end{array}\\right.\n",
    "\\Rightarrow\n",
    "\\left\\{\\begin{array}{l}\n",
    "\\alpha q_4 + \\beta q_1 = v \\\\\n",
    "\\alpha q_5 + \\beta q_2 = -D \\\\\n",
    "\\beta q_9 = -Rv \n",
    "\\end{array}\\right.\n",
    "$$"
   ]
  },
  {
   "attachments": {},
   "cell_type": "markdown",
   "metadata": {},
   "source": [
    "The above system is a system of 3 equations and 3 unknowns (i.e. $\\alpha$, $\\beta$, and $\\lambda$, with $\\lambda$ being hidden in $q_i$ terms). By writing $\\alpha$ and $\\beta$ variables based on $q_i$ terms, we can get the characteristic equation.\n",
    "\n",
    "Using the third equation, we can get:\n",
    "\n",
    "$$ \\beta = \\frac{-Rv}{q_9} $$\n",
    "\n",
    "Using the above equation to replace $\\beta$ into the second equation will result in:\n",
    "\n",
    "$$ \\alpha = \\frac{v}{q_4} \\left(1 + \\frac{R q_1}{q_9} \\right) $$\n",
    "\n",
    "Therefore, we can put the above expressions for $\\alpha$ and $\\beta$ into the first equation to get the characteristic equation, which is a non-linear function of the eigenvalue of the system, $\\lambda$:\n",
    "\n",
    "$$ f(\\lambda) = D + v \\frac{q_5}{q_4} \\left( 1 + \\frac{R q_1}{q_9} \\right) - Rv \\frac{q_2}{q_9} = 0 $$"
   ]
  },
  {
   "attachments": {},
   "cell_type": "markdown",
   "metadata": {},
   "source": [
    "We may now multiply both sides of the charactersitic equation by $q_4 q_9$ to avoid numerical errors while solfing for $f(\\lambda)$. This will give:\n",
    "\n",
    "$$ g(\\lambda) = D q_4 q_9 + v [ q_5 q_9 + R (q_1 q_5 - q_2 q_4)] = 0 $$"
   ]
  },
  {
   "cell_type": "markdown",
   "metadata": {},
   "source": [
    "## Numerical Solution\n",
    "\n",
    "First we define a function to find the eigenvalues for the above characteristic equation. This function takes optional keyword argument as shown in the function docstring, returning a tuple with the following:\n",
    "\n",
    "- solution_df: A pandas dataframe of all the solutions found based on the given arguments.\n",
    "- par['label']: A string that briefly explains the parameters resulting in the obtained eigenvalue distribution.\n",
    "\n",
    "P.S.: There is another function embeded inside the function below, that gives the value of the characteristic equation at each $\\lambda$."
   ]
  },
  {
   "cell_type": "code",
   "execution_count": null,
   "metadata": {},
   "outputs": [],
   "source": [
    "def find_eig(**kwargs):\n",
    "    \"\"\"\n",
    "    This function solves the char equation in complex plane for different initial guesses.\n",
    "\n",
    "    Parameters:\n",
    "        **kwargs (dict): Optional keyword arguments that can be passed to customize behavior.\n",
    "            - par (dict):\n",
    "                A complete set of parameters as a dictionary.\n",
    "                default_pars = {\n",
    "                    'k':-10,\n",
    "                    'D':0.1,\n",
    "                    'v':0.5,\n",
    "                    'tau':1,\n",
    "                    'R':0.9,\n",
    "                    'label':'default'\n",
    "                }\n",
    "                If par is not passed, keys may be passed separately. Absent keys will take default values.\n",
    "            - guess_single (complex):\n",
    "                A single initial guess, complex number. Guess range will be ignored if this is passed.\n",
    "            - guess_range_real ([float, float, int]):\n",
    "                A list to create linspace over real axis, with the syntax [start, end, count]\n",
    "            - guess_range_imag ([float, float, int]):\n",
    "                A list to create linspace over imag axis, with the syntax [start, end, count]\n",
    "            - tol_1 (float): tolerance to stop outer fsolve loop (passed directly to fsolve).\n",
    "            - tol_2 (float): tolerance to stop inner fsolve loop (passed directly to fsolve).\n",
    "            - tol_multiplier (float): to relax inner loop tolerance when saving the result.            \n",
    "\n",
    "    Returns:\n",
    "        pd.DataFrame: DataFrame of the solutions found with each solution in a row, containing the following columns:\n",
    "            'Sol_r':    Real part of the obtained solution\n",
    "            'Sol_i':    Imag part of the obtained solution\n",
    "            'Guess_r':  Real part for the initial guess resulting in the obtained solution\n",
    "            'Guess_i':  Imag part for the initial guess resulting in the obtained solution\n",
    "            'g(x)':     Char equation value of the obtained solution\n",
    "            'Label':    Label of the parameters leading to the obtained solution\n",
    "            'Pars':     Complete pars dictionary leading to the obtained solution\n",
    "            'kwargs':   Complete kwargs dictionary leading to the obtained solution\n",
    "            the dataframe is sorted by 'Sol_r' column.\n",
    "    \"\"\"\n",
    "    # Assign default values to missing keyword arguments for parameters\n",
    "    if 'par' in kwargs:\n",
    "        par = kwargs['par']\n",
    "        if par['label'] == '':\n",
    "            differing_pairs = {key: value for key, value in par.items() if value != default_pars[key] and key != 'label'}\n",
    "            par['label'] = ', '.join([f\"{key}: {value}\" for key, value in differing_pairs.items()])\n",
    "    else:\n",
    "        par = default_pars.copy()\n",
    "        for key in par:\n",
    "            if key != 'label':\n",
    "                par[key] = kwargs.get(key, par[key])\n",
    "        if par != default_pars:\n",
    "            differing_pairs = {key: value for key, value in par.items() if value != default_pars[key]}\n",
    "            par['label'] = ', '.join([f\"{key}: {value}\" for key, value in differing_pairs.items()])\n",
    "            \n",
    "    # Assign default values to missing keyword arguments for initial guess values\n",
    "    if not 'guess_single' in kwargs:\n",
    "        guess_range_real = kwargs.get('guess_range_real', [-100,-100,1])\n",
    "        guess_range_imag = kwargs.get('guess_range_imag', [5,5,1])\n",
    "    else:\n",
    "        guess_single_r = np.real(kwargs['guess_single'])\n",
    "        guess_single_i = np.imag(kwargs['guess_single'])\n",
    "\n",
    "        guess_range_real = [guess_single_r, guess_single_r, 1]\n",
    "        guess_range_imag = [guess_single_i, guess_single_i, 1]\n",
    "    \n",
    "    # Assign default values to the rest of missing keyword arguments\n",
    "    tol_1 = kwargs.get('tol_1', 1e-6)\n",
    "    tol_2 = kwargs.get('tol_2', 1e-12)\n",
    "\n",
    "    tol_multiplier = kwargs.get('tol_multiplier', 100)\n",
    "\n",
    "    # Constructiong a dictionary to capture legit solutions\n",
    "    solution_dict = {'Sol_r':[],'Sol_i':[],'Guess_r':[],'Guess_i':[],'g(x)':[], 'Label':[], 'Pars':[], 'kwargs':[]}\n",
    "\n",
    "    # Constructiong a 2D mesh for different initial guess values\n",
    "    mesh_builder = np.meshgrid(np.linspace(guess_range_real[0],guess_range_real[1],guess_range_real[2]),np.linspace(guess_range_imag[0],guess_range_imag[1],guess_range_imag[2]))\n",
    "    mesh = mesh_builder[0] + mesh_builder[1] * 1j\n",
    "    \n",
    "    def char_eq(x):\n",
    "        \"\"\"\n",
    "        This function evaluates the charachteristic equation at a given point.\n",
    "\n",
    "        Parameters:\n",
    "            x ([float, float]):\n",
    "                A list of 2 elements, making up the complex eigenvalue to calculate char_eq.\n",
    "        \n",
    "        Returns:\n",
    "            array[float, float]:\n",
    "                A list of 2 elements, making up the complex value of char_eq at the given point.\n",
    "        \"\"\"\n",
    "        l = complex(x[0], x[1])\n",
    "        A = np.array([\n",
    "            [0, 1, 0],\n",
    "            [(l- par['k'])/par['D'], par['v']/par['D'], 0],\n",
    "            [0, 0, par['tau'] * l]\n",
    "        ])\n",
    "        Q = lina.expm(A)\n",
    "        q = np.insert(Q,0,0)\n",
    "        y = par['D'] * q[4] * q[9] + par['v'] * (q[5] * q[9] + par['R'] * (q[1] + q[5] - q[2] * q[4]))\n",
    "        return np.array([y.real, y.imag])\n",
    "\n",
    "    for i in mesh:\n",
    "        for m in i:\n",
    "            m = np.array([m.real, m.imag])                      # obtaining an initial guess from the mesh as a complex number\n",
    "            solution_array_initial = opt.fsolve(char_eq,m,xtol=tol_1)   # solving char_eq with a relaxed tol\n",
    "            is_sol_initial = char_eq(solution_array_initial)                   # evaluationg the value of char_eq at the obtained relaxed solution\n",
    "            is_sol_initial = (abs(complex(is_sol_initial[0],is_sol_initial[1])))\n",
    "            # An inner loop seems to be necessary as sometimes the fsolve gives incorrect results that are ~+-2*pi from the radial complex answer of the real solution\n",
    "            if is_sol_initial < tol_1 * tol_multiplier:\n",
    "                solution_array = opt.fsolve(char_eq,solution_array_initial,xtol=tol_2)\n",
    "                is_sol = char_eq(solution_array)                   # evaluationg the value of char_eq at the obtained relaxed solution\n",
    "                is_sol = (abs(complex(is_sol[0],is_sol[1])))\n",
    "                if np.isclose(is_sol,0,atol=tol_2*tol_multiplier):\n",
    "                    solution_dict['Guess_r'].append(m[0])\n",
    "                    solution_dict['Guess_i'].append(m[1])\n",
    "                    solution_dict['g(x)'].append(is_sol)\n",
    "                    solution_dict['Sol_r'].append(solution_array[0])\n",
    "                    solution_dict['Sol_i'].append(solution_array[1])\n",
    "                    solution_dict['Label'].append(par['label'])\n",
    "                    solution_dict['Pars'].append(par)\n",
    "                    solution_dict['kwargs'].append(kwargs)\n",
    "                    solution_dict['Guess_r'].append(m[0])\n",
    "                    solution_dict['Guess_i'].append(-m[1])\n",
    "                    solution_dict['g(x)'].append(is_sol)\n",
    "                    solution_dict['Sol_r'].append(solution_array[0])\n",
    "                    solution_dict['Sol_i'].append(-solution_array[1])\n",
    "                    solution_dict['Label'].append(par['label'])\n",
    "                    solution_dict['Pars'].append(par)\n",
    "                    solution_dict['kwargs'].append(kwargs)\n",
    "                    continue\n",
    "    \n",
    "    solution_df = pd.DataFrame(solution_dict)\n",
    "    solution_df = solution_df.sort_values(by=['Sol_r'])\n",
    "    \n",
    "    return (solution_df, par['label'])"
   ]
  },
  {
   "cell_type": "markdown",
   "metadata": {},
   "source": [
    "We also define a handful of functions to write csv files of solution dataframes that have parameters' label as their metadata, and vice versa:"
   ]
  },
  {
   "cell_type": "code",
   "execution_count": null,
   "metadata": {},
   "outputs": [],
   "source": [
    "def save_dataframe_with_metadata(df, metadata, output_filepath):\n",
    "    # Write metadata as a comment in the CSV file\n",
    "    with open(output_filepath, 'w') as f:\n",
    "        f.write(f\"# {metadata}\\n\")  # Write metadata line as a comment\n",
    "        df.to_csv(f, index=False)  # Write the DataFrame\n",
    "\n",
    "def read_dataframe_with_metadata(input_filepath):\n",
    "    with open(input_filepath, 'r') as f:\n",
    "        # Read the first line to get the metadata\n",
    "        metadata_line = f.readline().strip()\n",
    "        metadata = metadata_line.lstrip('# ').strip()\n",
    "        \n",
    "    # Read the remaining lines as DataFrame\n",
    "    df = pd.read_csv(input_filepath, comment='#')\n",
    "    \n",
    "    return (df, metadata)"
   ]
  },
  {
   "attachments": {},
   "cell_type": "markdown",
   "metadata": {},
   "source": [
    "# Eigenvalue Distribution Analysis\n",
    "\n",
    "In this step, we want to evaluate system's eigenvalues. Furthermore, we are interested in the effects of system parameters on its eigenvalue distribution. First, we obtain the eigenvalue distribution for a system with default parameters, a.k.a. the default system:"
   ]
  },
  {
   "cell_type": "code",
   "execution_count": null,
   "metadata": {},
   "outputs": [],
   "source": [
    "# Solve and plot for default_par"
   ]
  },
  {
   "cell_type": "markdown",
   "metadata": {},
   "source": [
    "Now we change the default parameters and define new parameter sets to obtain new systems. Then we call the solver function using the customized parameter values to see how changing each parameter will affect the eigenvalue distribution of the system:"
   ]
  },
  {
   "cell_type": "code",
   "execution_count": null,
   "metadata": {},
   "outputs": [],
   "source": [
    "pars_list_k = []\n",
    "pars_list_D = []\n",
    "pars_list_tau = []\n",
    "pars_list_R = []\n",
    "\n",
    "par_list_list = [pars_list_k, pars_list_D, pars_list_tau, pars_list_R]\n",
    "par_key_list = ['k', 'D', 'tau', 'R']\n",
    "\n",
    "for i in np.linspace(0.75,1.25,3):\n",
    "    for j in range(4):\n",
    "        par = default_pars.copy()\n",
    "        par[par_key_list[j]] = par[par_key_list[j]] * i\n",
    "        par_list_list[j].append(par)\n",
    "\n",
    "R = [-200,10,420]\n",
    "I = [0,10,20]\n",
    "\n",
    "c = 0\n",
    "for P in par_list_list:\n",
    "    for p in P:\n",
    "        c += 1\n",
    "        (df, title) = find_eig(par=p, guess_range_real=R, guess_range_imag=I)\n",
    "        filename = str(c) + \".csv\"\n",
    "        df.to_csv(filename)"
   ]
  },
  {
   "cell_type": "code",
   "execution_count": null,
   "metadata": {},
   "outputs": [],
   "source": [
    "folder_path = \"CSV\"  # Path to the folder containing the CSV files\n",
    "dataframes = []\n",
    "\n",
    "for i in range(1, 13):\n",
    "    filename = os.path.join(folder_path, f\"{i}.csv\")\n",
    "    df = pd.read_csv(filename)\n",
    "    dataframes.append(df)"
   ]
  },
  {
   "cell_type": "code",
   "execution_count": null,
   "metadata": {},
   "outputs": [],
   "source": [
    "# Create a 3x4 grid of subplots\n",
    "fig, axes = plt.subplots(3, 4, figsize=(12, 8), sharex=True, sharey=True)\n",
    "\n",
    "# Flatten the axes array for easy iteration\n",
    "axes = axes.flatten()\n",
    "\n",
    "for i, df in enumerate(dataframes):\n",
    "    # Filter rows based on criteria\n",
    "    filtered_df = df[(df['Sol_r'] > -200) & (df['Sol_i'] > -5) & (df['Sol_i'] < 5)]\n",
    "    \n",
    "    # Calculate the correct index for the subplot arrangement\n",
    "    col = i // 3\n",
    "    row = i % 3\n",
    "    \n",
    "    ax = axes[row * 4 + col]\n",
    "    ax.scatter(filtered_df['Sol_r'], filtered_df['Sol_i'])\n",
    "    \n",
    "    # Parse the 'Pars' string representation back into a dictionary\n",
    "    pars_dict = ast.literal_eval(df['Pars'][0])\n",
    "    \n",
    "    # Check if Pars dictionary matches default_pars\n",
    "    if pars_dict == default_pars:\n",
    "        title = 'Default'\n",
    "    else:\n",
    "        # Find key-value pairs that differ from default_pars\n",
    "        differing_pairs = {key: value for key, value in pars_dict.items() if value != default_pars[key]}\n",
    "        title = ', '.join([f\"{key}: {value}\" for key, value in differing_pairs.items()])\n",
    "    \n",
    "    ax.set_title(title)\n",
    "    ax.set_xlabel('Sol_r')\n",
    "    ax.set_ylabel('Sol_i')\n",
    "\n",
    "    # Set axis limits to ensure visibility of x=0 and y=0 lines\n",
    "    ax.axhline(0, color='black', linewidth=0.5)  # Horizontal line at y=0\n",
    "    ax.axvline(0, color='black', linewidth=0.5)  # Vertical line at x=0\n",
    "    ax.grid(True)\n",
    "\n",
    "# Adjust layout to prevent overlapping labels and titles\n",
    "plt.tight_layout()\n",
    "plt.show()"
   ]
  }
 ],
 "metadata": {
  "colab": {
   "collapsed_sections": [
    "rOp8yHdiv26a",
    "C1l2-KpYqZSK"
   ],
   "provenance": []
  },
  "kernelspec": {
   "display_name": "base",
   "language": "python",
   "name": "python3"
  },
  "language_info": {
   "codemirror_mode": {
    "name": "ipython",
    "version": 3
   },
   "file_extension": ".py",
   "mimetype": "text/x-python",
   "name": "python",
   "nbconvert_exporter": "python",
   "pygments_lexer": "ipython3",
   "version": "3.9.13"
  },
  "vscode": {
   "interpreter": {
    "hash": "40d3a090f54c6569ab1632332b64b2c03c39dcf918b08424e98f38b5ae0af88f"
   }
  }
 },
 "nbformat": 4,
 "nbformat_minor": 1
}
