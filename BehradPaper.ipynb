{
 "cells": [
  {
   "cell_type": "markdown",
   "metadata": {
    "id": "ByIufqrO7oiy"
   },
   "source": [
    "Loading the packages:"
   ]
  },
  {
   "cell_type": "code",
   "execution_count": 1,
   "metadata": {
    "executionInfo": {
     "elapsed": 7,
     "status": "ok",
     "timestamp": 1674594709346,
     "user": {
      "displayName": "Guilherme Ozorio Cassol",
      "userId": "16524009092046304621"
     },
     "user_tz": 420
    },
    "id": "uEGAWDi23_da"
   },
   "outputs": [],
   "source": [
    "import numpy as np\n",
    "import scipy.linalg as lina\n",
    "import scipy.optimize as opt\n",
    "import pandas as pd\n",
    "import matplotlib.pyplot as plt\n",
    "import warnings\n",
    "warnings.simplefilter('ignore')"
   ]
  },
  {
   "cell_type": "markdown",
   "metadata": {
    "id": "C1l2-KpYqZSK"
   },
   "source": [
    "# System Model\n",
    "\n",
    "Initially, only the equation for one state (temperature or concentration) will be considered. For simplicity, the domain will be $[0,1]$, with Danckwerts boundary conditions:\n",
    "\n",
    "$$\\left\\{\\begin{array}{l} \\dot{x} = D\\partial_{\\zeta\\zeta} x -v\\partial_{\\zeta} x +kx\\\\\n",
    "D\\partial_\\zeta x(0,t)-vx(0,t)=-Rv[x(1,t-\\tau)+u(t-\\tau_I)] \\\\\n",
    "\\partial_\\zeta x(1,t)=0 \\\\\n",
    "y(t)=x(1,t-\\tau_O)\n",
    "  \\end{array}\\right. $$\n",
    "\n",
    "This model considers that the input is applied in the reactor's entrance, which is mixed with the recycle from the outlet. Input, output, and state delays are considered and represented by $\\tau_I,\\tau_O$, and $\\tau$, respectively. "
   ]
  },
  {
   "attachments": {},
   "cell_type": "markdown",
   "metadata": {},
   "source": [
    "Initializing system parameters:"
   ]
  },
  {
   "cell_type": "code",
   "execution_count": 1,
   "metadata": {},
   "outputs": [
    {
     "data": {
      "text/plain": [
       "['D', 'R', 'k', 'label', 'tau', 'v']"
      ]
     },
     "execution_count": 1,
     "metadata": {},
     "output_type": "execute_result"
    }
   ],
   "source": [
    "class Parameters:\n",
    "    def __init__(self,k,D,v,tau,R,label='no_label'):\n",
    "        self.k = k\n",
    "        self.D = D\n",
    "        self.v = v\n",
    "        self.tau = tau\n",
    "        self.R = R\n",
    "        self.label = label\n",
    "\n",
    "class Result:\n",
    "    def __init__(self,pars,df,title='no_title'):\n",
    "        self.pars = pars\n",
    "        self.df = df\n",
    "        self.title = title\n",
    "\n",
    "default_pars = Parameters(k=-10,D=0.1,v=0.5,tau=1,R=0.9,label='default')\n",
    "par = default_pars\n",
    "par_attributes = [attr for attr in dir(par) if not (attr.startswith('__') or attr=='title')]\n",
    "par_attributes"
   ]
  },
  {
   "cell_type": "markdown",
   "metadata": {},
   "source": [
    "## Eigenvalue Analysis\n",
    "\n",
    "The eigenvalue problem, defined as $A\\Phi(\\zeta,\\lambda)=\\lambda\\Phi(\\zeta,\\lambda)$, will result in the following system of equation for this system:\n",
    "\n",
    "$$\\left\\{\\begin{array}{l} \\lambda\\phi = D\\partial_{\\zeta\\zeta} \\phi -v\\partial_{\\zeta} \\phi +k\\phi\\\\\n",
    "\\lambda\\phi_D=\\dfrac{1}{\\tau}\\partial_{\\zeta}\\phi_D\\\\\n",
    "D\\partial_\\zeta \\phi(0)-v\\phi(0)=-v\\phi_D(0) \\\\\n",
    "\\partial_\\zeta \\phi(1)=0 \\\\\n",
    "\\phi_D(1)=\\phi(1)\\\\\n",
    "  \\end{array}\\right. $$"
   ]
  },
  {
   "attachments": {},
   "cell_type": "markdown",
   "metadata": {},
   "source": [
    "where $\\Phi=[\\phi,\\,\\phi_D]^T$, with $\\phi$ as the state eigenfunction and $\\phi_D$ as the eigenfunction related to the delay. By defining $X=[\\phi,\\, \\partial_{\\zeta}\\phi,\\,\\phi_D]^T$, the following system of ODEs is obtained:\n",
    "\n",
    "$$\n",
    "\\left\\{\\begin{array}{l}\\partial_{\\zeta}X=\\begin{bmatrix} 0 & 1 & 0\\\\ \\dfrac{\\lambda-k}{D} & \\dfrac{v}{D} & 0\\\\0 & 0 & \\tau\\lambda\\end{bmatrix}X=ΛX \\\\\n",
    "DX_2(0)-vX_1(0)=-RvX_3(0) \\\\\n",
    "X_2(1)=0 \\\\\n",
    "X_3(1)=X_1(1)\\\\ \\end{array}\\right.\n",
    "$$"
   ]
  },
  {
   "cell_type": "markdown",
   "metadata": {},
   "source": [
    "## Characteristic Equation"
   ]
  },
  {
   "cell_type": "markdown",
   "metadata": {},
   "source": [
    "This is a system of first order ODE's, and the solution to such systems is given by:\n",
    "\n",
    "$$ X(\\zeta, \\lambda) = e^{\\Lambda \\zeta} X (\\zeta=0, \\lambda) \\\\ \\overset{\\zeta = 1}{\\Rightarrow} X(1, \\lambda) = e^{\\Lambda} X (\\zeta=0) $$"
   ]
  },
  {
   "cell_type": "markdown",
   "metadata": {},
   "source": [
    "Now, let's assume:\n",
    "\n",
    "$$ e^{\\Lambda} = Q(\\lambda) = \\begin{bmatrix} \n",
    "        q_{1} & q_{2} & q_{3} \\\\ q_{4} & q_{5} & q_{6} \\\\ q_{7} & q_{8} & q_{9}\n",
    "    \\end{bmatrix} $$\n"
   ]
  },
  {
   "cell_type": "markdown",
   "metadata": {},
   "source": [
    "Thus, we may write:\n",
    "\n",
    "$$\\left\\{\\begin{array}{l}\n",
    "X_1(1) = q_1 X_1(0) + q_2 X_2(0) + q_3 X_3(0) \\\\\n",
    "X_2(1) = q_4 X_1(0) + q_5 X_2(0) + q_6 X_3(0) \\\\\n",
    "X_3(1) = q_7 X_1(0) + q_8 X_2(0) + q_9 X_3(0)\n",
    "\\end{array}\\right.$$"
   ]
  },
  {
   "cell_type": "markdown",
   "metadata": {},
   "source": [
    "Now, we may go ahead and put the above expressions into boundary conditions to get the following:\n",
    "\n",
    "$$\\left\\{\\begin{array}{l}\n",
    "Dx_2-vx_1=-Rvx_3 \\\\\n",
    "q_4 x_1 + q_5 x_2 + q_6 x_3 = 0 \\\\\n",
    "q_7 x_1 + q_8 x_2 + q_9 x_3 = q_1 x_1 + q_2 x_2 + q_3 x_3\n",
    "\\end{array}\\right. \\Rightarrow \\left\\{\\begin{array}{l}\n",
    "-vx_1 + Dx_2 - Rvx_3 = 0 \\\\\n",
    "q_4 x_1 + q_5 x_2 + q_6 x_3 = 0 \\\\\n",
    "(q_1 - q_7) x_1 + (q_2 - q_8) x_2 + (q_3 - q_9) x_3 = 0\n",
    "\\end{array}\\right.$$\n",
    "\n",
    "\n",
    "where $x_i$ is the same as $X_i(0)$."
   ]
  },
  {
   "attachments": {},
   "cell_type": "markdown",
   "metadata": {},
   "source": [
    "For this particular case, we know that:\n",
    "\n",
    "$$ q_{3} = q_{6} = q_{7} = q_{8} = 0 $$"
   ]
  },
  {
   "attachments": {},
   "cell_type": "markdown",
   "metadata": {},
   "source": [
    "This will further simplify the above system of equions into the following system:\n",
    "\n",
    "$$\\left\\{\\begin{array}{l}\n",
    "-vx_1 + Dx_2 - Rvx_3 = 0 \\\\\n",
    "q_4 x_1 + q_5 x_2 = 0 \\\\\n",
    "q_1 x_1 + q_2 x_2 - q_9 x_3 = 0\n",
    "\\end{array}\\right.$$"
   ]
  },
  {
   "attachments": {},
   "cell_type": "markdown",
   "metadata": {},
   "source": [
    "This is a $3 \\times 3$ system of algebraic equations in the form of $\\bar{A} \\bar{x} = 0 $, with:\n",
    "\n",
    "$$ \\bar{A} = \\begin{bmatrix}\n",
    "-v & D & -Rv \\\\\n",
    "q_4 & q_5 & 0 \\\\\n",
    "q_1 & q_2 & -q_9\n",
    "\\end{bmatrix}; \\quad \\bar{x} = \\begin{bmatrix}\n",
    "x_1 \\\\ x_2 \\\\ x_3\n",
    "\\end{bmatrix} $$"
   ]
  },
  {
   "attachments": {},
   "cell_type": "markdown",
   "metadata": {},
   "source": [
    " For such a system to have non-trivial solution (i.e. $\\bar{x} \\neq 0$), the dimension of the nullspace of the coefficients matrix $\\bar{A}$ needs to be non-zero. This will happen if and only if the coefficients matrix $\\bar{A}$ is rank-deficient. One way to make sure matrix $ \\bar{A} $ is not full-rank, is to set a linear combination of its rows to be zero, with non-zero coefficients. Multiplying the second row of the matrix by $\\alpha$ and the third row by $\\beta$, we can write:\n",
    "\n",
    "$$\n",
    "\\left\\{\\begin{array}{l}\n",
    "-v + \\alpha q_4 + \\beta q_1 = 0 \\\\\n",
    "D + \\alpha q_5 + \\beta q_2 = 0 \\\\\n",
    "-Rv - \\beta q_9 = 0 \n",
    "\\end{array}\\right.\n",
    "\\Rightarrow\n",
    "\\left\\{\\begin{array}{l}\n",
    "\\alpha q_4 + \\beta q_1 = v \\\\\n",
    "\\alpha q_5 + \\beta q_2 = -D \\\\\n",
    "\\beta q_9 = -Rv \n",
    "\\end{array}\\right.\n",
    "$$"
   ]
  },
  {
   "attachments": {},
   "cell_type": "markdown",
   "metadata": {},
   "source": [
    "The above system is a system of 3 equations and 3 unknowns (i.e. $\\alpha$, $\\beta$, and $\\lambda$, with $\\lambda$ being hidden in $q_i$ terms). By writing $\\alpha$ and $\\beta$ variables based on $q_i$ terms, we can get the characteristic equation.\n",
    "\n",
    "Using the third equation, we can get:\n",
    "\n",
    "$$ \\beta = \\frac{-Rv}{q_9} $$\n",
    "\n",
    "Using the above equation to replace $\\beta$ into the second equation will result in:\n",
    "\n",
    "$$ \\alpha = \\frac{v}{q_4} \\left(1 + \\frac{R q_1}{q_9} \\right) $$\n",
    "\n",
    "Therefore, we can put the above expressions for $\\alpha$ and $\\beta$ into the first equation to get the characteristic equation, which is a non-linear function of the eigenvalue of the system, $\\lambda$:\n",
    "\n",
    "$$ f(\\lambda) = D + v \\frac{q_5}{q_4} \\left( 1 + \\frac{R q_1}{q_9} \\right) - Rv \\frac{q_2}{q_9} = 0 $$"
   ]
  },
  {
   "attachments": {},
   "cell_type": "markdown",
   "metadata": {},
   "source": [
    "We may now multiply both sides of the charactersitic equation by $q_4 q_9$ to avoid numerical errors while solfing for $f(\\lambda)$. This will give:\n",
    "\n",
    "$$ g(\\lambda) = D q_4 q_9 + v [ q_5 q_9 + R (q_1 q_5 - q_2 q_4)] = 0 $$"
   ]
  },
  {
   "cell_type": "markdown",
   "metadata": {},
   "source": [
    "## Numerical Solution"
   ]
  },
  {
   "cell_type": "code",
   "execution_count": 3,
   "metadata": {},
   "outputs": [],
   "source": [
    "def char_eq(x):\n",
    "    \"\"\"\n",
    "    This function evaluates the charachteristic equation at a given point.\n",
    "\n",
    "    Parameters:\n",
    "        x ([float, float]):\n",
    "            A list of 2 elements, making up the complex eigenvalue to calculate char_eq.\n",
    "    \n",
    "    Returns:\n",
    "        array[float, float]:\n",
    "            A list of 2 elements, making up the complex value of char_eq at the given point.\n",
    "    \"\"\"\n",
    "    l = complex(x[0], x[1])\n",
    "    A = np.array([\n",
    "        [0, 1, 0],\n",
    "        [(l- par.k)/par.D, par.v/par.D, 0],\n",
    "        [0, 0, par.tau * l]\n",
    "    ])\n",
    "    Q = lina.expm(A)\n",
    "    q = np.insert(Q,0,0)\n",
    "    y = par.D * q[4] * q[9] + par.v * (q[5] * q[9] + par.R * (q[1] + q[5] - q[2] * q[4]))\n",
    "    return np.array([y.real, y.imag])"
   ]
  },
  {
   "cell_type": "code",
   "execution_count": 6,
   "metadata": {},
   "outputs": [],
   "source": [
    "def find_eig(**kwargs):\n",
    "    \"\"\"\n",
    "    This function solves the char equation in complex plane for different initial guesses.\n",
    "\n",
    "    Parameters:\n",
    "        **kwargs (dict): Optional keyword arguments that can be passed to customize behavior.\n",
    "            - par (dict):\n",
    "                A complete set of parameters as a dictionary.\n",
    "                default_pars = {\n",
    "                    'k':-10,\n",
    "                    'D':0.1,\n",
    "                    'v':0.5,\n",
    "                    'tau':1,\n",
    "                    'R':0.9,\n",
    "                    'label':'default'\n",
    "                }\n",
    "                If par is not passed, keys may be passed separately. Absent keys will take default values.\n",
    "            - guess_single (complex):\n",
    "                A single initial guess, complex number. Guess range will be ignored if this is passed.\n",
    "            - guess_range_real ([float, float, int]):\n",
    "                A list to create linspace over real axis, with the syntax [start, end, count]\n",
    "            - guess_range_imag ([float, float, int]):\n",
    "                A list to create linspace over imag axis, with the syntax [start, end, count]\n",
    "            - tol_1 (float): tolerance to stop outer fsolve loop (passed directly to fsolve).\n",
    "            - max_iter (float): maximum iterations before stopping inner fsolve loop.\n",
    "            - tol_2 (float): tolerance to stop inner fsolve loop (passed directly to fsolve).\n",
    "            - tol_2_multiplier (float): to relax inner loop tolerance when saving the result.            \n",
    "\n",
    "    Returns:\n",
    "        pd.DataFrame: DataFrame of the solutions found with each solution in a row, containing the following columns:\n",
    "            'Sol_r':    Real part of the obtained solution\n",
    "            'Sol_i':    Imag part of the obtained solution\n",
    "            'Guess_r':  Real part for the initial guess resulting in the obtained solution\n",
    "            'Guess_i':  Imag part for the initial guess resulting in the obtained solution\n",
    "            'g(x)':     Char equation value of the obtained solution\n",
    "            'Label':    Label of the parameters leading to the obtained solution\n",
    "            'Pars':     Complete pars dictionary leading to the obtained solution\n",
    "            'kwargs':   Complete kwargs dictionary leading to the obtained solution\n",
    "            the dataframe is sorted by 'Sol_r' column.\n",
    "    \"\"\"\n",
    "    # Assign default values to missing keyword arguments for parameters\n",
    "    if not 'par' in kwargs:\n",
    "        par = default_pars.copy()\n",
    "        for key in par:\n",
    "            if key != 'label':\n",
    "                par[key] = kwargs.get(key, par[key])\n",
    "        if par != default_pars:\n",
    "            par['label'] = kwargs.get('label', 'no_label')\n",
    "    else:\n",
    "        par = kwargs['par']\n",
    "        \n",
    "    # Assign default values to missing keyword arguments for initial guess values\n",
    "    if not 'guess_single' in kwargs:\n",
    "        guess_range_real = kwargs.get('guess_range_real', [-100,-100,1])\n",
    "        guess_range_imag = kwargs.get('guess_range_imag', [5,5,1])\n",
    "    else:\n",
    "        guess_single_r = np.real(kwargs['guess_single'])\n",
    "        guess_single_i = np.imag(kwargs['guess_single'])\n",
    "\n",
    "        guess_range_real = [guess_single_r, guess_single_r, 1]\n",
    "        guess_range_imag = [guess_single_i, guess_single_i, 1]\n",
    "    \n",
    "    # Assign default values to the rest of missing keyword arguments\n",
    "    tol_1 = kwargs.get('tol_1', 1e-6)\n",
    "\n",
    "    max_iter = kwargs.get('max_iter', 1e4)\n",
    "    tol_2 = kwargs.get('tol_2', 1e-12)\n",
    "\n",
    "    tol_2_multiplier = kwargs.get('tol_2_multiplier', 5)\n",
    "\n",
    "    # Constructiong a dictionary to capture legit solutions\n",
    "    solution_dict = {'Sol_r':[],'Sol_i':[],'Guess_r':[],'Guess_i':[],'g(x)':[], 'Label':[], 'Pars':[], 'kwargs':[]}\n",
    "\n",
    "    # Constructiong a 2D mesh for different initial guess values\n",
    "    mesh_builder = np.meshgrid(np.linspace(guess_range_real[0],guess_range_real[1],guess_range_real[2]),np.linspace(guess_range_imag[0],guess_range_imag[1],guess_range_imag[2]))\n",
    "    mesh = mesh_builder[0] + mesh_builder[1] * 1j\n",
    "    \n",
    "    for i in mesh:\n",
    "        for m in i:\n",
    "            m = np.array([m.real, m.imag])                      # obtaining an initial guess from the mesh as a complex number\n",
    "            solution_array = opt.fsolve(char_eq,m,xtol=tol_1)   # solving char_eq with a relaxed tol\n",
    "            is_near = char_eq(solution_array)                   # evaluationg the value of char_eq at the obtained relaxed solution\n",
    "            is_near = (abs(complex(is_near[0],is_near[1])))\n",
    "            # An inner loop seems to be necessary as sometimes the fsolve gives incorrect results that are ~+-2*pi from the radial complex answer of the real solution\n",
    "            counter = 0\n",
    "            while counter < max_iter:\n",
    "                solution_array = opt.fsolve(char_eq,solution_array,xtol=tol_2)\n",
    "                counter += 1\n",
    "                if np.isclose(is_near,0,atol=tol_2*tol_2_multiplier):\n",
    "                    solution_dict['Guess_r'].append(m[0])\n",
    "                    solution_dict['Guess_i'].append(m[1])\n",
    "                    solution_dict['g(x)'].append(is_near)\n",
    "                    solution_dict['Sol_r'].append(solution_array[0])\n",
    "                    solution_dict['Sol_i'].append(solution_array[1])\n",
    "                    solution_dict['Guess_r'].append(m[0])\n",
    "                    solution_dict['Guess_i'].append(-m[1])\n",
    "                    solution_dict['g(x)'].append(is_near)\n",
    "                    solution_dict['Sol_r'].append(solution_array[0])\n",
    "                    solution_dict['Sol_i'].append(-solution_array[1])\n",
    "                    solution_dict['Label'].append(par['label'])\n",
    "                    solution_dict['Pars'].append(par)\n",
    "                    solution_dict['kwargs'].append(kwargs)\n",
    "                    break\n",
    "    \n",
    "    solution_df = pd.DataFrame(solution_dict)\n",
    "    solution_df = solution_df.sort_values(by=['Sol_r'])\n",
    "    \n",
    "    return solution_df\n",
    "\n",
    "#Bookmark\n",
    "def plot_eig(results, ax_xlim=[-300,25], ax_ylim=[-20,20]):\n",
    "    n = len(results)\n",
    "    row = int(np.ceil(np.sqrt(n)*1.2))\n",
    "    col = int(np.ceil(n/row))\n",
    "    plt.ioff()\n",
    "    fig, axes = plt.subplots(nrows=row, ncols=col)\n",
    "    for i in range(n):\n",
    "        Result = results[i]\n",
    "        df = Result.df\n",
    "        title = []\n",
    "        for a in par_attributes:\n",
    "            if getattr(Result.pars,a) != getattr(default_pars,a):\n",
    "                title.append(f'{a}={getattr(Result.pars,a)} (was {getattr(default_pars,a)}). ')\n",
    "        if title == []:\n",
    "            title = ['Default: ']\n",
    "            for a in par_attributes:\n",
    "                title.append(f'{a}={getattr(default_pars,a)}; ')\n",
    "        if axes.ndim == 1:\n",
    "            df.plot.scatter(x='Sol_r',y='Sol_i',ax=axes[i])\n",
    "            axes[i].set_title(title)\n",
    "            axes[i].axhline(y=0, color='k')\n",
    "            axes[i].axvline(x=0, color='k')\n",
    "            axes[i].set_xlim(ax_xlim[0],ax_xlim[1])\n",
    "            axes[i].set_ylim(ax_ylim[0],ax_ylim[1])\n",
    "        else:\n",
    "            r,c = divmod(i,col)\n",
    "            df.plot.scatter(x='Sol_r',y='Sol_i',ax=axes[r,c])\n",
    "            axes[r,c].set_title(title)\n",
    "            axes[r,c].axhline(y=0, color='k')\n",
    "            axes[r,c].axvline(x=0, color='k')\n",
    "            axes[r,c].set_xlim(ax_xlim[0],ax_xlim[1])\n",
    "            axes[r,c].set_ylim(ax_ylim[0],ax_ylim[1])\n",
    "    plt.show()"
   ]
  },
  {
   "cell_type": "code",
   "execution_count": null,
   "metadata": {},
   "outputs": [],
   "source": [
    "results = []\n",
    "\n",
    "guess_real = [-300,50,700]\n",
    "guess_imag = [0,25,50]\n",
    "\n",
    "results.append(find_eig(default_pars,guess_real,guess_imag))\n",
    "\n",
    "plot_eig(results)"
   ]
  },
  {
   "attachments": {},
   "cell_type": "markdown",
   "metadata": {},
   "source": [
    "# Eigenvalue Distribution Analysis\n",
    "\n",
    "In this step, we want to study the effect of system parameters on eigenvalue distribution."
   ]
  },
  {
   "cell_type": "code",
   "execution_count": null,
   "metadata": {},
   "outputs": [],
   "source": [
    "modified_pars = [default_pars] * 10\n",
    "\n",
    "modified_pars[0].k = -5\n",
    "modified_pars[1].k = 10\n",
    "modified_pars[2].D = 0.5\n",
    "modified_pars[3].D = 0.08\n",
    "modified_pars[4].v = 0.6\n",
    "modified_pars[5].v = 0.4\n",
    "modified_pars[6].tau = 3\n",
    "modified_pars[7].tau = 0.2\n",
    "modified_pars[8].R = 0.75\n",
    "modified_pars[9].R = 0.25\n",
    "\n",
    "guess_real = [-300,50,700]\n",
    "guess_imag = [0,25,50]\n",
    "\n",
    "for i in modified_pars:\n",
    "    results.append(find_eig(i,guess_real,guess_imag))\n",
    "\n",
    "plot_eig(results,ax_ylim=[-25,25])"
   ]
  }
 ],
 "metadata": {
  "colab": {
   "collapsed_sections": [
    "rOp8yHdiv26a",
    "C1l2-KpYqZSK"
   ],
   "provenance": []
  },
  "kernelspec": {
   "display_name": "base",
   "language": "python",
   "name": "python3"
  },
  "language_info": {
   "codemirror_mode": {
    "name": "ipython",
    "version": 3
   },
   "file_extension": ".py",
   "mimetype": "text/x-python",
   "name": "python",
   "nbconvert_exporter": "python",
   "pygments_lexer": "ipython3",
   "version": "3.9.13"
  },
  "vscode": {
   "interpreter": {
    "hash": "40d3a090f54c6569ab1632332b64b2c03c39dcf918b08424e98f38b5ae0af88f"
   }
  }
 },
 "nbformat": 4,
 "nbformat_minor": 1
}
